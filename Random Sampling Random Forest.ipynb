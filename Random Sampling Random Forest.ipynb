{
 "cells": [
  {
   "cell_type": "markdown",
   "metadata": {},
   "source": [
    "## Contributors: \n",
    "Neal Friesenhahn"
   ]
  },
  {
   "cell_type": "markdown",
   "metadata": {},
   "source": [
    "### Importing Libraries:"
   ]
  },
  {
   "cell_type": "code",
   "execution_count": 1,
   "metadata": {
    "collapsed": true
   },
   "outputs": [],
   "source": [
    "# Import necessary libraries\n",
    "import warnings\n",
    "warnings.filterwarnings(\"ignore\", message=\"numpy.dtype size changed\")\n",
    "%matplotlib inline\n",
    "import matplotlib.pyplot as plt\n",
    "import pandas as pd\n",
    "from IPython.display import Image\n",
    "from time import sleep\n",
    "import os\n",
    "import math\n",
    "import numpy as np\n",
    "from sklearn.metrics import classification_report\n",
    "\n",
    "from amb_sdk.sdk import DarwinSdk"
   ]
  },
  {
   "cell_type": "markdown",
   "metadata": {},
   "source": [
    "### Configure Darwin:"
   ]
  },
  {
   "cell_type": "code",
   "execution_count": 2,
   "metadata": {
    "collapsed": true
   },
   "outputs": [],
   "source": [
    "# Login\n",
    "ds = DarwinSdk()\n",
    "file = open(\"login.txt\", \"r\")\n",
    "username = file.readline(0)\n",
    "password = file.readline(1)\n",
    "ds.set_url('https://amb-demo-api.sparkcognition.com/v1/')\n",
    "status, msg = ds.auth_login_user('username', 'password')\n",
    "if not status:\n",
    "    print(msg)\n",
    "    "
   ]
  },
  {
   "cell_type": "markdown",
   "metadata": {},
   "source": [
    "#### Data Path\n",
    "Make sure to set this to your local machine's path to the data."
   ]
  },
  {
   "cell_type": "code",
   "execution_count": 3,
   "metadata": {
    "collapsed": true
   },
   "outputs": [],
   "source": [
    "path = './'"
   ]
  },
  {
   "cell_type": "markdown",
   "metadata": {},
   "source": [
    "### Importing Data:\n",
    "Data used in this project:\n",
    "https://data.austintexas.gov/Building-and-Development/Issued-Construction-Permits/3syk-w9eu"
   ]
  },
  {
   "cell_type": "code",
   "execution_count": 4,
   "metadata": {},
   "outputs": [
    {
     "name": "stderr",
     "output_type": "stream",
     "text": [
      "C:\\Users\\Neal\\Anaconda3\\lib\\site-packages\\IPython\\core\\interactiveshell.py:2717: DtypeWarning: Columns (52,54,56,58,59,60,61,62,63,64,65,66) have mixed types. Specify dtype option on import or set low_memory=False.\n",
      "  interactivity=interactivity, compiler=compiler, result=result)\n"
     ]
    },
    {
     "name": "stdout",
     "output_type": "stream",
     "text": [
      "Removed columns from dataset:\n",
      "Contractor Company Name\n",
      "Contractor Phone\n",
      "Contractor Address 2\n",
      "Contractor Zip\n",
      "Applicant Full Name\n",
      "Applicant Organization\n",
      "Applicant Phone\n",
      "Applicant Address 1\n",
      "Applicant Address 2\n",
      "Applicant City\n",
      "Applicant Zip\n",
      "Certificate Of Occupancy\n"
     ]
    },
    {
     "data": {
      "text/html": [
       "<div>\n",
       "<style>\n",
       "    .dataframe thead tr:only-child th {\n",
       "        text-align: right;\n",
       "    }\n",
       "\n",
       "    .dataframe thead th {\n",
       "        text-align: left;\n",
       "    }\n",
       "\n",
       "    .dataframe tbody tr th {\n",
       "        vertical-align: top;\n",
       "    }\n",
       "</style>\n",
       "<table border=\"1\" class=\"dataframe\">\n",
       "  <thead>\n",
       "    <tr style=\"text-align: right;\">\n",
       "      <th></th>\n",
       "      <th>Permit Type</th>\n",
       "      <th>Permit Class Mapped</th>\n",
       "      <th>Work Class</th>\n",
       "      <th>Condominium</th>\n",
       "      <th>Project Name</th>\n",
       "      <th>TCAD ID</th>\n",
       "      <th>Day Issued</th>\n",
       "      <th>Calendar Year Issued</th>\n",
       "      <th>Fiscal Year Issued</th>\n",
       "      <th>Status Current</th>\n",
       "      <th>...</th>\n",
       "      <th>Jurisdiction</th>\n",
       "      <th>Link</th>\n",
       "      <th>Master Permit Num</th>\n",
       "      <th>Latitude</th>\n",
       "      <th>Longitude</th>\n",
       "      <th>Location</th>\n",
       "      <th>Contractor Full Name</th>\n",
       "      <th>Contractor Address 1</th>\n",
       "      <th>Contractor City</th>\n",
       "      <th>Total Lot SQFT</th>\n",
       "    </tr>\n",
       "  </thead>\n",
       "  <tbody>\n",
       "    <tr>\n",
       "      <th>1243653</th>\n",
       "      <td>DS</td>\n",
       "      <td>Residential</td>\n",
       "      <td>New</td>\n",
       "      <td>No</td>\n",
       "      <td>6200 Magnolia Mound Cove           C  00000</td>\n",
       "      <td>0170010705</td>\n",
       "      <td>TUESDAY</td>\n",
       "      <td>1984</td>\n",
       "      <td>1984</td>\n",
       "      <td>Final</td>\n",
       "      <td>...</td>\n",
       "      <td>AUSTIN FULL PURPOSE</td>\n",
       "      <td>https://abc.austintexas.gov/web/permit/public-...</td>\n",
       "      <td>537174.0</td>\n",
       "      <td>30.437642</td>\n",
       "      <td>-97.746587</td>\n",
       "      <td>(30.43764209, -97.74658673)</td>\n",
       "      <td>NaN</td>\n",
       "      <td>NaN</td>\n",
       "      <td>NaN</td>\n",
       "      <td>NaN</td>\n",
       "    </tr>\n",
       "    <tr>\n",
       "      <th>1641211</th>\n",
       "      <td>EP</td>\n",
       "      <td>Residential</td>\n",
       "      <td>Remodel</td>\n",
       "      <td>No</td>\n",
       "      <td>5305 Scenic View Drive             C  00000</td>\n",
       "      <td>0121150229</td>\n",
       "      <td>TUESDAY</td>\n",
       "      <td>1985</td>\n",
       "      <td>1986</td>\n",
       "      <td>Expired</td>\n",
       "      <td>...</td>\n",
       "      <td>AUSTIN 2 MILE ETJ</td>\n",
       "      <td>https://abc.austintexas.gov/web/permit/public-...</td>\n",
       "      <td>NaN</td>\n",
       "      <td>30.311391</td>\n",
       "      <td>-97.805213</td>\n",
       "      <td>(30.31139081, -97.80521323)</td>\n",
       "      <td>NaN</td>\n",
       "      <td>NaN</td>\n",
       "      <td>NaN</td>\n",
       "      <td>NaN</td>\n",
       "    </tr>\n",
       "    <tr>\n",
       "      <th>513598</th>\n",
       "      <td>MP</td>\n",
       "      <td>Residential</td>\n",
       "      <td>Change Out</td>\n",
       "      <td>No</td>\n",
       "      <td>10601 WALNUT BEND DR</td>\n",
       "      <td>0243230364</td>\n",
       "      <td>THURSDAY</td>\n",
       "      <td>2017</td>\n",
       "      <td>2017</td>\n",
       "      <td>Final</td>\n",
       "      <td>...</td>\n",
       "      <td>AUSTIN FULL PURPOSE</td>\n",
       "      <td>https://abc.austintexas.gov/web/permit/public-...</td>\n",
       "      <td>NaN</td>\n",
       "      <td>30.367807</td>\n",
       "      <td>-97.674452</td>\n",
       "      <td>(30.36780704, -97.67445174)</td>\n",
       "      <td>David E. Rogers</td>\n",
       "      <td>PO BOX 38</td>\n",
       "      <td>Del Valle</td>\n",
       "      <td>NaN</td>\n",
       "    </tr>\n",
       "    <tr>\n",
       "      <th>1613029</th>\n",
       "      <td>EP</td>\n",
       "      <td>Residential</td>\n",
       "      <td>Remodel</td>\n",
       "      <td>No</td>\n",
       "      <td>11825 Granite Bay Pl</td>\n",
       "      <td>0137480209</td>\n",
       "      <td>THURSDAY</td>\n",
       "      <td>2006</td>\n",
       "      <td>2006</td>\n",
       "      <td>Expired</td>\n",
       "      <td>...</td>\n",
       "      <td>AUSTIN 2 MILE ETJ</td>\n",
       "      <td>https://abc.austintexas.gov/web/permit/public-...</td>\n",
       "      <td>NaN</td>\n",
       "      <td>30.352768</td>\n",
       "      <td>-97.892597</td>\n",
       "      <td>(30.35276788, -97.89259672)</td>\n",
       "      <td>Fred Hoskins</td>\n",
       "      <td>414 THOMPSON LN</td>\n",
       "      <td>Austin</td>\n",
       "      <td>NaN</td>\n",
       "    </tr>\n",
       "    <tr>\n",
       "      <th>220075</th>\n",
       "      <td>PP</td>\n",
       "      <td>Residential</td>\n",
       "      <td>Remodel</td>\n",
       "      <td>No</td>\n",
       "      <td>2816 KINNEY OAKS CT</td>\n",
       "      <td>0404070612</td>\n",
       "      <td>FRIDAY</td>\n",
       "      <td>2013</td>\n",
       "      <td>2013</td>\n",
       "      <td>Final</td>\n",
       "      <td>...</td>\n",
       "      <td>AUSTIN FULL PURPOSE</td>\n",
       "      <td>https://abc.austintexas.gov/web/permit/public-...</td>\n",
       "      <td>10943543.0</td>\n",
       "      <td>30.243219</td>\n",
       "      <td>-97.774171</td>\n",
       "      <td>(30.24321875, -97.77417133)</td>\n",
       "      <td>Jason Duane I</td>\n",
       "      <td>1120 W HOWARD LN SUITE B11</td>\n",
       "      <td>AUSTIN</td>\n",
       "      <td>NaN</td>\n",
       "    </tr>\n",
       "  </tbody>\n",
       "</table>\n",
       "<p>5 rows × 34 columns</p>\n",
       "</div>"
      ],
      "text/plain": [
       "        Permit Type Permit Class Mapped  Work Class Condominium  \\\n",
       "1243653          DS         Residential         New          No   \n",
       "1641211          EP         Residential     Remodel          No   \n",
       "513598           MP         Residential  Change Out          No   \n",
       "1613029          EP         Residential     Remodel          No   \n",
       "220075           PP         Residential     Remodel          No   \n",
       "\n",
       "                                        Project Name     TCAD ID Day Issued  \\\n",
       "1243653  6200 Magnolia Mound Cove           C  00000  0170010705    TUESDAY   \n",
       "1641211  5305 Scenic View Drive             C  00000  0121150229    TUESDAY   \n",
       "513598                          10601 WALNUT BEND DR  0243230364   THURSDAY   \n",
       "1613029                         11825 Granite Bay Pl  0137480209   THURSDAY   \n",
       "220075                           2816 KINNEY OAKS CT  0404070612     FRIDAY   \n",
       "\n",
       "         Calendar Year Issued  Fiscal Year Issued Status Current  \\\n",
       "1243653                  1984                1984          Final   \n",
       "1641211                  1985                1986        Expired   \n",
       "513598                   2017                2017          Final   \n",
       "1613029                  2006                2006        Expired   \n",
       "220075                   2013                2013          Final   \n",
       "\n",
       "             ...               Jurisdiction  \\\n",
       "1243653      ...        AUSTIN FULL PURPOSE   \n",
       "1641211      ...          AUSTIN 2 MILE ETJ   \n",
       "513598       ...        AUSTIN FULL PURPOSE   \n",
       "1613029      ...          AUSTIN 2 MILE ETJ   \n",
       "220075       ...        AUSTIN FULL PURPOSE   \n",
       "\n",
       "                                                      Link  Master Permit Num  \\\n",
       "1243653  https://abc.austintexas.gov/web/permit/public-...           537174.0   \n",
       "1641211  https://abc.austintexas.gov/web/permit/public-...                NaN   \n",
       "513598   https://abc.austintexas.gov/web/permit/public-...                NaN   \n",
       "1613029  https://abc.austintexas.gov/web/permit/public-...                NaN   \n",
       "220075   https://abc.austintexas.gov/web/permit/public-...         10943543.0   \n",
       "\n",
       "          Latitude  Longitude                     Location  \\\n",
       "1243653  30.437642 -97.746587  (30.43764209, -97.74658673)   \n",
       "1641211  30.311391 -97.805213  (30.31139081, -97.80521323)   \n",
       "513598   30.367807 -97.674452  (30.36780704, -97.67445174)   \n",
       "1613029  30.352768 -97.892597  (30.35276788, -97.89259672)   \n",
       "220075   30.243219 -97.774171  (30.24321875, -97.77417133)   \n",
       "\n",
       "         Contractor Full Name        Contractor Address 1  Contractor City  \\\n",
       "1243653                   NaN                         NaN              NaN   \n",
       "1641211                   NaN                         NaN              NaN   \n",
       "513598        David E. Rogers                   PO BOX 38        Del Valle   \n",
       "1613029          Fred Hoskins             414 THOMPSON LN           Austin   \n",
       "220075          Jason Duane I  1120 W HOWARD LN SUITE B11           AUSTIN   \n",
       "\n",
       "        Total Lot SQFT  \n",
       "1243653            NaN  \n",
       "1641211            NaN  \n",
       "513598             NaN  \n",
       "1613029            NaN  \n",
       "220075             NaN  \n",
       "\n",
       "[5 rows x 34 columns]"
      ]
     },
     "execution_count": 4,
     "metadata": {},
     "output_type": "execute_result"
    }
   ],
   "source": [
    "dataFile = \"./Issued_Construction_Permits.csv\"\n",
    "trainName= \"train13.csv\"\n",
    "testName = 'test13.csv'\n",
    "cleanName= \"cleaned13.csv\"\n",
    "data = pd.read_csv(dataFile, skipinitialspace=True)\n",
    "\n",
    "#Columns with detected mixed types\n",
    "mixedData_col = [52,54,56,58,59,60,61,62,63,64,65,66]\n",
    "\n",
    "columnsNames = data.columns.values\n",
    "#excess labels included in feature drop\n",
    "#Darwin doesn't like mulitple date fields either so they must be dropped as well\n",
    "#Can't one-hot encode descriptions and Darwin can't process them either, thus they are dropped as well, including Addresses\n",
    "featureDrop = ['Permit Type Desc', 'Permit Num', 'Permit Class', 'Contractor Trade', 'Applied Date', \n",
    "               'Issued Date', 'Status Date', 'Expires Date', 'Completed Date', 'Plumbing Valuation', 'Plumbing Valuation Remodel',\n",
    "               'Electrical Valuation', 'Electrical Valuation Remodel', 'Mechanical Valuation', 'Mechanical Valuation Remodel',\n",
    "               'MedGas Valuation', 'MedGas Valuation Remodel', 'Project ID', 'Issuance Method', 'Issued In Last 30 Days',\n",
    "               'Property Legal Description', 'Description']\n",
    "#add mixed datatype col to feature drop until later date of processing \n",
    "print(\"Removed mixed data columns from dataset:\")\n",
    "for col in mixedData_col:\n",
    "    print(columnsNames[col])\n",
    "    featureDrop.append(columnsNames[col])\n",
    "\n",
    "#reduce dimensionality and remove excess labels\n",
    "fullData = data.drop(featureDrop, axis=1)\n",
    "\n",
    "#pick sample sizes (max is half the dataset due to Darwin restrictions on Big Data)\n",
    "trainSize = math.floor(len(fullData)/2)\n",
    "testSize = math.floor(len(fullData)/10)\n",
    "\n",
    "#sample train and test sets, note currently using .sample() performs without replacement on each instance, meaning\n",
    "#there might exist overlap between the two sets\n",
    "testSet = fullData.sample(n=testSize)\n",
    "trainData = fullData.sample(n=trainSize)\n",
    "\n",
    "#write out datasets to disk to upload later\n",
    "testSet.to_csv(os.path.join(path, testName))\n",
    "trainData.to_csv(os.path.join(path, trainName))\n",
    "\n",
    "#show data / completed write to disk\n",
    "trainData.head()"
   ]
  },
  {
   "cell_type": "markdown",
   "metadata": {},
   "source": [
    "In this dataset we will attempt to use the Permit Type as the class label for the data and because of that we need to remove some columns that also act as labels in that capacity that might skew the results. Columns that are similar to Permit type are:\n",
    "\n",
    "    Permit Type Description (too hard to process due to variablility of descriptions, but also typically contains label name)\n",
    "    Permit Num (since it contain the type in the code)\n",
    "    Permit Class (functions much like a label)\n",
    "    Contractor Trade (plummers typically take plumbing jobs, electricians take electrician jobs thus could act as a label)\n",
    "    Project ID (applies to series of permits stored in folder in database, unsurprisingly permits are put in similar folders)\n",
    "\n",
    "Tangental Job indicators: (subject to testing and feature engineering)\n",
    "\n",
    "    *Plumbing Valuation\n",
    "    *Plumbing Valuation Remodel\n",
    "    *Electrical Valuation\n",
    "    *Electrical Valuation Remodel\n",
    "    *Mechanical Valuation\n",
    "    *Mechanical Valuation Remodel \n",
    "    *MedGas Valuation\n",
    "    *MedGas Valuation Remodel\n",
    "\n",
    "It might be interesting to note that a renovation job might include plumbing costs and the difference being the cost threshold which decides if its specifically a plumbing job.\n",
    "\n",
    "Interesting sidenote our data qualifies as big data under Darwin's algorithms (>500MB in size) as such not only can we sample\n",
    "at most half our dataset but also the need to remove addional columns before uploading including those above."
   ]
  },
  {
   "cell_type": "markdown",
   "metadata": {},
   "source": [
    "### Upload to Darwin"
   ]
  },
  {
   "cell_type": "code",
   "execution_count": 5,
   "metadata": {
    "collapsed": true
   },
   "outputs": [],
   "source": [
    "status, dataset = ds.upload_dataset(os.path.join(path, trainName))\n",
    "if not status:\n",
    "    print(dataset)"
   ]
  },
  {
   "cell_type": "markdown",
   "metadata": {},
   "source": [
    "#### Clean dataset"
   ]
  },
  {
   "cell_type": "code",
   "execution_count": 7,
   "metadata": {},
   "outputs": [
    {
     "name": "stdout",
     "output_type": "stream",
     "text": [
      "{'job_name': 'a2f0c1f396cf4441b0dec66ce58ac397', 'artifact_name': '4ae7503af64a4530b4371ac62ee0089f'}\n",
      "{'status': 'Taken', 'starttime': '2019-04-20T16:17:46.595156', 'endtime': None, 'percent_complete': 0, 'job_type': 'CleanDataTiny', 'loss': None, 'generations': None, 'dataset_names': ['train13.csv'], 'artifact_names': ['4ae7503af64a4530b4371ac62ee0089f'], 'model_name': None, 'job_error': None}\n",
      "{'status': 'Running', 'starttime': '2019-04-20T16:17:46.595156', 'endtime': None, 'percent_complete': 0, 'job_type': 'CleanDataTiny', 'loss': None, 'generations': None, 'dataset_names': ['train13.csv'], 'artifact_names': ['4ae7503af64a4530b4371ac62ee0089f'], 'model_name': None, 'job_error': ''}\n",
      "{'status': 'Running', 'starttime': '2019-04-20T16:17:46.595156', 'endtime': None, 'percent_complete': 0, 'job_type': 'CleanDataTiny', 'loss': None, 'generations': None, 'dataset_names': ['train13.csv'], 'artifact_names': ['4ae7503af64a4530b4371ac62ee0089f'], 'model_name': None, 'job_error': ''}\n",
      "{'status': 'Running', 'starttime': '2019-04-20T16:17:46.595156', 'endtime': None, 'percent_complete': 0, 'job_type': 'CleanDataTiny', 'loss': None, 'generations': None, 'dataset_names': ['train13.csv'], 'artifact_names': ['4ae7503af64a4530b4371ac62ee0089f'], 'model_name': None, 'job_error': ''}\n",
      "{'status': 'Running', 'starttime': '2019-04-20T16:17:46.595156', 'endtime': None, 'percent_complete': 0, 'job_type': 'CleanDataTiny', 'loss': None, 'generations': None, 'dataset_names': ['train13.csv'], 'artifact_names': ['4ae7503af64a4530b4371ac62ee0089f'], 'model_name': None, 'job_error': ''}\n",
      "{'status': 'Running', 'starttime': '2019-04-20T16:17:46.595156', 'endtime': None, 'percent_complete': 0, 'job_type': 'CleanDataTiny', 'loss': None, 'generations': None, 'dataset_names': ['train13.csv'], 'artifact_names': ['4ae7503af64a4530b4371ac62ee0089f'], 'model_name': None, 'job_error': ''}\n",
      "{'status': 'Running', 'starttime': '2019-04-20T16:17:46.595156', 'endtime': None, 'percent_complete': 0, 'job_type': 'CleanDataTiny', 'loss': None, 'generations': None, 'dataset_names': ['train13.csv'], 'artifact_names': ['4ae7503af64a4530b4371ac62ee0089f'], 'model_name': None, 'job_error': ''}\n",
      "{'status': 'Running', 'starttime': '2019-04-20T16:17:46.595156', 'endtime': None, 'percent_complete': 0, 'job_type': 'CleanDataTiny', 'loss': None, 'generations': None, 'dataset_names': ['train13.csv'], 'artifact_names': ['4ae7503af64a4530b4371ac62ee0089f'], 'model_name': None, 'job_error': ''}\n",
      "{'status': 'Running', 'starttime': '2019-04-20T16:17:46.595156', 'endtime': None, 'percent_complete': 0, 'job_type': 'CleanDataTiny', 'loss': None, 'generations': None, 'dataset_names': ['train13.csv'], 'artifact_names': ['4ae7503af64a4530b4371ac62ee0089f'], 'model_name': None, 'job_error': ''}\n",
      "{'status': 'Running', 'starttime': '2019-04-20T16:17:46.595156', 'endtime': None, 'percent_complete': 0, 'job_type': 'CleanDataTiny', 'loss': None, 'generations': None, 'dataset_names': ['train13.csv'], 'artifact_names': ['4ae7503af64a4530b4371ac62ee0089f'], 'model_name': None, 'job_error': ''}\n",
      "{'status': 'Running', 'starttime': '2019-04-20T16:17:46.595156', 'endtime': None, 'percent_complete': 0, 'job_type': 'CleanDataTiny', 'loss': None, 'generations': None, 'dataset_names': ['train13.csv'], 'artifact_names': ['4ae7503af64a4530b4371ac62ee0089f'], 'model_name': None, 'job_error': ''}\n",
      "{'status': 'Running', 'starttime': '2019-04-20T16:17:46.595156', 'endtime': None, 'percent_complete': 0, 'job_type': 'CleanDataTiny', 'loss': None, 'generations': None, 'dataset_names': ['train13.csv'], 'artifact_names': ['4ae7503af64a4530b4371ac62ee0089f'], 'model_name': None, 'job_error': ''}\n",
      "{'status': 'Running', 'starttime': '2019-04-20T16:17:46.595156', 'endtime': None, 'percent_complete': 0, 'job_type': 'CleanDataTiny', 'loss': None, 'generations': None, 'dataset_names': ['train13.csv'], 'artifact_names': ['4ae7503af64a4530b4371ac62ee0089f'], 'model_name': None, 'job_error': ''}\n",
      "{'status': 'Running', 'starttime': '2019-04-20T16:17:46.595156', 'endtime': None, 'percent_complete': 0, 'job_type': 'CleanDataTiny', 'loss': None, 'generations': None, 'dataset_names': ['train13.csv'], 'artifact_names': ['4ae7503af64a4530b4371ac62ee0089f'], 'model_name': None, 'job_error': ''}\n",
      "{'status': 'Running', 'starttime': '2019-04-20T16:17:46.595156', 'endtime': None, 'percent_complete': 0, 'job_type': 'CleanDataTiny', 'loss': None, 'generations': None, 'dataset_names': ['train13.csv'], 'artifact_names': ['4ae7503af64a4530b4371ac62ee0089f'], 'model_name': None, 'job_error': ''}\n",
      "{'status': 'Running', 'starttime': '2019-04-20T16:17:46.595156', 'endtime': None, 'percent_complete': 0, 'job_type': 'CleanDataTiny', 'loss': None, 'generations': None, 'dataset_names': ['train13.csv'], 'artifact_names': ['4ae7503af64a4530b4371ac62ee0089f'], 'model_name': None, 'job_error': ''}\n",
      "{'status': 'Running', 'starttime': '2019-04-20T16:17:46.595156', 'endtime': None, 'percent_complete': 0, 'job_type': 'CleanDataTiny', 'loss': None, 'generations': None, 'dataset_names': ['train13.csv'], 'artifact_names': ['4ae7503af64a4530b4371ac62ee0089f'], 'model_name': None, 'job_error': ''}\n",
      "{'status': 'Running', 'starttime': '2019-04-20T16:17:46.595156', 'endtime': None, 'percent_complete': 0, 'job_type': 'CleanDataTiny', 'loss': None, 'generations': None, 'dataset_names': ['train13.csv'], 'artifact_names': ['4ae7503af64a4530b4371ac62ee0089f'], 'model_name': None, 'job_error': ''}\n",
      "{'status': 'Running', 'starttime': '2019-04-20T16:17:46.595156', 'endtime': None, 'percent_complete': 0, 'job_type': 'CleanDataTiny', 'loss': None, 'generations': None, 'dataset_names': ['train13.csv'], 'artifact_names': ['4ae7503af64a4530b4371ac62ee0089f'], 'model_name': None, 'job_error': ''}\n",
      "{'status': 'Running', 'starttime': '2019-04-20T16:17:46.595156', 'endtime': None, 'percent_complete': 0, 'job_type': 'CleanDataTiny', 'loss': None, 'generations': None, 'dataset_names': ['train13.csv'], 'artifact_names': ['4ae7503af64a4530b4371ac62ee0089f'], 'model_name': None, 'job_error': ''}\n",
      "{'status': 'Running', 'starttime': '2019-04-20T16:17:46.595156', 'endtime': None, 'percent_complete': 0, 'job_type': 'CleanDataTiny', 'loss': None, 'generations': None, 'dataset_names': ['train13.csv'], 'artifact_names': ['4ae7503af64a4530b4371ac62ee0089f'], 'model_name': None, 'job_error': ''}\n",
      "{'status': 'Running', 'starttime': '2019-04-20T16:17:46.595156', 'endtime': None, 'percent_complete': 0, 'job_type': 'CleanDataTiny', 'loss': None, 'generations': None, 'dataset_names': ['train13.csv'], 'artifact_names': ['4ae7503af64a4530b4371ac62ee0089f'], 'model_name': None, 'job_error': ''}\n",
      "{'status': 'Running', 'starttime': '2019-04-20T16:17:46.595156', 'endtime': None, 'percent_complete': 0, 'job_type': 'CleanDataTiny', 'loss': None, 'generations': None, 'dataset_names': ['train13.csv'], 'artifact_names': ['4ae7503af64a4530b4371ac62ee0089f'], 'model_name': None, 'job_error': ''}\n",
      "{'status': 'Running', 'starttime': '2019-04-20T16:17:46.595156', 'endtime': None, 'percent_complete': 0, 'job_type': 'CleanDataTiny', 'loss': None, 'generations': None, 'dataset_names': ['train13.csv'], 'artifact_names': ['4ae7503af64a4530b4371ac62ee0089f'], 'model_name': None, 'job_error': ''}\n",
      "{'status': 'Running', 'starttime': '2019-04-20T16:17:46.595156', 'endtime': None, 'percent_complete': 0, 'job_type': 'CleanDataTiny', 'loss': None, 'generations': None, 'dataset_names': ['train13.csv'], 'artifact_names': ['4ae7503af64a4530b4371ac62ee0089f'], 'model_name': None, 'job_error': ''}\n",
      "{'status': 'Running', 'starttime': '2019-04-20T16:17:46.595156', 'endtime': None, 'percent_complete': 0, 'job_type': 'CleanDataTiny', 'loss': None, 'generations': None, 'dataset_names': ['train13.csv'], 'artifact_names': ['4ae7503af64a4530b4371ac62ee0089f'], 'model_name': None, 'job_error': ''}\n",
      "{'status': 'Running', 'starttime': '2019-04-20T16:17:46.595156', 'endtime': None, 'percent_complete': 0, 'job_type': 'CleanDataTiny', 'loss': None, 'generations': None, 'dataset_names': ['train13.csv'], 'artifact_names': ['4ae7503af64a4530b4371ac62ee0089f'], 'model_name': None, 'job_error': ''}\n",
      "{'status': 'Running', 'starttime': '2019-04-20T16:17:46.595156', 'endtime': None, 'percent_complete': 0, 'job_type': 'CleanDataTiny', 'loss': None, 'generations': None, 'dataset_names': ['train13.csv'], 'artifact_names': ['4ae7503af64a4530b4371ac62ee0089f'], 'model_name': None, 'job_error': ''}\n"
     ]
    },
    {
     "name": "stdout",
     "output_type": "stream",
     "text": [
      "{'status': 'Running', 'starttime': '2019-04-20T16:17:46.595156', 'endtime': None, 'percent_complete': 0, 'job_type': 'CleanDataTiny', 'loss': None, 'generations': None, 'dataset_names': ['train13.csv'], 'artifact_names': ['4ae7503af64a4530b4371ac62ee0089f'], 'model_name': None, 'job_error': ''}\n",
      "{'status': 'Running', 'starttime': '2019-04-20T16:17:46.595156', 'endtime': None, 'percent_complete': 0, 'job_type': 'CleanDataTiny', 'loss': None, 'generations': None, 'dataset_names': ['train13.csv'], 'artifact_names': ['4ae7503af64a4530b4371ac62ee0089f'], 'model_name': None, 'job_error': ''}\n",
      "{'status': 'Running', 'starttime': '2019-04-20T16:17:46.595156', 'endtime': None, 'percent_complete': 0, 'job_type': 'CleanDataTiny', 'loss': None, 'generations': None, 'dataset_names': ['train13.csv'], 'artifact_names': ['4ae7503af64a4530b4371ac62ee0089f'], 'model_name': None, 'job_error': ''}\n",
      "{'status': 'Running', 'starttime': '2019-04-20T16:17:46.595156', 'endtime': None, 'percent_complete': 0, 'job_type': 'CleanDataTiny', 'loss': None, 'generations': None, 'dataset_names': ['train13.csv'], 'artifact_names': ['4ae7503af64a4530b4371ac62ee0089f'], 'model_name': None, 'job_error': ''}\n",
      "{'status': 'Running', 'starttime': '2019-04-20T16:17:46.595156', 'endtime': None, 'percent_complete': 0, 'job_type': 'CleanDataTiny', 'loss': None, 'generations': None, 'dataset_names': ['train13.csv'], 'artifact_names': ['4ae7503af64a4530b4371ac62ee0089f'], 'model_name': None, 'job_error': ''}\n",
      "{'status': 'Running', 'starttime': '2019-04-20T16:17:46.595156', 'endtime': None, 'percent_complete': 0, 'job_type': 'CleanDataTiny', 'loss': None, 'generations': None, 'dataset_names': ['train13.csv'], 'artifact_names': ['4ae7503af64a4530b4371ac62ee0089f'], 'model_name': None, 'job_error': ''}\n",
      "{'status': 'Running', 'starttime': '2019-04-20T16:17:46.595156', 'endtime': None, 'percent_complete': 0, 'job_type': 'CleanDataTiny', 'loss': None, 'generations': None, 'dataset_names': ['train13.csv'], 'artifact_names': ['4ae7503af64a4530b4371ac62ee0089f'], 'model_name': None, 'job_error': ''}\n",
      "{'status': 'Running', 'starttime': '2019-04-20T16:17:46.595156', 'endtime': None, 'percent_complete': 0, 'job_type': 'CleanDataTiny', 'loss': None, 'generations': None, 'dataset_names': ['train13.csv'], 'artifact_names': ['4ae7503af64a4530b4371ac62ee0089f'], 'model_name': None, 'job_error': ''}\n",
      "{'status': 'Complete', 'starttime': '2019-04-20T16:17:46.595156', 'endtime': '2019-04-20T16:26:48.002523', 'percent_complete': 100, 'job_type': 'CleanDataTiny', 'loss': None, 'generations': None, 'dataset_names': ['train13.csv'], 'artifact_names': ['4ae7503af64a4530b4371ac62ee0089f'], 'model_name': None, 'job_error': ''}\n"
     ]
    }
   ],
   "source": [
    "# clean dataset\n",
    "target = \"Permit Type\"\n",
    "index = \"Applied Date\"\n",
    "model = target + \"_model14\"\n",
    "status, job_id = ds.clean_data(trainName, target = target)\n",
    "print(job_id)\n",
    "if status:\n",
    "    ds.wait_for_job(job_id['job_name'])\n",
    "else:\n",
    "    print(job_id)"
   ]
  },
  {
   "cell_type": "markdown",
   "metadata": {},
   "source": [
    "#### Download Cleaned Data"
   ]
  },
  {
   "cell_type": "code",
   "execution_count": 8,
   "metadata": {
    "collapsed": true
   },
   "outputs": [],
   "source": [
    "status, clean = ds.download_artifact(job_id['artifact_name'])\n",
    "clean.to_csv(os.path.join(path, cleanName))"
   ]
  },
  {
   "cell_type": "markdown",
   "metadata": {},
   "source": [
    "### Create and Train Model"
   ]
  },
  {
   "cell_type": "code",
   "execution_count": 9,
   "metadata": {},
   "outputs": [
    {
     "name": "stdout",
     "output_type": "stream",
     "text": [
      "{'status': 'Requested', 'starttime': '2019-04-20T16:27:53.470433', 'endtime': None, 'percent_complete': 0, 'job_type': 'TrainModel', 'loss': None, 'generations': 0, 'dataset_names': ['train13.csv'], 'artifact_names': None, 'model_name': 'Permit Type_model14', 'job_error': None}\n",
      "{'status': 'Running', 'starttime': '2019-04-20T16:27:53.470433', 'endtime': None, 'percent_complete': 0, 'job_type': 'TrainModel', 'loss': None, 'generations': 0, 'dataset_names': ['train13.csv'], 'artifact_names': None, 'model_name': 'Permit Type_model14', 'job_error': ''}\n",
      "{'status': 'Running', 'starttime': '2019-04-20T16:27:53.470433', 'endtime': None, 'percent_complete': 0, 'job_type': 'TrainModel', 'loss': None, 'generations': 0, 'dataset_names': ['train13.csv'], 'artifact_names': None, 'model_name': 'Permit Type_model14', 'job_error': ''}\n",
      "{'status': 'Running', 'starttime': '2019-04-20T16:27:53.470433', 'endtime': None, 'percent_complete': 0, 'job_type': 'TrainModel', 'loss': None, 'generations': 0, 'dataset_names': ['train13.csv'], 'artifact_names': None, 'model_name': 'Permit Type_model14', 'job_error': ''}\n",
      "{'status': 'Running', 'starttime': '2019-04-20T16:27:53.470433', 'endtime': None, 'percent_complete': 0, 'job_type': 'TrainModel', 'loss': None, 'generations': 0, 'dataset_names': ['train13.csv'], 'artifact_names': None, 'model_name': 'Permit Type_model14', 'job_error': ''}\n",
      "{'status': 'Running', 'starttime': '2019-04-20T16:27:53.470433', 'endtime': None, 'percent_complete': 0, 'job_type': 'TrainModel', 'loss': None, 'generations': 0, 'dataset_names': ['train13.csv'], 'artifact_names': None, 'model_name': 'Permit Type_model14', 'job_error': ''}\n",
      "{'status': 'Running', 'starttime': '2019-04-20T16:27:53.470433', 'endtime': None, 'percent_complete': 0, 'job_type': 'TrainModel', 'loss': None, 'generations': 0, 'dataset_names': ['train13.csv'], 'artifact_names': None, 'model_name': 'Permit Type_model14', 'job_error': ''}\n",
      "{'status': 'Running', 'starttime': '2019-04-20T16:27:53.470433', 'endtime': None, 'percent_complete': 0, 'job_type': 'TrainModel', 'loss': None, 'generations': 0, 'dataset_names': ['train13.csv'], 'artifact_names': None, 'model_name': 'Permit Type_model14', 'job_error': ''}\n",
      "{'status': 'Running', 'starttime': '2019-04-20T16:27:53.470433', 'endtime': None, 'percent_complete': 0, 'job_type': 'TrainModel', 'loss': None, 'generations': 0, 'dataset_names': ['train13.csv'], 'artifact_names': None, 'model_name': 'Permit Type_model14', 'job_error': ''}\n",
      "{'status': 'Running', 'starttime': '2019-04-20T16:27:53.470433', 'endtime': None, 'percent_complete': 0, 'job_type': 'TrainModel', 'loss': None, 'generations': 0, 'dataset_names': ['train13.csv'], 'artifact_names': None, 'model_name': 'Permit Type_model14', 'job_error': ''}\n",
      "{'status': 'Running', 'starttime': '2019-04-20T16:27:53.470433', 'endtime': None, 'percent_complete': 0, 'job_type': 'TrainModel', 'loss': None, 'generations': 0, 'dataset_names': ['train13.csv'], 'artifact_names': None, 'model_name': 'Permit Type_model14', 'job_error': ''}\n",
      "{'status': 'Running', 'starttime': '2019-04-20T16:27:53.470433', 'endtime': None, 'percent_complete': 0, 'job_type': 'TrainModel', 'loss': None, 'generations': 0, 'dataset_names': ['train13.csv'], 'artifact_names': None, 'model_name': 'Permit Type_model14', 'job_error': ''}\n",
      "{'status': 'Running', 'starttime': '2019-04-20T16:27:53.470433', 'endtime': None, 'percent_complete': 0, 'job_type': 'TrainModel', 'loss': None, 'generations': 0, 'dataset_names': ['train13.csv'], 'artifact_names': None, 'model_name': 'Permit Type_model14', 'job_error': ''}\n",
      "{'status': 'Running', 'starttime': '2019-04-20T16:27:53.470433', 'endtime': None, 'percent_complete': 0, 'job_type': 'TrainModel', 'loss': None, 'generations': 0, 'dataset_names': ['train13.csv'], 'artifact_names': None, 'model_name': 'Permit Type_model14', 'job_error': ''}\n",
      "{'status': 'Running', 'starttime': '2019-04-20T16:27:53.470433', 'endtime': None, 'percent_complete': 0, 'job_type': 'TrainModel', 'loss': None, 'generations': 0, 'dataset_names': ['train13.csv'], 'artifact_names': None, 'model_name': 'Permit Type_model14', 'job_error': ''}\n",
      "{'status': 'Running', 'starttime': '2019-04-20T16:27:53.470433', 'endtime': None, 'percent_complete': 0, 'job_type': 'TrainModel', 'loss': None, 'generations': 0, 'dataset_names': ['train13.csv'], 'artifact_names': None, 'model_name': 'Permit Type_model14', 'job_error': ''}\n",
      "{'status': 'Running', 'starttime': '2019-04-20T16:27:53.470433', 'endtime': None, 'percent_complete': 0, 'job_type': 'TrainModel', 'loss': None, 'generations': 0, 'dataset_names': ['train13.csv'], 'artifact_names': None, 'model_name': 'Permit Type_model14', 'job_error': ''}\n",
      "{'status': 'Running', 'starttime': '2019-04-20T16:27:53.470433', 'endtime': None, 'percent_complete': 0, 'job_type': 'TrainModel', 'loss': None, 'generations': 0, 'dataset_names': ['train13.csv'], 'artifact_names': None, 'model_name': 'Permit Type_model14', 'job_error': ''}\n",
      "{'status': 'Running', 'starttime': '2019-04-20T16:27:53.470433', 'endtime': None, 'percent_complete': 0, 'job_type': 'TrainModel', 'loss': None, 'generations': 0, 'dataset_names': ['train13.csv'], 'artifact_names': None, 'model_name': 'Permit Type_model14', 'job_error': ''}\n",
      "{'status': 'Running', 'starttime': '2019-04-20T16:27:53.470433', 'endtime': None, 'percent_complete': 0, 'job_type': 'TrainModel', 'loss': None, 'generations': 0, 'dataset_names': ['train13.csv'], 'artifact_names': None, 'model_name': 'Permit Type_model14', 'job_error': ''}\n",
      "{'status': 'Running', 'starttime': '2019-04-20T16:27:53.470433', 'endtime': None, 'percent_complete': 0, 'job_type': 'TrainModel', 'loss': None, 'generations': 0, 'dataset_names': ['train13.csv'], 'artifact_names': None, 'model_name': 'Permit Type_model14', 'job_error': ''}\n",
      "{'status': 'Running', 'starttime': '2019-04-20T16:27:53.470433', 'endtime': None, 'percent_complete': 0, 'job_type': 'TrainModel', 'loss': None, 'generations': 0, 'dataset_names': ['train13.csv'], 'artifact_names': None, 'model_name': 'Permit Type_model14', 'job_error': ''}\n",
      "{'status': 'Running', 'starttime': '2019-04-20T16:27:53.470433', 'endtime': None, 'percent_complete': 0, 'job_type': 'TrainModel', 'loss': None, 'generations': 0, 'dataset_names': ['train13.csv'], 'artifact_names': None, 'model_name': 'Permit Type_model14', 'job_error': ''}\n",
      "{'status': 'Running', 'starttime': '2019-04-20T16:27:53.470433', 'endtime': None, 'percent_complete': 0, 'job_type': 'TrainModel', 'loss': None, 'generations': 0, 'dataset_names': ['train13.csv'], 'artifact_names': None, 'model_name': 'Permit Type_model14', 'job_error': ''}\n",
      "{'status': 'Running', 'starttime': '2019-04-20T16:27:53.470433', 'endtime': None, 'percent_complete': 20, 'job_type': 'TrainModel', 'loss': 1.1812918186187744, 'generations': 0, 'dataset_names': ['train13.csv'], 'artifact_names': None, 'model_name': 'Permit Type_model14', 'job_error': ''}\n",
      "{'status': 'Running', 'starttime': '2019-04-20T16:27:53.470433', 'endtime': None, 'percent_complete': 20, 'job_type': 'TrainModel', 'loss': 1.1812918186187744, 'generations': 0, 'dataset_names': ['train13.csv'], 'artifact_names': None, 'model_name': 'Permit Type_model14', 'job_error': ''}\n",
      "{'status': 'Running', 'starttime': '2019-04-20T16:27:53.470433', 'endtime': None, 'percent_complete': 20, 'job_type': 'TrainModel', 'loss': 1.1812918186187744, 'generations': 0, 'dataset_names': ['train13.csv'], 'artifact_names': None, 'model_name': 'Permit Type_model14', 'job_error': ''}\n",
      "{'status': 'Running', 'starttime': '2019-04-20T16:27:53.470433', 'endtime': None, 'percent_complete': 20, 'job_type': 'TrainModel', 'loss': 1.1812918186187744, 'generations': 0, 'dataset_names': ['train13.csv'], 'artifact_names': None, 'model_name': 'Permit Type_model14', 'job_error': ''}\n",
      "{'status': 'Running', 'starttime': '2019-04-20T16:27:53.470433', 'endtime': None, 'percent_complete': 20, 'job_type': 'TrainModel', 'loss': 1.1812918186187744, 'generations': 0, 'dataset_names': ['train13.csv'], 'artifact_names': None, 'model_name': 'Permit Type_model14', 'job_error': ''}\n",
      "{'status': 'Running', 'starttime': '2019-04-20T16:27:53.470433', 'endtime': None, 'percent_complete': 20, 'job_type': 'TrainModel', 'loss': 1.1812918186187744, 'generations': 0, 'dataset_names': ['train13.csv'], 'artifact_names': None, 'model_name': 'Permit Type_model14', 'job_error': ''}\n"
     ]
    },
    {
     "name": "stdout",
     "output_type": "stream",
     "text": [
      "{'status': 'Running', 'starttime': '2019-04-20T16:27:53.470433', 'endtime': None, 'percent_complete': 20, 'job_type': 'TrainModel', 'loss': 1.1812918186187744, 'generations': 0, 'dataset_names': ['train13.csv'], 'artifact_names': None, 'model_name': 'Permit Type_model14', 'job_error': ''}\n",
      "{'status': 'Running', 'starttime': '2019-04-20T16:27:53.470433', 'endtime': None, 'percent_complete': 20, 'job_type': 'TrainModel', 'loss': 1.1812918186187744, 'generations': 0, 'dataset_names': ['train13.csv'], 'artifact_names': None, 'model_name': 'Permit Type_model14', 'job_error': ''}\n",
      "{'status': 'Running', 'starttime': '2019-04-20T16:27:53.470433', 'endtime': None, 'percent_complete': 20, 'job_type': 'TrainModel', 'loss': 1.1812918186187744, 'generations': 0, 'dataset_names': ['train13.csv'], 'artifact_names': None, 'model_name': 'Permit Type_model14', 'job_error': ''}\n",
      "{'status': 'Running', 'starttime': '2019-04-20T16:27:53.470433', 'endtime': None, 'percent_complete': 20, 'job_type': 'TrainModel', 'loss': 1.1812918186187744, 'generations': 0, 'dataset_names': ['train13.csv'], 'artifact_names': None, 'model_name': 'Permit Type_model14', 'job_error': ''}\n",
      "{'status': 'Running', 'starttime': '2019-04-20T16:27:53.470433', 'endtime': None, 'percent_complete': 20, 'job_type': 'TrainModel', 'loss': 1.1812918186187744, 'generations': 0, 'dataset_names': ['train13.csv'], 'artifact_names': None, 'model_name': 'Permit Type_model14', 'job_error': ''}\n",
      "{'status': 'Running', 'starttime': '2019-04-20T16:27:53.470433', 'endtime': None, 'percent_complete': 20, 'job_type': 'TrainModel', 'loss': 1.1812918186187744, 'generations': 0, 'dataset_names': ['train13.csv'], 'artifact_names': None, 'model_name': 'Permit Type_model14', 'job_error': ''}\n",
      "{'status': 'Running', 'starttime': '2019-04-20T16:27:53.470433', 'endtime': None, 'percent_complete': 20, 'job_type': 'TrainModel', 'loss': 1.1812918186187744, 'generations': 0, 'dataset_names': ['train13.csv'], 'artifact_names': None, 'model_name': 'Permit Type_model14', 'job_error': ''}\n",
      "{'status': 'Running', 'starttime': '2019-04-20T16:27:53.470433', 'endtime': None, 'percent_complete': 20, 'job_type': 'TrainModel', 'loss': 1.1812918186187744, 'generations': 0, 'dataset_names': ['train13.csv'], 'artifact_names': None, 'model_name': 'Permit Type_model14', 'job_error': ''}\n",
      "{'status': 'Running', 'starttime': '2019-04-20T16:27:53.470433', 'endtime': None, 'percent_complete': 20, 'job_type': 'TrainModel', 'loss': 1.1812918186187744, 'generations': 0, 'dataset_names': ['train13.csv'], 'artifact_names': None, 'model_name': 'Permit Type_model14', 'job_error': ''}\n",
      "{'status': 'Running', 'starttime': '2019-04-20T16:27:53.470433', 'endtime': None, 'percent_complete': 20, 'job_type': 'TrainModel', 'loss': 1.1812918186187744, 'generations': 0, 'dataset_names': ['train13.csv'], 'artifact_names': None, 'model_name': 'Permit Type_model14', 'job_error': ''}\n",
      "{'status': 'Running', 'starttime': '2019-04-20T16:27:53.470433', 'endtime': None, 'percent_complete': 20, 'job_type': 'TrainModel', 'loss': 1.1812918186187744, 'generations': 0, 'dataset_names': ['train13.csv'], 'artifact_names': None, 'model_name': 'Permit Type_model14', 'job_error': ''}\n"
     ]
    }
   ],
   "source": [
    "status, job_id = ds.create_model(dataset_names = trainName, \\\n",
    "                                 model_name =  model, \\\n",
    "                                 max_train_time = '00:15')\n",
    "if status:\n",
    "    ds.wait_for_job(job_id['job_name'])\n",
    "else:\n",
    "    print(job_id)"
   ]
  },
  {
   "cell_type": "markdown",
   "metadata": {},
   "source": [
    "#### Check status of job"
   ]
  },
  {
   "cell_type": "code",
   "execution_count": 10,
   "metadata": {},
   "outputs": [
    {
     "name": "stdout",
     "output_type": "stream",
     "text": [
      "{'status': 'Running', 'starttime': '2019-04-20T16:27:53.470433', 'endtime': None, 'percent_complete': 20, 'job_type': 'TrainModel', 'loss': 1.1812918186187744, 'generations': 0, 'dataset_names': ['train13.csv'], 'artifact_names': None, 'model_name': 'Permit Type_model14', 'job_error': ''}\n",
      "{'status': 'Running', 'starttime': '2019-04-20T16:27:53.470433', 'endtime': None, 'percent_complete': 20, 'job_type': 'TrainModel', 'loss': 1.1812918186187744, 'generations': 0, 'dataset_names': ['train13.csv'], 'artifact_names': None, 'model_name': 'Permit Type_model14', 'job_error': ''}\n",
      "{'status': 'Running', 'starttime': '2019-04-20T16:27:53.470433', 'endtime': None, 'percent_complete': 20, 'job_type': 'TrainModel', 'loss': 1.1812918186187744, 'generations': 0, 'dataset_names': ['train13.csv'], 'artifact_names': None, 'model_name': 'Permit Type_model14', 'job_error': ''}\n",
      "{'status': 'Running', 'starttime': '2019-04-20T16:27:53.470433', 'endtime': None, 'percent_complete': 20, 'job_type': 'TrainModel', 'loss': 1.1812918186187744, 'generations': 0, 'dataset_names': ['train13.csv'], 'artifact_names': None, 'model_name': 'Permit Type_model14', 'job_error': ''}\n",
      "{'status': 'Running', 'starttime': '2019-04-20T16:27:53.470433', 'endtime': None, 'percent_complete': 20, 'job_type': 'TrainModel', 'loss': 1.1812918186187744, 'generations': 0, 'dataset_names': ['train13.csv'], 'artifact_names': None, 'model_name': 'Permit Type_model14', 'job_error': ''}\n",
      "{'status': 'Running', 'starttime': '2019-04-20T16:27:53.470433', 'endtime': None, 'percent_complete': 20, 'job_type': 'TrainModel', 'loss': 1.1812918186187744, 'generations': 0, 'dataset_names': ['train13.csv'], 'artifact_names': None, 'model_name': 'Permit Type_model14', 'job_error': ''}\n",
      "{'status': 'Running', 'starttime': '2019-04-20T16:27:53.470433', 'endtime': None, 'percent_complete': 20, 'job_type': 'TrainModel', 'loss': 1.1812918186187744, 'generations': 0, 'dataset_names': ['train13.csv'], 'artifact_names': None, 'model_name': 'Permit Type_model14', 'job_error': ''}\n",
      "{'status': 'Running', 'starttime': '2019-04-20T16:27:53.470433', 'endtime': None, 'percent_complete': 20, 'job_type': 'TrainModel', 'loss': 1.1812918186187744, 'generations': 0, 'dataset_names': ['train13.csv'], 'artifact_names': None, 'model_name': 'Permit Type_model14', 'job_error': ''}\n",
      "{'status': 'Running', 'starttime': '2019-04-20T16:27:53.470433', 'endtime': None, 'percent_complete': 20, 'job_type': 'TrainModel', 'loss': 1.1812918186187744, 'generations': 0, 'dataset_names': ['train13.csv'], 'artifact_names': None, 'model_name': 'Permit Type_model14', 'job_error': ''}\n",
      "{'status': 'Running', 'starttime': '2019-04-20T16:27:53.470433', 'endtime': None, 'percent_complete': 20, 'job_type': 'TrainModel', 'loss': 1.1812918186187744, 'generations': 0, 'dataset_names': ['train13.csv'], 'artifact_names': None, 'model_name': 'Permit Type_model14', 'job_error': ''}\n",
      "{'status': 'Running', 'starttime': '2019-04-20T16:27:53.470433', 'endtime': None, 'percent_complete': 20, 'job_type': 'TrainModel', 'loss': 1.1812918186187744, 'generations': 0, 'dataset_names': ['train13.csv'], 'artifact_names': None, 'model_name': 'Permit Type_model14', 'job_error': ''}\n",
      "{'status': 'Running', 'starttime': '2019-04-20T16:27:53.470433', 'endtime': None, 'percent_complete': 20, 'job_type': 'TrainModel', 'loss': 1.1812918186187744, 'generations': 0, 'dataset_names': ['train13.csv'], 'artifact_names': None, 'model_name': 'Permit Type_model14', 'job_error': ''}\n",
      "{'status': 'Running', 'starttime': '2019-04-20T16:27:53.470433', 'endtime': None, 'percent_complete': 20, 'job_type': 'TrainModel', 'loss': 1.1812918186187744, 'generations': 0, 'dataset_names': ['train13.csv'], 'artifact_names': None, 'model_name': 'Permit Type_model14', 'job_error': ''}\n",
      "{'status': 'Running', 'starttime': '2019-04-20T16:27:53.470433', 'endtime': None, 'percent_complete': 20, 'job_type': 'TrainModel', 'loss': 1.1812918186187744, 'generations': 0, 'dataset_names': ['train13.csv'], 'artifact_names': None, 'model_name': 'Permit Type_model14', 'job_error': ''}\n",
      "{'status': 'Running', 'starttime': '2019-04-20T16:27:53.470433', 'endtime': None, 'percent_complete': 20, 'job_type': 'TrainModel', 'loss': 1.1812918186187744, 'generations': 0, 'dataset_names': ['train13.csv'], 'artifact_names': None, 'model_name': 'Permit Type_model14', 'job_error': ''}\n",
      "{'status': 'Running', 'starttime': '2019-04-20T16:27:53.470433', 'endtime': None, 'percent_complete': 20, 'job_type': 'TrainModel', 'loss': 1.1812918186187744, 'generations': 0, 'dataset_names': ['train13.csv'], 'artifact_names': None, 'model_name': 'Permit Type_model14', 'job_error': ''}\n",
      "{'status': 'Running', 'starttime': '2019-04-20T16:27:53.470433', 'endtime': None, 'percent_complete': 20, 'job_type': 'TrainModel', 'loss': 1.1812918186187744, 'generations': 0, 'dataset_names': ['train13.csv'], 'artifact_names': None, 'model_name': 'Permit Type_model14', 'job_error': ''}\n",
      "{'status': 'Running', 'starttime': '2019-04-20T16:27:53.470433', 'endtime': None, 'percent_complete': 20, 'job_type': 'TrainModel', 'loss': 1.1812918186187744, 'generations': 0, 'dataset_names': ['train13.csv'], 'artifact_names': None, 'model_name': 'Permit Type_model14', 'job_error': ''}\n",
      "{'status': 'Running', 'starttime': '2019-04-20T16:27:53.470433', 'endtime': None, 'percent_complete': 20, 'job_type': 'TrainModel', 'loss': 1.1812918186187744, 'generations': 0, 'dataset_names': ['train13.csv'], 'artifact_names': None, 'model_name': 'Permit Type_model14', 'job_error': ''}\n",
      "{'status': 'Running', 'starttime': '2019-04-20T16:27:53.470433', 'endtime': None, 'percent_complete': 20, 'job_type': 'TrainModel', 'loss': 1.1812918186187744, 'generations': 0, 'dataset_names': ['train13.csv'], 'artifact_names': None, 'model_name': 'Permit Type_model14', 'job_error': ''}\n",
      "{'status': 'Running', 'starttime': '2019-04-20T16:27:53.470433', 'endtime': None, 'percent_complete': 20, 'job_type': 'TrainModel', 'loss': 1.1812918186187744, 'generations': 0, 'dataset_names': ['train13.csv'], 'artifact_names': None, 'model_name': 'Permit Type_model14', 'job_error': ''}\n",
      "{'status': 'Running', 'starttime': '2019-04-20T16:27:53.470433', 'endtime': None, 'percent_complete': 20, 'job_type': 'TrainModel', 'loss': 1.1812918186187744, 'generations': 0, 'dataset_names': ['train13.csv'], 'artifact_names': None, 'model_name': 'Permit Type_model14', 'job_error': ''}\n",
      "{'status': 'Running', 'starttime': '2019-04-20T16:27:53.470433', 'endtime': None, 'percent_complete': 20, 'job_type': 'TrainModel', 'loss': 1.1812918186187744, 'generations': 0, 'dataset_names': ['train13.csv'], 'artifact_names': None, 'model_name': 'Permit Type_model14', 'job_error': ''}\n",
      "{'status': 'Complete', 'starttime': '2019-04-20T16:27:53.470433', 'endtime': '2019-04-20T16:46:14.336901', 'percent_complete': 100, 'job_type': 'TrainModel', 'loss': 1.1812918186187744, 'generations': 0, 'dataset_names': ['train13.csv'], 'artifact_names': None, 'model_name': 'Permit Type_model14', 'job_error': ''}\n"
     ]
    }
   ],
   "source": [
    "if status:\n",
    "    ds.wait_for_job(job_id['job_name'])\n",
    "else:\n",
    "    print(job_id)"
   ]
  },
  {
   "cell_type": "markdown",
   "metadata": {},
   "source": [
    "### Analyze Model"
   ]
  },
  {
   "cell_type": "code",
   "execution_count": 11,
   "metadata": {},
   "outputs": [
    {
     "name": "stdout",
     "output_type": "stream",
     "text": [
      "{'status': 'Running', 'starttime': '2019-04-20T16:47:24.051588', 'endtime': None, 'percent_complete': 0, 'job_type': 'AnalyzeModel', 'loss': 1.1812918186187744, 'generations': 0, 'dataset_names': None, 'artifact_names': ['5082650f27ce4c0d895e5c84c2e47ebd'], 'model_name': 'Permit Type_model14', 'job_error': ''}\n",
      "{'status': 'Running', 'starttime': '2019-04-20T16:47:24.051588', 'endtime': None, 'percent_complete': 0, 'job_type': 'AnalyzeModel', 'loss': 1.1812918186187744, 'generations': 0, 'dataset_names': None, 'artifact_names': ['5082650f27ce4c0d895e5c84c2e47ebd'], 'model_name': 'Permit Type_model14', 'job_error': ''}\n",
      "{'status': 'Running', 'starttime': '2019-04-20T16:47:24.051588', 'endtime': None, 'percent_complete': 0, 'job_type': 'AnalyzeModel', 'loss': 1.1812918186187744, 'generations': 0, 'dataset_names': None, 'artifact_names': ['5082650f27ce4c0d895e5c84c2e47ebd'], 'model_name': 'Permit Type_model14', 'job_error': ''}\n",
      "{'status': 'Running', 'starttime': '2019-04-20T16:47:24.051588', 'endtime': None, 'percent_complete': 0, 'job_type': 'AnalyzeModel', 'loss': 1.1812918186187744, 'generations': 0, 'dataset_names': None, 'artifact_names': ['5082650f27ce4c0d895e5c84c2e47ebd'], 'model_name': 'Permit Type_model14', 'job_error': ''}\n",
      "{'status': 'Running', 'starttime': '2019-04-20T16:47:24.051588', 'endtime': None, 'percent_complete': 0, 'job_type': 'AnalyzeModel', 'loss': 1.1812918186187744, 'generations': 0, 'dataset_names': None, 'artifact_names': ['5082650f27ce4c0d895e5c84c2e47ebd'], 'model_name': 'Permit Type_model14', 'job_error': ''}\n",
      "{'status': 'Running', 'starttime': '2019-04-20T16:47:24.051588', 'endtime': None, 'percent_complete': 0, 'job_type': 'AnalyzeModel', 'loss': 1.1812918186187744, 'generations': 0, 'dataset_names': None, 'artifact_names': ['5082650f27ce4c0d895e5c84c2e47ebd'], 'model_name': 'Permit Type_model14', 'job_error': ''}\n",
      "{'status': 'Complete', 'starttime': '2019-04-20T16:47:24.051588', 'endtime': '2019-04-20T16:48:40.674845', 'percent_complete': 100, 'job_type': 'AnalyzeModel', 'loss': 1.1812918186187744, 'generations': 0, 'dataset_names': None, 'artifact_names': ['5082650f27ce4c0d895e5c84c2e47ebd'], 'model_name': 'Permit Type_model14', 'job_error': ''}\n"
     ]
    }
   ],
   "source": [
    "# Retrieve feature importance of built model\n",
    "status, artifact = ds.analyze_model(model)\n",
    "sleep(1)\n",
    "if status:\n",
    "    ds.wait_for_job(artifact['job_name'])\n",
    "else:\n",
    "    print(artifact)\n",
    "status, feature_importance = ds.download_artifact(artifact['artifact_name'])\n"
   ]
  },
  {
   "cell_type": "markdown",
   "metadata": {},
   "source": [
    "Display most important features of the model."
   ]
  },
  {
   "cell_type": "code",
   "execution_count": 12,
   "metadata": {},
   "outputs": [
    {
     "data": {
      "text/plain": [
       "Unnamed: 0                    0.418091\n",
       "Master Permit Num             0.097280\n",
       "Total Job Valuation           0.040551\n",
       "Housing Units                 0.033604\n",
       "Total Valuation Remodel       0.029093\n",
       "Number Of Floors              0.026463\n",
       "Calendar Year Issued          0.026358\n",
       "Fiscal Year Issued            0.026042\n",
       "Building Valuation Remodel    0.023949\n",
       "Latitude                      0.022130\n",
       "dtype: float64"
      ]
     },
     "execution_count": 12,
     "metadata": {},
     "output_type": "execute_result"
    }
   ],
   "source": [
    "feature_importance[:10]"
   ]
  },
  {
   "cell_type": "markdown",
   "metadata": {},
   "source": [
    "### Predictions\n",
    "\n",
    "#### Perform model prediction on the training dataset."
   ]
  },
  {
   "cell_type": "code",
   "execution_count": 13,
   "metadata": {},
   "outputs": [
    {
     "name": "stdout",
     "output_type": "stream",
     "text": [
      "{'status': 'Running', 'starttime': '2019-04-20T16:51:16.78559', 'endtime': None, 'percent_complete': 0, 'job_type': 'RunModel', 'loss': 1.1812918186187744, 'generations': 0, 'dataset_names': ['train13.csv'], 'artifact_names': ['15b520e8c48346a4aadf665905b84995'], 'model_name': 'Permit Type_model14', 'job_error': ''}\n",
      "{'status': 'Running', 'starttime': '2019-04-20T16:51:16.78559', 'endtime': None, 'percent_complete': 0, 'job_type': 'RunModel', 'loss': 1.1812918186187744, 'generations': 0, 'dataset_names': ['train13.csv'], 'artifact_names': ['15b520e8c48346a4aadf665905b84995'], 'model_name': 'Permit Type_model14', 'job_error': ''}\n",
      "{'status': 'Running', 'starttime': '2019-04-20T16:51:16.78559', 'endtime': None, 'percent_complete': 0, 'job_type': 'RunModel', 'loss': 1.1812918186187744, 'generations': 0, 'dataset_names': ['train13.csv'], 'artifact_names': ['15b520e8c48346a4aadf665905b84995'], 'model_name': 'Permit Type_model14', 'job_error': ''}\n",
      "{'status': 'Running', 'starttime': '2019-04-20T16:51:16.78559', 'endtime': None, 'percent_complete': 0, 'job_type': 'RunModel', 'loss': 1.1812918186187744, 'generations': 0, 'dataset_names': ['train13.csv'], 'artifact_names': ['15b520e8c48346a4aadf665905b84995'], 'model_name': 'Permit Type_model14', 'job_error': ''}\n",
      "{'status': 'Complete', 'starttime': '2019-04-20T16:51:16.78559', 'endtime': '2019-04-20T16:52:14.562784', 'percent_complete': 100, 'job_type': 'RunModel', 'loss': 1.1812918186187744, 'generations': 0, 'dataset_names': ['train13.csv'], 'artifact_names': ['15b520e8c48346a4aadf665905b84995'], 'model_name': 'Permit Type_model14', 'job_error': ''}\n"
     ]
    },
    {
     "data": {
      "text/plain": [
       "(True, 'Job completed')"
      ]
     },
     "execution_count": 13,
     "metadata": {},
     "output_type": "execute_result"
    }
   ],
   "source": [
    "status, artifact = ds.run_model(trainName, model)\n",
    "sleep(1)\n",
    "ds.wait_for_job(artifact['job_name'])"
   ]
  },
  {
   "cell_type": "markdown",
   "metadata": {},
   "source": [
    "#### Download predictions from Darwin."
   ]
  },
  {
   "cell_type": "code",
   "execution_count": 25,
   "metadata": {},
   "outputs": [
    {
     "data": {
      "text/html": [
       "<div>\n",
       "<style>\n",
       "    .dataframe thead tr:only-child th {\n",
       "        text-align: right;\n",
       "    }\n",
       "\n",
       "    .dataframe thead th {\n",
       "        text-align: left;\n",
       "    }\n",
       "\n",
       "    .dataframe tbody tr th {\n",
       "        vertical-align: top;\n",
       "    }\n",
       "</style>\n",
       "<table border=\"1\" class=\"dataframe\">\n",
       "  <thead>\n",
       "    <tr style=\"text-align: right;\">\n",
       "      <th></th>\n",
       "      <th>Permit Type</th>\n",
       "      <th>prob_BP</th>\n",
       "      <th>prob_DS</th>\n",
       "      <th>prob_EP</th>\n",
       "      <th>prob_MP</th>\n",
       "      <th>prob_PP</th>\n",
       "    </tr>\n",
       "  </thead>\n",
       "  <tbody>\n",
       "    <tr>\n",
       "      <th>0</th>\n",
       "      <td>DS</td>\n",
       "      <td>7.815996e-28</td>\n",
       "      <td>9.997292e-01</td>\n",
       "      <td>0.000006</td>\n",
       "      <td>0.000000</td>\n",
       "      <td>2.647661e-04</td>\n",
       "    </tr>\n",
       "    <tr>\n",
       "      <th>1</th>\n",
       "      <td>EP</td>\n",
       "      <td>2.027700e-02</td>\n",
       "      <td>1.489631e-30</td>\n",
       "      <td>0.979723</td>\n",
       "      <td>0.000000</td>\n",
       "      <td>8.407791e-45</td>\n",
       "    </tr>\n",
       "    <tr>\n",
       "      <th>2</th>\n",
       "      <td>MP</td>\n",
       "      <td>1.416000e-07</td>\n",
       "      <td>3.000000e-10</td>\n",
       "      <td>0.000012</td>\n",
       "      <td>0.740304</td>\n",
       "      <td>2.596841e-01</td>\n",
       "    </tr>\n",
       "    <tr>\n",
       "      <th>3</th>\n",
       "      <td>EP</td>\n",
       "      <td>1.000000e-10</td>\n",
       "      <td>1.431748e-19</td>\n",
       "      <td>1.000000</td>\n",
       "      <td>0.000000</td>\n",
       "      <td>8.312080e-38</td>\n",
       "    </tr>\n",
       "    <tr>\n",
       "      <th>4</th>\n",
       "      <td>EP</td>\n",
       "      <td>3.458323e-04</td>\n",
       "      <td>4.708364e-17</td>\n",
       "      <td>0.468820</td>\n",
       "      <td>0.153040</td>\n",
       "      <td>3.777933e-01</td>\n",
       "    </tr>\n",
       "  </tbody>\n",
       "</table>\n",
       "</div>"
      ],
      "text/plain": [
       "  Permit Type       prob_BP       prob_DS   prob_EP   prob_MP       prob_PP\n",
       "0          DS  7.815996e-28  9.997292e-01  0.000006  0.000000  2.647661e-04\n",
       "1          EP  2.027700e-02  1.489631e-30  0.979723  0.000000  8.407791e-45\n",
       "2          MP  1.416000e-07  3.000000e-10  0.000012  0.740304  2.596841e-01\n",
       "3          EP  1.000000e-10  1.431748e-19  1.000000  0.000000  8.312080e-38\n",
       "4          EP  3.458323e-04  4.708364e-17  0.468820  0.153040  3.777933e-01"
      ]
     },
     "execution_count": 25,
     "metadata": {},
     "output_type": "execute_result"
    }
   ],
   "source": [
    "status, prediction = ds.download_artifact(artifact['artifact_name'])\n",
    "prediction.head()"
   ]
  },
  {
   "cell_type": "markdown",
   "metadata": {},
   "source": [
    "#### (optional) Write to disk download predictions"
   ]
  },
  {
   "cell_type": "code",
   "execution_count": null,
   "metadata": {
    "collapsed": true
   },
   "outputs": [],
   "source": [
    "prediction.to_csv(os.path.join(path, \"predictions.csv\"))"
   ]
  },
  {
   "cell_type": "markdown",
   "metadata": {},
   "source": [
    "Create visualizations for comparing predictions with actual target. "
   ]
  },
  {
   "cell_type": "code",
   "execution_count": 26,
   "metadata": {},
   "outputs": [
    {
     "name": "stdout",
     "output_type": "stream",
     "text": [
      "             precision    recall  f1-score   support\n",
      "\n",
      "         BP       1.00      1.00      1.00    209451\n",
      "         DS       1.00      1.00      1.00     50329\n",
      "         EP       0.87      0.87      0.87    273122\n",
      "         MP       0.90      0.85      0.88    208105\n",
      "         PP       0.80      0.84      0.82    208260\n",
      "\n",
      "avg / total       0.90      0.89      0.90    949267\n",
      "\n"
     ]
    },
    {
     "data": {
      "image/png": "[encoded data removed]",
      "text/plain": [
       "<matplotlib.figure.Figure at 0x201cb02ec88>"
      ]
     },
     "metadata": {},
     "output_type": "display_data"
    }
   ],
   "source": [
    "\n",
    "unq = prediction[target].unique()[::-1]\n",
    "p = np.zeros((len(prediction),))\n",
    "a = np.zeros((len(prediction),))\n",
    "for i,q in enumerate(unq):\n",
    "    p += i*(prediction[target] == q).values\n",
    "    a += i*(trainData[target] == q).values\n",
    "#Plot predictions vs actual\n",
    "plt.plot(a)\n",
    "plt.plot(p)\n",
    "plt.legend(['Actual','Predicted'])\n",
    "plt.yticks([i for i in range(len(unq))],[q for q in unq]);\n",
    "print(classification_report(trainData[target], prediction[target]))"
   ]
  },
  {
   "cell_type": "markdown",
   "metadata": {},
   "source": [
    "#### Sorted Predictions versus Sorted Actual"
   ]
  },
  {
   "cell_type": "code",
   "execution_count": 32,
   "metadata": {},
   "outputs": [
    {
     "data": {
      "image/png": "[encoded data removed]",
      "text/plain": [
       "<matplotlib.figure.Figure at 0x201cafd0860>"
      ]
     },
     "metadata": {},
     "output_type": "display_data"
    }
   ],
   "source": [
    "prediction[target].astype('category')\n",
    "prediction.sort_values(by = target, inplace=True)\n",
    "trainData[target].astype('category')\n",
    "trainData.sort_values(by = target, inplace = True)\n",
    "unq = prediction[target].unique()[::-1]\n",
    "p = np.zeros((len(prediction),))\n",
    "a = np.zeros((len(prediction),))\n",
    "for i,q in enumerate(unq):\n",
    "    p += i*(prediction[target] == q).values\n",
    "    a += i*(trainData[target] == q).values\n",
    "#Plot predictions vs actual\n",
    "plt.plot(a)\n",
    "plt.plot(p)\n",
    "plt.legend(['Actual','Predicted'])\n",
    "plt.yticks([i for i in range(len(unq))],[q for q in unq]);"
   ]
  },
  {
   "cell_type": "markdown",
   "metadata": {},
   "source": [
    "#### Perform model prediction on test dataset from holdout method.\n",
    "Upload test data."
   ]
  },
  {
   "cell_type": "code",
   "execution_count": 23,
   "metadata": {
    "collapsed": true
   },
   "outputs": [],
   "source": [
    "\n",
    "status, dataset = ds.upload_dataset(os.path.join(path, testName))\n",
    "if not status:\n",
    "    print(dataset)"
   ]
  },
  {
   "cell_type": "markdown",
   "metadata": {},
   "source": [
    "Clean test data. "
   ]
  },
  {
   "cell_type": "code",
   "execution_count": 24,
   "metadata": {},
   "outputs": [
    {
     "name": "stdout",
     "output_type": "stream",
     "text": [
      "Model:\n",
      " Permit Type_model14\n",
      "Target: \n",
      " Permit Type\n",
      "{'job_name': '7b4074b2ccf843d59c032507715547a9', 'artifact_name': '32e4d7a8c0e446e097c6e55beb2a3fec'}\n",
      "{'status': 'Taken', 'starttime': '2019-04-20T17:15:29.622159', 'endtime': None, 'percent_complete': 0, 'job_type': 'CleanDataTiny', 'loss': None, 'generations': None, 'dataset_names': ['train13-1.csv'], 'artifact_names': ['32e4d7a8c0e446e097c6e55beb2a3fec'], 'model_name': None, 'job_error': None}\n",
      "{'status': 'Running', 'starttime': '2019-04-20T17:15:29.622159', 'endtime': None, 'percent_complete': 0, 'job_type': 'CleanDataTiny', 'loss': None, 'generations': None, 'dataset_names': ['train13-1.csv'], 'artifact_names': ['32e4d7a8c0e446e097c6e55beb2a3fec'], 'model_name': None, 'job_error': ''}\n",
      "{'status': 'Failed', 'starttime': '2019-04-20T17:15:29.622159', 'endtime': '2019-04-20T17:15:58.97338', 'percent_complete': 100, 'job_type': 'CleanDataTiny', 'loss': None, 'generations': None, 'dataset_names': ['train13-1.csv'], 'artifact_names': ['32e4d7a8c0e446e097c6e55beb2a3fec'], 'model_name': None, 'job_error': 'DarwinInternalErroruncaught'}\n"
     ]
    }
   ],
   "source": [
    "status, job_id = ds.clean_data(testName, target = target, model_name = model)\n",
    "print(\"Model:\\n\",model)\n",
    "print(\"Target: \\n\",target)\n",
    "print(job_id)\n",
    "if status:\n",
    "    ds.wait_for_job(job_id['job_name'])\n",
    "else:\n",
    "    print(job_id)"
   ]
  },
  {
   "cell_type": "markdown",
   "metadata": {},
   "source": [
    "Run model on test dataset. "
   ]
  },
  {
   "cell_type": "code",
   "execution_count": null,
   "metadata": {},
   "outputs": [],
   "source": [
    "status, artifact = ds.run_model(testName, model)\n",
    "sleep(1)\n",
    "ds.wait_for_job(artifact['job_name'])"
   ]
  },
  {
   "cell_type": "markdown",
   "metadata": {},
   "source": [
    "Create visualizations for comparing predictions with actual target."
   ]
  },
  {
   "cell_type": "code",
   "execution_count": null,
   "metadata": {
    "collapsed": true
   },
   "outputs": [],
   "source": [
    "status, prediction = ds.download_artifact(artifact['artifact_name'])\n",
    "df = pd.read_csv(os.path.join(path,testName))\n",
    "unq = prediction[target].unique()[::-1]\n",
    "p = np.zeros((len(prediction),))\n",
    "a = np.zeros((len(prediction),))\n",
    "for i,q in enumerate(unq):\n",
    "    p += i*(prediction[target] == q).values\n",
    "    a += i*(df[target] == q).values\n",
    "#Plot predictions vs actual\n",
    "plt.plot(a)\n",
    "plt.plot(p)\n",
    "plt.legend(['Actual','Predicted'])\n",
    "plt.yticks([i for i in range(len(unq))],[q for q in unq]);\n",
    "print(classification_report(df[target], prediction[target]))"
   ]
  },
  {
   "cell_type": "markdown",
   "metadata": {},
   "source": [
    "### Darwin' Pick for machine learning model"
   ]
  },
  {
   "cell_type": "code",
   "execution_count": 18,
   "metadata": {},
   "outputs": [
    {
     "name": "stdout",
     "output_type": "stream",
     "text": [
      "{'type': 'RandomForestClassifier', 'parameters': {'bootstrap': False, 'criterion': 'entropy', 'max_depth': 8, 'max_features': 0.24301669004122237, 'max_leaf_nodes': None, 'min_impurity_decrease': 0.0, 'min_samples_leaf': 5, 'min_samples_split': 16, 'n_jobs': -1, 'min_weight_fraction_leaf': 0.0, 'n_estimators': 414}}\n"
     ]
    }
   ],
   "source": [
    "status, model_type = ds.lookup_model_name(model)\n",
    "print(model_type['description']['best_genome'])"
   ]
  },
  {
   "cell_type": "markdown",
   "metadata": {},
   "source": [
    "## Clean up"
   ]
  },
  {
   "cell_type": "code",
   "execution_count": null,
   "metadata": {},
   "outputs": [],
   "source": [
    "#ds.delete_all_datasets()\n",
    "#ds.delete_all_models()\n",
    "#ds.delete_all_artifacts()"
   ]
  },
  {
   "cell_type": "code",
   "execution_count": null,
   "metadata": {
    "collapsed": true
   },
   "outputs": [],
   "source": []
  }
 ],
 "metadata": {
  "kernelspec": {
   "display_name": "Python 3",
   "language": "python",
   "name": "python3"
  },
  "language_info": {
   "codemirror_mode": {
    "name": "ipython",
    "version": 3
   },
   "file_extension": ".py",
   "mimetype": "text/x-python",
   "name": "python",
   "nbconvert_exporter": "python",
   "pygments_lexer": "ipython3",
   "version": "3.6.1"
  }
 },
 "nbformat": 4,
 "nbformat_minor": 2
}
