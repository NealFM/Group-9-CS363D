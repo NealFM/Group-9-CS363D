{
 "cells": [
  {
   "cell_type": "markdown",
   "metadata": {},
   "source": [
    "## Contributors: \n",
    "Neal Friesenhahn"
   ]
  },
  {
   "cell_type": "markdown",
   "metadata": {},
   "source": [
    "### Importing Libraries:"
   ]
  },
  {
   "cell_type": "code",
   "execution_count": 1,
   "metadata": {
    "collapsed": true
   },
   "outputs": [],
   "source": [
    "# Import necessary libraries\n",
    "import warnings\n",
    "warnings.filterwarnings(\"ignore\", message=\"numpy.dtype size changed\")\n",
    "%matplotlib inline\n",
    "import matplotlib.pyplot as plt\n",
    "import pandas as pd\n",
    "from IPython.display import Image\n",
    "from time import sleep\n",
    "import os\n",
    "import math\n",
    "import numpy as np\n",
    "from sklearn.metrics import classification_report\n",
    "\n",
    "from amb_sdk.sdk import DarwinSdk"
   ]
  },
  {
   "cell_type": "markdown",
   "metadata": {},
   "source": [
    "### Configure Darwin:"
   ]
  },
  {
   "cell_type": "code",
   "execution_count": 2,
   "metadata": {
    "collapsed": true
   },
   "outputs": [],
   "source": [
    "# Login\n",
    "ds = DarwinSdk()\n",
    "file = open(\"login.txt\", \"r\")\n",
    "username = file.readline(0)\n",
    "password = file.readline(1)\n",
    "ds.set_url('https://amb-demo-api.sparkcognition.com/v1/')\n",
    "status, msg = ds.auth_login_user('username', 'password')\n",
    "if not status:\n",
    "    print(msg)\n",
    "    "
   ]
  },
  {
   "cell_type": "markdown",
   "metadata": {},
   "source": [
    "#### Data Path\n",
    "Make sure to set this to your local machine's path to the data."
   ]
  },
  {
   "cell_type": "code",
   "execution_count": 3,
   "metadata": {
    "collapsed": true
   },
   "outputs": [],
   "source": [
    "path = './'"
   ]
  },
  {
   "cell_type": "markdown",
   "metadata": {},
   "source": [
    "### Importing Data:\n",
    "Data used in this project:\n",
    "https://data.austintexas.gov/Building-and-Development/Issued-Construction-Permits/3syk-w9eu"
   ]
  },
  {
   "cell_type": "code",
   "execution_count": 4,
   "metadata": {},
   "outputs": [
    {
     "name": "stderr",
     "output_type": "stream",
     "text": [
      "C:\\Users\\Neal\\Anaconda3\\lib\\site-packages\\IPython\\core\\interactiveshell.py:2717: DtypeWarning: Columns (52,54,56,58,59,60,61,62,63,64,65,66) have mixed types. Specify dtype option on import or set low_memory=False.\n",
      "  interactivity=interactivity, compiler=compiler, result=result)\n"
     ]
    },
    {
     "name": "stdout",
     "output_type": "stream",
     "text": [
      "Removed mixed data columns from dataset:\n",
      "Contractor Company Name\n",
      "Contractor Phone\n",
      "Contractor Address 2\n",
      "Contractor Zip\n",
      "Applicant Full Name\n",
      "Applicant Organization\n",
      "Applicant Phone\n",
      "Applicant Address 1\n",
      "Applicant Address 2\n",
      "Applicant City\n",
      "Applicant Zip\n",
      "Certificate Of Occupancy\n"
     ]
    },
    {
     "data": {
      "text/html": [
       "<div>\n",
       "<style>\n",
       "    .dataframe thead tr:only-child th {\n",
       "        text-align: right;\n",
       "    }\n",
       "\n",
       "    .dataframe thead th {\n",
       "        text-align: left;\n",
       "    }\n",
       "\n",
       "    .dataframe tbody tr th {\n",
       "        vertical-align: top;\n",
       "    }\n",
       "</style>\n",
       "<table border=\"1\" class=\"dataframe\">\n",
       "  <thead>\n",
       "    <tr style=\"text-align: right;\">\n",
       "      <th></th>\n",
       "      <th>Permit Type</th>\n",
       "      <th>Permit Class Mapped</th>\n",
       "      <th>Work Class</th>\n",
       "      <th>Condominium</th>\n",
       "      <th>Project Name</th>\n",
       "      <th>TCAD ID</th>\n",
       "      <th>Day Issued</th>\n",
       "      <th>Calendar Year Issued</th>\n",
       "      <th>Fiscal Year Issued</th>\n",
       "      <th>Status Current</th>\n",
       "      <th>...</th>\n",
       "      <th>Jurisdiction</th>\n",
       "      <th>Link</th>\n",
       "      <th>Master Permit Num</th>\n",
       "      <th>Latitude</th>\n",
       "      <th>Longitude</th>\n",
       "      <th>Location</th>\n",
       "      <th>Contractor Full Name</th>\n",
       "      <th>Contractor Address 1</th>\n",
       "      <th>Contractor City</th>\n",
       "      <th>Total Lot SQFT</th>\n",
       "    </tr>\n",
       "  </thead>\n",
       "  <tbody>\n",
       "    <tr>\n",
       "      <th>1740669</th>\n",
       "      <td>BP</td>\n",
       "      <td>Residential</td>\n",
       "      <td>New</td>\n",
       "      <td>No</td>\n",
       "      <td>6104 Open Range Trail              A  00000</td>\n",
       "      <td>0412360330</td>\n",
       "      <td>MONDAY</td>\n",
       "      <td>1990</td>\n",
       "      <td>1990</td>\n",
       "      <td>Final</td>\n",
       "      <td>...</td>\n",
       "      <td>AUSTIN FULL PURPOSE</td>\n",
       "      <td>https://abc.austintexas.gov/web/permit/public-...</td>\n",
       "      <td>NaN</td>\n",
       "      <td>30.221643</td>\n",
       "      <td>-97.869257</td>\n",
       "      <td>(30.22164259, -97.86925741)</td>\n",
       "      <td>NaN</td>\n",
       "      <td>NaN</td>\n",
       "      <td>NaN</td>\n",
       "      <td>NaN</td>\n",
       "    </tr>\n",
       "    <tr>\n",
       "      <th>13454</th>\n",
       "      <td>MP</td>\n",
       "      <td>Residential</td>\n",
       "      <td>New</td>\n",
       "      <td>No</td>\n",
       "      <td>11024 TORNASOL LN</td>\n",
       "      <td>0420530614</td>\n",
       "      <td>WEDNESDAY</td>\n",
       "      <td>2009</td>\n",
       "      <td>2009</td>\n",
       "      <td>Final</td>\n",
       "      <td>...</td>\n",
       "      <td>AUSTIN FULL PURPOSE</td>\n",
       "      <td>https://abc.austintexas.gov/web/permit/public-...</td>\n",
       "      <td>10313504.0</td>\n",
       "      <td>30.199526</td>\n",
       "      <td>-97.915639</td>\n",
       "      <td>(30.1995264, -97.91563925)</td>\n",
       "      <td>Twin Burnham</td>\n",
       "      <td>414 THOMPSON LN</td>\n",
       "      <td>Austin</td>\n",
       "      <td>NaN</td>\n",
       "    </tr>\n",
       "    <tr>\n",
       "      <th>546727</th>\n",
       "      <td>BP</td>\n",
       "      <td>Residential</td>\n",
       "      <td>New</td>\n",
       "      <td>No</td>\n",
       "      <td>6704 BRANRUST DR</td>\n",
       "      <td>0328060104</td>\n",
       "      <td>FRIDAY</td>\n",
       "      <td>2018</td>\n",
       "      <td>2018</td>\n",
       "      <td>Final</td>\n",
       "      <td>...</td>\n",
       "      <td>AUSTIN FULL PURPOSE</td>\n",
       "      <td>https://abc.austintexas.gov/web/permit/public-...</td>\n",
       "      <td>11862478.0</td>\n",
       "      <td>30.173209</td>\n",
       "      <td>-97.730326</td>\n",
       "      <td>(30.17320851, -97.7303264)</td>\n",
       "      <td>NaN</td>\n",
       "      <td>NaN</td>\n",
       "      <td>AUSTIN</td>\n",
       "      <td>6470.0</td>\n",
       "    </tr>\n",
       "    <tr>\n",
       "      <th>1174552</th>\n",
       "      <td>PP</td>\n",
       "      <td>Residential</td>\n",
       "      <td>New</td>\n",
       "      <td>No</td>\n",
       "      <td>14621 Staked Plains Loop</td>\n",
       "      <td>NaN</td>\n",
       "      <td>MONDAY</td>\n",
       "      <td>2003</td>\n",
       "      <td>2003</td>\n",
       "      <td>Final</td>\n",
       "      <td>...</td>\n",
       "      <td>AUSTIN FULL PURPOSE</td>\n",
       "      <td>https://abc.austintexas.gov/web/permit/public-...</td>\n",
       "      <td>703178.0</td>\n",
       "      <td>30.497760</td>\n",
       "      <td>-97.790828</td>\n",
       "      <td>(30.49775989, -97.79082807)</td>\n",
       "      <td>NaN</td>\n",
       "      <td>ATTN:LINDA MAYNARD</td>\n",
       "      <td>Austin</td>\n",
       "      <td>NaN</td>\n",
       "    </tr>\n",
       "    <tr>\n",
       "      <th>1853033</th>\n",
       "      <td>BP</td>\n",
       "      <td>Commercial</td>\n",
       "      <td>Remodel</td>\n",
       "      <td>No</td>\n",
       "      <td>3100 S Congress Ave Bldg 2e</td>\n",
       "      <td>0407030306</td>\n",
       "      <td>THURSDAY</td>\n",
       "      <td>2004</td>\n",
       "      <td>2005</td>\n",
       "      <td>Final</td>\n",
       "      <td>...</td>\n",
       "      <td>AUSTIN FULL PURPOSE</td>\n",
       "      <td>https://abc.austintexas.gov/web/permit/public-...</td>\n",
       "      <td>245899.0</td>\n",
       "      <td>30.231804</td>\n",
       "      <td>-97.759325</td>\n",
       "      <td>(30.23180448, -97.75932452)</td>\n",
       "      <td>NaN</td>\n",
       "      <td>916 WEST 12TH STREET</td>\n",
       "      <td>Austin</td>\n",
       "      <td>NaN</td>\n",
       "    </tr>\n",
       "  </tbody>\n",
       "</table>\n",
       "<p>5 rows × 34 columns</p>\n",
       "</div>"
      ],
      "text/plain": [
       "        Permit Type Permit Class Mapped Work Class Condominium  \\\n",
       "1740669          BP         Residential        New          No   \n",
       "13454            MP         Residential        New          No   \n",
       "546727           BP         Residential        New          No   \n",
       "1174552          PP         Residential        New          No   \n",
       "1853033          BP          Commercial    Remodel          No   \n",
       "\n",
       "                                        Project Name     TCAD ID Day Issued  \\\n",
       "1740669  6104 Open Range Trail              A  00000  0412360330     MONDAY   \n",
       "13454                              11024 TORNASOL LN  0420530614  WEDNESDAY   \n",
       "546727                              6704 BRANRUST DR  0328060104     FRIDAY   \n",
       "1174552                     14621 Staked Plains Loop         NaN     MONDAY   \n",
       "1853033                  3100 S Congress Ave Bldg 2e  0407030306   THURSDAY   \n",
       "\n",
       "         Calendar Year Issued  Fiscal Year Issued Status Current  \\\n",
       "1740669                  1990                1990          Final   \n",
       "13454                    2009                2009          Final   \n",
       "546727                   2018                2018          Final   \n",
       "1174552                  2003                2003          Final   \n",
       "1853033                  2004                2005          Final   \n",
       "\n",
       "             ...               Jurisdiction  \\\n",
       "1740669      ...        AUSTIN FULL PURPOSE   \n",
       "13454        ...        AUSTIN FULL PURPOSE   \n",
       "546727       ...        AUSTIN FULL PURPOSE   \n",
       "1174552      ...        AUSTIN FULL PURPOSE   \n",
       "1853033      ...        AUSTIN FULL PURPOSE   \n",
       "\n",
       "                                                      Link  Master Permit Num  \\\n",
       "1740669  https://abc.austintexas.gov/web/permit/public-...                NaN   \n",
       "13454    https://abc.austintexas.gov/web/permit/public-...         10313504.0   \n",
       "546727   https://abc.austintexas.gov/web/permit/public-...         11862478.0   \n",
       "1174552  https://abc.austintexas.gov/web/permit/public-...           703178.0   \n",
       "1853033  https://abc.austintexas.gov/web/permit/public-...           245899.0   \n",
       "\n",
       "          Latitude  Longitude                     Location  \\\n",
       "1740669  30.221643 -97.869257  (30.22164259, -97.86925741)   \n",
       "13454    30.199526 -97.915639   (30.1995264, -97.91563925)   \n",
       "546727   30.173209 -97.730326   (30.17320851, -97.7303264)   \n",
       "1174552  30.497760 -97.790828  (30.49775989, -97.79082807)   \n",
       "1853033  30.231804 -97.759325  (30.23180448, -97.75932452)   \n",
       "\n",
       "         Contractor Full Name  Contractor Address 1  Contractor City  \\\n",
       "1740669                   NaN                   NaN              NaN   \n",
       "13454            Twin Burnham       414 THOMPSON LN           Austin   \n",
       "546727                    NaN                   NaN           AUSTIN   \n",
       "1174552                   NaN    ATTN:LINDA MAYNARD           Austin   \n",
       "1853033                   NaN  916 WEST 12TH STREET           Austin   \n",
       "\n",
       "        Total Lot SQFT  \n",
       "1740669            NaN  \n",
       "13454              NaN  \n",
       "546727          6470.0  \n",
       "1174552            NaN  \n",
       "1853033            NaN  \n",
       "\n",
       "[5 rows x 34 columns]"
      ]
     },
     "execution_count": 4,
     "metadata": {},
     "output_type": "execute_result"
    }
   ],
   "source": [
    "dataFile = \"./Issued_Construction_Permits.csv\"\n",
    "trainName= \"train.csv\"\n",
    "testName = 'test.csv'\n",
    "cleanName= \"cleaned.csv\"\n",
    "data = pd.read_csv(dataFile, skipinitialspace=True)\n",
    "\n",
    "#Columns with detected mixed types\n",
    "mixedData_col = [52,54,56,58,59,60,61,62,63,64,65,66]\n",
    "\n",
    "columnsNames = data.columns.values\n",
    "#excess labels included in feature drop\n",
    "#Darwin doesn't like mulitple date fields either so they must be dropped as well\n",
    "#Can't one-hot encode descriptions and Darwin can't process them either, thus they are dropped as well, including Addresses\n",
    "featureDrop = ['Permit Type Desc', 'Permit Num', 'Permit Class', 'Contractor Trade', 'Applied Date', \n",
    "               'Issued Date', 'Status Date', 'Expires Date', 'Completed Date', 'Plumbing Valuation', 'Plumbing Valuation Remodel',\n",
    "               'Electrical Valuation', 'Electrical Valuation Remodel', 'Mechanical Valuation', 'Mechanical Valuation Remodel',\n",
    "               'MedGas Valuation', 'MedGas Valuation Remodel', 'Project ID', 'Issuance Method', 'Issued In Last 30 Days',\n",
    "               'Property Legal Description', 'Description']\n",
    "#add mixed datatype col to feature drop until later date of processing \n",
    "print(\"Removed mixed data columns from dataset:\")\n",
    "for col in mixedData_col:\n",
    "    print(columnsNames[col])\n",
    "    featureDrop.append(columnsNames[col])\n",
    "\n",
    "#reduce dimensionality and remove excess labels\n",
    "fullData = data.drop(featureDrop, axis=1)\n",
    "\n",
    "#pick sample sizes (max is half the dataset due to Darwin restrictions on Big Data)\n",
    "trainSize = math.floor(len(fullData)/2)\n",
    "testSize = math.floor(len(fullData)/10)\n",
    "\n",
    "#sample train and test sets, note currently using .sample() performs without replacement on each instance, meaning\n",
    "#there might exist overlap between the two sets\n",
    "testSet = fullData.sample(n=testSize)\n",
    "trainData = fullData.sample(n=trainSize)\n",
    "\n",
    "#write out datasets to disk to upload later\n",
    "testSet.to_csv(os.path.join(path, testName))\n",
    "trainData.to_csv(os.path.join(path, trainName))\n",
    "\n",
    "#show data / completed write to disk\n",
    "trainData.head()"
   ]
  },
  {
   "cell_type": "markdown",
   "metadata": {},
   "source": [
    "In this dataset we will attempt to use the Permit Type as the class label for the data and because of that we need to remove some columns that also act as labels in that capacity that might skew the results. Columns that are similar to Permit type are:\n",
    "\n",
    "    Permit Type Description (too hard to process due to variablility of descriptions, but also typically contains label name)\n",
    "    Permit Num (since it contain the type in the code)\n",
    "    Permit Class (functions much like a label)\n",
    "    Contractor Trade (plummers typically take plumbing jobs, electricians take electrician jobs thus could act as a label)\n",
    "    Project ID (applies to series of permits stored in folder in database, unsurprisingly permits are put in similar folders)\n",
    "\n",
    "Tangental Job indicators: (subject to testing and feature engineering)\n",
    "\n",
    "    *Plumbing Valuation\n",
    "    *Plumbing Valuation Remodel\n",
    "    *Electrical Valuation\n",
    "    *Electrical Valuation Remodel\n",
    "    *Mechanical Valuation\n",
    "    *Mechanical Valuation Remodel \n",
    "    *MedGas Valuation\n",
    "    *MedGas Valuation Remodel\n",
    "\n",
    "Interesting sidenote our data qualifies as big data under Darwin's algorithms (>500MB in size) as such not only can we sample\n",
    "at most half our dataset but also the need to remove addional columns before uploading including those above.\n"
   ]
  },
  {
   "cell_type": "markdown",
   "metadata": {},
   "source": [
    "### Upload to Darwin"
   ]
  },
  {
   "cell_type": "code",
   "execution_count": 5,
   "metadata": {
    "collapsed": true
   },
   "outputs": [],
   "source": [
    "status, dataset = ds.upload_dataset(os.path.join(path, trainName))\n",
    "if not status:\n",
    "    print(dataset)"
   ]
  },
  {
   "cell_type": "markdown",
   "metadata": {},
   "source": [
    "#### Clean dataset"
   ]
  },
  {
   "cell_type": "code",
   "execution_count": 6,
   "metadata": {},
   "outputs": [
    {
     "name": "stdout",
     "output_type": "stream",
     "text": [
      "{'job_name': 'e84fad6f79b14b5ca3ec17043227d3b0', 'artifact_name': '5015958028fd44f99b769d9aae8b92c9'}\n",
      "{'status': 'Requested', 'starttime': '2019-04-22T15:51:56.750608', 'endtime': None, 'percent_complete': 0, 'job_type': 'CleanDataTiny', 'loss': None, 'generations': None, 'dataset_names': ['train3.csv'], 'artifact_names': ['5015958028fd44f99b769d9aae8b92c9'], 'model_name': None, 'job_error': None}\n",
      "{'status': 'Requested', 'starttime': '2019-04-22T15:51:56.750608', 'endtime': None, 'percent_complete': 0, 'job_type': 'CleanDataTiny', 'loss': None, 'generations': None, 'dataset_names': ['train3.csv'], 'artifact_names': ['5015958028fd44f99b769d9aae8b92c9'], 'model_name': None, 'job_error': None}\n",
      "{'status': 'Requested', 'starttime': '2019-04-22T15:51:56.750608', 'endtime': None, 'percent_complete': 0, 'job_type': 'CleanDataTiny', 'loss': None, 'generations': None, 'dataset_names': ['train3.csv'], 'artifact_names': ['5015958028fd44f99b769d9aae8b92c9'], 'model_name': None, 'job_error': None}\n",
      "{'status': 'Requested', 'starttime': '2019-04-22T15:51:56.750608', 'endtime': None, 'percent_complete': 0, 'job_type': 'CleanDataTiny', 'loss': None, 'generations': None, 'dataset_names': ['train3.csv'], 'artifact_names': ['5015958028fd44f99b769d9aae8b92c9'], 'model_name': None, 'job_error': None}\n",
      "{'status': 'Requested', 'starttime': '2019-04-22T15:51:56.750608', 'endtime': None, 'percent_complete': 0, 'job_type': 'CleanDataTiny', 'loss': None, 'generations': None, 'dataset_names': ['train3.csv'], 'artifact_names': ['5015958028fd44f99b769d9aae8b92c9'], 'model_name': None, 'job_error': None}\n",
      "{'status': 'Requested', 'starttime': '2019-04-22T15:51:56.750608', 'endtime': None, 'percent_complete': 0, 'job_type': 'CleanDataTiny', 'loss': None, 'generations': None, 'dataset_names': ['train3.csv'], 'artifact_names': ['5015958028fd44f99b769d9aae8b92c9'], 'model_name': None, 'job_error': None}\n",
      "{'status': 'Requested', 'starttime': '2019-04-22T15:51:56.750608', 'endtime': None, 'percent_complete': 0, 'job_type': 'CleanDataTiny', 'loss': None, 'generations': None, 'dataset_names': ['train3.csv'], 'artifact_names': ['5015958028fd44f99b769d9aae8b92c9'], 'model_name': None, 'job_error': None}\n",
      "{'status': 'Requested', 'starttime': '2019-04-22T15:51:56.750608', 'endtime': None, 'percent_complete': 0, 'job_type': 'CleanDataTiny', 'loss': None, 'generations': None, 'dataset_names': ['train3.csv'], 'artifact_names': ['5015958028fd44f99b769d9aae8b92c9'], 'model_name': None, 'job_error': None}\n",
      "{'status': 'Requested', 'starttime': '2019-04-22T15:51:56.750608', 'endtime': None, 'percent_complete': 0, 'job_type': 'CleanDataTiny', 'loss': None, 'generations': None, 'dataset_names': ['train3.csv'], 'artifact_names': ['5015958028fd44f99b769d9aae8b92c9'], 'model_name': None, 'job_error': None}\n",
      "{'status': 'Requested', 'starttime': '2019-04-22T15:51:56.750608', 'endtime': None, 'percent_complete': 0, 'job_type': 'CleanDataTiny', 'loss': None, 'generations': None, 'dataset_names': ['train3.csv'], 'artifact_names': ['5015958028fd44f99b769d9aae8b92c9'], 'model_name': None, 'job_error': None}\n",
      "{'status': 'Requested', 'starttime': '2019-04-22T15:51:56.750608', 'endtime': None, 'percent_complete': 0, 'job_type': 'CleanDataTiny', 'loss': None, 'generations': None, 'dataset_names': ['train3.csv'], 'artifact_names': ['5015958028fd44f99b769d9aae8b92c9'], 'model_name': None, 'job_error': None}\n",
      "{'status': 'Requested', 'starttime': '2019-04-22T15:51:56.750608', 'endtime': None, 'percent_complete': 0, 'job_type': 'CleanDataTiny', 'loss': None, 'generations': None, 'dataset_names': ['train3.csv'], 'artifact_names': ['5015958028fd44f99b769d9aae8b92c9'], 'model_name': None, 'job_error': None}\n",
      "{'status': 'Requested', 'starttime': '2019-04-22T15:51:56.750608', 'endtime': None, 'percent_complete': 0, 'job_type': 'CleanDataTiny', 'loss': None, 'generations': None, 'dataset_names': ['train3.csv'], 'artifact_names': ['5015958028fd44f99b769d9aae8b92c9'], 'model_name': None, 'job_error': None}\n",
      "{'status': 'Requested', 'starttime': '2019-04-22T15:51:56.750608', 'endtime': None, 'percent_complete': 0, 'job_type': 'CleanDataTiny', 'loss': None, 'generations': None, 'dataset_names': ['train3.csv'], 'artifact_names': ['5015958028fd44f99b769d9aae8b92c9'], 'model_name': None, 'job_error': None}\n",
      "{'status': 'Running', 'starttime': '2019-04-22T15:51:56.750608', 'endtime': None, 'percent_complete': 0, 'job_type': 'CleanDataTiny', 'loss': None, 'generations': None, 'dataset_names': ['train3.csv'], 'artifact_names': ['5015958028fd44f99b769d9aae8b92c9'], 'model_name': None, 'job_error': ''}\n",
      "{'status': 'Running', 'starttime': '2019-04-22T15:51:56.750608', 'endtime': None, 'percent_complete': 0, 'job_type': 'CleanDataTiny', 'loss': None, 'generations': None, 'dataset_names': ['train3.csv'], 'artifact_names': ['5015958028fd44f99b769d9aae8b92c9'], 'model_name': None, 'job_error': ''}\n",
      "{'status': 'Running', 'starttime': '2019-04-22T15:51:56.750608', 'endtime': None, 'percent_complete': 0, 'job_type': 'CleanDataTiny', 'loss': None, 'generations': None, 'dataset_names': ['train3.csv'], 'artifact_names': ['5015958028fd44f99b769d9aae8b92c9'], 'model_name': None, 'job_error': ''}\n",
      "{'status': 'Running', 'starttime': '2019-04-22T15:51:56.750608', 'endtime': None, 'percent_complete': 0, 'job_type': 'CleanDataTiny', 'loss': None, 'generations': None, 'dataset_names': ['train3.csv'], 'artifact_names': ['5015958028fd44f99b769d9aae8b92c9'], 'model_name': None, 'job_error': ''}\n",
      "{'status': 'Running', 'starttime': '2019-04-22T15:51:56.750608', 'endtime': None, 'percent_complete': 0, 'job_type': 'CleanDataTiny', 'loss': None, 'generations': None, 'dataset_names': ['train3.csv'], 'artifact_names': ['5015958028fd44f99b769d9aae8b92c9'], 'model_name': None, 'job_error': ''}\n",
      "{'status': 'Running', 'starttime': '2019-04-22T15:51:56.750608', 'endtime': None, 'percent_complete': 0, 'job_type': 'CleanDataTiny', 'loss': None, 'generations': None, 'dataset_names': ['train3.csv'], 'artifact_names': ['5015958028fd44f99b769d9aae8b92c9'], 'model_name': None, 'job_error': ''}\n",
      "{'status': 'Running', 'starttime': '2019-04-22T15:51:56.750608', 'endtime': None, 'percent_complete': 0, 'job_type': 'CleanDataTiny', 'loss': None, 'generations': None, 'dataset_names': ['train3.csv'], 'artifact_names': ['5015958028fd44f99b769d9aae8b92c9'], 'model_name': None, 'job_error': ''}\n",
      "{'status': 'Running', 'starttime': '2019-04-22T15:51:56.750608', 'endtime': None, 'percent_complete': 0, 'job_type': 'CleanDataTiny', 'loss': None, 'generations': None, 'dataset_names': ['train3.csv'], 'artifact_names': ['5015958028fd44f99b769d9aae8b92c9'], 'model_name': None, 'job_error': ''}\n",
      "{'status': 'Running', 'starttime': '2019-04-22T15:51:56.750608', 'endtime': None, 'percent_complete': 0, 'job_type': 'CleanDataTiny', 'loss': None, 'generations': None, 'dataset_names': ['train3.csv'], 'artifact_names': ['5015958028fd44f99b769d9aae8b92c9'], 'model_name': None, 'job_error': ''}\n",
      "{'status': 'Running', 'starttime': '2019-04-22T15:51:56.750608', 'endtime': None, 'percent_complete': 0, 'job_type': 'CleanDataTiny', 'loss': None, 'generations': None, 'dataset_names': ['train3.csv'], 'artifact_names': ['5015958028fd44f99b769d9aae8b92c9'], 'model_name': None, 'job_error': ''}\n",
      "{'status': 'Running', 'starttime': '2019-04-22T15:51:56.750608', 'endtime': None, 'percent_complete': 0, 'job_type': 'CleanDataTiny', 'loss': None, 'generations': None, 'dataset_names': ['train3.csv'], 'artifact_names': ['5015958028fd44f99b769d9aae8b92c9'], 'model_name': None, 'job_error': ''}\n",
      "{'status': 'Running', 'starttime': '2019-04-22T15:51:56.750608', 'endtime': None, 'percent_complete': 0, 'job_type': 'CleanDataTiny', 'loss': None, 'generations': None, 'dataset_names': ['train3.csv'], 'artifact_names': ['5015958028fd44f99b769d9aae8b92c9'], 'model_name': None, 'job_error': ''}\n",
      "{'status': 'Running', 'starttime': '2019-04-22T15:51:56.750608', 'endtime': None, 'percent_complete': 0, 'job_type': 'CleanDataTiny', 'loss': None, 'generations': None, 'dataset_names': ['train3.csv'], 'artifact_names': ['5015958028fd44f99b769d9aae8b92c9'], 'model_name': None, 'job_error': ''}\n",
      "{'status': 'Running', 'starttime': '2019-04-22T15:51:56.750608', 'endtime': None, 'percent_complete': 0, 'job_type': 'CleanDataTiny', 'loss': None, 'generations': None, 'dataset_names': ['train3.csv'], 'artifact_names': ['5015958028fd44f99b769d9aae8b92c9'], 'model_name': None, 'job_error': ''}\n"
     ]
    },
    {
     "name": "stdout",
     "output_type": "stream",
     "text": [
      "{'status': 'Running', 'starttime': '2019-04-22T15:51:56.750608', 'endtime': None, 'percent_complete': 0, 'job_type': 'CleanDataTiny', 'loss': None, 'generations': None, 'dataset_names': ['train3.csv'], 'artifact_names': ['5015958028fd44f99b769d9aae8b92c9'], 'model_name': None, 'job_error': ''}\n",
      "{'status': 'Running', 'starttime': '2019-04-22T15:51:56.750608', 'endtime': None, 'percent_complete': 0, 'job_type': 'CleanDataTiny', 'loss': None, 'generations': None, 'dataset_names': ['train3.csv'], 'artifact_names': ['5015958028fd44f99b769d9aae8b92c9'], 'model_name': None, 'job_error': ''}\n",
      "{'status': 'Running', 'starttime': '2019-04-22T15:51:56.750608', 'endtime': None, 'percent_complete': 0, 'job_type': 'CleanDataTiny', 'loss': None, 'generations': None, 'dataset_names': ['train3.csv'], 'artifact_names': ['5015958028fd44f99b769d9aae8b92c9'], 'model_name': None, 'job_error': ''}\n",
      "{'status': 'Running', 'starttime': '2019-04-22T15:51:56.750608', 'endtime': None, 'percent_complete': 0, 'job_type': 'CleanDataTiny', 'loss': None, 'generations': None, 'dataset_names': ['train3.csv'], 'artifact_names': ['5015958028fd44f99b769d9aae8b92c9'], 'model_name': None, 'job_error': ''}\n",
      "{'status': 'Running', 'starttime': '2019-04-22T15:51:56.750608', 'endtime': None, 'percent_complete': 0, 'job_type': 'CleanDataTiny', 'loss': None, 'generations': None, 'dataset_names': ['train3.csv'], 'artifact_names': ['5015958028fd44f99b769d9aae8b92c9'], 'model_name': None, 'job_error': ''}\n",
      "{'status': 'Running', 'starttime': '2019-04-22T15:51:56.750608', 'endtime': None, 'percent_complete': 0, 'job_type': 'CleanDataTiny', 'loss': None, 'generations': None, 'dataset_names': ['train3.csv'], 'artifact_names': ['5015958028fd44f99b769d9aae8b92c9'], 'model_name': None, 'job_error': ''}\n",
      "{'status': 'Running', 'starttime': '2019-04-22T15:51:56.750608', 'endtime': None, 'percent_complete': 0, 'job_type': 'CleanDataTiny', 'loss': None, 'generations': None, 'dataset_names': ['train3.csv'], 'artifact_names': ['5015958028fd44f99b769d9aae8b92c9'], 'model_name': None, 'job_error': ''}\n",
      "{'status': 'Running', 'starttime': '2019-04-22T15:51:56.750608', 'endtime': None, 'percent_complete': 0, 'job_type': 'CleanDataTiny', 'loss': None, 'generations': None, 'dataset_names': ['train3.csv'], 'artifact_names': ['5015958028fd44f99b769d9aae8b92c9'], 'model_name': None, 'job_error': ''}\n",
      "{'status': 'Running', 'starttime': '2019-04-22T15:51:56.750608', 'endtime': None, 'percent_complete': 0, 'job_type': 'CleanDataTiny', 'loss': None, 'generations': None, 'dataset_names': ['train3.csv'], 'artifact_names': ['5015958028fd44f99b769d9aae8b92c9'], 'model_name': None, 'job_error': ''}\n",
      "{'status': 'Running', 'starttime': '2019-04-22T15:51:56.750608', 'endtime': None, 'percent_complete': 0, 'job_type': 'CleanDataTiny', 'loss': None, 'generations': None, 'dataset_names': ['train3.csv'], 'artifact_names': ['5015958028fd44f99b769d9aae8b92c9'], 'model_name': None, 'job_error': ''}\n",
      "{'status': 'Running', 'starttime': '2019-04-22T15:51:56.750608', 'endtime': None, 'percent_complete': 0, 'job_type': 'CleanDataTiny', 'loss': None, 'generations': None, 'dataset_names': ['train3.csv'], 'artifact_names': ['5015958028fd44f99b769d9aae8b92c9'], 'model_name': None, 'job_error': ''}\n",
      "{'status': 'Running', 'starttime': '2019-04-22T15:51:56.750608', 'endtime': None, 'percent_complete': 0, 'job_type': 'CleanDataTiny', 'loss': None, 'generations': None, 'dataset_names': ['train3.csv'], 'artifact_names': ['5015958028fd44f99b769d9aae8b92c9'], 'model_name': None, 'job_error': ''}\n",
      "{'status': 'Running', 'starttime': '2019-04-22T15:51:56.750608', 'endtime': None, 'percent_complete': 0, 'job_type': 'CleanDataTiny', 'loss': None, 'generations': None, 'dataset_names': ['train3.csv'], 'artifact_names': ['5015958028fd44f99b769d9aae8b92c9'], 'model_name': None, 'job_error': ''}\n"
     ]
    }
   ],
   "source": [
    "target = \"Permit Type\"\n",
    "index = \"Applied Date\"\n",
    "model = target + \"_model\"\n",
    "status, job_id = ds.clean_data(trainName, target = target)\n",
    "print(job_id)\n",
    "if status:\n",
    "    ds.wait_for_job(job_id['job_name'])\n",
    "else:\n",
    "    print(job_id)"
   ]
  },
  {
   "cell_type": "markdown",
   "metadata": {},
   "source": [
    "#### Download Cleaned Data"
   ]
  },
  {
   "cell_type": "code",
   "execution_count": 9,
   "metadata": {},
   "outputs": [
    {
     "name": "stdout",
     "output_type": "stream",
     "text": [
      "{'status': 'Requested', 'starttime': '2019-04-22T16:04:06.632983', 'endtime': None, 'percent_complete': 0, 'job_type': 'TrainModel', 'loss': None, 'generations': 0, 'dataset_names': ['train3.csv'], 'artifact_names': None, 'model_name': 'Permit Type_model3', 'job_error': None}\n",
      "{'status': 'Requested', 'starttime': '2019-04-22T16:04:06.632983', 'endtime': None, 'percent_complete': 0, 'job_type': 'TrainModel', 'loss': None, 'generations': 0, 'dataset_names': ['train3.csv'], 'artifact_names': None, 'model_name': 'Permit Type_model3', 'job_error': None}\n",
      "{'status': 'Requested', 'starttime': '2019-04-22T16:04:06.632983', 'endtime': None, 'percent_complete': 0, 'job_type': 'TrainModel', 'loss': None, 'generations': 0, 'dataset_names': ['train3.csv'], 'artifact_names': None, 'model_name': 'Permit Type_model3', 'job_error': None}\n",
      "{'status': 'Requested', 'starttime': '2019-04-22T16:04:06.632983', 'endtime': None, 'percent_complete': 0, 'job_type': 'TrainModel', 'loss': None, 'generations': 0, 'dataset_names': ['train3.csv'], 'artifact_names': None, 'model_name': 'Permit Type_model3', 'job_error': None}\n",
      "{'status': 'Requested', 'starttime': '2019-04-22T16:04:06.632983', 'endtime': None, 'percent_complete': 0, 'job_type': 'TrainModel', 'loss': None, 'generations': 0, 'dataset_names': ['train3.csv'], 'artifact_names': None, 'model_name': 'Permit Type_model3', 'job_error': None}\n",
      "{'status': 'Requested', 'starttime': '2019-04-22T16:04:06.632983', 'endtime': None, 'percent_complete': 0, 'job_type': 'TrainModel', 'loss': None, 'generations': 0, 'dataset_names': ['train3.csv'], 'artifact_names': None, 'model_name': 'Permit Type_model3', 'job_error': None}\n",
      "{'status': 'Requested', 'starttime': '2019-04-22T16:04:06.632983', 'endtime': None, 'percent_complete': 0, 'job_type': 'TrainModel', 'loss': None, 'generations': 0, 'dataset_names': ['train3.csv'], 'artifact_names': None, 'model_name': 'Permit Type_model3', 'job_error': None}\n",
      "{'status': 'Requested', 'starttime': '2019-04-22T16:04:06.632983', 'endtime': None, 'percent_complete': 0, 'job_type': 'TrainModel', 'loss': None, 'generations': 0, 'dataset_names': ['train3.csv'], 'artifact_names': None, 'model_name': 'Permit Type_model3', 'job_error': None}\n",
      "{'status': 'Requested', 'starttime': '2019-04-22T16:04:06.632983', 'endtime': None, 'percent_complete': 0, 'job_type': 'TrainModel', 'loss': None, 'generations': 0, 'dataset_names': ['train3.csv'], 'artifact_names': None, 'model_name': 'Permit Type_model3', 'job_error': None}\n",
      "{'status': 'Requested', 'starttime': '2019-04-22T16:04:06.632983', 'endtime': None, 'percent_complete': 0, 'job_type': 'TrainModel', 'loss': None, 'generations': 0, 'dataset_names': ['train3.csv'], 'artifact_names': None, 'model_name': 'Permit Type_model3', 'job_error': None}\n",
      "{'status': 'Requested', 'starttime': '2019-04-22T16:04:06.632983', 'endtime': None, 'percent_complete': 0, 'job_type': 'TrainModel', 'loss': None, 'generations': 0, 'dataset_names': ['train3.csv'], 'artifact_names': None, 'model_name': 'Permit Type_model3', 'job_error': None}\n",
      "{'status': 'Requested', 'starttime': '2019-04-22T16:04:06.632983', 'endtime': None, 'percent_complete': 0, 'job_type': 'TrainModel', 'loss': None, 'generations': 0, 'dataset_names': ['train3.csv'], 'artifact_names': None, 'model_name': 'Permit Type_model3', 'job_error': None}\n",
      "{'status': 'Requested', 'starttime': '2019-04-22T16:04:06.632983', 'endtime': None, 'percent_complete': 0, 'job_type': 'TrainModel', 'loss': None, 'generations': 0, 'dataset_names': ['train3.csv'], 'artifact_names': None, 'model_name': 'Permit Type_model3', 'job_error': None}\n",
      "{'status': 'Requested', 'starttime': '2019-04-22T16:04:06.632983', 'endtime': None, 'percent_complete': 0, 'job_type': 'TrainModel', 'loss': None, 'generations': 0, 'dataset_names': ['train3.csv'], 'artifact_names': None, 'model_name': 'Permit Type_model3', 'job_error': None}\n",
      "{'status': 'Requested', 'starttime': '2019-04-22T16:04:06.632983', 'endtime': None, 'percent_complete': 0, 'job_type': 'TrainModel', 'loss': None, 'generations': 0, 'dataset_names': ['train3.csv'], 'artifact_names': None, 'model_name': 'Permit Type_model3', 'job_error': None}\n",
      "{'status': 'Requested', 'starttime': '2019-04-22T16:04:06.632983', 'endtime': None, 'percent_complete': 0, 'job_type': 'TrainModel', 'loss': None, 'generations': 0, 'dataset_names': ['train3.csv'], 'artifact_names': None, 'model_name': 'Permit Type_model3', 'job_error': None}\n",
      "{'status': 'Requested', 'starttime': '2019-04-22T16:04:06.632983', 'endtime': None, 'percent_complete': 0, 'job_type': 'TrainModel', 'loss': None, 'generations': 0, 'dataset_names': ['train3.csv'], 'artifact_names': None, 'model_name': 'Permit Type_model3', 'job_error': None}\n",
      "{'status': 'Requested', 'starttime': '2019-04-22T16:04:06.632983', 'endtime': None, 'percent_complete': 0, 'job_type': 'TrainModel', 'loss': None, 'generations': 0, 'dataset_names': ['train3.csv'], 'artifact_names': None, 'model_name': 'Permit Type_model3', 'job_error': None}\n",
      "{'status': 'Requested', 'starttime': '2019-04-22T16:04:06.632983', 'endtime': None, 'percent_complete': 0, 'job_type': 'TrainModel', 'loss': None, 'generations': 0, 'dataset_names': ['train3.csv'], 'artifact_names': None, 'model_name': 'Permit Type_model3', 'job_error': None}\n",
      "{'status': 'Running', 'starttime': '2019-04-22T16:04:06.632983', 'endtime': None, 'percent_complete': 0, 'job_type': 'TrainModel', 'loss': None, 'generations': 0, 'dataset_names': ['train3.csv'], 'artifact_names': None, 'model_name': 'Permit Type_model3', 'job_error': ''}\n",
      "{'status': 'Running', 'starttime': '2019-04-22T16:04:06.632983', 'endtime': None, 'percent_complete': 0, 'job_type': 'TrainModel', 'loss': None, 'generations': 0, 'dataset_names': ['train3.csv'], 'artifact_names': None, 'model_name': 'Permit Type_model3', 'job_error': ''}\n",
      "{'status': 'Running', 'starttime': '2019-04-22T16:04:06.632983', 'endtime': None, 'percent_complete': 0, 'job_type': 'TrainModel', 'loss': None, 'generations': 0, 'dataset_names': ['train3.csv'], 'artifact_names': None, 'model_name': 'Permit Type_model3', 'job_error': ''}\n",
      "{'status': 'Running', 'starttime': '2019-04-22T16:04:06.632983', 'endtime': None, 'percent_complete': 0, 'job_type': 'TrainModel', 'loss': None, 'generations': 0, 'dataset_names': ['train3.csv'], 'artifact_names': None, 'model_name': 'Permit Type_model3', 'job_error': ''}\n",
      "{'status': 'Running', 'starttime': '2019-04-22T16:04:06.632983', 'endtime': None, 'percent_complete': 0, 'job_type': 'TrainModel', 'loss': None, 'generations': 0, 'dataset_names': ['train3.csv'], 'artifact_names': None, 'model_name': 'Permit Type_model3', 'job_error': ''}\n",
      "{'status': 'Running', 'starttime': '2019-04-22T16:04:06.632983', 'endtime': None, 'percent_complete': 0, 'job_type': 'TrainModel', 'loss': None, 'generations': 0, 'dataset_names': ['train3.csv'], 'artifact_names': None, 'model_name': 'Permit Type_model3', 'job_error': ''}\n",
      "{'status': 'Running', 'starttime': '2019-04-22T16:04:06.632983', 'endtime': None, 'percent_complete': 0, 'job_type': 'TrainModel', 'loss': None, 'generations': 0, 'dataset_names': ['train3.csv'], 'artifact_names': None, 'model_name': 'Permit Type_model3', 'job_error': ''}\n",
      "{'status': 'Running', 'starttime': '2019-04-22T16:04:06.632983', 'endtime': None, 'percent_complete': 0, 'job_type': 'TrainModel', 'loss': None, 'generations': 0, 'dataset_names': ['train3.csv'], 'artifact_names': None, 'model_name': 'Permit Type_model3', 'job_error': ''}\n",
      "{'status': 'Running', 'starttime': '2019-04-22T16:04:06.632983', 'endtime': None, 'percent_complete': 0, 'job_type': 'TrainModel', 'loss': None, 'generations': 0, 'dataset_names': ['train3.csv'], 'artifact_names': None, 'model_name': 'Permit Type_model3', 'job_error': ''}\n",
      "{'status': 'Running', 'starttime': '2019-04-22T16:04:06.632983', 'endtime': None, 'percent_complete': 0, 'job_type': 'TrainModel', 'loss': None, 'generations': 0, 'dataset_names': ['train3.csv'], 'artifact_names': None, 'model_name': 'Permit Type_model3', 'job_error': ''}\n",
      "{'status': 'Running', 'starttime': '2019-04-22T16:04:06.632983', 'endtime': None, 'percent_complete': 0, 'job_type': 'TrainModel', 'loss': None, 'generations': 0, 'dataset_names': ['train3.csv'], 'artifact_names': None, 'model_name': 'Permit Type_model3', 'job_error': ''}\n"
     ]
    },
    {
     "name": "stdout",
     "output_type": "stream",
     "text": [
      "{'status': 'Running', 'starttime': '2019-04-22T16:04:06.632983', 'endtime': None, 'percent_complete': 0, 'job_type': 'TrainModel', 'loss': None, 'generations': 0, 'dataset_names': ['train3.csv'], 'artifact_names': None, 'model_name': 'Permit Type_model3', 'job_error': ''}\n",
      "{'status': 'Running', 'starttime': '2019-04-22T16:04:06.632983', 'endtime': None, 'percent_complete': 0, 'job_type': 'TrainModel', 'loss': None, 'generations': 0, 'dataset_names': ['train3.csv'], 'artifact_names': None, 'model_name': 'Permit Type_model3', 'job_error': ''}\n",
      "{'status': 'Running', 'starttime': '2019-04-22T16:04:06.632983', 'endtime': None, 'percent_complete': 0, 'job_type': 'TrainModel', 'loss': None, 'generations': 0, 'dataset_names': ['train3.csv'], 'artifact_names': None, 'model_name': 'Permit Type_model3', 'job_error': ''}\n",
      "{'status': 'Running', 'starttime': '2019-04-22T16:04:06.632983', 'endtime': None, 'percent_complete': 0, 'job_type': 'TrainModel', 'loss': None, 'generations': 0, 'dataset_names': ['train3.csv'], 'artifact_names': None, 'model_name': 'Permit Type_model3', 'job_error': ''}\n",
      "{'status': 'Running', 'starttime': '2019-04-22T16:04:06.632983', 'endtime': None, 'percent_complete': 0, 'job_type': 'TrainModel', 'loss': None, 'generations': 0, 'dataset_names': ['train3.csv'], 'artifact_names': None, 'model_name': 'Permit Type_model3', 'job_error': ''}\n",
      "{'status': 'Running', 'starttime': '2019-04-22T16:04:06.632983', 'endtime': None, 'percent_complete': 0, 'job_type': 'TrainModel', 'loss': None, 'generations': 0, 'dataset_names': ['train3.csv'], 'artifact_names': None, 'model_name': 'Permit Type_model3', 'job_error': ''}\n",
      "{'status': 'Running', 'starttime': '2019-04-22T16:04:06.632983', 'endtime': None, 'percent_complete': 0, 'job_type': 'TrainModel', 'loss': None, 'generations': 0, 'dataset_names': ['train3.csv'], 'artifact_names': None, 'model_name': 'Permit Type_model3', 'job_error': ''}\n",
      "{'status': 'Running', 'starttime': '2019-04-22T16:04:06.632983', 'endtime': None, 'percent_complete': 0, 'job_type': 'TrainModel', 'loss': None, 'generations': 0, 'dataset_names': ['train3.csv'], 'artifact_names': None, 'model_name': 'Permit Type_model3', 'job_error': ''}\n",
      "{'status': 'Running', 'starttime': '2019-04-22T16:04:06.632983', 'endtime': None, 'percent_complete': 0, 'job_type': 'TrainModel', 'loss': None, 'generations': 0, 'dataset_names': ['train3.csv'], 'artifact_names': None, 'model_name': 'Permit Type_model3', 'job_error': ''}\n",
      "{'status': 'Running', 'starttime': '2019-04-22T16:04:06.632983', 'endtime': None, 'percent_complete': 0, 'job_type': 'TrainModel', 'loss': None, 'generations': 0, 'dataset_names': ['train3.csv'], 'artifact_names': None, 'model_name': 'Permit Type_model3', 'job_error': ''}\n",
      "{'status': 'Running', 'starttime': '2019-04-22T16:04:06.632983', 'endtime': None, 'percent_complete': 0, 'job_type': 'TrainModel', 'loss': None, 'generations': 0, 'dataset_names': ['train3.csv'], 'artifact_names': None, 'model_name': 'Permit Type_model3', 'job_error': ''}\n"
     ]
    },
    {
     "ename": "KeyError",
     "evalue": "'artifact_name'",
     "output_type": "error",
     "traceback": [
      "\u001b[1;31m---------------------------------------------------------------------------\u001b[0m",
      "\u001b[1;31mKeyError\u001b[0m                                  Traceback (most recent call last)",
      "\u001b[1;32m<ipython-input-9-961dd4222cf2>\u001b[0m in \u001b[0;36m<module>\u001b[1;34m()\u001b[0m\n\u001b[0;32m      4\u001b[0m     \u001b[0mprint\u001b[0m\u001b[1;33m(\u001b[0m\u001b[0mjob_id\u001b[0m\u001b[1;33m)\u001b[0m\u001b[1;33m\u001b[0m\u001b[0m\n\u001b[0;32m      5\u001b[0m \u001b[1;33m\u001b[0m\u001b[0m\n\u001b[1;32m----> 6\u001b[1;33m \u001b[0mstatus\u001b[0m\u001b[1;33m,\u001b[0m \u001b[0mclean\u001b[0m \u001b[1;33m=\u001b[0m \u001b[0mds\u001b[0m\u001b[1;33m.\u001b[0m\u001b[0mdownload_artifact\u001b[0m\u001b[1;33m(\u001b[0m\u001b[0mjob_id\u001b[0m\u001b[1;33m[\u001b[0m\u001b[1;34m'artifact_name'\u001b[0m\u001b[1;33m]\u001b[0m\u001b[1;33m)\u001b[0m\u001b[1;33m\u001b[0m\u001b[0m\n\u001b[0m\u001b[0;32m      7\u001b[0m \u001b[0mclean\u001b[0m\u001b[1;33m.\u001b[0m\u001b[0mto_csv\u001b[0m\u001b[1;33m(\u001b[0m\u001b[0mos\u001b[0m\u001b[1;33m.\u001b[0m\u001b[0mpath\u001b[0m\u001b[1;33m.\u001b[0m\u001b[0mjoin\u001b[0m\u001b[1;33m(\u001b[0m\u001b[0mpath\u001b[0m\u001b[1;33m,\u001b[0m \u001b[0mcleanName\u001b[0m\u001b[1;33m)\u001b[0m\u001b[1;33m)\u001b[0m\u001b[1;33m\u001b[0m\u001b[0m\n",
      "\u001b[1;31mKeyError\u001b[0m: 'artifact_name'"
     ]
    }
   ],
   "source": [
    "if status:\n",
    "    ds.wait_for_job(job_id['job_name'])\n",
    "else:\n",
    "    print(job_id)\n",
    "    \n",
    "status, clean = ds.download_artifact(job_id['artifact_name'])\n",
    "clean.to_csv(os.path.join(path, cleanName))"
   ]
  },
  {
   "cell_type": "markdown",
   "metadata": {},
   "source": [
    "### Create and Train Model"
   ]
  },
  {
   "cell_type": "code",
   "execution_count": 8,
   "metadata": {},
   "outputs": [
    {
     "name": "stdout",
     "output_type": "stream",
     "text": [
      "{'status': 'Requested', 'starttime': '2019-04-22T16:04:06.632983', 'endtime': None, 'percent_complete': 0, 'job_type': 'TrainModel', 'loss': None, 'generations': 0, 'dataset_names': ['train3.csv'], 'artifact_names': None, 'model_name': 'Permit Type_model3', 'job_error': None}\n",
      "{'status': 'Requested', 'starttime': '2019-04-22T16:04:06.632983', 'endtime': None, 'percent_complete': 0, 'job_type': 'TrainModel', 'loss': None, 'generations': 0, 'dataset_names': ['train3.csv'], 'artifact_names': None, 'model_name': 'Permit Type_model3', 'job_error': None}\n",
      "{'status': 'Requested', 'starttime': '2019-04-22T16:04:06.632983', 'endtime': None, 'percent_complete': 0, 'job_type': 'TrainModel', 'loss': None, 'generations': 0, 'dataset_names': ['train3.csv'], 'artifact_names': None, 'model_name': 'Permit Type_model3', 'job_error': None}\n",
      "{'status': 'Requested', 'starttime': '2019-04-22T16:04:06.632983', 'endtime': None, 'percent_complete': 0, 'job_type': 'TrainModel', 'loss': None, 'generations': 0, 'dataset_names': ['train3.csv'], 'artifact_names': None, 'model_name': 'Permit Type_model3', 'job_error': None}\n",
      "{'status': 'Requested', 'starttime': '2019-04-22T16:04:06.632983', 'endtime': None, 'percent_complete': 0, 'job_type': 'TrainModel', 'loss': None, 'generations': 0, 'dataset_names': ['train3.csv'], 'artifact_names': None, 'model_name': 'Permit Type_model3', 'job_error': None}\n",
      "{'status': 'Requested', 'starttime': '2019-04-22T16:04:06.632983', 'endtime': None, 'percent_complete': 0, 'job_type': 'TrainModel', 'loss': None, 'generations': 0, 'dataset_names': ['train3.csv'], 'artifact_names': None, 'model_name': 'Permit Type_model3', 'job_error': None}\n",
      "{'status': 'Requested', 'starttime': '2019-04-22T16:04:06.632983', 'endtime': None, 'percent_complete': 0, 'job_type': 'TrainModel', 'loss': None, 'generations': 0, 'dataset_names': ['train3.csv'], 'artifact_names': None, 'model_name': 'Permit Type_model3', 'job_error': None}\n",
      "{'status': 'Requested', 'starttime': '2019-04-22T16:04:06.632983', 'endtime': None, 'percent_complete': 0, 'job_type': 'TrainModel', 'loss': None, 'generations': 0, 'dataset_names': ['train3.csv'], 'artifact_names': None, 'model_name': 'Permit Type_model3', 'job_error': None}\n",
      "{'status': 'Requested', 'starttime': '2019-04-22T16:04:06.632983', 'endtime': None, 'percent_complete': 0, 'job_type': 'TrainModel', 'loss': None, 'generations': 0, 'dataset_names': ['train3.csv'], 'artifact_names': None, 'model_name': 'Permit Type_model3', 'job_error': None}\n",
      "{'status': 'Requested', 'starttime': '2019-04-22T16:04:06.632983', 'endtime': None, 'percent_complete': 0, 'job_type': 'TrainModel', 'loss': None, 'generations': 0, 'dataset_names': ['train3.csv'], 'artifact_names': None, 'model_name': 'Permit Type_model3', 'job_error': None}\n",
      "{'status': 'Requested', 'starttime': '2019-04-22T16:04:06.632983', 'endtime': None, 'percent_complete': 0, 'job_type': 'TrainModel', 'loss': None, 'generations': 0, 'dataset_names': ['train3.csv'], 'artifact_names': None, 'model_name': 'Permit Type_model3', 'job_error': None}\n",
      "{'status': 'Requested', 'starttime': '2019-04-22T16:04:06.632983', 'endtime': None, 'percent_complete': 0, 'job_type': 'TrainModel', 'loss': None, 'generations': 0, 'dataset_names': ['train3.csv'], 'artifact_names': None, 'model_name': 'Permit Type_model3', 'job_error': None}\n",
      "{'status': 'Requested', 'starttime': '2019-04-22T16:04:06.632983', 'endtime': None, 'percent_complete': 0, 'job_type': 'TrainModel', 'loss': None, 'generations': 0, 'dataset_names': ['train3.csv'], 'artifact_names': None, 'model_name': 'Permit Type_model3', 'job_error': None}\n",
      "{'status': 'Requested', 'starttime': '2019-04-22T16:04:06.632983', 'endtime': None, 'percent_complete': 0, 'job_type': 'TrainModel', 'loss': None, 'generations': 0, 'dataset_names': ['train3.csv'], 'artifact_names': None, 'model_name': 'Permit Type_model3', 'job_error': None}\n",
      "{'status': 'Requested', 'starttime': '2019-04-22T16:04:06.632983', 'endtime': None, 'percent_complete': 0, 'job_type': 'TrainModel', 'loss': None, 'generations': 0, 'dataset_names': ['train3.csv'], 'artifact_names': None, 'model_name': 'Permit Type_model3', 'job_error': None}\n",
      "{'status': 'Requested', 'starttime': '2019-04-22T16:04:06.632983', 'endtime': None, 'percent_complete': 0, 'job_type': 'TrainModel', 'loss': None, 'generations': 0, 'dataset_names': ['train3.csv'], 'artifact_names': None, 'model_name': 'Permit Type_model3', 'job_error': None}\n",
      "{'status': 'Requested', 'starttime': '2019-04-22T16:04:06.632983', 'endtime': None, 'percent_complete': 0, 'job_type': 'TrainModel', 'loss': None, 'generations': 0, 'dataset_names': ['train3.csv'], 'artifact_names': None, 'model_name': 'Permit Type_model3', 'job_error': None}\n"
     ]
    },
    {
     "ename": "KeyboardInterrupt",
     "evalue": "",
     "output_type": "error",
     "traceback": [
      "\u001b[1;31m---------------------------------------------------------------------------\u001b[0m",
      "\u001b[1;31mKeyboardInterrupt\u001b[0m                         Traceback (most recent call last)",
      "\u001b[1;32m<ipython-input-8-18599545a0fb>\u001b[0m in \u001b[0;36m<module>\u001b[1;34m()\u001b[0m\n\u001b[0;32m      1\u001b[0m \u001b[0mstatus\u001b[0m\u001b[1;33m,\u001b[0m \u001b[0mjob_id\u001b[0m \u001b[1;33m=\u001b[0m \u001b[0mds\u001b[0m\u001b[1;33m.\u001b[0m\u001b[0mcreate_model\u001b[0m\u001b[1;33m(\u001b[0m\u001b[0mdataset_names\u001b[0m \u001b[1;33m=\u001b[0m \u001b[0mtrainName\u001b[0m\u001b[1;33m,\u001b[0m                                  \u001b[0mmodel_name\u001b[0m \u001b[1;33m=\u001b[0m  \u001b[0mmodel\u001b[0m\u001b[1;33m,\u001b[0m                                  \u001b[0mmax_train_time\u001b[0m \u001b[1;33m=\u001b[0m \u001b[1;34m'00:15'\u001b[0m\u001b[1;33m)\u001b[0m\u001b[1;33m\u001b[0m\u001b[0m\n\u001b[0;32m      2\u001b[0m \u001b[1;32mif\u001b[0m \u001b[0mstatus\u001b[0m\u001b[1;33m:\u001b[0m\u001b[1;33m\u001b[0m\u001b[0m\n\u001b[1;32m----> 3\u001b[1;33m     \u001b[0mds\u001b[0m\u001b[1;33m.\u001b[0m\u001b[0mwait_for_job\u001b[0m\u001b[1;33m(\u001b[0m\u001b[0mjob_id\u001b[0m\u001b[1;33m[\u001b[0m\u001b[1;34m'job_name'\u001b[0m\u001b[1;33m]\u001b[0m\u001b[1;33m)\u001b[0m\u001b[1;33m\u001b[0m\u001b[0m\n\u001b[0m\u001b[0;32m      4\u001b[0m \u001b[1;32melse\u001b[0m\u001b[1;33m:\u001b[0m\u001b[1;33m\u001b[0m\u001b[0m\n\u001b[0;32m      5\u001b[0m     \u001b[0mprint\u001b[0m\u001b[1;33m(\u001b[0m\u001b[0mjob_id\u001b[0m\u001b[1;33m)\u001b[0m\u001b[1;33m\u001b[0m\u001b[0m\n",
      "\u001b[1;32mC:\\Users\\Neal\\Anaconda3\\lib\\site-packages\\amb_sdk-1.0-py3.6.egg\\amb_sdk\\sdk.py\u001b[0m in \u001b[0;36mwait_for_job\u001b[1;34m(self, job_name, time_limit)\u001b[0m\n\u001b[0;32m    712\u001b[0m                 \u001b[1;32mif\u001b[0m \u001b[1;33m(\u001b[0m\u001b[0mtime\u001b[0m\u001b[1;33m.\u001b[0m\u001b[0mtime\u001b[0m\u001b[1;33m(\u001b[0m\u001b[1;33m)\u001b[0m \u001b[1;33m-\u001b[0m \u001b[0mstart_time\u001b[0m \u001b[1;33m>\u001b[0m \u001b[0mtime_limit\u001b[0m\u001b[1;33m)\u001b[0m\u001b[1;33m:\u001b[0m\u001b[1;33m\u001b[0m\u001b[0m\n\u001b[0;32m    713\u001b[0m                     \u001b[1;32mbreak\u001b[0m\u001b[1;33m\u001b[0m\u001b[0m\n\u001b[1;32m--> 714\u001b[1;33m                 \u001b[0mtime\u001b[0m\u001b[1;33m.\u001b[0m\u001b[0msleep\u001b[0m\u001b[1;33m(\u001b[0m\u001b[1;36m15.0\u001b[0m\u001b[1;33m)\u001b[0m\u001b[1;33m\u001b[0m\u001b[0m\n\u001b[0m\u001b[0;32m    715\u001b[0m                 \u001b[1;33m(\u001b[0m\u001b[0mcode\u001b[0m\u001b[1;33m,\u001b[0m \u001b[0mresponse\u001b[0m\u001b[1;33m)\u001b[0m \u001b[1;33m=\u001b[0m \u001b[0mself\u001b[0m\u001b[1;33m.\u001b[0m\u001b[0mlookup_job_status_name\u001b[0m\u001b[1;33m(\u001b[0m\u001b[0mstr\u001b[0m\u001b[1;33m(\u001b[0m\u001b[0mjob_name\u001b[0m\u001b[1;33m)\u001b[0m\u001b[1;33m)\u001b[0m\u001b[1;33m\u001b[0m\u001b[0m\n\u001b[0;32m    716\u001b[0m                 \u001b[0mprint\u001b[0m\u001b[1;33m(\u001b[0m\u001b[0mresponse\u001b[0m\u001b[1;33m)\u001b[0m\u001b[1;33m\u001b[0m\u001b[0m\n",
      "\u001b[1;31mKeyboardInterrupt\u001b[0m: "
     ]
    }
   ],
   "source": [
    "status, job_id = ds.create_model(dataset_names = trainName, \\\n",
    "                                 model_name =  model, \\\n",
    "                                 max_train_time = '00:15')\n",
    "if status:\n",
    "    ds.wait_for_job(job_id['job_name'])\n",
    "else:\n",
    "    print(job_id)"
   ]
  },
  {
   "cell_type": "markdown",
   "metadata": {},
   "source": [
    "#### Check status of job"
   ]
  },
  {
   "cell_type": "code",
   "execution_count": 12,
   "metadata": {},
   "outputs": [
    {
     "name": "stdout",
     "output_type": "stream",
     "text": [
      "{'status': 'Complete', 'starttime': '2019-04-22T16:04:06.632983', 'endtime': '2019-04-22T16:55:51.067499', 'percent_complete': 100, 'job_type': 'TrainModel', 'loss': 1.1808252334594727, 'generations': 0, 'dataset_names': ['train3.csv'], 'artifact_names': None, 'model_name': 'Permit Type_model3', 'job_error': ''}\n"
     ]
    }
   ],
   "source": [
    "if status:\n",
    "    ds.wait_for_job(job_id['job_name'])\n",
    "else:\n",
    "    print(job_id)"
   ]
  },
  {
   "cell_type": "markdown",
   "metadata": {},
   "source": [
    "### Analyze Model"
   ]
  },
  {
   "cell_type": "code",
   "execution_count": 13,
   "metadata": {},
   "outputs": [
    {
     "name": "stdout",
     "output_type": "stream",
     "text": [
      "{'status': 'Requested', 'starttime': '2019-04-22T17:06:19.820451', 'endtime': None, 'percent_complete': 0, 'job_type': 'AnalyzeModel', 'loss': 1.1808252334594727, 'generations': 0, 'dataset_names': None, 'artifact_names': ['41932f3e7fdd4fbdac6ec6cfe9ee0dae'], 'model_name': 'Permit Type_model3', 'job_error': None}\n",
      "{'status': 'Requested', 'starttime': '2019-04-22T17:06:19.820451', 'endtime': None, 'percent_complete': 0, 'job_type': 'AnalyzeModel', 'loss': 1.1808252334594727, 'generations': 0, 'dataset_names': None, 'artifact_names': ['41932f3e7fdd4fbdac6ec6cfe9ee0dae'], 'model_name': 'Permit Type_model3', 'job_error': None}\n",
      "{'status': 'Requested', 'starttime': '2019-04-22T17:06:19.820451', 'endtime': None, 'percent_complete': 0, 'job_type': 'AnalyzeModel', 'loss': 1.1808252334594727, 'generations': 0, 'dataset_names': None, 'artifact_names': ['41932f3e7fdd4fbdac6ec6cfe9ee0dae'], 'model_name': 'Permit Type_model3', 'job_error': None}\n",
      "{'status': 'Requested', 'starttime': '2019-04-22T17:06:19.820451', 'endtime': None, 'percent_complete': 0, 'job_type': 'AnalyzeModel', 'loss': 1.1808252334594727, 'generations': 0, 'dataset_names': None, 'artifact_names': ['41932f3e7fdd4fbdac6ec6cfe9ee0dae'], 'model_name': 'Permit Type_model3', 'job_error': None}\n",
      "{'status': 'Requested', 'starttime': '2019-04-22T17:06:19.820451', 'endtime': None, 'percent_complete': 0, 'job_type': 'AnalyzeModel', 'loss': 1.1808252334594727, 'generations': 0, 'dataset_names': None, 'artifact_names': ['41932f3e7fdd4fbdac6ec6cfe9ee0dae'], 'model_name': 'Permit Type_model3', 'job_error': None}\n",
      "{'status': 'Requested', 'starttime': '2019-04-22T17:06:19.820451', 'endtime': None, 'percent_complete': 0, 'job_type': 'AnalyzeModel', 'loss': 1.1808252334594727, 'generations': 0, 'dataset_names': None, 'artifact_names': ['41932f3e7fdd4fbdac6ec6cfe9ee0dae'], 'model_name': 'Permit Type_model3', 'job_error': None}\n",
      "{'status': 'Requested', 'starttime': '2019-04-22T17:06:19.820451', 'endtime': None, 'percent_complete': 0, 'job_type': 'AnalyzeModel', 'loss': 1.1808252334594727, 'generations': 0, 'dataset_names': None, 'artifact_names': ['41932f3e7fdd4fbdac6ec6cfe9ee0dae'], 'model_name': 'Permit Type_model3', 'job_error': None}\n",
      "{'status': 'Requested', 'starttime': '2019-04-22T17:06:19.820451', 'endtime': None, 'percent_complete': 0, 'job_type': 'AnalyzeModel', 'loss': 1.1808252334594727, 'generations': 0, 'dataset_names': None, 'artifact_names': ['41932f3e7fdd4fbdac6ec6cfe9ee0dae'], 'model_name': 'Permit Type_model3', 'job_error': None}\n",
      "{'status': 'Requested', 'starttime': '2019-04-22T17:06:19.820451', 'endtime': None, 'percent_complete': 0, 'job_type': 'AnalyzeModel', 'loss': 1.1808252334594727, 'generations': 0, 'dataset_names': None, 'artifact_names': ['41932f3e7fdd4fbdac6ec6cfe9ee0dae'], 'model_name': 'Permit Type_model3', 'job_error': None}\n",
      "{'status': 'Requested', 'starttime': '2019-04-22T17:06:19.820451', 'endtime': None, 'percent_complete': 0, 'job_type': 'AnalyzeModel', 'loss': 1.1808252334594727, 'generations': 0, 'dataset_names': None, 'artifact_names': ['41932f3e7fdd4fbdac6ec6cfe9ee0dae'], 'model_name': 'Permit Type_model3', 'job_error': None}\n",
      "{'status': 'Requested', 'starttime': '2019-04-22T17:06:19.820451', 'endtime': None, 'percent_complete': 0, 'job_type': 'AnalyzeModel', 'loss': 1.1808252334594727, 'generations': 0, 'dataset_names': None, 'artifact_names': ['41932f3e7fdd4fbdac6ec6cfe9ee0dae'], 'model_name': 'Permit Type_model3', 'job_error': None}\n",
      "{'status': 'Requested', 'starttime': '2019-04-22T17:06:19.820451', 'endtime': None, 'percent_complete': 0, 'job_type': 'AnalyzeModel', 'loss': 1.1808252334594727, 'generations': 0, 'dataset_names': None, 'artifact_names': ['41932f3e7fdd4fbdac6ec6cfe9ee0dae'], 'model_name': 'Permit Type_model3', 'job_error': None}\n",
      "{'status': 'Requested', 'starttime': '2019-04-22T17:06:19.820451', 'endtime': None, 'percent_complete': 0, 'job_type': 'AnalyzeModel', 'loss': 1.1808252334594727, 'generations': 0, 'dataset_names': None, 'artifact_names': ['41932f3e7fdd4fbdac6ec6cfe9ee0dae'], 'model_name': 'Permit Type_model3', 'job_error': None}\n",
      "{'status': 'Requested', 'starttime': '2019-04-22T17:06:19.820451', 'endtime': None, 'percent_complete': 0, 'job_type': 'AnalyzeModel', 'loss': 1.1808252334594727, 'generations': 0, 'dataset_names': None, 'artifact_names': ['41932f3e7fdd4fbdac6ec6cfe9ee0dae'], 'model_name': 'Permit Type_model3', 'job_error': None}\n",
      "{'status': 'Requested', 'starttime': '2019-04-22T17:06:19.820451', 'endtime': None, 'percent_complete': 0, 'job_type': 'AnalyzeModel', 'loss': 1.1808252334594727, 'generations': 0, 'dataset_names': None, 'artifact_names': ['41932f3e7fdd4fbdac6ec6cfe9ee0dae'], 'model_name': 'Permit Type_model3', 'job_error': None}\n",
      "{'status': 'Requested', 'starttime': '2019-04-22T17:06:19.820451', 'endtime': None, 'percent_complete': 0, 'job_type': 'AnalyzeModel', 'loss': 1.1808252334594727, 'generations': 0, 'dataset_names': None, 'artifact_names': ['41932f3e7fdd4fbdac6ec6cfe9ee0dae'], 'model_name': 'Permit Type_model3', 'job_error': None}\n",
      "{'status': 'Requested', 'starttime': '2019-04-22T17:06:19.820451', 'endtime': None, 'percent_complete': 0, 'job_type': 'AnalyzeModel', 'loss': 1.1808252334594727, 'generations': 0, 'dataset_names': None, 'artifact_names': ['41932f3e7fdd4fbdac6ec6cfe9ee0dae'], 'model_name': 'Permit Type_model3', 'job_error': None}\n",
      "{'status': 'Requested', 'starttime': '2019-04-22T17:06:19.820451', 'endtime': None, 'percent_complete': 0, 'job_type': 'AnalyzeModel', 'loss': 1.1808252334594727, 'generations': 0, 'dataset_names': None, 'artifact_names': ['41932f3e7fdd4fbdac6ec6cfe9ee0dae'], 'model_name': 'Permit Type_model3', 'job_error': None}\n",
      "{'status': 'Requested', 'starttime': '2019-04-22T17:06:19.820451', 'endtime': None, 'percent_complete': 0, 'job_type': 'AnalyzeModel', 'loss': 1.1808252334594727, 'generations': 0, 'dataset_names': None, 'artifact_names': ['41932f3e7fdd4fbdac6ec6cfe9ee0dae'], 'model_name': 'Permit Type_model3', 'job_error': None}\n",
      "{'status': 'Requested', 'starttime': '2019-04-22T17:06:19.820451', 'endtime': None, 'percent_complete': 0, 'job_type': 'AnalyzeModel', 'loss': 1.1808252334594727, 'generations': 0, 'dataset_names': None, 'artifact_names': ['41932f3e7fdd4fbdac6ec6cfe9ee0dae'], 'model_name': 'Permit Type_model3', 'job_error': None}\n",
      "{'status': 'Requested', 'starttime': '2019-04-22T17:06:19.820451', 'endtime': None, 'percent_complete': 0, 'job_type': 'AnalyzeModel', 'loss': 1.1808252334594727, 'generations': 0, 'dataset_names': None, 'artifact_names': ['41932f3e7fdd4fbdac6ec6cfe9ee0dae'], 'model_name': 'Permit Type_model3', 'job_error': None}\n",
      "{'status': 'Requested', 'starttime': '2019-04-22T17:06:19.820451', 'endtime': None, 'percent_complete': 0, 'job_type': 'AnalyzeModel', 'loss': 1.1808252334594727, 'generations': 0, 'dataset_names': None, 'artifact_names': ['41932f3e7fdd4fbdac6ec6cfe9ee0dae'], 'model_name': 'Permit Type_model3', 'job_error': None}\n",
      "{'status': 'Requested', 'starttime': '2019-04-22T17:06:19.820451', 'endtime': None, 'percent_complete': 0, 'job_type': 'AnalyzeModel', 'loss': 1.1808252334594727, 'generations': 0, 'dataset_names': None, 'artifact_names': ['41932f3e7fdd4fbdac6ec6cfe9ee0dae'], 'model_name': 'Permit Type_model3', 'job_error': None}\n",
      "{'status': 'Requested', 'starttime': '2019-04-22T17:06:19.820451', 'endtime': None, 'percent_complete': 0, 'job_type': 'AnalyzeModel', 'loss': 1.1808252334594727, 'generations': 0, 'dataset_names': None, 'artifact_names': ['41932f3e7fdd4fbdac6ec6cfe9ee0dae'], 'model_name': 'Permit Type_model3', 'job_error': None}\n",
      "{'status': 'Requested', 'starttime': '2019-04-22T17:06:19.820451', 'endtime': None, 'percent_complete': 0, 'job_type': 'AnalyzeModel', 'loss': 1.1808252334594727, 'generations': 0, 'dataset_names': None, 'artifact_names': ['41932f3e7fdd4fbdac6ec6cfe9ee0dae'], 'model_name': 'Permit Type_model3', 'job_error': None}\n",
      "{'status': 'Requested', 'starttime': '2019-04-22T17:06:19.820451', 'endtime': None, 'percent_complete': 0, 'job_type': 'AnalyzeModel', 'loss': 1.1808252334594727, 'generations': 0, 'dataset_names': None, 'artifact_names': ['41932f3e7fdd4fbdac6ec6cfe9ee0dae'], 'model_name': 'Permit Type_model3', 'job_error': None}\n",
      "{'status': 'Requested', 'starttime': '2019-04-22T17:06:19.820451', 'endtime': None, 'percent_complete': 0, 'job_type': 'AnalyzeModel', 'loss': 1.1808252334594727, 'generations': 0, 'dataset_names': None, 'artifact_names': ['41932f3e7fdd4fbdac6ec6cfe9ee0dae'], 'model_name': 'Permit Type_model3', 'job_error': None}\n"
     ]
    },
    {
     "name": "stdout",
     "output_type": "stream",
     "text": [
      "{'status': 'Requested', 'starttime': '2019-04-22T17:06:19.820451', 'endtime': None, 'percent_complete': 0, 'job_type': 'AnalyzeModel', 'loss': 1.1808252334594727, 'generations': 0, 'dataset_names': None, 'artifact_names': ['41932f3e7fdd4fbdac6ec6cfe9ee0dae'], 'model_name': 'Permit Type_model3', 'job_error': None}\n",
      "{'status': 'Requested', 'starttime': '2019-04-22T17:06:19.820451', 'endtime': None, 'percent_complete': 0, 'job_type': 'AnalyzeModel', 'loss': 1.1808252334594727, 'generations': 0, 'dataset_names': None, 'artifact_names': ['41932f3e7fdd4fbdac6ec6cfe9ee0dae'], 'model_name': 'Permit Type_model3', 'job_error': None}\n",
      "{'status': 'Requested', 'starttime': '2019-04-22T17:06:19.820451', 'endtime': None, 'percent_complete': 0, 'job_type': 'AnalyzeModel', 'loss': 1.1808252334594727, 'generations': 0, 'dataset_names': None, 'artifact_names': ['41932f3e7fdd4fbdac6ec6cfe9ee0dae'], 'model_name': 'Permit Type_model3', 'job_error': None}\n",
      "{'status': 'Requested', 'starttime': '2019-04-22T17:06:19.820451', 'endtime': None, 'percent_complete': 0, 'job_type': 'AnalyzeModel', 'loss': 1.1808252334594727, 'generations': 0, 'dataset_names': None, 'artifact_names': ['41932f3e7fdd4fbdac6ec6cfe9ee0dae'], 'model_name': 'Permit Type_model3', 'job_error': None}\n",
      "{'status': 'Requested', 'starttime': '2019-04-22T17:06:19.820451', 'endtime': None, 'percent_complete': 0, 'job_type': 'AnalyzeModel', 'loss': 1.1808252334594727, 'generations': 0, 'dataset_names': None, 'artifact_names': ['41932f3e7fdd4fbdac6ec6cfe9ee0dae'], 'model_name': 'Permit Type_model3', 'job_error': None}\n",
      "{'status': 'Requested', 'starttime': '2019-04-22T17:06:19.820451', 'endtime': None, 'percent_complete': 0, 'job_type': 'AnalyzeModel', 'loss': 1.1808252334594727, 'generations': 0, 'dataset_names': None, 'artifact_names': ['41932f3e7fdd4fbdac6ec6cfe9ee0dae'], 'model_name': 'Permit Type_model3', 'job_error': None}\n",
      "{'status': 'Requested', 'starttime': '2019-04-22T17:06:19.820451', 'endtime': None, 'percent_complete': 0, 'job_type': 'AnalyzeModel', 'loss': 1.1808252334594727, 'generations': 0, 'dataset_names': None, 'artifact_names': ['41932f3e7fdd4fbdac6ec6cfe9ee0dae'], 'model_name': 'Permit Type_model3', 'job_error': None}\n",
      "{'status': 'Requested', 'starttime': '2019-04-22T17:06:19.820451', 'endtime': None, 'percent_complete': 0, 'job_type': 'AnalyzeModel', 'loss': 1.1808252334594727, 'generations': 0, 'dataset_names': None, 'artifact_names': ['41932f3e7fdd4fbdac6ec6cfe9ee0dae'], 'model_name': 'Permit Type_model3', 'job_error': None}\n",
      "{'status': 'Requested', 'starttime': '2019-04-22T17:06:19.820451', 'endtime': None, 'percent_complete': 0, 'job_type': 'AnalyzeModel', 'loss': 1.1808252334594727, 'generations': 0, 'dataset_names': None, 'artifact_names': ['41932f3e7fdd4fbdac6ec6cfe9ee0dae'], 'model_name': 'Permit Type_model3', 'job_error': None}\n",
      "{'status': 'Running', 'starttime': '2019-04-22T17:06:19.820451', 'endtime': None, 'percent_complete': 0, 'job_type': 'AnalyzeModel', 'loss': 1.1808252334594727, 'generations': 0, 'dataset_names': None, 'artifact_names': ['41932f3e7fdd4fbdac6ec6cfe9ee0dae'], 'model_name': 'Permit Type_model3', 'job_error': ''}\n",
      "{'status': 'Running', 'starttime': '2019-04-22T17:06:19.820451', 'endtime': None, 'percent_complete': 0, 'job_type': 'AnalyzeModel', 'loss': 1.1808252334594727, 'generations': 0, 'dataset_names': None, 'artifact_names': ['41932f3e7fdd4fbdac6ec6cfe9ee0dae'], 'model_name': 'Permit Type_model3', 'job_error': ''}\n",
      "{'status': 'Running', 'starttime': '2019-04-22T17:06:19.820451', 'endtime': None, 'percent_complete': 0, 'job_type': 'AnalyzeModel', 'loss': 1.1808252334594727, 'generations': 0, 'dataset_names': None, 'artifact_names': ['41932f3e7fdd4fbdac6ec6cfe9ee0dae'], 'model_name': 'Permit Type_model3', 'job_error': ''}\n",
      "{'status': 'Running', 'starttime': '2019-04-22T17:06:19.820451', 'endtime': None, 'percent_complete': 0, 'job_type': 'AnalyzeModel', 'loss': 1.1808252334594727, 'generations': 0, 'dataset_names': None, 'artifact_names': ['41932f3e7fdd4fbdac6ec6cfe9ee0dae'], 'model_name': 'Permit Type_model3', 'job_error': ''}\n",
      "{'status': 'Running', 'starttime': '2019-04-22T17:06:19.820451', 'endtime': None, 'percent_complete': 0, 'job_type': 'AnalyzeModel', 'loss': 1.1808252334594727, 'generations': 0, 'dataset_names': None, 'artifact_names': ['41932f3e7fdd4fbdac6ec6cfe9ee0dae'], 'model_name': 'Permit Type_model3', 'job_error': ''}\n"
     ]
    }
   ],
   "source": [
    "# Retrieve feature importance of built model\n",
    "status, artifact = ds.analyze_model(model)\n",
    "sleep(1)\n",
    "if status:\n",
    "    ds.wait_for_job(artifact['job_name'])\n",
    "else:\n",
    "    print(artifact)\n",
    "status, feature_importance = ds.download_artifact(artifact['artifact_name'])\n"
   ]
  },
  {
   "cell_type": "markdown",
   "metadata": {},
   "source": [
    "#### Check Status of Job"
   ]
  },
  {
   "cell_type": "code",
   "execution_count": 14,
   "metadata": {},
   "outputs": [
    {
     "name": "stdout",
     "output_type": "stream",
     "text": [
      "{'job_name': '150995e5beb3465c885249d9b45c700c', 'artifact_name': '41932f3e7fdd4fbdac6ec6cfe9ee0dae'}\n"
     ]
    }
   ],
   "source": [
    "if status:\n",
    "    ds.wait_for_job(artifact['job_name'])\n",
    "else:\n",
    "    print(artifact)\n",
    "status, feature_importance = ds.download_artifact(artifact['artifact_name'])"
   ]
  },
  {
   "cell_type": "markdown",
   "metadata": {},
   "source": [
    "Display most important features of the model."
   ]
  },
  {
   "cell_type": "code",
   "execution_count": 15,
   "metadata": {},
   "outputs": [
    {
     "data": {
      "text/plain": [
       "Unnamed: 0                 0.412748\n",
       "Master Permit Num          0.107765\n",
       "Total Job Valuation        0.040575\n",
       "Housing Units              0.036189\n",
       "Fiscal Year Issued         0.032267\n",
       "Total Valuation Remodel    0.030981\n",
       "Calendar Year Issued       0.027508\n",
       "Longitude                  0.026773\n",
       "Latitude                   0.026647\n",
       "Number Of Floors           0.026000\n",
       "dtype: float64"
      ]
     },
     "execution_count": 15,
     "metadata": {},
     "output_type": "execute_result"
    }
   ],
   "source": [
    "feature_importance[:10]"
   ]
  },
  {
   "cell_type": "markdown",
   "metadata": {},
   "source": [
    "### Predictions\n",
    "\n",
    "#### Perform model prediction on the training dataset."
   ]
  },
  {
   "cell_type": "code",
   "execution_count": 16,
   "metadata": {},
   "outputs": [
    {
     "name": "stdout",
     "output_type": "stream",
     "text": [
      "{'status': 'Requested', 'starttime': '2019-04-22T17:18:53.113467', 'endtime': None, 'percent_complete': 0, 'job_type': 'RunModel', 'loss': 1.1808252334594727, 'generations': 0, 'dataset_names': ['train3.csv'], 'artifact_names': ['e3c45b8a632646ddb61bd58e22516329'], 'model_name': 'Permit Type_model3', 'job_error': None}\n",
      "{'status': 'Requested', 'starttime': '2019-04-22T17:18:53.113467', 'endtime': None, 'percent_complete': 0, 'job_type': 'RunModel', 'loss': 1.1808252334594727, 'generations': 0, 'dataset_names': ['train3.csv'], 'artifact_names': ['e3c45b8a632646ddb61bd58e22516329'], 'model_name': 'Permit Type_model3', 'job_error': None}\n",
      "{'status': 'Requested', 'starttime': '2019-04-22T17:18:53.113467', 'endtime': None, 'percent_complete': 0, 'job_type': 'RunModel', 'loss': 1.1808252334594727, 'generations': 0, 'dataset_names': ['train3.csv'], 'artifact_names': ['e3c45b8a632646ddb61bd58e22516329'], 'model_name': 'Permit Type_model3', 'job_error': None}\n",
      "{'status': 'Requested', 'starttime': '2019-04-22T17:18:53.113467', 'endtime': None, 'percent_complete': 0, 'job_type': 'RunModel', 'loss': 1.1808252334594727, 'generations': 0, 'dataset_names': ['train3.csv'], 'artifact_names': ['e3c45b8a632646ddb61bd58e22516329'], 'model_name': 'Permit Type_model3', 'job_error': None}\n",
      "{'status': 'Requested', 'starttime': '2019-04-22T17:18:53.113467', 'endtime': None, 'percent_complete': 0, 'job_type': 'RunModel', 'loss': 1.1808252334594727, 'generations': 0, 'dataset_names': ['train3.csv'], 'artifact_names': ['e3c45b8a632646ddb61bd58e22516329'], 'model_name': 'Permit Type_model3', 'job_error': None}\n",
      "{'status': 'Requested', 'starttime': '2019-04-22T17:18:53.113467', 'endtime': None, 'percent_complete': 0, 'job_type': 'RunModel', 'loss': 1.1808252334594727, 'generations': 0, 'dataset_names': ['train3.csv'], 'artifact_names': ['e3c45b8a632646ddb61bd58e22516329'], 'model_name': 'Permit Type_model3', 'job_error': None}\n",
      "{'status': 'Requested', 'starttime': '2019-04-22T17:18:53.113467', 'endtime': None, 'percent_complete': 0, 'job_type': 'RunModel', 'loss': 1.1808252334594727, 'generations': 0, 'dataset_names': ['train3.csv'], 'artifact_names': ['e3c45b8a632646ddb61bd58e22516329'], 'model_name': 'Permit Type_model3', 'job_error': None}\n",
      "{'status': 'Requested', 'starttime': '2019-04-22T17:18:53.113467', 'endtime': None, 'percent_complete': 0, 'job_type': 'RunModel', 'loss': 1.1808252334594727, 'generations': 0, 'dataset_names': ['train3.csv'], 'artifact_names': ['e3c45b8a632646ddb61bd58e22516329'], 'model_name': 'Permit Type_model3', 'job_error': None}\n",
      "{'status': 'Requested', 'starttime': '2019-04-22T17:18:53.113467', 'endtime': None, 'percent_complete': 0, 'job_type': 'RunModel', 'loss': 1.1808252334594727, 'generations': 0, 'dataset_names': ['train3.csv'], 'artifact_names': ['e3c45b8a632646ddb61bd58e22516329'], 'model_name': 'Permit Type_model3', 'job_error': None}\n",
      "{'status': 'Requested', 'starttime': '2019-04-22T17:18:53.113467', 'endtime': None, 'percent_complete': 0, 'job_type': 'RunModel', 'loss': 1.1808252334594727, 'generations': 0, 'dataset_names': ['train3.csv'], 'artifact_names': ['e3c45b8a632646ddb61bd58e22516329'], 'model_name': 'Permit Type_model3', 'job_error': None}\n",
      "{'status': 'Requested', 'starttime': '2019-04-22T17:18:53.113467', 'endtime': None, 'percent_complete': 0, 'job_type': 'RunModel', 'loss': 1.1808252334594727, 'generations': 0, 'dataset_names': ['train3.csv'], 'artifact_names': ['e3c45b8a632646ddb61bd58e22516329'], 'model_name': 'Permit Type_model3', 'job_error': None}\n",
      "{'status': 'Requested', 'starttime': '2019-04-22T17:18:53.113467', 'endtime': None, 'percent_complete': 0, 'job_type': 'RunModel', 'loss': 1.1808252334594727, 'generations': 0, 'dataset_names': ['train3.csv'], 'artifact_names': ['e3c45b8a632646ddb61bd58e22516329'], 'model_name': 'Permit Type_model3', 'job_error': None}\n",
      "{'status': 'Requested', 'starttime': '2019-04-22T17:18:53.113467', 'endtime': None, 'percent_complete': 0, 'job_type': 'RunModel', 'loss': 1.1808252334594727, 'generations': 0, 'dataset_names': ['train3.csv'], 'artifact_names': ['e3c45b8a632646ddb61bd58e22516329'], 'model_name': 'Permit Type_model3', 'job_error': None}\n",
      "{'status': 'Requested', 'starttime': '2019-04-22T17:18:53.113467', 'endtime': None, 'percent_complete': 0, 'job_type': 'RunModel', 'loss': 1.1808252334594727, 'generations': 0, 'dataset_names': ['train3.csv'], 'artifact_names': ['e3c45b8a632646ddb61bd58e22516329'], 'model_name': 'Permit Type_model3', 'job_error': None}\n",
      "{'status': 'Requested', 'starttime': '2019-04-22T17:18:53.113467', 'endtime': None, 'percent_complete': 0, 'job_type': 'RunModel', 'loss': 1.1808252334594727, 'generations': 0, 'dataset_names': ['train3.csv'], 'artifact_names': ['e3c45b8a632646ddb61bd58e22516329'], 'model_name': 'Permit Type_model3', 'job_error': None}\n",
      "{'status': 'Requested', 'starttime': '2019-04-22T17:18:53.113467', 'endtime': None, 'percent_complete': 0, 'job_type': 'RunModel', 'loss': 1.1808252334594727, 'generations': 0, 'dataset_names': ['train3.csv'], 'artifact_names': ['e3c45b8a632646ddb61bd58e22516329'], 'model_name': 'Permit Type_model3', 'job_error': None}\n",
      "{'status': 'Requested', 'starttime': '2019-04-22T17:18:53.113467', 'endtime': None, 'percent_complete': 0, 'job_type': 'RunModel', 'loss': 1.1808252334594727, 'generations': 0, 'dataset_names': ['train3.csv'], 'artifact_names': ['e3c45b8a632646ddb61bd58e22516329'], 'model_name': 'Permit Type_model3', 'job_error': None}\n",
      "{'status': 'Requested', 'starttime': '2019-04-22T17:18:53.113467', 'endtime': None, 'percent_complete': 0, 'job_type': 'RunModel', 'loss': 1.1808252334594727, 'generations': 0, 'dataset_names': ['train3.csv'], 'artifact_names': ['e3c45b8a632646ddb61bd58e22516329'], 'model_name': 'Permit Type_model3', 'job_error': None}\n",
      "{'status': 'Requested', 'starttime': '2019-04-22T17:18:53.113467', 'endtime': None, 'percent_complete': 0, 'job_type': 'RunModel', 'loss': 1.1808252334594727, 'generations': 0, 'dataset_names': ['train3.csv'], 'artifact_names': ['e3c45b8a632646ddb61bd58e22516329'], 'model_name': 'Permit Type_model3', 'job_error': None}\n",
      "{'status': 'Requested', 'starttime': '2019-04-22T17:18:53.113467', 'endtime': None, 'percent_complete': 0, 'job_type': 'RunModel', 'loss': 1.1808252334594727, 'generations': 0, 'dataset_names': ['train3.csv'], 'artifact_names': ['e3c45b8a632646ddb61bd58e22516329'], 'model_name': 'Permit Type_model3', 'job_error': None}\n",
      "{'status': 'Requested', 'starttime': '2019-04-22T17:18:53.113467', 'endtime': None, 'percent_complete': 0, 'job_type': 'RunModel', 'loss': 1.1808252334594727, 'generations': 0, 'dataset_names': ['train3.csv'], 'artifact_names': ['e3c45b8a632646ddb61bd58e22516329'], 'model_name': 'Permit Type_model3', 'job_error': None}\n",
      "{'status': 'Requested', 'starttime': '2019-04-22T17:18:53.113467', 'endtime': None, 'percent_complete': 0, 'job_type': 'RunModel', 'loss': 1.1808252334594727, 'generations': 0, 'dataset_names': ['train3.csv'], 'artifact_names': ['e3c45b8a632646ddb61bd58e22516329'], 'model_name': 'Permit Type_model3', 'job_error': None}\n",
      "{'status': 'Requested', 'starttime': '2019-04-22T17:18:53.113467', 'endtime': None, 'percent_complete': 0, 'job_type': 'RunModel', 'loss': 1.1808252334594727, 'generations': 0, 'dataset_names': ['train3.csv'], 'artifact_names': ['e3c45b8a632646ddb61bd58e22516329'], 'model_name': 'Permit Type_model3', 'job_error': None}\n",
      "{'status': 'Requested', 'starttime': '2019-04-22T17:18:53.113467', 'endtime': None, 'percent_complete': 0, 'job_type': 'RunModel', 'loss': 1.1808252334594727, 'generations': 0, 'dataset_names': ['train3.csv'], 'artifact_names': ['e3c45b8a632646ddb61bd58e22516329'], 'model_name': 'Permit Type_model3', 'job_error': None}\n",
      "{'status': 'Requested', 'starttime': '2019-04-22T17:18:53.113467', 'endtime': None, 'percent_complete': 0, 'job_type': 'RunModel', 'loss': 1.1808252334594727, 'generations': 0, 'dataset_names': ['train3.csv'], 'artifact_names': ['e3c45b8a632646ddb61bd58e22516329'], 'model_name': 'Permit Type_model3', 'job_error': None}\n",
      "{'status': 'Requested', 'starttime': '2019-04-22T17:18:53.113467', 'endtime': None, 'percent_complete': 0, 'job_type': 'RunModel', 'loss': 1.1808252334594727, 'generations': 0, 'dataset_names': ['train3.csv'], 'artifact_names': ['e3c45b8a632646ddb61bd58e22516329'], 'model_name': 'Permit Type_model3', 'job_error': None}\n"
     ]
    },
    {
     "name": "stdout",
     "output_type": "stream",
     "text": [
      "{'status': 'Requested', 'starttime': '2019-04-22T17:18:53.113467', 'endtime': None, 'percent_complete': 0, 'job_type': 'RunModel', 'loss': 1.1808252334594727, 'generations': 0, 'dataset_names': ['train3.csv'], 'artifact_names': ['e3c45b8a632646ddb61bd58e22516329'], 'model_name': 'Permit Type_model3', 'job_error': None}\n",
      "{'status': 'Requested', 'starttime': '2019-04-22T17:18:53.113467', 'endtime': None, 'percent_complete': 0, 'job_type': 'RunModel', 'loss': 1.1808252334594727, 'generations': 0, 'dataset_names': ['train3.csv'], 'artifact_names': ['e3c45b8a632646ddb61bd58e22516329'], 'model_name': 'Permit Type_model3', 'job_error': None}\n",
      "{'status': 'Requested', 'starttime': '2019-04-22T17:18:53.113467', 'endtime': None, 'percent_complete': 0, 'job_type': 'RunModel', 'loss': 1.1808252334594727, 'generations': 0, 'dataset_names': ['train3.csv'], 'artifact_names': ['e3c45b8a632646ddb61bd58e22516329'], 'model_name': 'Permit Type_model3', 'job_error': None}\n",
      "{'status': 'Requested', 'starttime': '2019-04-22T17:18:53.113467', 'endtime': None, 'percent_complete': 0, 'job_type': 'RunModel', 'loss': 1.1808252334594727, 'generations': 0, 'dataset_names': ['train3.csv'], 'artifact_names': ['e3c45b8a632646ddb61bd58e22516329'], 'model_name': 'Permit Type_model3', 'job_error': None}\n",
      "{'status': 'Requested', 'starttime': '2019-04-22T17:18:53.113467', 'endtime': None, 'percent_complete': 0, 'job_type': 'RunModel', 'loss': 1.1808252334594727, 'generations': 0, 'dataset_names': ['train3.csv'], 'artifact_names': ['e3c45b8a632646ddb61bd58e22516329'], 'model_name': 'Permit Type_model3', 'job_error': None}\n",
      "{'status': 'Requested', 'starttime': '2019-04-22T17:18:53.113467', 'endtime': None, 'percent_complete': 0, 'job_type': 'RunModel', 'loss': 1.1808252334594727, 'generations': 0, 'dataset_names': ['train3.csv'], 'artifact_names': ['e3c45b8a632646ddb61bd58e22516329'], 'model_name': 'Permit Type_model3', 'job_error': None}\n",
      "{'status': 'Requested', 'starttime': '2019-04-22T17:18:53.113467', 'endtime': None, 'percent_complete': 0, 'job_type': 'RunModel', 'loss': 1.1808252334594727, 'generations': 0, 'dataset_names': ['train3.csv'], 'artifact_names': ['e3c45b8a632646ddb61bd58e22516329'], 'model_name': 'Permit Type_model3', 'job_error': None}\n",
      "{'status': 'Requested', 'starttime': '2019-04-22T17:18:53.113467', 'endtime': None, 'percent_complete': 0, 'job_type': 'RunModel', 'loss': 1.1808252334594727, 'generations': 0, 'dataset_names': ['train3.csv'], 'artifact_names': ['e3c45b8a632646ddb61bd58e22516329'], 'model_name': 'Permit Type_model3', 'job_error': None}\n",
      "{'status': 'Requested', 'starttime': '2019-04-22T17:18:53.113467', 'endtime': None, 'percent_complete': 0, 'job_type': 'RunModel', 'loss': 1.1808252334594727, 'generations': 0, 'dataset_names': ['train3.csv'], 'artifact_names': ['e3c45b8a632646ddb61bd58e22516329'], 'model_name': 'Permit Type_model3', 'job_error': None}\n",
      "{'status': 'Requested', 'starttime': '2019-04-22T17:18:53.113467', 'endtime': None, 'percent_complete': 0, 'job_type': 'RunModel', 'loss': 1.1808252334594727, 'generations': 0, 'dataset_names': ['train3.csv'], 'artifact_names': ['e3c45b8a632646ddb61bd58e22516329'], 'model_name': 'Permit Type_model3', 'job_error': None}\n",
      "{'status': 'Requested', 'starttime': '2019-04-22T17:18:53.113467', 'endtime': None, 'percent_complete': 0, 'job_type': 'RunModel', 'loss': 1.1808252334594727, 'generations': 0, 'dataset_names': ['train3.csv'], 'artifact_names': ['e3c45b8a632646ddb61bd58e22516329'], 'model_name': 'Permit Type_model3', 'job_error': None}\n",
      "{'status': 'Requested', 'starttime': '2019-04-22T17:18:53.113467', 'endtime': None, 'percent_complete': 0, 'job_type': 'RunModel', 'loss': 1.1808252334594727, 'generations': 0, 'dataset_names': ['train3.csv'], 'artifact_names': ['e3c45b8a632646ddb61bd58e22516329'], 'model_name': 'Permit Type_model3', 'job_error': None}\n",
      "{'status': 'Running', 'starttime': '2019-04-22T17:18:53.113467', 'endtime': None, 'percent_complete': 0, 'job_type': 'RunModel', 'loss': 1.1808252334594727, 'generations': 0, 'dataset_names': ['train3.csv'], 'artifact_names': ['e3c45b8a632646ddb61bd58e22516329'], 'model_name': 'Permit Type_model3', 'job_error': ''}\n",
      "{'status': 'Running', 'starttime': '2019-04-22T17:18:53.113467', 'endtime': None, 'percent_complete': 0, 'job_type': 'RunModel', 'loss': 1.1808252334594727, 'generations': 0, 'dataset_names': ['train3.csv'], 'artifact_names': ['e3c45b8a632646ddb61bd58e22516329'], 'model_name': 'Permit Type_model3', 'job_error': ''}\n",
      "{'status': 'Running', 'starttime': '2019-04-22T17:18:53.113467', 'endtime': None, 'percent_complete': 0, 'job_type': 'RunModel', 'loss': 1.1808252334594727, 'generations': 0, 'dataset_names': ['train3.csv'], 'artifact_names': ['e3c45b8a632646ddb61bd58e22516329'], 'model_name': 'Permit Type_model3', 'job_error': ''}\n"
     ]
    },
    {
     "data": {
      "text/plain": [
       "(False, 'Waited for 10.0 minutes. Re-run wait_for_job to wait longer.')"
      ]
     },
     "execution_count": 16,
     "metadata": {},
     "output_type": "execute_result"
    }
   ],
   "source": [
    "status, artifact = ds.run_model(trainName, model)\n",
    "sleep(1)\n",
    "ds.wait_for_job(artifact['job_name'])"
   ]
  },
  {
   "cell_type": "markdown",
   "metadata": {},
   "source": [
    "#### Check status of job"
   ]
  },
  {
   "cell_type": "code",
   "execution_count": 17,
   "metadata": {},
   "outputs": [
    {
     "name": "stdout",
     "output_type": "stream",
     "text": [
      "{'status': 'Running', 'starttime': '2019-04-22T17:18:53.113467', 'endtime': None, 'percent_complete': 0, 'job_type': 'RunModel', 'loss': 1.1808252334594727, 'generations': 0, 'dataset_names': ['train3.csv'], 'artifact_names': ['e3c45b8a632646ddb61bd58e22516329'], 'model_name': 'Permit Type_model3', 'job_error': ''}\n",
      "{'status': 'Running', 'starttime': '2019-04-22T17:18:53.113467', 'endtime': None, 'percent_complete': 0, 'job_type': 'RunModel', 'loss': 1.1808252334594727, 'generations': 0, 'dataset_names': ['train3.csv'], 'artifact_names': ['e3c45b8a632646ddb61bd58e22516329'], 'model_name': 'Permit Type_model3', 'job_error': ''}\n",
      "{'status': 'Complete', 'starttime': '2019-04-22T17:18:53.113467', 'endtime': '2019-04-22T17:29:39.196006', 'percent_complete': 100, 'job_type': 'RunModel', 'loss': 1.1808252334594727, 'generations': 0, 'dataset_names': ['train3.csv'], 'artifact_names': ['e3c45b8a632646ddb61bd58e22516329'], 'model_name': 'Permit Type_model3', 'job_error': ''}\n"
     ]
    },
    {
     "data": {
      "text/plain": [
       "(True, 'Job completed')"
      ]
     },
     "execution_count": 17,
     "metadata": {},
     "output_type": "execute_result"
    }
   ],
   "source": [
    "ds.wait_for_job(artifact['job_name'])"
   ]
  },
  {
   "cell_type": "markdown",
   "metadata": {},
   "source": [
    "#### Download predictions from Darwin."
   ]
  },
  {
   "cell_type": "code",
   "execution_count": 18,
   "metadata": {},
   "outputs": [
    {
     "data": {
      "text/html": [
       "<div>\n",
       "<style>\n",
       "    .dataframe thead tr:only-child th {\n",
       "        text-align: right;\n",
       "    }\n",
       "\n",
       "    .dataframe thead th {\n",
       "        text-align: left;\n",
       "    }\n",
       "\n",
       "    .dataframe tbody tr th {\n",
       "        vertical-align: top;\n",
       "    }\n",
       "</style>\n",
       "<table border=\"1\" class=\"dataframe\">\n",
       "  <thead>\n",
       "    <tr style=\"text-align: right;\">\n",
       "      <th></th>\n",
       "      <th>Permit Type</th>\n",
       "      <th>prob_BP</th>\n",
       "      <th>prob_DS</th>\n",
       "      <th>prob_EP</th>\n",
       "      <th>prob_MP</th>\n",
       "      <th>prob_PP</th>\n",
       "    </tr>\n",
       "  </thead>\n",
       "  <tbody>\n",
       "    <tr>\n",
       "      <th>0</th>\n",
       "      <td>BP</td>\n",
       "      <td>9.999932e-01</td>\n",
       "      <td>8.870000e-08</td>\n",
       "      <td>0.000005</td>\n",
       "      <td>4.229000e-07</td>\n",
       "      <td>0.000002</td>\n",
       "    </tr>\n",
       "    <tr>\n",
       "      <th>1</th>\n",
       "      <td>MP</td>\n",
       "      <td>1.777381e-04</td>\n",
       "      <td>2.984204e-04</td>\n",
       "      <td>0.260692</td>\n",
       "      <td>6.096291e-01</td>\n",
       "      <td>0.129202</td>\n",
       "    </tr>\n",
       "    <tr>\n",
       "      <th>2</th>\n",
       "      <td>BP</td>\n",
       "      <td>9.998208e-01</td>\n",
       "      <td>5.730000e-08</td>\n",
       "      <td>0.000053</td>\n",
       "      <td>7.275790e-05</td>\n",
       "      <td>0.000053</td>\n",
       "    </tr>\n",
       "    <tr>\n",
       "      <th>3</th>\n",
       "      <td>PP</td>\n",
       "      <td>2.865000e-07</td>\n",
       "      <td>2.526000e-07</td>\n",
       "      <td>0.000012</td>\n",
       "      <td>5.443000e-06</td>\n",
       "      <td>0.999982</td>\n",
       "    </tr>\n",
       "    <tr>\n",
       "      <th>4</th>\n",
       "      <td>BP</td>\n",
       "      <td>9.998945e-01</td>\n",
       "      <td>1.236810e-05</td>\n",
       "      <td>0.000065</td>\n",
       "      <td>2.202010e-05</td>\n",
       "      <td>0.000006</td>\n",
       "    </tr>\n",
       "  </tbody>\n",
       "</table>\n",
       "</div>"
      ],
      "text/plain": [
       "  Permit Type       prob_BP       prob_DS   prob_EP       prob_MP   prob_PP\n",
       "0          BP  9.999932e-01  8.870000e-08  0.000005  4.229000e-07  0.000002\n",
       "1          MP  1.777381e-04  2.984204e-04  0.260692  6.096291e-01  0.129202\n",
       "2          BP  9.998208e-01  5.730000e-08  0.000053  7.275790e-05  0.000053\n",
       "3          PP  2.865000e-07  2.526000e-07  0.000012  5.443000e-06  0.999982\n",
       "4          BP  9.998945e-01  1.236810e-05  0.000065  2.202010e-05  0.000006"
      ]
     },
     "execution_count": 18,
     "metadata": {},
     "output_type": "execute_result"
    }
   ],
   "source": [
    "status, prediction = ds.download_artifact(artifact['artifact_name'])\n",
    "prediction.head()"
   ]
  },
  {
   "cell_type": "markdown",
   "metadata": {},
   "source": [
    "#### (optional) Write to disk downloaded predictions"
   ]
  },
  {
   "cell_type": "code",
   "execution_count": null,
   "metadata": {
    "collapsed": true
   },
   "outputs": [],
   "source": [
    "prediction.to_csv(os.path.join(path, \"predictions.csv\"))"
   ]
  },
  {
   "cell_type": "markdown",
   "metadata": {},
   "source": [
    "#### Create visualizations for comparing predictions with actual target. "
   ]
  },
  {
   "cell_type": "code",
   "execution_count": 19,
   "metadata": {},
   "outputs": [
    {
     "name": "stdout",
     "output_type": "stream",
     "text": [
      "             precision    recall  f1-score   support\n",
      "\n",
      "         BP       1.00      1.00      1.00    210356\n",
      "         DS       1.00      1.00      1.00     50696\n",
      "         EP       0.89      0.91      0.90    272735\n",
      "         MP       0.90      0.90      0.90    207485\n",
      "         PP       0.88      0.85      0.86    207995\n",
      "\n",
      "avg / total       0.92      0.92      0.92    949267\n",
      "\n"
     ]
    },
    {
     "data": {
      "image/png": "[encoded data removed]",
      "text/plain": [
       "<matplotlib.figure.Figure at 0x2c510046390>"
      ]
     },
     "metadata": {},
     "output_type": "display_data"
    }
   ],
   "source": [
    "\n",
    "unq = prediction[target].unique()[::-1]\n",
    "p = np.zeros((len(prediction),))\n",
    "a = np.zeros((len(prediction),))\n",
    "for i,q in enumerate(unq):\n",
    "    p += i*(prediction[target] == q).values\n",
    "    a += i*(trainData[target] == q).values\n",
    "#Plot predictions vs actual\n",
    "plt.plot(a)\n",
    "plt.plot(p)\n",
    "plt.legend(['Actual','Predicted'])\n",
    "plt.yticks([i for i in range(len(unq))],[q for q in unq]);\n",
    "print(classification_report(trainData[target], prediction[target]))"
   ]
  },
  {
   "cell_type": "markdown",
   "metadata": {},
   "source": [
    "#### Sorted Predictions versus Sorted Actual"
   ]
  },
  {
   "cell_type": "code",
   "execution_count": 21,
   "metadata": {},
   "outputs": [
    {
     "data": {
      "image/png": "[encoded data removed]",
      "text/plain": [
       "<matplotlib.figure.Figure at 0x2c518186710>"
      ]
     },
     "metadata": {},
     "output_type": "display_data"
    }
   ],
   "source": [
    "prediction[target].astype('category')\n",
    "prediction.sort_values(by = target, inplace=True)\n",
    "trainData[target].astype('category')\n",
    "trainData.sort_values(by = target, inplace = True)\n",
    "\n",
    "unq = prediction[target].unique()[::-1]\n",
    "p = np.zeros((len(prediction),))\n",
    "a = np.zeros((len(prediction),))\n",
    "for i,q in enumerate(unq):\n",
    "    p += i*(prediction[target] == q).values\n",
    "    a += i*(trainData[target] == q).values\n",
    "#Plot predictions vs actual\n",
    "plt.plot(a)\n",
    "plt.plot(p)\n",
    "plt.legend(['Actual','Predicted'])\n",
    "plt.yticks([i for i in range(len(unq))],[q for q in unq]);"
   ]
  },
  {
   "cell_type": "markdown",
   "metadata": {},
   "source": [
    "#### Perform model prediction on test dataset from holdout method.\n",
    "Upload test data."
   ]
  },
  {
   "cell_type": "code",
   "execution_count": 22,
   "metadata": {
    "collapsed": true
   },
   "outputs": [],
   "source": [
    "status, dataset = ds.upload_dataset(os.path.join(path, testName))\n",
    "if not status:\n",
    "    print(dataset)"
   ]
  },
  {
   "cell_type": "markdown",
   "metadata": {},
   "source": [
    "Clean test data. "
   ]
  },
  {
   "cell_type": "code",
   "execution_count": 23,
   "metadata": {},
   "outputs": [
    {
     "name": "stdout",
     "output_type": "stream",
     "text": [
      "Model:\n",
      " Permit Type_model3\n",
      "Target: \n",
      " Permit Type\n",
      "{'job_name': 'a66837723c8743f7888f8d29cce24d53', 'artifact_name': 'c81882dd77a24ce7b69853f9f43cf700'}\n",
      "{'status': 'Requested', 'starttime': '2019-04-22T17:34:25.069529', 'endtime': None, 'percent_complete': 0, 'job_type': 'CleanDataTiny', 'loss': None, 'generations': None, 'dataset_names': ['test3.csv'], 'artifact_names': ['c81882dd77a24ce7b69853f9f43cf700'], 'model_name': None, 'job_error': None}\n",
      "{'status': 'Requested', 'starttime': '2019-04-22T17:34:25.069529', 'endtime': None, 'percent_complete': 0, 'job_type': 'CleanDataTiny', 'loss': None, 'generations': None, 'dataset_names': ['test3.csv'], 'artifact_names': ['c81882dd77a24ce7b69853f9f43cf700'], 'model_name': None, 'job_error': None}\n",
      "{'status': 'Requested', 'starttime': '2019-04-22T17:34:25.069529', 'endtime': None, 'percent_complete': 0, 'job_type': 'CleanDataTiny', 'loss': None, 'generations': None, 'dataset_names': ['test3.csv'], 'artifact_names': ['c81882dd77a24ce7b69853f9f43cf700'], 'model_name': None, 'job_error': None}\n",
      "{'status': 'Requested', 'starttime': '2019-04-22T17:34:25.069529', 'endtime': None, 'percent_complete': 0, 'job_type': 'CleanDataTiny', 'loss': None, 'generations': None, 'dataset_names': ['test3.csv'], 'artifact_names': ['c81882dd77a24ce7b69853f9f43cf700'], 'model_name': None, 'job_error': None}\n",
      "{'status': 'Requested', 'starttime': '2019-04-22T17:34:25.069529', 'endtime': None, 'percent_complete': 0, 'job_type': 'CleanDataTiny', 'loss': None, 'generations': None, 'dataset_names': ['test3.csv'], 'artifact_names': ['c81882dd77a24ce7b69853f9f43cf700'], 'model_name': None, 'job_error': None}\n",
      "{'status': 'Requested', 'starttime': '2019-04-22T17:34:25.069529', 'endtime': None, 'percent_complete': 0, 'job_type': 'CleanDataTiny', 'loss': None, 'generations': None, 'dataset_names': ['test3.csv'], 'artifact_names': ['c81882dd77a24ce7b69853f9f43cf700'], 'model_name': None, 'job_error': None}\n",
      "{'status': 'Requested', 'starttime': '2019-04-22T17:34:25.069529', 'endtime': None, 'percent_complete': 0, 'job_type': 'CleanDataTiny', 'loss': None, 'generations': None, 'dataset_names': ['test3.csv'], 'artifact_names': ['c81882dd77a24ce7b69853f9f43cf700'], 'model_name': None, 'job_error': None}\n",
      "{'status': 'Requested', 'starttime': '2019-04-22T17:34:25.069529', 'endtime': None, 'percent_complete': 0, 'job_type': 'CleanDataTiny', 'loss': None, 'generations': None, 'dataset_names': ['test3.csv'], 'artifact_names': ['c81882dd77a24ce7b69853f9f43cf700'], 'model_name': None, 'job_error': None}\n",
      "{'status': 'Requested', 'starttime': '2019-04-22T17:34:25.069529', 'endtime': None, 'percent_complete': 0, 'job_type': 'CleanDataTiny', 'loss': None, 'generations': None, 'dataset_names': ['test3.csv'], 'artifact_names': ['c81882dd77a24ce7b69853f9f43cf700'], 'model_name': None, 'job_error': None}\n",
      "{'status': 'Requested', 'starttime': '2019-04-22T17:34:25.069529', 'endtime': None, 'percent_complete': 0, 'job_type': 'CleanDataTiny', 'loss': None, 'generations': None, 'dataset_names': ['test3.csv'], 'artifact_names': ['c81882dd77a24ce7b69853f9f43cf700'], 'model_name': None, 'job_error': None}\n",
      "{'status': 'Requested', 'starttime': '2019-04-22T17:34:25.069529', 'endtime': None, 'percent_complete': 0, 'job_type': 'CleanDataTiny', 'loss': None, 'generations': None, 'dataset_names': ['test3.csv'], 'artifact_names': ['c81882dd77a24ce7b69853f9f43cf700'], 'model_name': None, 'job_error': None}\n",
      "{'status': 'Requested', 'starttime': '2019-04-22T17:34:25.069529', 'endtime': None, 'percent_complete': 0, 'job_type': 'CleanDataTiny', 'loss': None, 'generations': None, 'dataset_names': ['test3.csv'], 'artifact_names': ['c81882dd77a24ce7b69853f9f43cf700'], 'model_name': None, 'job_error': None}\n",
      "{'status': 'Requested', 'starttime': '2019-04-22T17:34:25.069529', 'endtime': None, 'percent_complete': 0, 'job_type': 'CleanDataTiny', 'loss': None, 'generations': None, 'dataset_names': ['test3.csv'], 'artifact_names': ['c81882dd77a24ce7b69853f9f43cf700'], 'model_name': None, 'job_error': None}\n",
      "{'status': 'Requested', 'starttime': '2019-04-22T17:34:25.069529', 'endtime': None, 'percent_complete': 0, 'job_type': 'CleanDataTiny', 'loss': None, 'generations': None, 'dataset_names': ['test3.csv'], 'artifact_names': ['c81882dd77a24ce7b69853f9f43cf700'], 'model_name': None, 'job_error': None}\n",
      "{'status': 'Requested', 'starttime': '2019-04-22T17:34:25.069529', 'endtime': None, 'percent_complete': 0, 'job_type': 'CleanDataTiny', 'loss': None, 'generations': None, 'dataset_names': ['test3.csv'], 'artifact_names': ['c81882dd77a24ce7b69853f9f43cf700'], 'model_name': None, 'job_error': None}\n",
      "{'status': 'Requested', 'starttime': '2019-04-22T17:34:25.069529', 'endtime': None, 'percent_complete': 0, 'job_type': 'CleanDataTiny', 'loss': None, 'generations': None, 'dataset_names': ['test3.csv'], 'artifact_names': ['c81882dd77a24ce7b69853f9f43cf700'], 'model_name': None, 'job_error': None}\n",
      "{'status': 'Requested', 'starttime': '2019-04-22T17:34:25.069529', 'endtime': None, 'percent_complete': 0, 'job_type': 'CleanDataTiny', 'loss': None, 'generations': None, 'dataset_names': ['test3.csv'], 'artifact_names': ['c81882dd77a24ce7b69853f9f43cf700'], 'model_name': None, 'job_error': None}\n",
      "{'status': 'Requested', 'starttime': '2019-04-22T17:34:25.069529', 'endtime': None, 'percent_complete': 0, 'job_type': 'CleanDataTiny', 'loss': None, 'generations': None, 'dataset_names': ['test3.csv'], 'artifact_names': ['c81882dd77a24ce7b69853f9f43cf700'], 'model_name': None, 'job_error': None}\n",
      "{'status': 'Requested', 'starttime': '2019-04-22T17:34:25.069529', 'endtime': None, 'percent_complete': 0, 'job_type': 'CleanDataTiny', 'loss': None, 'generations': None, 'dataset_names': ['test3.csv'], 'artifact_names': ['c81882dd77a24ce7b69853f9f43cf700'], 'model_name': None, 'job_error': None}\n",
      "{'status': 'Requested', 'starttime': '2019-04-22T17:34:25.069529', 'endtime': None, 'percent_complete': 0, 'job_type': 'CleanDataTiny', 'loss': None, 'generations': None, 'dataset_names': ['test3.csv'], 'artifact_names': ['c81882dd77a24ce7b69853f9f43cf700'], 'model_name': None, 'job_error': None}\n",
      "{'status': 'Requested', 'starttime': '2019-04-22T17:34:25.069529', 'endtime': None, 'percent_complete': 0, 'job_type': 'CleanDataTiny', 'loss': None, 'generations': None, 'dataset_names': ['test3.csv'], 'artifact_names': ['c81882dd77a24ce7b69853f9f43cf700'], 'model_name': None, 'job_error': None}\n",
      "{'status': 'Requested', 'starttime': '2019-04-22T17:34:25.069529', 'endtime': None, 'percent_complete': 0, 'job_type': 'CleanDataTiny', 'loss': None, 'generations': None, 'dataset_names': ['test3.csv'], 'artifact_names': ['c81882dd77a24ce7b69853f9f43cf700'], 'model_name': None, 'job_error': None}\n",
      "{'status': 'Requested', 'starttime': '2019-04-22T17:34:25.069529', 'endtime': None, 'percent_complete': 0, 'job_type': 'CleanDataTiny', 'loss': None, 'generations': None, 'dataset_names': ['test3.csv'], 'artifact_names': ['c81882dd77a24ce7b69853f9f43cf700'], 'model_name': None, 'job_error': None}\n",
      "{'status': 'Requested', 'starttime': '2019-04-22T17:34:25.069529', 'endtime': None, 'percent_complete': 0, 'job_type': 'CleanDataTiny', 'loss': None, 'generations': None, 'dataset_names': ['test3.csv'], 'artifact_names': ['c81882dd77a24ce7b69853f9f43cf700'], 'model_name': None, 'job_error': None}\n",
      "{'status': 'Requested', 'starttime': '2019-04-22T17:34:25.069529', 'endtime': None, 'percent_complete': 0, 'job_type': 'CleanDataTiny', 'loss': None, 'generations': None, 'dataset_names': ['test3.csv'], 'artifact_names': ['c81882dd77a24ce7b69853f9f43cf700'], 'model_name': None, 'job_error': None}\n",
      "{'status': 'Requested', 'starttime': '2019-04-22T17:34:25.069529', 'endtime': None, 'percent_complete': 0, 'job_type': 'CleanDataTiny', 'loss': None, 'generations': None, 'dataset_names': ['test3.csv'], 'artifact_names': ['c81882dd77a24ce7b69853f9f43cf700'], 'model_name': None, 'job_error': None}\n",
      "{'status': 'Requested', 'starttime': '2019-04-22T17:34:25.069529', 'endtime': None, 'percent_complete': 0, 'job_type': 'CleanDataTiny', 'loss': None, 'generations': None, 'dataset_names': ['test3.csv'], 'artifact_names': ['c81882dd77a24ce7b69853f9f43cf700'], 'model_name': None, 'job_error': None}\n"
     ]
    },
    {
     "name": "stdout",
     "output_type": "stream",
     "text": [
      "{'status': 'Requested', 'starttime': '2019-04-22T17:34:25.069529', 'endtime': None, 'percent_complete': 0, 'job_type': 'CleanDataTiny', 'loss': None, 'generations': None, 'dataset_names': ['test3.csv'], 'artifact_names': ['c81882dd77a24ce7b69853f9f43cf700'], 'model_name': None, 'job_error': None}\n",
      "{'status': 'Requested', 'starttime': '2019-04-22T17:34:25.069529', 'endtime': None, 'percent_complete': 0, 'job_type': 'CleanDataTiny', 'loss': None, 'generations': None, 'dataset_names': ['test3.csv'], 'artifact_names': ['c81882dd77a24ce7b69853f9f43cf700'], 'model_name': None, 'job_error': None}\n",
      "{'status': 'Requested', 'starttime': '2019-04-22T17:34:25.069529', 'endtime': None, 'percent_complete': 0, 'job_type': 'CleanDataTiny', 'loss': None, 'generations': None, 'dataset_names': ['test3.csv'], 'artifact_names': ['c81882dd77a24ce7b69853f9f43cf700'], 'model_name': None, 'job_error': None}\n",
      "{'status': 'Requested', 'starttime': '2019-04-22T17:34:25.069529', 'endtime': None, 'percent_complete': 0, 'job_type': 'CleanDataTiny', 'loss': None, 'generations': None, 'dataset_names': ['test3.csv'], 'artifact_names': ['c81882dd77a24ce7b69853f9f43cf700'], 'model_name': None, 'job_error': None}\n",
      "{'status': 'Requested', 'starttime': '2019-04-22T17:34:25.069529', 'endtime': None, 'percent_complete': 0, 'job_type': 'CleanDataTiny', 'loss': None, 'generations': None, 'dataset_names': ['test3.csv'], 'artifact_names': ['c81882dd77a24ce7b69853f9f43cf700'], 'model_name': None, 'job_error': None}\n",
      "{'status': 'Requested', 'starttime': '2019-04-22T17:34:25.069529', 'endtime': None, 'percent_complete': 0, 'job_type': 'CleanDataTiny', 'loss': None, 'generations': None, 'dataset_names': ['test3.csv'], 'artifact_names': ['c81882dd77a24ce7b69853f9f43cf700'], 'model_name': None, 'job_error': None}\n",
      "{'status': 'Requested', 'starttime': '2019-04-22T17:34:25.069529', 'endtime': None, 'percent_complete': 0, 'job_type': 'CleanDataTiny', 'loss': None, 'generations': None, 'dataset_names': ['test3.csv'], 'artifact_names': ['c81882dd77a24ce7b69853f9f43cf700'], 'model_name': None, 'job_error': None}\n",
      "{'status': 'Requested', 'starttime': '2019-04-22T17:34:25.069529', 'endtime': None, 'percent_complete': 0, 'job_type': 'CleanDataTiny', 'loss': None, 'generations': None, 'dataset_names': ['test3.csv'], 'artifact_names': ['c81882dd77a24ce7b69853f9f43cf700'], 'model_name': None, 'job_error': None}\n",
      "{'status': 'Requested', 'starttime': '2019-04-22T17:34:25.069529', 'endtime': None, 'percent_complete': 0, 'job_type': 'CleanDataTiny', 'loss': None, 'generations': None, 'dataset_names': ['test3.csv'], 'artifact_names': ['c81882dd77a24ce7b69853f9f43cf700'], 'model_name': None, 'job_error': None}\n",
      "{'status': 'Running', 'starttime': '2019-04-22T17:34:25.069529', 'endtime': None, 'percent_complete': 0, 'job_type': 'CleanDataTiny', 'loss': None, 'generations': None, 'dataset_names': ['test3.csv'], 'artifact_names': ['c81882dd77a24ce7b69853f9f43cf700'], 'model_name': None, 'job_error': ''}\n",
      "{'status': 'Failed', 'starttime': '2019-04-22T17:34:25.069529', 'endtime': '2019-04-22T17:43:28.939875', 'percent_complete': 100, 'job_type': 'CleanDataTiny', 'loss': None, 'generations': None, 'dataset_names': ['test3.csv'], 'artifact_names': ['c81882dd77a24ce7b69853f9f43cf700'], 'model_name': None, 'job_error': 'DarwinInternalErroruncaught'}\n"
     ]
    }
   ],
   "source": [
    "status, job_id = ds.clean_data(testName, model_name = model)\n",
    "print(\"Model:\\n\",model)\n",
    "print(\"Target: \\n\",target)\n",
    "print(job_id)\n",
    "if status:\n",
    "    ds.wait_for_job(job_id['job_name'])\n",
    "else:\n",
    "    print(job_id)"
   ]
  },
  {
   "cell_type": "markdown",
   "metadata": {},
   "source": [
    "Run model on test dataset. "
   ]
  },
  {
   "cell_type": "code",
   "execution_count": null,
   "metadata": {
    "collapsed": true
   },
   "outputs": [],
   "source": [
    "status, artifact = ds.run_model(testName, model)\n",
    "sleep(1)\n",
    "ds.wait_for_job(artifact['job_name'])"
   ]
  },
  {
   "cell_type": "markdown",
   "metadata": {},
   "source": [
    "#### Create visualizations for comparing predictions with actual target."
   ]
  },
  {
   "cell_type": "code",
   "execution_count": null,
   "metadata": {
    "collapsed": true
   },
   "outputs": [],
   "source": [
    "status, prediction = ds.download_artifact(artifact['artifact_name'])\n",
    "df = pd.read_csv(os.path.join(path,testName))\n",
    "unq = prediction[target].unique()[::-1]\n",
    "p = np.zeros((len(prediction),))\n",
    "a = np.zeros((len(prediction),))\n",
    "for i,q in enumerate(unq):\n",
    "    p += i*(prediction[target] == q).values\n",
    "    a += i*(df[target] == q).values\n",
    "#Plot predictions vs actual\n",
    "plt.plot(a)\n",
    "plt.plot(p)\n",
    "plt.legend(['Actual','Predicted'])\n",
    "plt.yticks([i for i in range(len(unq))],[q for q in unq]);\n",
    "print(classification_report(df[target], prediction[target]))"
   ]
  },
  {
   "cell_type": "markdown",
   "metadata": {},
   "source": [
    "### Darwin' Pick for machine learning model"
   ]
  },
  {
   "cell_type": "code",
   "execution_count": null,
   "metadata": {
    "collapsed": true
   },
   "outputs": [],
   "source": [
    "status, model_type = ds.lookup_model_name(model)\n",
    "print(model_type['description']['best_genome'])"
   ]
  },
  {
   "cell_type": "markdown",
   "metadata": {},
   "source": [
    "## Clean up"
   ]
  },
  {
   "cell_type": "code",
   "execution_count": null,
   "metadata": {
    "collapsed": true
   },
   "outputs": [],
   "source": [
    "ds.delete_all_datasets()\n",
    "ds.delete_all_models()\n",
    "ds.delete_all_artifacts()"
   ]
  },
  {
   "cell_type": "code",
   "execution_count": null,
   "metadata": {
    "collapsed": true
   },
   "outputs": [],
   "source": []
  }
 ],
 "metadata": {
  "kernelspec": {
   "display_name": "Python 3",
   "language": "python",
   "name": "python3"
  },
  "language_info": {
   "codemirror_mode": {
    "name": "ipython",
    "version": 3
   },
   "file_extension": ".py",
   "mimetype": "text/x-python",
   "name": "python",
   "nbconvert_exporter": "python",
   "pygments_lexer": "ipython3",
   "version": "3.6.1"
  }
 },
 "nbformat": 4,
 "nbformat_minor": 2
}
