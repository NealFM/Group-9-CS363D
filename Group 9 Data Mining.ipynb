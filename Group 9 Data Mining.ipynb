{
 "cells": [
  {
   "cell_type": "markdown",
   "metadata": {},
   "source": [
    "## Contributors: \n",
    "Neal Friesenhahn"
   ]
  },
  {
   "cell_type": "markdown",
   "metadata": {},
   "source": [
    "### Importing Libraries:"
   ]
  },
  {
   "cell_type": "code",
   "execution_count": 1,
   "metadata": {
    "collapsed": true
   },
   "outputs": [],
   "source": [
    "# Import necessary libraries\n",
    "import warnings\n",
    "warnings.filterwarnings(\"ignore\", message=\"numpy.dtype size changed\")\n",
    "%matplotlib inline\n",
    "import matplotlib.pyplot as plt\n",
    "import pandas as pd\n",
    "from IPython.display import Image\n",
    "from time import sleep\n",
    "import os\n",
    "import math\n",
    "import numpy as np\n",
    "from sklearn.metrics import classification_report\n",
    "\n",
    "from amb_sdk.sdk import DarwinSdk"
   ]
  },
  {
   "cell_type": "markdown",
   "metadata": {},
   "source": [
    "### Configure Darwin:"
   ]
  },
  {
   "cell_type": "code",
   "execution_count": 2,
   "metadata": {
    "collapsed": true
   },
   "outputs": [],
   "source": [
    "# Login\n",
    "ds = DarwinSdk()\n",
    "file = open(\"login.txt\", \"r\")\n",
    "username = file.readline(0)\n",
    "password = file.readline(1)\n",
    "ds.set_url('https://amb-demo-api.sparkcognition.com/v1/')\n",
    "status, msg = ds.auth_login_user('username', 'password')\n",
    "if not status:\n",
    "    print(msg)\n",
    "    "
   ]
  },
  {
   "cell_type": "markdown",
   "metadata": {},
   "source": [
    "#### Data Path\n",
    "Make sure to set this to your local machine's path to the data."
   ]
  },
  {
   "cell_type": "code",
   "execution_count": 3,
   "metadata": {
    "collapsed": true
   },
   "outputs": [],
   "source": [
    "path = './'"
   ]
  },
  {
   "cell_type": "markdown",
   "metadata": {},
   "source": [
    "### Importing Data:\n",
    "Data used in this project:\n",
    "https://data.austintexas.gov/Building-and-Development/Issued-Construction-Permits/3syk-w9eu"
   ]
  },
  {
   "cell_type": "code",
   "execution_count": 4,
   "metadata": {},
   "outputs": [
    {
     "name": "stderr",
     "output_type": "stream",
     "text": [
      "C:\\Users\\Neal\\Anaconda3\\lib\\site-packages\\IPython\\core\\interactiveshell.py:2717: DtypeWarning: Columns (52,54,56,58,59,60,61,62,63,64,65,66) have mixed types. Specify dtype option on import or set low_memory=False.\n",
      "  interactivity=interactivity, compiler=compiler, result=result)\n"
     ]
    },
    {
     "name": "stdout",
     "output_type": "stream",
     "text": [
      "Removed columns from dataset:\n",
      "Contractor Company Name\n",
      "Contractor Phone\n",
      "Contractor Address 2\n",
      "Contractor Zip\n",
      "Applicant Full Name\n",
      "Applicant Organization\n",
      "Applicant Phone\n",
      "Applicant Address 1\n",
      "Applicant Address 2\n",
      "Applicant City\n",
      "Applicant Zip\n",
      "Certificate Of Occupancy\n"
     ]
    },
    {
     "data": {
      "text/html": [
       "<div>\n",
       "<style>\n",
       "    .dataframe thead tr:only-child th {\n",
       "        text-align: right;\n",
       "    }\n",
       "\n",
       "    .dataframe thead th {\n",
       "        text-align: left;\n",
       "    }\n",
       "\n",
       "    .dataframe tbody tr th {\n",
       "        vertical-align: top;\n",
       "    }\n",
       "</style>\n",
       "<table border=\"1\" class=\"dataframe\">\n",
       "  <thead>\n",
       "    <tr style=\"text-align: right;\">\n",
       "      <th></th>\n",
       "      <th>Permit Type</th>\n",
       "      <th>Permit Class Mapped</th>\n",
       "      <th>Work Class</th>\n",
       "      <th>Condominium</th>\n",
       "      <th>Project Name</th>\n",
       "      <th>Description</th>\n",
       "      <th>TCAD ID</th>\n",
       "      <th>Property Legal Description</th>\n",
       "      <th>Day Issued</th>\n",
       "      <th>Calendar Year Issued</th>\n",
       "      <th>...</th>\n",
       "      <th>Jurisdiction</th>\n",
       "      <th>Link</th>\n",
       "      <th>Master Permit Num</th>\n",
       "      <th>Latitude</th>\n",
       "      <th>Longitude</th>\n",
       "      <th>Location</th>\n",
       "      <th>Contractor Full Name</th>\n",
       "      <th>Contractor Address 1</th>\n",
       "      <th>Contractor City</th>\n",
       "      <th>Total Lot SQFT</th>\n",
       "    </tr>\n",
       "  </thead>\n",
       "  <tbody>\n",
       "    <tr>\n",
       "      <th>949267</th>\n",
       "      <td>MP</td>\n",
       "      <td>Residential</td>\n",
       "      <td>New</td>\n",
       "      <td>No</td>\n",
       "      <td>12509 Mexicana Cv</td>\n",
       "      <td>New Sf Residence W Attached Garage Cov'D Porch...</td>\n",
       "      <td>0330400231</td>\n",
       "      <td>LOT 23 BLK B LOS CIELOS SEC 1</td>\n",
       "      <td>THURSDAY</td>\n",
       "      <td>2005</td>\n",
       "      <td>...</td>\n",
       "      <td>AUSTIN FULL PURPOSE</td>\n",
       "      <td>https://abc.austintexas.gov/web/permit/public-...</td>\n",
       "      <td>716347.0</td>\n",
       "      <td>30.169626</td>\n",
       "      <td>-97.627192</td>\n",
       "      <td>(30.16962574, -97.62719172)</td>\n",
       "      <td>NaN</td>\n",
       "      <td>NaN</td>\n",
       "      <td>Austin</td>\n",
       "      <td>NaN</td>\n",
       "    </tr>\n",
       "    <tr>\n",
       "      <th>949268</th>\n",
       "      <td>MP</td>\n",
       "      <td>Residential</td>\n",
       "      <td>New</td>\n",
       "      <td>No</td>\n",
       "      <td>1921 Bird Call Pass</td>\n",
       "      <td>New 1 Sty Sf Residence WAtt Garage Cvd PorchPatio</td>\n",
       "      <td>0245300804</td>\n",
       "      <td>LOT 9 BLK P PIONEER CROSSING WEST SEC 6</td>\n",
       "      <td>WEDNESDAY</td>\n",
       "      <td>2005</td>\n",
       "      <td>...</td>\n",
       "      <td>AUSTIN FULL PURPOSE</td>\n",
       "      <td>https://abc.austintexas.gov/web/permit/public-...</td>\n",
       "      <td>716348.0</td>\n",
       "      <td>30.371681</td>\n",
       "      <td>-97.652043</td>\n",
       "      <td>(30.37168068, -97.65204275)</td>\n",
       "      <td>NaN</td>\n",
       "      <td>6500 RIVER PLACE BLVD BLDG 2, #300</td>\n",
       "      <td>AUSTIN</td>\n",
       "      <td>NaN</td>\n",
       "    </tr>\n",
       "    <tr>\n",
       "      <th>949269</th>\n",
       "      <td>MP</td>\n",
       "      <td>Residential</td>\n",
       "      <td>New</td>\n",
       "      <td>No</td>\n",
       "      <td>12845 Buenos Aires Pkwy</td>\n",
       "      <td>New Sf Residence W Attached Garage Cov'D Porch...</td>\n",
       "      <td>0330431208</td>\n",
       "      <td>LOT 12 BLK P LOS CIELOS SEC 1</td>\n",
       "      <td>FRIDAY</td>\n",
       "      <td>2005</td>\n",
       "      <td>...</td>\n",
       "      <td>AUSTIN FULL PURPOSE</td>\n",
       "      <td>https://abc.austintexas.gov/web/permit/public-...</td>\n",
       "      <td>716349.0</td>\n",
       "      <td>30.167240</td>\n",
       "      <td>-97.622324</td>\n",
       "      <td>(30.16723992, -97.62232383)</td>\n",
       "      <td>NaN</td>\n",
       "      <td>NaN</td>\n",
       "      <td>Austin</td>\n",
       "      <td>NaN</td>\n",
       "    </tr>\n",
       "    <tr>\n",
       "      <th>949270</th>\n",
       "      <td>MP</td>\n",
       "      <td>Residential</td>\n",
       "      <td>New</td>\n",
       "      <td>No</td>\n",
       "      <td>12608 Campana Dr</td>\n",
       "      <td>New Sf Residence W Attached Garage Cov'D Porch...</td>\n",
       "      <td>0330400215</td>\n",
       "      <td>LOT 39 BLK B LOS CIELOS SEC 1</td>\n",
       "      <td>MONDAY</td>\n",
       "      <td>2005</td>\n",
       "      <td>...</td>\n",
       "      <td>AUSTIN FULL PURPOSE</td>\n",
       "      <td>https://abc.austintexas.gov/web/permit/public-...</td>\n",
       "      <td>716350.0</td>\n",
       "      <td>30.168743</td>\n",
       "      <td>-97.626033</td>\n",
       "      <td>(30.16874311, -97.62603259)</td>\n",
       "      <td>NaN</td>\n",
       "      <td>NaN</td>\n",
       "      <td>Austin</td>\n",
       "      <td>NaN</td>\n",
       "    </tr>\n",
       "    <tr>\n",
       "      <th>949271</th>\n",
       "      <td>MP</td>\n",
       "      <td>Residential</td>\n",
       "      <td>New</td>\n",
       "      <td>No</td>\n",
       "      <td>1105 Mooreland Dr</td>\n",
       "      <td>New Sf Residence W Attached Garage Cov'D Porch...</td>\n",
       "      <td>0438231011</td>\n",
       "      <td>LOT 6 BLK D CHAPPELL HILL</td>\n",
       "      <td>WEDNESDAY</td>\n",
       "      <td>2005</td>\n",
       "      <td>...</td>\n",
       "      <td>AUSTIN FULL PURPOSE</td>\n",
       "      <td>https://abc.austintexas.gov/web/permit/public-...</td>\n",
       "      <td>716351.0</td>\n",
       "      <td>30.150324</td>\n",
       "      <td>-97.828910</td>\n",
       "      <td>(30.15032383, -97.82891041)</td>\n",
       "      <td>NaN</td>\n",
       "      <td>5716 W US 290 HWY SUITE 205</td>\n",
       "      <td>Austin</td>\n",
       "      <td>NaN</td>\n",
       "    </tr>\n",
       "  </tbody>\n",
       "</table>\n",
       "<p>5 rows × 38 columns</p>\n",
       "</div>"
      ],
      "text/plain": [
       "       Permit Type Permit Class Mapped Work Class Condominium  \\\n",
       "949267          MP         Residential        New          No   \n",
       "949268          MP         Residential        New          No   \n",
       "949269          MP         Residential        New          No   \n",
       "949270          MP         Residential        New          No   \n",
       "949271          MP         Residential        New          No   \n",
       "\n",
       "                   Project Name  \\\n",
       "949267        12509 Mexicana Cv   \n",
       "949268      1921 Bird Call Pass   \n",
       "949269  12845 Buenos Aires Pkwy   \n",
       "949270         12608 Campana Dr   \n",
       "949271        1105 Mooreland Dr   \n",
       "\n",
       "                                              Description     TCAD ID  \\\n",
       "949267  New Sf Residence W Attached Garage Cov'D Porch...  0330400231   \n",
       "949268  New 1 Sty Sf Residence WAtt Garage Cvd PorchPatio  0245300804   \n",
       "949269  New Sf Residence W Attached Garage Cov'D Porch...  0330431208   \n",
       "949270  New Sf Residence W Attached Garage Cov'D Porch...  0330400215   \n",
       "949271  New Sf Residence W Attached Garage Cov'D Porch...  0438231011   \n",
       "\n",
       "                     Property Legal Description Day Issued  \\\n",
       "949267            LOT 23 BLK B LOS CIELOS SEC 1   THURSDAY   \n",
       "949268  LOT 9 BLK P PIONEER CROSSING WEST SEC 6  WEDNESDAY   \n",
       "949269            LOT 12 BLK P LOS CIELOS SEC 1     FRIDAY   \n",
       "949270            LOT 39 BLK B LOS CIELOS SEC 1     MONDAY   \n",
       "949271                LOT 6 BLK D CHAPPELL HILL  WEDNESDAY   \n",
       "\n",
       "        Calendar Year Issued       ...               Jurisdiction  \\\n",
       "949267                  2005       ...        AUSTIN FULL PURPOSE   \n",
       "949268                  2005       ...        AUSTIN FULL PURPOSE   \n",
       "949269                  2005       ...        AUSTIN FULL PURPOSE   \n",
       "949270                  2005       ...        AUSTIN FULL PURPOSE   \n",
       "949271                  2005       ...        AUSTIN FULL PURPOSE   \n",
       "\n",
       "                                                     Link Master Permit Num  \\\n",
       "949267  https://abc.austintexas.gov/web/permit/public-...          716347.0   \n",
       "949268  https://abc.austintexas.gov/web/permit/public-...          716348.0   \n",
       "949269  https://abc.austintexas.gov/web/permit/public-...          716349.0   \n",
       "949270  https://abc.austintexas.gov/web/permit/public-...          716350.0   \n",
       "949271  https://abc.austintexas.gov/web/permit/public-...          716351.0   \n",
       "\n",
       "         Latitude  Longitude                     Location  \\\n",
       "949267  30.169626 -97.627192  (30.16962574, -97.62719172)   \n",
       "949268  30.371681 -97.652043  (30.37168068, -97.65204275)   \n",
       "949269  30.167240 -97.622324  (30.16723992, -97.62232383)   \n",
       "949270  30.168743 -97.626033  (30.16874311, -97.62603259)   \n",
       "949271  30.150324 -97.828910  (30.15032383, -97.82891041)   \n",
       "\n",
       "        Contractor Full Name                Contractor Address 1  \\\n",
       "949267                   NaN                                 NaN   \n",
       "949268                   NaN  6500 RIVER PLACE BLVD BLDG 2, #300   \n",
       "949269                   NaN                                 NaN   \n",
       "949270                   NaN                                 NaN   \n",
       "949271                   NaN         5716 W US 290 HWY SUITE 205   \n",
       "\n",
       "        Contractor City  Total Lot SQFT  \n",
       "949267           Austin             NaN  \n",
       "949268           AUSTIN             NaN  \n",
       "949269           Austin             NaN  \n",
       "949270           Austin             NaN  \n",
       "949271           Austin             NaN  \n",
       "\n",
       "[5 rows x 38 columns]"
      ]
     },
     "execution_count": 4,
     "metadata": {},
     "output_type": "execute_result"
    }
   ],
   "source": [
    "dataFile = \"./Issued_Construction_Permits.csv\"\n",
    "trainName= \"train.csv\"\n",
    "testName = 'test.csv'\n",
    "cleanName= \"cleaned.csv\"\n",
    "data = pd.read_csv(dataFile, skipinitialspace=True)\n",
    "\n",
    "#Columns with detected mixed types\n",
    "mixedData_col = [52,54,56,58,59,60,61,62,63,64,65,66]\n",
    "\n",
    "columnsNames = data.columns.values\n",
    "#excess labels included in feature drop\n",
    "#Darwin doesn't like mulitple date fields either so they must be dropped as well\n",
    "#Can't one-hot encode descriptions and Darwin can't process them either, thus they are dropped as well, including Addresses\n",
    "featureDrop = ['Permit Type Desc', 'Permit Num', 'Permit Class', 'Contractor Trade', 'Applied Date', \n",
    "               'Issued Date', 'Status Date', 'Expires Date', 'Completed Date', 'Plumbing Valuation', 'Plumbing Valuation Remodel',\n",
    "               'Electrical Valuation', 'Electrical Valuation Remodel', 'Mechanical Valuation', 'Mechanical Valuation Remodel',\n",
    "               'MedGas Valuation', 'MedGas Valuation Remodel', 'Project ID', 'Issuance Method', 'Issued In Last 30 Days',\n",
    "               'Property Legal Description', 'Description']\n",
    "#add mixed datatype col to feature drop until later date of processing \n",
    "print(\"Removed mixed data columns from dataset:\")\n",
    "for col in mixedData_col:\n",
    "    print(columnsNames[col])\n",
    "    featureDrop.append(columnsNames[col])\n",
    "\n",
    "#reduce dimensionality and remove excess labels\n",
    "fullData = data.drop(featureDrop, axis=1)\n",
    "\n",
    "#pick sample sizes (max is half the dataset due to Darwin restrictions on Big Data)\n",
    "trainSize = math.floor(len(fullData)/2)\n",
    "testSize = math.floor(len(fullData)/10)\n",
    "\n",
    "#assumption here is that entries will be added to dataset with a random distribution and thus only the index of the \n",
    "#record could act as a chronological bias, but otherwise sufficently random. \n",
    "testSet = fullData.head(testSize)\n",
    "trainData = fullData.tail(trainSize)\n",
    "\n",
    "#write out datasets to disk to upload later\n",
    "testSet.to_csv(os.path.join(path, testName))\n",
    "trainData.to_csv(os.path.join(path, trainName))\n",
    "\n",
    "#show data / completed write to disk\n",
    "trainData.head()"
   ]
  },
  {
   "cell_type": "markdown",
   "metadata": {},
   "source": [
    "In this dataset we will attempt to use the Permit Type as the class label for the data and because of that we need to remove some columns that also act as labels in that capacity that might skew the results. Columns that are similar to Permit type are:\n",
    "\n",
    "    Permit Type Description (too hard to process due to variablility of descriptions, but also typically contains label name)\n",
    "    Permit Num (since it contain the type in the code)\n",
    "    Permit Class (functions much like a label)\n",
    "    Contractor Trade (plummers typically take plumbing jobs, electricians take electrician jobs thus could act as a label)\n",
    "    Project ID (applies to series of permits stored in folder in database, unsurprisingly permits are put in similar folders)\n",
    "\n",
    "Tangental Job indicators: (subject to testing and feature engineering)\n",
    "\n",
    "    *Plumbing Valuation\n",
    "    *Plumbing Valuation Remodel\n",
    "    *Electrical Valuation\n",
    "    *Electrical Valuation Remodel\n",
    "    *Mechanical Valuation\n",
    "    *Mechanical Valuation Remodel \n",
    "    *MedGas Valuation\n",
    "    *MedGas Valuation Remodel\n",
    "\n",
    "It might be interesting to note that a renovation job might include plumbing costs and the difference being the cost threshold which decides if its specifically a plumbing job.\n",
    "\n",
    "Interesting sidenote our data qualifies as big data under Darwin's algorithms (>500MB in size) as such not only can we sample\n",
    "at most half our dataset but also the need to remove addional columns before uploading including those above."
   ]
  },
  {
   "cell_type": "markdown",
   "metadata": {},
   "source": [
    "### Upload to Darwin"
   ]
  },
  {
   "cell_type": "code",
   "execution_count": 5,
   "metadata": {
    "collapsed": true
   },
   "outputs": [],
   "source": [
    "status, dataset = ds.upload_dataset(os.path.join(path, trainName))\n",
    "if not status:\n",
    "    print(dataset)"
   ]
  },
  {
   "cell_type": "markdown",
   "metadata": {},
   "source": [
    "#### Clean dataset"
   ]
  },
  {
   "cell_type": "code",
   "execution_count": 6,
   "metadata": {},
   "outputs": [
    {
     "name": "stdout",
     "output_type": "stream",
     "text": [
      "{'job_name': '9a3327349c834d7c9de7a628b2881189', 'artifact_name': '541eb9caf4bb4734952eebc01a1bd87d'}\n",
      "{'status': 'Requested', 'starttime': '2019-04-19T19:34:52.7673', 'endtime': None, 'percent_complete': 0, 'job_type': 'CleanDataTiny', 'loss': None, 'generations': None, 'dataset_names': ['test10.csv'], 'artifact_names': ['541eb9caf4bb4734952eebc01a1bd87d'], 'model_name': None, 'job_error': None}\n",
      "{'status': 'Running', 'starttime': '2019-04-19T19:34:52.7673', 'endtime': None, 'percent_complete': 0, 'job_type': 'CleanDataTiny', 'loss': None, 'generations': None, 'dataset_names': ['test10.csv'], 'artifact_names': ['541eb9caf4bb4734952eebc01a1bd87d'], 'model_name': None, 'job_error': ''}\n",
      "{'status': 'Running', 'starttime': '2019-04-19T19:34:52.7673', 'endtime': None, 'percent_complete': 0, 'job_type': 'CleanDataTiny', 'loss': None, 'generations': None, 'dataset_names': ['test10.csv'], 'artifact_names': ['541eb9caf4bb4734952eebc01a1bd87d'], 'model_name': None, 'job_error': ''}\n",
      "{'status': 'Running', 'starttime': '2019-04-19T19:34:52.7673', 'endtime': None, 'percent_complete': 0, 'job_type': 'CleanDataTiny', 'loss': None, 'generations': None, 'dataset_names': ['test10.csv'], 'artifact_names': ['541eb9caf4bb4734952eebc01a1bd87d'], 'model_name': None, 'job_error': ''}\n",
      "{'status': 'Running', 'starttime': '2019-04-19T19:34:52.7673', 'endtime': None, 'percent_complete': 0, 'job_type': 'CleanDataTiny', 'loss': None, 'generations': None, 'dataset_names': ['test10.csv'], 'artifact_names': ['541eb9caf4bb4734952eebc01a1bd87d'], 'model_name': None, 'job_error': ''}\n",
      "{'status': 'Running', 'starttime': '2019-04-19T19:34:52.7673', 'endtime': None, 'percent_complete': 0, 'job_type': 'CleanDataTiny', 'loss': None, 'generations': None, 'dataset_names': ['test10.csv'], 'artifact_names': ['541eb9caf4bb4734952eebc01a1bd87d'], 'model_name': None, 'job_error': ''}\n",
      "{'status': 'Running', 'starttime': '2019-04-19T19:34:52.7673', 'endtime': None, 'percent_complete': 0, 'job_type': 'CleanDataTiny', 'loss': None, 'generations': None, 'dataset_names': ['test10.csv'], 'artifact_names': ['541eb9caf4bb4734952eebc01a1bd87d'], 'model_name': None, 'job_error': ''}\n",
      "{'status': 'Running', 'starttime': '2019-04-19T19:34:52.7673', 'endtime': None, 'percent_complete': 0, 'job_type': 'CleanDataTiny', 'loss': None, 'generations': None, 'dataset_names': ['test10.csv'], 'artifact_names': ['541eb9caf4bb4734952eebc01a1bd87d'], 'model_name': None, 'job_error': ''}\n",
      "{'status': 'Running', 'starttime': '2019-04-19T19:34:52.7673', 'endtime': None, 'percent_complete': 0, 'job_type': 'CleanDataTiny', 'loss': None, 'generations': None, 'dataset_names': ['test10.csv'], 'artifact_names': ['541eb9caf4bb4734952eebc01a1bd87d'], 'model_name': None, 'job_error': ''}\n",
      "{'status': 'Running', 'starttime': '2019-04-19T19:34:52.7673', 'endtime': None, 'percent_complete': 0, 'job_type': 'CleanDataTiny', 'loss': None, 'generations': None, 'dataset_names': ['test10.csv'], 'artifact_names': ['541eb9caf4bb4734952eebc01a1bd87d'], 'model_name': None, 'job_error': ''}\n",
      "{'status': 'Running', 'starttime': '2019-04-19T19:34:52.7673', 'endtime': None, 'percent_complete': 0, 'job_type': 'CleanDataTiny', 'loss': None, 'generations': None, 'dataset_names': ['test10.csv'], 'artifact_names': ['541eb9caf4bb4734952eebc01a1bd87d'], 'model_name': None, 'job_error': ''}\n",
      "{'status': 'Running', 'starttime': '2019-04-19T19:34:52.7673', 'endtime': None, 'percent_complete': 0, 'job_type': 'CleanDataTiny', 'loss': None, 'generations': None, 'dataset_names': ['test10.csv'], 'artifact_names': ['541eb9caf4bb4734952eebc01a1bd87d'], 'model_name': None, 'job_error': ''}\n",
      "{'status': 'Running', 'starttime': '2019-04-19T19:34:52.7673', 'endtime': None, 'percent_complete': 0, 'job_type': 'CleanDataTiny', 'loss': None, 'generations': None, 'dataset_names': ['test10.csv'], 'artifact_names': ['541eb9caf4bb4734952eebc01a1bd87d'], 'model_name': None, 'job_error': ''}\n",
      "{'status': 'Running', 'starttime': '2019-04-19T19:34:52.7673', 'endtime': None, 'percent_complete': 0, 'job_type': 'CleanDataTiny', 'loss': None, 'generations': None, 'dataset_names': ['test10.csv'], 'artifact_names': ['541eb9caf4bb4734952eebc01a1bd87d'], 'model_name': None, 'job_error': ''}\n",
      "{'status': 'Running', 'starttime': '2019-04-19T19:34:52.7673', 'endtime': None, 'percent_complete': 0, 'job_type': 'CleanDataTiny', 'loss': None, 'generations': None, 'dataset_names': ['test10.csv'], 'artifact_names': ['541eb9caf4bb4734952eebc01a1bd87d'], 'model_name': None, 'job_error': ''}\n",
      "{'status': 'Running', 'starttime': '2019-04-19T19:34:52.7673', 'endtime': None, 'percent_complete': 0, 'job_type': 'CleanDataTiny', 'loss': None, 'generations': None, 'dataset_names': ['test10.csv'], 'artifact_names': ['541eb9caf4bb4734952eebc01a1bd87d'], 'model_name': None, 'job_error': ''}\n",
      "{'status': 'Running', 'starttime': '2019-04-19T19:34:52.7673', 'endtime': None, 'percent_complete': 0, 'job_type': 'CleanDataTiny', 'loss': None, 'generations': None, 'dataset_names': ['test10.csv'], 'artifact_names': ['541eb9caf4bb4734952eebc01a1bd87d'], 'model_name': None, 'job_error': ''}\n",
      "{'status': 'Running', 'starttime': '2019-04-19T19:34:52.7673', 'endtime': None, 'percent_complete': 0, 'job_type': 'CleanDataTiny', 'loss': None, 'generations': None, 'dataset_names': ['test10.csv'], 'artifact_names': ['541eb9caf4bb4734952eebc01a1bd87d'], 'model_name': None, 'job_error': ''}\n",
      "{'status': 'Running', 'starttime': '2019-04-19T19:34:52.7673', 'endtime': None, 'percent_complete': 0, 'job_type': 'CleanDataTiny', 'loss': None, 'generations': None, 'dataset_names': ['test10.csv'], 'artifact_names': ['541eb9caf4bb4734952eebc01a1bd87d'], 'model_name': None, 'job_error': ''}\n",
      "{'status': 'Running', 'starttime': '2019-04-19T19:34:52.7673', 'endtime': None, 'percent_complete': 0, 'job_type': 'CleanDataTiny', 'loss': None, 'generations': None, 'dataset_names': ['test10.csv'], 'artifact_names': ['541eb9caf4bb4734952eebc01a1bd87d'], 'model_name': None, 'job_error': ''}\n",
      "{'status': 'Running', 'starttime': '2019-04-19T19:34:52.7673', 'endtime': None, 'percent_complete': 0, 'job_type': 'CleanDataTiny', 'loss': None, 'generations': None, 'dataset_names': ['test10.csv'], 'artifact_names': ['541eb9caf4bb4734952eebc01a1bd87d'], 'model_name': None, 'job_error': ''}\n",
      "{'status': 'Running', 'starttime': '2019-04-19T19:34:52.7673', 'endtime': None, 'percent_complete': 0, 'job_type': 'CleanDataTiny', 'loss': None, 'generations': None, 'dataset_names': ['test10.csv'], 'artifact_names': ['541eb9caf4bb4734952eebc01a1bd87d'], 'model_name': None, 'job_error': ''}\n",
      "{'status': 'Running', 'starttime': '2019-04-19T19:34:52.7673', 'endtime': None, 'percent_complete': 0, 'job_type': 'CleanDataTiny', 'loss': None, 'generations': None, 'dataset_names': ['test10.csv'], 'artifact_names': ['541eb9caf4bb4734952eebc01a1bd87d'], 'model_name': None, 'job_error': ''}\n",
      "{'status': 'Running', 'starttime': '2019-04-19T19:34:52.7673', 'endtime': None, 'percent_complete': 0, 'job_type': 'CleanDataTiny', 'loss': None, 'generations': None, 'dataset_names': ['test10.csv'], 'artifact_names': ['541eb9caf4bb4734952eebc01a1bd87d'], 'model_name': None, 'job_error': ''}\n",
      "{'status': 'Running', 'starttime': '2019-04-19T19:34:52.7673', 'endtime': None, 'percent_complete': 0, 'job_type': 'CleanDataTiny', 'loss': None, 'generations': None, 'dataset_names': ['test10.csv'], 'artifact_names': ['541eb9caf4bb4734952eebc01a1bd87d'], 'model_name': None, 'job_error': ''}\n",
      "{'status': 'Running', 'starttime': '2019-04-19T19:34:52.7673', 'endtime': None, 'percent_complete': 0, 'job_type': 'CleanDataTiny', 'loss': None, 'generations': None, 'dataset_names': ['test10.csv'], 'artifact_names': ['541eb9caf4bb4734952eebc01a1bd87d'], 'model_name': None, 'job_error': ''}\n",
      "{'status': 'Running', 'starttime': '2019-04-19T19:34:52.7673', 'endtime': None, 'percent_complete': 0, 'job_type': 'CleanDataTiny', 'loss': None, 'generations': None, 'dataset_names': ['test10.csv'], 'artifact_names': ['541eb9caf4bb4734952eebc01a1bd87d'], 'model_name': None, 'job_error': ''}\n",
      "{'status': 'Running', 'starttime': '2019-04-19T19:34:52.7673', 'endtime': None, 'percent_complete': 0, 'job_type': 'CleanDataTiny', 'loss': None, 'generations': None, 'dataset_names': ['test10.csv'], 'artifact_names': ['541eb9caf4bb4734952eebc01a1bd87d'], 'model_name': None, 'job_error': ''}\n"
     ]
    },
    {
     "name": "stdout",
     "output_type": "stream",
     "text": [
      "{'status': 'Running', 'starttime': '2019-04-19T19:34:52.7673', 'endtime': None, 'percent_complete': 0, 'job_type': 'CleanDataTiny', 'loss': None, 'generations': None, 'dataset_names': ['test10.csv'], 'artifact_names': ['541eb9caf4bb4734952eebc01a1bd87d'], 'model_name': None, 'job_error': ''}\n",
      "{'status': 'Running', 'starttime': '2019-04-19T19:34:52.7673', 'endtime': None, 'percent_complete': 0, 'job_type': 'CleanDataTiny', 'loss': None, 'generations': None, 'dataset_names': ['test10.csv'], 'artifact_names': ['541eb9caf4bb4734952eebc01a1bd87d'], 'model_name': None, 'job_error': ''}\n",
      "{'status': 'Running', 'starttime': '2019-04-19T19:34:52.7673', 'endtime': None, 'percent_complete': 0, 'job_type': 'CleanDataTiny', 'loss': None, 'generations': None, 'dataset_names': ['test10.csv'], 'artifact_names': ['541eb9caf4bb4734952eebc01a1bd87d'], 'model_name': None, 'job_error': ''}\n",
      "{'status': 'Running', 'starttime': '2019-04-19T19:34:52.7673', 'endtime': None, 'percent_complete': 0, 'job_type': 'CleanDataTiny', 'loss': None, 'generations': None, 'dataset_names': ['test10.csv'], 'artifact_names': ['541eb9caf4bb4734952eebc01a1bd87d'], 'model_name': None, 'job_error': ''}\n",
      "{'status': 'Running', 'starttime': '2019-04-19T19:34:52.7673', 'endtime': None, 'percent_complete': 0, 'job_type': 'CleanDataTiny', 'loss': None, 'generations': None, 'dataset_names': ['test10.csv'], 'artifact_names': ['541eb9caf4bb4734952eebc01a1bd87d'], 'model_name': None, 'job_error': ''}\n",
      "{'status': 'Running', 'starttime': '2019-04-19T19:34:52.7673', 'endtime': None, 'percent_complete': 0, 'job_type': 'CleanDataTiny', 'loss': None, 'generations': None, 'dataset_names': ['test10.csv'], 'artifact_names': ['541eb9caf4bb4734952eebc01a1bd87d'], 'model_name': None, 'job_error': ''}\n",
      "{'status': 'Running', 'starttime': '2019-04-19T19:34:52.7673', 'endtime': None, 'percent_complete': 0, 'job_type': 'CleanDataTiny', 'loss': None, 'generations': None, 'dataset_names': ['test10.csv'], 'artifact_names': ['541eb9caf4bb4734952eebc01a1bd87d'], 'model_name': None, 'job_error': ''}\n",
      "{'status': 'Complete', 'starttime': '2019-04-19T19:34:52.7673', 'endtime': '2019-04-19T19:43:33.08125', 'percent_complete': 100, 'job_type': 'CleanDataTiny', 'loss': None, 'generations': None, 'dataset_names': ['test10.csv'], 'artifact_names': ['541eb9caf4bb4734952eebc01a1bd87d'], 'model_name': None, 'job_error': ''}\n"
     ]
    }
   ],
   "source": [
    "target = \"Permit Type\"\n",
    "index = \"Applied Date\"\n",
    "model = target + \"_model3\"\n",
    "status, job_id = ds.clean_data(trainName, target = target)\n",
    "print(job_id)\n",
    "if status:\n",
    "    ds.wait_for_job(job_id['job_name'])\n",
    "else:\n",
    "    print(job_id)"
   ]
  },
  {
   "cell_type": "markdown",
   "metadata": {},
   "source": [
    "### Create and Train Model"
   ]
  },
  {
   "cell_type": "code",
   "execution_count": 7,
   "metadata": {},
   "outputs": [
    {
     "name": "stdout",
     "output_type": "stream",
     "text": [
      "{'status': 'Requested', 'starttime': '2019-04-19T19:49:12.456071', 'endtime': None, 'percent_complete': 0, 'job_type': 'TrainModel', 'loss': None, 'generations': 0, 'dataset_names': ['test10.csv'], 'artifact_names': None, 'model_name': 'Permit Type_model10', 'job_error': None}\n",
      "{'status': 'Running', 'starttime': '2019-04-19T19:49:12.456071', 'endtime': None, 'percent_complete': 0, 'job_type': 'TrainModel', 'loss': None, 'generations': 0, 'dataset_names': ['test10.csv'], 'artifact_names': None, 'model_name': 'Permit Type_model10', 'job_error': ''}\n",
      "{'status': 'Running', 'starttime': '2019-04-19T19:49:12.456071', 'endtime': None, 'percent_complete': 0, 'job_type': 'TrainModel', 'loss': None, 'generations': 0, 'dataset_names': ['test10.csv'], 'artifact_names': None, 'model_name': 'Permit Type_model10', 'job_error': ''}\n",
      "{'status': 'Running', 'starttime': '2019-04-19T19:49:12.456071', 'endtime': None, 'percent_complete': 0, 'job_type': 'TrainModel', 'loss': None, 'generations': 0, 'dataset_names': ['test10.csv'], 'artifact_names': None, 'model_name': 'Permit Type_model10', 'job_error': ''}\n",
      "{'status': 'Running', 'starttime': '2019-04-19T19:49:12.456071', 'endtime': None, 'percent_complete': 0, 'job_type': 'TrainModel', 'loss': None, 'generations': 0, 'dataset_names': ['test10.csv'], 'artifact_names': None, 'model_name': 'Permit Type_model10', 'job_error': ''}\n",
      "{'status': 'Running', 'starttime': '2019-04-19T19:49:12.456071', 'endtime': None, 'percent_complete': 0, 'job_type': 'TrainModel', 'loss': None, 'generations': 0, 'dataset_names': ['test10.csv'], 'artifact_names': None, 'model_name': 'Permit Type_model10', 'job_error': ''}\n",
      "{'status': 'Running', 'starttime': '2019-04-19T19:49:12.456071', 'endtime': None, 'percent_complete': 0, 'job_type': 'TrainModel', 'loss': None, 'generations': 0, 'dataset_names': ['test10.csv'], 'artifact_names': None, 'model_name': 'Permit Type_model10', 'job_error': ''}\n",
      "{'status': 'Running', 'starttime': '2019-04-19T19:49:12.456071', 'endtime': None, 'percent_complete': 0, 'job_type': 'TrainModel', 'loss': None, 'generations': 0, 'dataset_names': ['test10.csv'], 'artifact_names': None, 'model_name': 'Permit Type_model10', 'job_error': ''}\n",
      "{'status': 'Running', 'starttime': '2019-04-19T19:49:12.456071', 'endtime': None, 'percent_complete': 0, 'job_type': 'TrainModel', 'loss': None, 'generations': 0, 'dataset_names': ['test10.csv'], 'artifact_names': None, 'model_name': 'Permit Type_model10', 'job_error': ''}\n",
      "{'status': 'Running', 'starttime': '2019-04-19T19:49:12.456071', 'endtime': None, 'percent_complete': 0, 'job_type': 'TrainModel', 'loss': None, 'generations': 0, 'dataset_names': ['test10.csv'], 'artifact_names': None, 'model_name': 'Permit Type_model10', 'job_error': ''}\n",
      "{'status': 'Running', 'starttime': '2019-04-19T19:49:12.456071', 'endtime': None, 'percent_complete': 0, 'job_type': 'TrainModel', 'loss': None, 'generations': 0, 'dataset_names': ['test10.csv'], 'artifact_names': None, 'model_name': 'Permit Type_model10', 'job_error': ''}\n",
      "{'status': 'Running', 'starttime': '2019-04-19T19:49:12.456071', 'endtime': None, 'percent_complete': 0, 'job_type': 'TrainModel', 'loss': None, 'generations': 0, 'dataset_names': ['test10.csv'], 'artifact_names': None, 'model_name': 'Permit Type_model10', 'job_error': ''}\n",
      "{'status': 'Running', 'starttime': '2019-04-19T19:49:12.456071', 'endtime': None, 'percent_complete': 0, 'job_type': 'TrainModel', 'loss': None, 'generations': 0, 'dataset_names': ['test10.csv'], 'artifact_names': None, 'model_name': 'Permit Type_model10', 'job_error': ''}\n",
      "{'status': 'Running', 'starttime': '2019-04-19T19:49:12.456071', 'endtime': None, 'percent_complete': 0, 'job_type': 'TrainModel', 'loss': None, 'generations': 0, 'dataset_names': ['test10.csv'], 'artifact_names': None, 'model_name': 'Permit Type_model10', 'job_error': ''}\n",
      "{'status': 'Running', 'starttime': '2019-04-19T19:49:12.456071', 'endtime': None, 'percent_complete': 0, 'job_type': 'TrainModel', 'loss': None, 'generations': 0, 'dataset_names': ['test10.csv'], 'artifact_names': None, 'model_name': 'Permit Type_model10', 'job_error': ''}\n",
      "{'status': 'Running', 'starttime': '2019-04-19T19:49:12.456071', 'endtime': None, 'percent_complete': 0, 'job_type': 'TrainModel', 'loss': None, 'generations': 0, 'dataset_names': ['test10.csv'], 'artifact_names': None, 'model_name': 'Permit Type_model10', 'job_error': ''}\n",
      "{'status': 'Running', 'starttime': '2019-04-19T19:49:12.456071', 'endtime': None, 'percent_complete': 0, 'job_type': 'TrainModel', 'loss': None, 'generations': 0, 'dataset_names': ['test10.csv'], 'artifact_names': None, 'model_name': 'Permit Type_model10', 'job_error': ''}\n",
      "{'status': 'Running', 'starttime': '2019-04-19T19:49:12.456071', 'endtime': None, 'percent_complete': 0, 'job_type': 'TrainModel', 'loss': None, 'generations': 0, 'dataset_names': ['test10.csv'], 'artifact_names': None, 'model_name': 'Permit Type_model10', 'job_error': ''}\n",
      "{'status': 'Running', 'starttime': '2019-04-19T19:49:12.456071', 'endtime': None, 'percent_complete': 0, 'job_type': 'TrainModel', 'loss': None, 'generations': 0, 'dataset_names': ['test10.csv'], 'artifact_names': None, 'model_name': 'Permit Type_model10', 'job_error': ''}\n",
      "{'status': 'Running', 'starttime': '2019-04-19T19:49:12.456071', 'endtime': None, 'percent_complete': 0, 'job_type': 'TrainModel', 'loss': None, 'generations': 0, 'dataset_names': ['test10.csv'], 'artifact_names': None, 'model_name': 'Permit Type_model10', 'job_error': ''}\n",
      "{'status': 'Running', 'starttime': '2019-04-19T19:49:12.456071', 'endtime': None, 'percent_complete': 0, 'job_type': 'TrainModel', 'loss': None, 'generations': 0, 'dataset_names': ['test10.csv'], 'artifact_names': None, 'model_name': 'Permit Type_model10', 'job_error': ''}\n",
      "{'status': 'Running', 'starttime': '2019-04-19T19:49:12.456071', 'endtime': None, 'percent_complete': 0, 'job_type': 'TrainModel', 'loss': None, 'generations': 0, 'dataset_names': ['test10.csv'], 'artifact_names': None, 'model_name': 'Permit Type_model10', 'job_error': ''}\n",
      "{'status': 'Running', 'starttime': '2019-04-19T19:49:12.456071', 'endtime': None, 'percent_complete': 0, 'job_type': 'TrainModel', 'loss': None, 'generations': 0, 'dataset_names': ['test10.csv'], 'artifact_names': None, 'model_name': 'Permit Type_model10', 'job_error': ''}\n",
      "{'status': 'Running', 'starttime': '2019-04-19T19:49:12.456071', 'endtime': None, 'percent_complete': 20, 'job_type': 'TrainModel', 'loss': 1.0170252323150635, 'generations': 0, 'dataset_names': ['test10.csv'], 'artifact_names': None, 'model_name': 'Permit Type_model10', 'job_error': ''}\n",
      "{'status': 'Running', 'starttime': '2019-04-19T19:49:12.456071', 'endtime': None, 'percent_complete': 20, 'job_type': 'TrainModel', 'loss': 1.0170252323150635, 'generations': 0, 'dataset_names': ['test10.csv'], 'artifact_names': None, 'model_name': 'Permit Type_model10', 'job_error': ''}\n",
      "{'status': 'Running', 'starttime': '2019-04-19T19:49:12.456071', 'endtime': None, 'percent_complete': 20, 'job_type': 'TrainModel', 'loss': 1.0170252323150635, 'generations': 0, 'dataset_names': ['test10.csv'], 'artifact_names': None, 'model_name': 'Permit Type_model10', 'job_error': ''}\n",
      "{'status': 'Running', 'starttime': '2019-04-19T19:49:12.456071', 'endtime': None, 'percent_complete': 20, 'job_type': 'TrainModel', 'loss': 1.0170252323150635, 'generations': 0, 'dataset_names': ['test10.csv'], 'artifact_names': None, 'model_name': 'Permit Type_model10', 'job_error': ''}\n",
      "{'status': 'Running', 'starttime': '2019-04-19T19:49:12.456071', 'endtime': None, 'percent_complete': 20, 'job_type': 'TrainModel', 'loss': 1.0170252323150635, 'generations': 0, 'dataset_names': ['test10.csv'], 'artifact_names': None, 'model_name': 'Permit Type_model10', 'job_error': ''}\n",
      "{'status': 'Running', 'starttime': '2019-04-19T19:49:12.456071', 'endtime': None, 'percent_complete': 20, 'job_type': 'TrainModel', 'loss': 1.0170252323150635, 'generations': 0, 'dataset_names': ['test10.csv'], 'artifact_names': None, 'model_name': 'Permit Type_model10', 'job_error': ''}\n",
      "{'status': 'Running', 'starttime': '2019-04-19T19:49:12.456071', 'endtime': None, 'percent_complete': 20, 'job_type': 'TrainModel', 'loss': 1.0170252323150635, 'generations': 0, 'dataset_names': ['test10.csv'], 'artifact_names': None, 'model_name': 'Permit Type_model10', 'job_error': ''}\n"
     ]
    },
    {
     "name": "stdout",
     "output_type": "stream",
     "text": [
      "{'status': 'Running', 'starttime': '2019-04-19T19:49:12.456071', 'endtime': None, 'percent_complete': 20, 'job_type': 'TrainModel', 'loss': 1.0170252323150635, 'generations': 0, 'dataset_names': ['test10.csv'], 'artifact_names': None, 'model_name': 'Permit Type_model10', 'job_error': ''}\n",
      "{'status': 'Running', 'starttime': '2019-04-19T19:49:12.456071', 'endtime': None, 'percent_complete': 20, 'job_type': 'TrainModel', 'loss': 1.0170252323150635, 'generations': 0, 'dataset_names': ['test10.csv'], 'artifact_names': None, 'model_name': 'Permit Type_model10', 'job_error': ''}\n",
      "{'status': 'Running', 'starttime': '2019-04-19T19:49:12.456071', 'endtime': None, 'percent_complete': 20, 'job_type': 'TrainModel', 'loss': 1.0170252323150635, 'generations': 0, 'dataset_names': ['test10.csv'], 'artifact_names': None, 'model_name': 'Permit Type_model10', 'job_error': ''}\n",
      "{'status': 'Running', 'starttime': '2019-04-19T19:49:12.456071', 'endtime': None, 'percent_complete': 20, 'job_type': 'TrainModel', 'loss': 1.0170252323150635, 'generations': 0, 'dataset_names': ['test10.csv'], 'artifact_names': None, 'model_name': 'Permit Type_model10', 'job_error': ''}\n",
      "{'status': 'Running', 'starttime': '2019-04-19T19:49:12.456071', 'endtime': None, 'percent_complete': 20, 'job_type': 'TrainModel', 'loss': 1.0170252323150635, 'generations': 0, 'dataset_names': ['test10.csv'], 'artifact_names': None, 'model_name': 'Permit Type_model10', 'job_error': ''}\n",
      "{'status': 'Running', 'starttime': '2019-04-19T19:49:12.456071', 'endtime': None, 'percent_complete': 20, 'job_type': 'TrainModel', 'loss': 1.0170252323150635, 'generations': 0, 'dataset_names': ['test10.csv'], 'artifact_names': None, 'model_name': 'Permit Type_model10', 'job_error': ''}\n",
      "{'status': 'Running', 'starttime': '2019-04-19T19:49:12.456071', 'endtime': None, 'percent_complete': 20, 'job_type': 'TrainModel', 'loss': 1.0170252323150635, 'generations': 0, 'dataset_names': ['test10.csv'], 'artifact_names': None, 'model_name': 'Permit Type_model10', 'job_error': ''}\n",
      "{'status': 'Running', 'starttime': '2019-04-19T19:49:12.456071', 'endtime': None, 'percent_complete': 20, 'job_type': 'TrainModel', 'loss': 1.0170252323150635, 'generations': 0, 'dataset_names': ['test10.csv'], 'artifact_names': None, 'model_name': 'Permit Type_model10', 'job_error': ''}\n",
      "{'status': 'Running', 'starttime': '2019-04-19T19:49:12.456071', 'endtime': None, 'percent_complete': 20, 'job_type': 'TrainModel', 'loss': 1.0170252323150635, 'generations': 0, 'dataset_names': ['test10.csv'], 'artifact_names': None, 'model_name': 'Permit Type_model10', 'job_error': ''}\n",
      "{'status': 'Running', 'starttime': '2019-04-19T19:49:12.456071', 'endtime': None, 'percent_complete': 20, 'job_type': 'TrainModel', 'loss': 1.0170252323150635, 'generations': 0, 'dataset_names': ['test10.csv'], 'artifact_names': None, 'model_name': 'Permit Type_model10', 'job_error': ''}\n",
      "{'status': 'Running', 'starttime': '2019-04-19T19:49:12.456071', 'endtime': None, 'percent_complete': 20, 'job_type': 'TrainModel', 'loss': 1.0170252323150635, 'generations': 0, 'dataset_names': ['test10.csv'], 'artifact_names': None, 'model_name': 'Permit Type_model10', 'job_error': ''}\n"
     ]
    }
   ],
   "source": [
    "status, job_id = ds.create_model(dataset_names = trainName, \\\n",
    "                                 model_name =  model, \\\n",
    "                                 max_train_time = '00:15')\n",
    "if status:\n",
    "    ds.wait_for_job(job_id['job_name'])\n",
    "else:\n",
    "    print(job_id)"
   ]
  },
  {
   "cell_type": "markdown",
   "metadata": {},
   "source": [
    "#### Check status of job"
   ]
  },
  {
   "cell_type": "code",
   "execution_count": 9,
   "metadata": {},
   "outputs": [
    {
     "name": "stdout",
     "output_type": "stream",
     "text": [
      "{'status': 'Complete', 'starttime': '2019-04-19T19:49:12.456071', 'endtime': '2019-04-19T20:10:01.922132', 'percent_complete': 100, 'job_type': 'TrainModel', 'loss': 1.0170252323150635, 'generations': 0, 'dataset_names': ['test10.csv'], 'artifact_names': None, 'model_name': 'Permit Type_model10', 'job_error': ''}\n"
     ]
    }
   ],
   "source": [
    "if status:\n",
    "    ds.wait_for_job(job_id['job_name'])\n",
    "else:\n",
    "    print(job_id)"
   ]
  },
  {
   "cell_type": "markdown",
   "metadata": {},
   "source": [
    "### Analyze Model"
   ]
  },
  {
   "cell_type": "code",
   "execution_count": 10,
   "metadata": {},
   "outputs": [
    {
     "name": "stdout",
     "output_type": "stream",
     "text": [
      "{'status': 'Running', 'starttime': '2019-04-19T20:10:28.678311', 'endtime': None, 'percent_complete': 0, 'job_type': 'AnalyzeModel', 'loss': 1.0170252323150635, 'generations': 0, 'dataset_names': None, 'artifact_names': ['d0b9f25d4680463fbc07158e6ef2cfcf'], 'model_name': 'Permit Type_model10', 'job_error': ''}\n",
      "{'status': 'Running', 'starttime': '2019-04-19T20:10:28.678311', 'endtime': None, 'percent_complete': 0, 'job_type': 'AnalyzeModel', 'loss': 1.0170252323150635, 'generations': 0, 'dataset_names': None, 'artifact_names': ['d0b9f25d4680463fbc07158e6ef2cfcf'], 'model_name': 'Permit Type_model10', 'job_error': ''}\n",
      "{'status': 'Running', 'starttime': '2019-04-19T20:10:28.678311', 'endtime': None, 'percent_complete': 0, 'job_type': 'AnalyzeModel', 'loss': 1.0170252323150635, 'generations': 0, 'dataset_names': None, 'artifact_names': ['d0b9f25d4680463fbc07158e6ef2cfcf'], 'model_name': 'Permit Type_model10', 'job_error': ''}\n",
      "{'status': 'Running', 'starttime': '2019-04-19T20:10:28.678311', 'endtime': None, 'percent_complete': 0, 'job_type': 'AnalyzeModel', 'loss': 1.0170252323150635, 'generations': 0, 'dataset_names': None, 'artifact_names': ['d0b9f25d4680463fbc07158e6ef2cfcf'], 'model_name': 'Permit Type_model10', 'job_error': ''}\n",
      "{'status': 'Running', 'starttime': '2019-04-19T20:10:28.678311', 'endtime': None, 'percent_complete': 0, 'job_type': 'AnalyzeModel', 'loss': 1.0170252323150635, 'generations': 0, 'dataset_names': None, 'artifact_names': ['d0b9f25d4680463fbc07158e6ef2cfcf'], 'model_name': 'Permit Type_model10', 'job_error': ''}\n",
      "{'status': 'Complete', 'starttime': '2019-04-19T20:10:28.678311', 'endtime': '2019-04-19T20:11:43.745705', 'percent_complete': 100, 'job_type': 'AnalyzeModel', 'loss': 1.0170252323150635, 'generations': 0, 'dataset_names': None, 'artifact_names': ['d0b9f25d4680463fbc07158e6ef2cfcf'], 'model_name': 'Permit Type_model10', 'job_error': ''}\n"
     ]
    }
   ],
   "source": [
    "# Retrieve feature importance of built model\n",
    "status, artifact = ds.analyze_model(model)\n",
    "sleep(1)\n",
    "if status:\n",
    "    ds.wait_for_job(artifact['job_name'])\n",
    "else:\n",
    "    print(artifact)\n",
    "status, feature_importance = ds.download_artifact(artifact['artifact_name'])\n"
   ]
  },
  {
   "cell_type": "markdown",
   "metadata": {},
   "source": [
    "Display most important features of the model."
   ]
  },
  {
   "cell_type": "code",
   "execution_count": 11,
   "metadata": {},
   "outputs": [
    {
     "data": {
      "text/plain": [
       "Unnamed: 0              0.639126\n",
       "Master Permit Num       0.123466\n",
       "Housing Units           0.031736\n",
       "Total Job Valuation     0.026536\n",
       "Number Of Floors        0.026159\n",
       "Calendar Year Issued    0.019575\n",
       "Fiscal Year Issued      0.015977\n",
       "Longitude               0.013272\n",
       "Latitude                0.013131\n",
       "TCAD ID                 0.012157\n",
       "dtype: float64"
      ]
     },
     "execution_count": 11,
     "metadata": {},
     "output_type": "execute_result"
    }
   ],
   "source": [
    "feature_importance[:10]"
   ]
  },
  {
   "cell_type": "markdown",
   "metadata": {},
   "source": [
    "### Predictions\n",
    "\n",
    "#### Perform model prediction on the training dataset."
   ]
  },
  {
   "cell_type": "code",
   "execution_count": 12,
   "metadata": {},
   "outputs": [
    {
     "name": "stdout",
     "output_type": "stream",
     "text": [
      "{'status': 'Running', 'starttime': '2019-04-19T20:12:08.733762', 'endtime': None, 'percent_complete': 0, 'job_type': 'RunModel', 'loss': 1.0170252323150635, 'generations': 0, 'dataset_names': ['test10.csv'], 'artifact_names': ['a1af67bd1e8e4719b83df8d961133006'], 'model_name': 'Permit Type_model10', 'job_error': ''}\n",
      "{'status': 'Running', 'starttime': '2019-04-19T20:12:08.733762', 'endtime': None, 'percent_complete': 0, 'job_type': 'RunModel', 'loss': 1.0170252323150635, 'generations': 0, 'dataset_names': ['test10.csv'], 'artifact_names': ['a1af67bd1e8e4719b83df8d961133006'], 'model_name': 'Permit Type_model10', 'job_error': ''}\n",
      "{'status': 'Running', 'starttime': '2019-04-19T20:12:08.733762', 'endtime': None, 'percent_complete': 0, 'job_type': 'RunModel', 'loss': 1.0170252323150635, 'generations': 0, 'dataset_names': ['test10.csv'], 'artifact_names': ['a1af67bd1e8e4719b83df8d961133006'], 'model_name': 'Permit Type_model10', 'job_error': ''}\n",
      "{'status': 'Running', 'starttime': '2019-04-19T20:12:08.733762', 'endtime': None, 'percent_complete': 0, 'job_type': 'RunModel', 'loss': 1.0170252323150635, 'generations': 0, 'dataset_names': ['test10.csv'], 'artifact_names': ['a1af67bd1e8e4719b83df8d961133006'], 'model_name': 'Permit Type_model10', 'job_error': ''}\n",
      "{'status': 'Complete', 'starttime': '2019-04-19T20:12:08.733762', 'endtime': '2019-04-19T20:13:03.94822', 'percent_complete': 100, 'job_type': 'RunModel', 'loss': 1.0170252323150635, 'generations': 0, 'dataset_names': ['test10.csv'], 'artifact_names': ['a1af67bd1e8e4719b83df8d961133006'], 'model_name': 'Permit Type_model10', 'job_error': ''}\n"
     ]
    },
    {
     "data": {
      "text/plain": [
       "(True, 'Job completed')"
      ]
     },
     "execution_count": 12,
     "metadata": {},
     "output_type": "execute_result"
    }
   ],
   "source": [
    "status, artifact = ds.run_model(trainName, model)\n",
    "sleep(1)\n",
    "ds.wait_for_job(artifact['job_name'])"
   ]
  },
  {
   "cell_type": "markdown",
   "metadata": {},
   "source": [
    "#### Download predictions from Darwin."
   ]
  },
  {
   "cell_type": "code",
   "execution_count": 13,
   "metadata": {},
   "outputs": [
    {
     "data": {
      "text/html": [
       "<div>\n",
       "<style>\n",
       "    .dataframe thead tr:only-child th {\n",
       "        text-align: right;\n",
       "    }\n",
       "\n",
       "    .dataframe thead th {\n",
       "        text-align: left;\n",
       "    }\n",
       "\n",
       "    .dataframe tbody tr th {\n",
       "        vertical-align: top;\n",
       "    }\n",
       "</style>\n",
       "<table border=\"1\" class=\"dataframe\">\n",
       "  <thead>\n",
       "    <tr style=\"text-align: right;\">\n",
       "      <th></th>\n",
       "      <th>Permit Type</th>\n",
       "      <th>prob_BP</th>\n",
       "      <th>prob_DS</th>\n",
       "      <th>prob_EP</th>\n",
       "      <th>prob_MP</th>\n",
       "      <th>prob_PP</th>\n",
       "    </tr>\n",
       "  </thead>\n",
       "  <tbody>\n",
       "    <tr>\n",
       "      <th>0</th>\n",
       "      <td>MP</td>\n",
       "      <td>0.0</td>\n",
       "      <td>0.0</td>\n",
       "      <td>1.027385e-35</td>\n",
       "      <td>1.0</td>\n",
       "      <td>0.000000e+00</td>\n",
       "    </tr>\n",
       "    <tr>\n",
       "      <th>1</th>\n",
       "      <td>MP</td>\n",
       "      <td>0.0</td>\n",
       "      <td>0.0</td>\n",
       "      <td>3.068349e-37</td>\n",
       "      <td>1.0</td>\n",
       "      <td>0.000000e+00</td>\n",
       "    </tr>\n",
       "    <tr>\n",
       "      <th>2</th>\n",
       "      <td>MP</td>\n",
       "      <td>0.0</td>\n",
       "      <td>0.0</td>\n",
       "      <td>7.980164e-35</td>\n",
       "      <td>1.0</td>\n",
       "      <td>1.000000e-10</td>\n",
       "    </tr>\n",
       "    <tr>\n",
       "      <th>3</th>\n",
       "      <td>MP</td>\n",
       "      <td>0.0</td>\n",
       "      <td>0.0</td>\n",
       "      <td>2.046852e-33</td>\n",
       "      <td>1.0</td>\n",
       "      <td>6.000000e-10</td>\n",
       "    </tr>\n",
       "    <tr>\n",
       "      <th>4</th>\n",
       "      <td>MP</td>\n",
       "      <td>0.0</td>\n",
       "      <td>0.0</td>\n",
       "      <td>2.391363e-39</td>\n",
       "      <td>1.0</td>\n",
       "      <td>0.000000e+00</td>\n",
       "    </tr>\n",
       "  </tbody>\n",
       "</table>\n",
       "</div>"
      ],
      "text/plain": [
       "  Permit Type  prob_BP  prob_DS       prob_EP  prob_MP       prob_PP\n",
       "0          MP      0.0      0.0  1.027385e-35      1.0  0.000000e+00\n",
       "1          MP      0.0      0.0  3.068349e-37      1.0  0.000000e+00\n",
       "2          MP      0.0      0.0  7.980164e-35      1.0  1.000000e-10\n",
       "3          MP      0.0      0.0  2.046852e-33      1.0  6.000000e-10\n",
       "4          MP      0.0      0.0  2.391363e-39      1.0  0.000000e+00"
      ]
     },
     "execution_count": 13,
     "metadata": {},
     "output_type": "execute_result"
    }
   ],
   "source": [
    "status, prediction = ds.download_artifact(artifact['artifact_name'])\n",
    "prediction.head()"
   ]
  },
  {
   "cell_type": "markdown",
   "metadata": {},
   "source": [
    "#### (optional) Write to disk downloaded predictions"
   ]
  },
  {
   "cell_type": "code",
   "execution_count": 14,
   "metadata": {
    "collapsed": true
   },
   "outputs": [],
   "source": [
    "prediction.to_csv(os.path.join(path, \"prediction10.csv\"))"
   ]
  },
  {
   "cell_type": "markdown",
   "metadata": {},
   "source": [
    "#### Create visualizations for comparing predictions with actual target. "
   ]
  },
  {
   "cell_type": "code",
   "execution_count": 15,
   "metadata": {},
   "outputs": [
    {
     "name": "stdout",
     "output_type": "stream",
     "text": [
      "             precision    recall  f1-score   support\n",
      "\n",
      "         BP       1.00      1.00      1.00    248227\n",
      "         DS       1.00      1.00      1.00     71718\n",
      "         EP       1.00      1.00      1.00    347547\n",
      "         MP       1.00      1.00      1.00     40701\n",
      "         PP       1.00      1.00      1.00    241074\n",
      "\n",
      "avg / total       1.00      1.00      1.00    949267\n",
      "\n"
     ]
    },
    {
     "data": {
      "image/png": "[encoded data removed]",
      "text/plain": [
       "<matplotlib.figure.Figure at 0x1c8a5751c18>"
      ]
     },
     "metadata": {},
     "output_type": "display_data"
    }
   ],
   "source": [
    "unq = prediction[target].unique()[::-1]\n",
    "p = np.zeros((len(prediction),))\n",
    "a = np.zeros((len(prediction),))\n",
    "for i,q in enumerate(unq):\n",
    "    p += i*(prediction[target] == q).values\n",
    "    a += i*(reduceData[target] == q).values\n",
    "#Plot predictions vs actual\n",
    "plt.plot(a)\n",
    "plt.plot(p)\n",
    "plt.legend(['Actual','Predicted'])\n",
    "plt.yticks([i for i in range(len(unq))],[q for q in unq]);\n",
    "print(classification_report(reduceData[target], prediction[target]))"
   ]
  },
  {
   "cell_type": "markdown",
   "metadata": {},
   "source": [
    "#### Perform model prediction on test dataset from holdout method.\n",
    "Upload test data."
   ]
  },
  {
   "cell_type": "code",
   "execution_count": 16,
   "metadata": {
    "collapsed": true
   },
   "outputs": [],
   "source": [
    "status, dataset = ds.upload_dataset(os.path.join(path, testName))\n",
    "if not status:\n",
    "    print(dataset)"
   ]
  },
  {
   "cell_type": "markdown",
   "metadata": {},
   "source": [
    "Clean test data. "
   ]
  },
  {
   "cell_type": "code",
   "execution_count": 17,
   "metadata": {},
   "outputs": [
    {
     "name": "stdout",
     "output_type": "stream",
     "text": [
      "Model:\n",
      " Permit Type_model10\n",
      "Target: \n",
      " Permit Type\n",
      "{'job_name': 'fc96bc2c07834349ab1c18252455dc9f', 'artifact_name': '865beb8cc7114b49aad7cbf51f64ae83'}\n",
      "{'status': 'Requested', 'starttime': '2019-04-19T20:16:18.953952', 'endtime': None, 'percent_complete': 0, 'job_type': 'CleanDataTiny', 'loss': None, 'generations': None, 'dataset_names': ['testSet10.csv'], 'artifact_names': ['865beb8cc7114b49aad7cbf51f64ae83'], 'model_name': None, 'job_error': None}\n",
      "{'status': 'Failed', 'starttime': '2019-04-19T20:16:18.953952', 'endtime': '2019-04-19T20:16:27.058564', 'percent_complete': 100, 'job_type': 'CleanDataTiny', 'loss': None, 'generations': None, 'dataset_names': ['testSet10.csv'], 'artifact_names': ['865beb8cc7114b49aad7cbf51f64ae83'], 'model_name': None, 'job_error': 'DarwinInternalErroruncaught'}\n"
     ]
    }
   ],
   "source": [
    "status, job_id = ds.clean_data(testName, model_name = model)\n",
    "print(\"Model:\\n\",model)\n",
    "print(\"Target: \\n\",target)\n",
    "print(job_id)\n",
    "if status:\n",
    "    ds.wait_for_job(job_id['job_name'])\n",
    "else:\n",
    "    print(job_id)"
   ]
  },
  {
   "cell_type": "markdown",
   "metadata": {},
   "source": [
    "Run model on test dataset. "
   ]
  },
  {
   "cell_type": "code",
   "execution_count": 18,
   "metadata": {},
   "outputs": [
    {
     "name": "stdout",
     "output_type": "stream",
     "text": [
      "{'status': 'Running', 'starttime': '2019-04-19T20:17:05.983997', 'endtime': None, 'percent_complete': 0, 'job_type': 'RunModel', 'loss': 1.0170252323150635, 'generations': 0, 'dataset_names': ['testSet10.csv'], 'artifact_names': ['b455258e25cd4de49f5c3b05b3ab38f7'], 'model_name': 'Permit Type_model10', 'job_error': ''}\n",
      "{'status': 'Running', 'starttime': '2019-04-19T20:17:05.983997', 'endtime': None, 'percent_complete': 0, 'job_type': 'RunModel', 'loss': 1.0170252323150635, 'generations': 0, 'dataset_names': ['testSet10.csv'], 'artifact_names': ['b455258e25cd4de49f5c3b05b3ab38f7'], 'model_name': 'Permit Type_model10', 'job_error': ''}\n",
      "{'status': 'Failed', 'starttime': '2019-04-19T20:17:05.983997', 'endtime': '2019-04-19T20:17:26.238989', 'percent_complete': 100, 'job_type': 'RunModel', 'loss': 1.0170252323150635, 'generations': 0, 'dataset_names': ['testSet10.csv'], 'artifact_names': ['b455258e25cd4de49f5c3b05b3ab38f7'], 'model_name': 'Permit Type_model10', 'job_error': 'FailedDownload: Failed to download entity of type Object from location artifacts/c5e7932c-5ca0-11e9-a3a0-5b4cadcb3bcf_865beb8cc7114b49aad7cbf51f64ae83/data.csv'}\n"
     ]
    },
    {
     "data": {
      "text/plain": [
       "(False,\n",
       " {'artifact_names': ['b455258e25cd4de49f5c3b05b3ab38f7'],\n",
       "  'dataset_names': ['testSet10.csv'],\n",
       "  'endtime': '2019-04-19T20:17:26.238989',\n",
       "  'generations': 0,\n",
       "  'job_error': 'FailedDownload: Failed to download entity of type Object from location artifacts/c5e7932c-5ca0-11e9-a3a0-5b4cadcb3bcf_865beb8cc7114b49aad7cbf51f64ae83/data.csv',\n",
       "  'job_type': 'RunModel',\n",
       "  'loss': 1.0170252323150635,\n",
       "  'model_name': 'Permit Type_model10',\n",
       "  'percent_complete': 100,\n",
       "  'starttime': '2019-04-19T20:17:05.983997',\n",
       "  'status': 'Failed'})"
      ]
     },
     "execution_count": 18,
     "metadata": {},
     "output_type": "execute_result"
    }
   ],
   "source": [
    "status, artifact = ds.run_model(testName, model)\n",
    "sleep(1)\n",
    "ds.wait_for_job(artifact['job_name'])"
   ]
  },
  {
   "cell_type": "markdown",
   "metadata": {},
   "source": [
    "#### Create visualizations for comparing predictions with actual target."
   ]
  },
  {
   "cell_type": "code",
   "execution_count": null,
   "metadata": {
    "collapsed": true
   },
   "outputs": [],
   "source": [
    "status, prediction = ds.download_artifact(artifact['artifact_name'])\n",
    "df = pd.read_csv(os.path.join(path,test_data))\n",
    "unq = prediction[target].unique()[::-1]\n",
    "p = np.zeros((len(prediction),))\n",
    "a = np.zeros((len(prediction),))\n",
    "for i,q in enumerate(unq):\n",
    "    p += i*(prediction[target] == q).values\n",
    "    a += i*(df[target] == q).values\n",
    "#Plot predictions vs actual\n",
    "plt.plot(a)\n",
    "plt.plot(p)\n",
    "plt.legend(['Actual','Predicted'])\n",
    "plt.yticks([i for i in range(len(unq))],[q for q in unq]);\n",
    "print(classification_report(df[target], prediction[target]))"
   ]
  },
  {
   "cell_type": "markdown",
   "metadata": {},
   "source": [
    "### Darwin' Pick for machine learning model"
   ]
  },
  {
   "cell_type": "code",
   "execution_count": 19,
   "metadata": {},
   "outputs": [
    {
     "name": "stdout",
     "output_type": "stream",
     "text": [
      "{'type': 'XGBClassifier', 'parameters': {'base_score': 0.5, 'colsample_bylevel': 1, 'colsample_bytree': 1, 'gamma': 0, 'learning_rate': 0.49896774302542807, 'max_delta_step': 0, 'max_depth': 8, 'min_child_weight': 17, 'n_estimators': 479, 'n_jobs': -1, 'reg_alpha': 0, 'reg_lambda': 1, 'scale_pos_weight': 1, 'subsample': 0.05598042454166618}}\n"
     ]
    }
   ],
   "source": [
    "status, model_type = ds.lookup_model_name(model)\n",
    "print(model_type['description']['best_genome'])"
   ]
  },
  {
   "cell_type": "markdown",
   "metadata": {},
   "source": [
    "## Clean up"
   ]
  },
  {
   "cell_type": "code",
   "execution_count": 4,
   "metadata": {},
   "outputs": [
    {
     "name": "stdout",
     "output_type": "stream",
     "text": [
      "Deleting test10.csv\n",
      "Deleting testSet10.csv\n",
      "Deleting Permit Type_model10\n",
      "Deleting 0cad448fa6db4e20845ede356d44edd5\n",
      "Error removing artifact \"0cad448fa6db4e20845ede356d44edd5\" - 404: NOT FOUND - {\"message\": \"Failed to find artifact 0cad448fa6db4e20845ede356d44edd5\"}\n",
      "\n",
      "Deleting f2d6110053354e5b80ece5cdc3668918\n",
      "Error removing artifact \"f2d6110053354e5b80ece5cdc3668918\" - 404: NOT FOUND - {\"message\": \"Failed to find artifact f2d6110053354e5b80ece5cdc3668918\"}\n",
      "\n",
      "Deleting 7a66ffae7ce6480897a4548c8491a2be\n",
      "Error removing artifact \"7a66ffae7ce6480897a4548c8491a2be\" - 404: NOT FOUND - {\"message\": \"Failed to find artifact 7a66ffae7ce6480897a4548c8491a2be\"}\n",
      "\n",
      "Deleting 32cbe86816554c8b9c905cf81e59e145\n",
      "Error removing artifact \"32cbe86816554c8b9c905cf81e59e145\" - 404: NOT FOUND - {\"message\": \"Failed to find artifact 32cbe86816554c8b9c905cf81e59e145\"}\n",
      "\n",
      "Deleting 25f4e215e1b04071ad8c31ade0dac299\n",
      "Error removing artifact \"25f4e215e1b04071ad8c31ade0dac299\" - 404: NOT FOUND - {\"message\": \"Failed to find artifact 25f4e215e1b04071ad8c31ade0dac299\"}\n",
      "\n",
      "Deleting ddf97aa30c7745fdbbfbcf1a745430bd\n",
      "Error removing artifact \"ddf97aa30c7745fdbbfbcf1a745430bd\" - 404: NOT FOUND - {\"message\": \"Failed to find artifact ddf97aa30c7745fdbbfbcf1a745430bd\"}\n",
      "\n",
      "Deleting 4840a49de1c745ceb4961f580b3ae477\n",
      "Error removing artifact \"4840a49de1c745ceb4961f580b3ae477\" - 404: NOT FOUND - {\"message\": \"Failed to find artifact 4840a49de1c745ceb4961f580b3ae477\"}\n",
      "\n",
      "Deleting 2815af07e63f4c8ab9e60e9118077c55\n",
      "Error removing artifact \"2815af07e63f4c8ab9e60e9118077c55\" - 404: NOT FOUND - {\"message\": \"Failed to find artifact 2815af07e63f4c8ab9e60e9118077c55\"}\n",
      "\n",
      "Deleting 8d99645cb4ae4805bb68fe67d90ee584\n",
      "Error removing artifact \"8d99645cb4ae4805bb68fe67d90ee584\" - 404: NOT FOUND - {\"message\": \"Failed to find artifact 8d99645cb4ae4805bb68fe67d90ee584\"}\n",
      "\n",
      "Deleting 1cdce308746e4d25b1d9344524bf1024\n",
      "Error removing artifact \"1cdce308746e4d25b1d9344524bf1024\" - 404: NOT FOUND - {\"message\": \"Failed to find artifact 1cdce308746e4d25b1d9344524bf1024\"}\n",
      "\n",
      "Deleting 6b637bc507a44080b1a52cbff2c85863\n",
      "Error removing artifact \"6b637bc507a44080b1a52cbff2c85863\" - 404: NOT FOUND - {\"message\": \"Failed to find artifact 6b637bc507a44080b1a52cbff2c85863\"}\n",
      "\n",
      "Deleting 953f1e473c6641bc8932f5afc87fcd99\n",
      "Error removing artifact \"953f1e473c6641bc8932f5afc87fcd99\" - 404: NOT FOUND - {\"message\": \"Failed to find artifact 953f1e473c6641bc8932f5afc87fcd99\"}\n",
      "\n",
      "Deleting 4de605b0816e410ab1ff68f36c33c5d2\n",
      "Error removing artifact \"4de605b0816e410ab1ff68f36c33c5d2\" - 404: NOT FOUND - {\"message\": \"Failed to find artifact 4de605b0816e410ab1ff68f36c33c5d2\"}\n",
      "\n",
      "Deleting 7d8c21ef87ea492cbd616ab6242a0bff\n",
      "Error removing artifact \"7d8c21ef87ea492cbd616ab6242a0bff\" - 404: NOT FOUND - {\"message\": \"Failed to find artifact 7d8c21ef87ea492cbd616ab6242a0bff\"}\n",
      "\n",
      "Deleting 03f27c52da094ae983fe2b98fc2d0c06\n",
      "Deleting d39ed97698854f6a891ff2327db58477\n",
      "Deleting d1a88a6af9194aa9a88b57277d2c58b1\n",
      "Deleting 60a21fd8551e434fbf305bd75c1a8724\n",
      "Error removing artifact \"60a21fd8551e434fbf305bd75c1a8724\" - 404: NOT FOUND - {\"message\": \"Failed to find artifact 60a21fd8551e434fbf305bd75c1a8724\"}\n",
      "\n"
     ]
    },
    {
     "data": {
      "text/plain": [
       "(True, None)"
      ]
     },
     "execution_count": 4,
     "metadata": {},
     "output_type": "execute_result"
    }
   ],
   "source": [
    "#ds.delete_all_datasets()\n",
    "#ds.delete_all_models()\n",
    "#ds.delete_all_artifacts()"
   ]
  },
  {
   "cell_type": "code",
   "execution_count": null,
   "metadata": {
    "collapsed": true
   },
   "outputs": [],
   "source": []
  }
 ],
 "metadata": {
  "kernelspec": {
   "display_name": "Python 3",
   "language": "python",
   "name": "python3"
  },
  "language_info": {
   "codemirror_mode": {
    "name": "ipython",
    "version": 3
   },
   "file_extension": ".py",
   "mimetype": "text/x-python",
   "name": "python",
   "nbconvert_exporter": "python",
   "pygments_lexer": "ipython3",
   "version": "3.6.1"
  }
 },
 "nbformat": 4,
 "nbformat_minor": 2
}
