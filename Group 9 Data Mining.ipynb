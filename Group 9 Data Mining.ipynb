{
 "cells": [
  {
   "cell_type": "markdown",
   "metadata": {},
   "source": [
    "## Contributors: \n",
    "Neal Friesenhahn"
   ]
  },
  {
   "cell_type": "markdown",
   "metadata": {},
   "source": [
    "### Importing Libraries:"
   ]
  },
  {
   "cell_type": "code",
   "execution_count": 1,
   "metadata": {},
   "outputs": [],
   "source": [
    "# Import necessary libraries\n",
    "import warnings\n",
    "warnings.filterwarnings(\"ignore\", message=\"numpy.dtype size changed\")\n",
    "%matplotlib inline\n",
    "import matplotlib.pyplot as plt\n",
    "import pandas as pd\n",
    "from IPython.display import Image\n",
    "from time import sleep\n",
    "import os\n",
    "import math\n",
    "import numpy as np\n",
    "from sklearn.metrics import classification_report\n",
    "\n",
    "from amb_sdk.sdk import DarwinSdk"
   ]
  },
  {
   "cell_type": "markdown",
   "metadata": {},
   "source": [
    "### Configure Darwin:"
   ]
  },
  {
   "cell_type": "code",
   "execution_count": 33,
   "metadata": {},
   "outputs": [],
   "source": [
    "# Login\n",
    "ds = DarwinSdk()\n",
    "file = open(\"login.txt\", \"r\")\n",
    "username = file.readline(0)\n",
    "password = file.readline(1)\n",
    "ds.set_url('https://amb-demo-api.sparkcognition.com/v1/')\n",
    "status, msg = ds.auth_login_user('username', 'password')\n",
    "if not status:\n",
    "    print(msg)\n",
    "    "
   ]
  },
  {
   "cell_type": "markdown",
   "metadata": {},
   "source": [
    "#### Data Path\n",
    "Make sure to set this to your local machine's path to the data."
   ]
  },
  {
   "cell_type": "code",
   "execution_count": 3,
   "metadata": {},
   "outputs": [],
   "source": [
    "path = './'"
   ]
  },
  {
   "cell_type": "markdown",
   "metadata": {},
   "source": [
    "### Importing Data:\n",
    "Data used in this project:\n",
    "https://data.austintexas.gov/Building-and-Development/Issued-Construction-Permits/3syk-w9eu"
   ]
  },
  {
   "cell_type": "code",
   "execution_count": 31,
   "metadata": {},
   "outputs": [
    {
     "name": "stderr",
     "output_type": "stream",
     "text": [
      "C:\\Users\\Neal\\Anaconda3\\lib\\site-packages\\IPython\\core\\interactiveshell.py:3049: DtypeWarning: Columns (52,54,56,58,59,60,61,62,63,64,65,66) have mixed types. Specify dtype option on import or set low_memory=False.\n",
      "  interactivity=interactivity, compiler=compiler, result=result)\n"
     ]
    },
    {
     "name": "stdout",
     "output_type": "stream",
     "text": [
      "Removed columns from dataset:\n",
      "Contractor Company Name\n",
      "Contractor Phone\n",
      "Contractor Address 2\n",
      "Contractor Zip\n",
      "Applicant Full Name\n",
      "Applicant Organization\n",
      "Applicant Phone\n",
      "Applicant Address 1\n",
      "Applicant Address 2\n",
      "Applicant City\n",
      "Applicant Zip\n",
      "Certificate Of Occupancy\n"
     ]
    },
    {
     "data": {
      "text/html": [
       "<div>\n",
       "<style scoped>\n",
       "    .dataframe tbody tr th:only-of-type {\n",
       "        vertical-align: middle;\n",
       "    }\n",
       "\n",
       "    .dataframe tbody tr th {\n",
       "        vertical-align: top;\n",
       "    }\n",
       "\n",
       "    .dataframe thead th {\n",
       "        text-align: right;\n",
       "    }\n",
       "</style>\n",
       "<table border=\"1\" class=\"dataframe\">\n",
       "  <thead>\n",
       "    <tr style=\"text-align: right;\">\n",
       "      <th></th>\n",
       "      <th>Permit Type</th>\n",
       "      <th>Permit Class Mapped</th>\n",
       "      <th>Work Class</th>\n",
       "      <th>Condominium</th>\n",
       "      <th>Project Name</th>\n",
       "      <th>Description</th>\n",
       "      <th>TCAD ID</th>\n",
       "      <th>Property Legal Description</th>\n",
       "      <th>Day Issued</th>\n",
       "      <th>Calendar Year Issued</th>\n",
       "      <th>...</th>\n",
       "      <th>Link</th>\n",
       "      <th>Project ID</th>\n",
       "      <th>Master Permit Num</th>\n",
       "      <th>Latitude</th>\n",
       "      <th>Longitude</th>\n",
       "      <th>Location</th>\n",
       "      <th>Contractor Full Name</th>\n",
       "      <th>Contractor Address 1</th>\n",
       "      <th>Contractor City</th>\n",
       "      <th>Total Lot SQFT</th>\n",
       "    </tr>\n",
       "  </thead>\n",
       "  <tbody>\n",
       "    <tr>\n",
       "      <th>949267</th>\n",
       "      <td>MP</td>\n",
       "      <td>Residential</td>\n",
       "      <td>New</td>\n",
       "      <td>No</td>\n",
       "      <td>12509 Mexicana Cv</td>\n",
       "      <td>New Sf Residence W Attached Garage Cov'D Porch...</td>\n",
       "      <td>0330400231</td>\n",
       "      <td>LOT 23 BLK B LOS CIELOS SEC 1</td>\n",
       "      <td>THURSDAY</td>\n",
       "      <td>2005</td>\n",
       "      <td>...</td>\n",
       "      <td>https://abc.austintexas.gov/web/permit/public-...</td>\n",
       "      <td>3412250</td>\n",
       "      <td>716347.0</td>\n",
       "      <td>30.169626</td>\n",
       "      <td>-97.627192</td>\n",
       "      <td>(30.16962574, -97.62719172)</td>\n",
       "      <td>NaN</td>\n",
       "      <td>NaN</td>\n",
       "      <td>Austin</td>\n",
       "      <td>NaN</td>\n",
       "    </tr>\n",
       "    <tr>\n",
       "      <th>949268</th>\n",
       "      <td>MP</td>\n",
       "      <td>Residential</td>\n",
       "      <td>New</td>\n",
       "      <td>No</td>\n",
       "      <td>1921 Bird Call Pass</td>\n",
       "      <td>New 1 Sty Sf Residence WAtt Garage Cvd PorchPatio</td>\n",
       "      <td>0245300804</td>\n",
       "      <td>LOT 9 BLK P PIONEER CROSSING WEST SEC 6</td>\n",
       "      <td>WEDNESDAY</td>\n",
       "      <td>2005</td>\n",
       "      <td>...</td>\n",
       "      <td>https://abc.austintexas.gov/web/permit/public-...</td>\n",
       "      <td>3412251</td>\n",
       "      <td>716348.0</td>\n",
       "      <td>30.371681</td>\n",
       "      <td>-97.652043</td>\n",
       "      <td>(30.37168068, -97.65204275)</td>\n",
       "      <td>NaN</td>\n",
       "      <td>6500 RIVER PLACE BLVD BLDG 2, #300</td>\n",
       "      <td>AUSTIN</td>\n",
       "      <td>NaN</td>\n",
       "    </tr>\n",
       "    <tr>\n",
       "      <th>949269</th>\n",
       "      <td>MP</td>\n",
       "      <td>Residential</td>\n",
       "      <td>New</td>\n",
       "      <td>No</td>\n",
       "      <td>12845 Buenos Aires Pkwy</td>\n",
       "      <td>New Sf Residence W Attached Garage Cov'D Porch...</td>\n",
       "      <td>0330431208</td>\n",
       "      <td>LOT 12 BLK P LOS CIELOS SEC 1</td>\n",
       "      <td>FRIDAY</td>\n",
       "      <td>2005</td>\n",
       "      <td>...</td>\n",
       "      <td>https://abc.austintexas.gov/web/permit/public-...</td>\n",
       "      <td>3412253</td>\n",
       "      <td>716349.0</td>\n",
       "      <td>30.167240</td>\n",
       "      <td>-97.622324</td>\n",
       "      <td>(30.16723992, -97.62232383)</td>\n",
       "      <td>NaN</td>\n",
       "      <td>NaN</td>\n",
       "      <td>Austin</td>\n",
       "      <td>NaN</td>\n",
       "    </tr>\n",
       "    <tr>\n",
       "      <th>949270</th>\n",
       "      <td>MP</td>\n",
       "      <td>Residential</td>\n",
       "      <td>New</td>\n",
       "      <td>No</td>\n",
       "      <td>12608 Campana Dr</td>\n",
       "      <td>New Sf Residence W Attached Garage Cov'D Porch...</td>\n",
       "      <td>0330400215</td>\n",
       "      <td>LOT 39 BLK B LOS CIELOS SEC 1</td>\n",
       "      <td>MONDAY</td>\n",
       "      <td>2005</td>\n",
       "      <td>...</td>\n",
       "      <td>https://abc.austintexas.gov/web/permit/public-...</td>\n",
       "      <td>3412254</td>\n",
       "      <td>716350.0</td>\n",
       "      <td>30.168743</td>\n",
       "      <td>-97.626033</td>\n",
       "      <td>(30.16874311, -97.62603259)</td>\n",
       "      <td>NaN</td>\n",
       "      <td>NaN</td>\n",
       "      <td>Austin</td>\n",
       "      <td>NaN</td>\n",
       "    </tr>\n",
       "    <tr>\n",
       "      <th>949271</th>\n",
       "      <td>MP</td>\n",
       "      <td>Residential</td>\n",
       "      <td>New</td>\n",
       "      <td>No</td>\n",
       "      <td>1105 Mooreland Dr</td>\n",
       "      <td>New Sf Residence W Attached Garage Cov'D Porch...</td>\n",
       "      <td>0438231011</td>\n",
       "      <td>LOT 6 BLK D CHAPPELL HILL</td>\n",
       "      <td>WEDNESDAY</td>\n",
       "      <td>2005</td>\n",
       "      <td>...</td>\n",
       "      <td>https://abc.austintexas.gov/web/permit/public-...</td>\n",
       "      <td>3412255</td>\n",
       "      <td>716351.0</td>\n",
       "      <td>30.150324</td>\n",
       "      <td>-97.828910</td>\n",
       "      <td>(30.15032383, -97.82891041)</td>\n",
       "      <td>NaN</td>\n",
       "      <td>5716 W US 290 HWY SUITE 205</td>\n",
       "      <td>Austin</td>\n",
       "      <td>NaN</td>\n",
       "    </tr>\n",
       "  </tbody>\n",
       "</table>\n",
       "<p>5 rows × 39 columns</p>\n",
       "</div>"
      ],
      "text/plain": [
       "       Permit Type Permit Class Mapped Work Class Condominium  \\\n",
       "949267          MP         Residential        New          No   \n",
       "949268          MP         Residential        New          No   \n",
       "949269          MP         Residential        New          No   \n",
       "949270          MP         Residential        New          No   \n",
       "949271          MP         Residential        New          No   \n",
       "\n",
       "                   Project Name  \\\n",
       "949267        12509 Mexicana Cv   \n",
       "949268      1921 Bird Call Pass   \n",
       "949269  12845 Buenos Aires Pkwy   \n",
       "949270         12608 Campana Dr   \n",
       "949271        1105 Mooreland Dr   \n",
       "\n",
       "                                              Description     TCAD ID  \\\n",
       "949267  New Sf Residence W Attached Garage Cov'D Porch...  0330400231   \n",
       "949268  New 1 Sty Sf Residence WAtt Garage Cvd PorchPatio  0245300804   \n",
       "949269  New Sf Residence W Attached Garage Cov'D Porch...  0330431208   \n",
       "949270  New Sf Residence W Attached Garage Cov'D Porch...  0330400215   \n",
       "949271  New Sf Residence W Attached Garage Cov'D Porch...  0438231011   \n",
       "\n",
       "                     Property Legal Description Day Issued  \\\n",
       "949267            LOT 23 BLK B LOS CIELOS SEC 1   THURSDAY   \n",
       "949268  LOT 9 BLK P PIONEER CROSSING WEST SEC 6  WEDNESDAY   \n",
       "949269            LOT 12 BLK P LOS CIELOS SEC 1     FRIDAY   \n",
       "949270            LOT 39 BLK B LOS CIELOS SEC 1     MONDAY   \n",
       "949271                LOT 6 BLK D CHAPPELL HILL  WEDNESDAY   \n",
       "\n",
       "        Calendar Year Issued  ...  \\\n",
       "949267                  2005  ...   \n",
       "949268                  2005  ...   \n",
       "949269                  2005  ...   \n",
       "949270                  2005  ...   \n",
       "949271                  2005  ...   \n",
       "\n",
       "                                                     Link Project ID  \\\n",
       "949267  https://abc.austintexas.gov/web/permit/public-...    3412250   \n",
       "949268  https://abc.austintexas.gov/web/permit/public-...    3412251   \n",
       "949269  https://abc.austintexas.gov/web/permit/public-...    3412253   \n",
       "949270  https://abc.austintexas.gov/web/permit/public-...    3412254   \n",
       "949271  https://abc.austintexas.gov/web/permit/public-...    3412255   \n",
       "\n",
       "       Master Permit Num   Latitude  Longitude                     Location  \\\n",
       "949267          716347.0  30.169626 -97.627192  (30.16962574, -97.62719172)   \n",
       "949268          716348.0  30.371681 -97.652043  (30.37168068, -97.65204275)   \n",
       "949269          716349.0  30.167240 -97.622324  (30.16723992, -97.62232383)   \n",
       "949270          716350.0  30.168743 -97.626033  (30.16874311, -97.62603259)   \n",
       "949271          716351.0  30.150324 -97.828910  (30.15032383, -97.82891041)   \n",
       "\n",
       "        Contractor Full Name                Contractor Address 1  \\\n",
       "949267                   NaN                                 NaN   \n",
       "949268                   NaN  6500 RIVER PLACE BLVD BLDG 2, #300   \n",
       "949269                   NaN                                 NaN   \n",
       "949270                   NaN                                 NaN   \n",
       "949271                   NaN         5716 W US 290 HWY SUITE 205   \n",
       "\n",
       "        Contractor City  Total Lot SQFT  \n",
       "949267           Austin             NaN  \n",
       "949268           AUSTIN             NaN  \n",
       "949269           Austin             NaN  \n",
       "949270           Austin             NaN  \n",
       "949271           Austin             NaN  \n",
       "\n",
       "[5 rows x 39 columns]"
      ]
     },
     "execution_count": 31,
     "metadata": {},
     "output_type": "execute_result"
    }
   ],
   "source": [
    "dataFile = \"./Issued_Construction_Permits.csv\"\n",
    "filename= \"test10.csv\"\n",
    "test_data = 'testSet10.csv'\n",
    "data = pd.read_csv(dataFile, skipinitialspace=True)\n",
    "\n",
    "#Columns with detected mixed types\n",
    "mixedData_col = [52,54,56,58,59,60,61,62,63,64,65,66]\n",
    "\n",
    "columnsNames = data.columns.values\n",
    "#excess labels included in feature drop\n",
    "#Darwin doesn't like mulitple date fields either so they must be dropped as well\n",
    "featureDrop = ['Permit Type Desc', 'Permit Num', 'Permit Class', 'Contractor Trade', 'Applied Date', \n",
    "               'Issued Date', 'Status Date', 'Expires Date', 'Completed Date', 'Plumbing Valuation', 'Plumbing Valuation Remodel',\n",
    "               'Electrical Valuation', 'Electrical Valuation Remodel', 'Mechanical Valuation', 'Mechanical Valuation Remodel',\n",
    "               'MedGas Valuation', 'MedGas Valuation Remodel']\n",
    "#add mixed datatype col to feature drop until later date of processing \n",
    "print(\"Removed columns from dataset:\")\n",
    "for col in mixedData_col:\n",
    "    print(columnsNames[col])\n",
    "    featureDrop.append(columnsNames[col])\n",
    "    \n",
    "fullData = data.drop(featureDrop, axis=1)\n",
    "#data added chronologically to dataset, for now reduce by half for random sampling\n",
    "testSet = fullData.head(100000)\n",
    "testSet.to_csv(os.path.join(path, test_data))\n",
    "reduceSize = math.floor(len(fullData)/2)\n",
    "reduceData = fullData.tail(reduceSize)\n",
    "reduceData.to_csv(os.path.join(path, filename))\n",
    "reduceData.head()"
   ]
  },
  {
   "cell_type": "markdown",
   "metadata": {},
   "source": [
    "In this dataset we will attempt to use the Permit Type as the class label for the data and because of that we need to remove some columns that also act as labels in that capacity that might skew the results. Columns that are similar to Permit type are:\n",
    "\n",
    "    Permit Type Description\n",
    "    Permit Num (since it contain the type in the code)\n",
    "    Permit Class (functions much like a label)\n",
    "    Contractor Trade (plummers typically take plumbing jobs, electricians take electrician jobs thus could act as a label)\n",
    "\n",
    "Tangental Job indicators: (subject to testing and feature engineering)\n",
    "\n",
    "    *Plumbing Valuation\n",
    "    *Plumbing Valuation Remodel\n",
    "    *Electrical Valuation\n",
    "    *Electrical Valuation Remodel\n",
    "    *Mechanical Valuation\n",
    "    *Mechanical Valuation Remodel \n",
    "    *MedGas Valuation\n",
    "    *MedGas Valuation Remodel\n",
    "\n",
    "It might be interesting to note that a renovation job might include plumbing costs and the difference being the cost threshold which decides if its specifically a plumbing job.\n",
    "\n",
    "Interesting sidenote our data qualifies as big data under Darwin's algorithms (>500MB in size) as such not only can we sample\n",
    "at most half our dataset but also the need to remove addional columns before uploading including those above."
   ]
  },
  {
   "cell_type": "markdown",
   "metadata": {},
   "source": [
    "### Upload to Darwin"
   ]
  },
  {
   "cell_type": "code",
   "execution_count": 6,
   "metadata": {},
   "outputs": [],
   "source": [
    "status, dataset = ds.upload_dataset(os.path.join(path, filename))\n",
    "if not status:\n",
    "    print(dataset)"
   ]
  },
  {
   "cell_type": "markdown",
   "metadata": {},
   "source": [
    "#### Clean dataset"
   ]
  },
  {
   "cell_type": "code",
   "execution_count": 8,
   "metadata": {},
   "outputs": [
    {
     "name": "stdout",
     "output_type": "stream",
     "text": [
      "{'job_name': 'b9dcc1ae03fe4d579819e0af124f29d6', 'artifact_name': 'b8b404880ac94b2a8b7f65eddb707f34'}\n",
      "{'status': 'Requested', 'starttime': '2019-04-18T14:52:05.176978', 'endtime': None, 'percent_complete': 0, 'job_type': 'CleanDataTiny', 'loss': None, 'generations': None, 'dataset_names': ['test10.csv'], 'artifact_names': ['b8b404880ac94b2a8b7f65eddb707f34'], 'model_name': None, 'job_error': None}\n",
      "{'status': 'Running', 'starttime': '2019-04-18T14:52:05.176978', 'endtime': None, 'percent_complete': 0, 'job_type': 'CleanDataTiny', 'loss': None, 'generations': None, 'dataset_names': ['test10.csv'], 'artifact_names': ['b8b404880ac94b2a8b7f65eddb707f34'], 'model_name': None, 'job_error': ''}\n",
      "{'status': 'Running', 'starttime': '2019-04-18T14:52:05.176978', 'endtime': None, 'percent_complete': 0, 'job_type': 'CleanDataTiny', 'loss': None, 'generations': None, 'dataset_names': ['test10.csv'], 'artifact_names': ['b8b404880ac94b2a8b7f65eddb707f34'], 'model_name': None, 'job_error': ''}\n",
      "{'status': 'Running', 'starttime': '2019-04-18T14:52:05.176978', 'endtime': None, 'percent_complete': 0, 'job_type': 'CleanDataTiny', 'loss': None, 'generations': None, 'dataset_names': ['test10.csv'], 'artifact_names': ['b8b404880ac94b2a8b7f65eddb707f34'], 'model_name': None, 'job_error': ''}\n",
      "{'status': 'Running', 'starttime': '2019-04-18T14:52:05.176978', 'endtime': None, 'percent_complete': 0, 'job_type': 'CleanDataTiny', 'loss': None, 'generations': None, 'dataset_names': ['test10.csv'], 'artifact_names': ['b8b404880ac94b2a8b7f65eddb707f34'], 'model_name': None, 'job_error': ''}\n",
      "{'status': 'Running', 'starttime': '2019-04-18T14:52:05.176978', 'endtime': None, 'percent_complete': 0, 'job_type': 'CleanDataTiny', 'loss': None, 'generations': None, 'dataset_names': ['test10.csv'], 'artifact_names': ['b8b404880ac94b2a8b7f65eddb707f34'], 'model_name': None, 'job_error': ''}\n",
      "{'status': 'Running', 'starttime': '2019-04-18T14:52:05.176978', 'endtime': None, 'percent_complete': 0, 'job_type': 'CleanDataTiny', 'loss': None, 'generations': None, 'dataset_names': ['test10.csv'], 'artifact_names': ['b8b404880ac94b2a8b7f65eddb707f34'], 'model_name': None, 'job_error': ''}\n",
      "{'status': 'Running', 'starttime': '2019-04-18T14:52:05.176978', 'endtime': None, 'percent_complete': 0, 'job_type': 'CleanDataTiny', 'loss': None, 'generations': None, 'dataset_names': ['test10.csv'], 'artifact_names': ['b8b404880ac94b2a8b7f65eddb707f34'], 'model_name': None, 'job_error': ''}\n",
      "{'status': 'Running', 'starttime': '2019-04-18T14:52:05.176978', 'endtime': None, 'percent_complete': 0, 'job_type': 'CleanDataTiny', 'loss': None, 'generations': None, 'dataset_names': ['test10.csv'], 'artifact_names': ['b8b404880ac94b2a8b7f65eddb707f34'], 'model_name': None, 'job_error': ''}\n",
      "{'status': 'Running', 'starttime': '2019-04-18T14:52:05.176978', 'endtime': None, 'percent_complete': 0, 'job_type': 'CleanDataTiny', 'loss': None, 'generations': None, 'dataset_names': ['test10.csv'], 'artifact_names': ['b8b404880ac94b2a8b7f65eddb707f34'], 'model_name': None, 'job_error': ''}\n",
      "{'status': 'Running', 'starttime': '2019-04-18T14:52:05.176978', 'endtime': None, 'percent_complete': 0, 'job_type': 'CleanDataTiny', 'loss': None, 'generations': None, 'dataset_names': ['test10.csv'], 'artifact_names': ['b8b404880ac94b2a8b7f65eddb707f34'], 'model_name': None, 'job_error': ''}\n",
      "{'status': 'Running', 'starttime': '2019-04-18T14:52:05.176978', 'endtime': None, 'percent_complete': 0, 'job_type': 'CleanDataTiny', 'loss': None, 'generations': None, 'dataset_names': ['test10.csv'], 'artifact_names': ['b8b404880ac94b2a8b7f65eddb707f34'], 'model_name': None, 'job_error': ''}\n",
      "{'status': 'Running', 'starttime': '2019-04-18T14:52:05.176978', 'endtime': None, 'percent_complete': 0, 'job_type': 'CleanDataTiny', 'loss': None, 'generations': None, 'dataset_names': ['test10.csv'], 'artifact_names': ['b8b404880ac94b2a8b7f65eddb707f34'], 'model_name': None, 'job_error': ''}\n",
      "{'status': 'Running', 'starttime': '2019-04-18T14:52:05.176978', 'endtime': None, 'percent_complete': 0, 'job_type': 'CleanDataTiny', 'loss': None, 'generations': None, 'dataset_names': ['test10.csv'], 'artifact_names': ['b8b404880ac94b2a8b7f65eddb707f34'], 'model_name': None, 'job_error': ''}\n",
      "{'status': 'Running', 'starttime': '2019-04-18T14:52:05.176978', 'endtime': None, 'percent_complete': 0, 'job_type': 'CleanDataTiny', 'loss': None, 'generations': None, 'dataset_names': ['test10.csv'], 'artifact_names': ['b8b404880ac94b2a8b7f65eddb707f34'], 'model_name': None, 'job_error': ''}\n",
      "{'status': 'Running', 'starttime': '2019-04-18T14:52:05.176978', 'endtime': None, 'percent_complete': 0, 'job_type': 'CleanDataTiny', 'loss': None, 'generations': None, 'dataset_names': ['test10.csv'], 'artifact_names': ['b8b404880ac94b2a8b7f65eddb707f34'], 'model_name': None, 'job_error': ''}\n",
      "{'status': 'Running', 'starttime': '2019-04-18T14:52:05.176978', 'endtime': None, 'percent_complete': 0, 'job_type': 'CleanDataTiny', 'loss': None, 'generations': None, 'dataset_names': ['test10.csv'], 'artifact_names': ['b8b404880ac94b2a8b7f65eddb707f34'], 'model_name': None, 'job_error': ''}\n",
      "{'status': 'Running', 'starttime': '2019-04-18T14:52:05.176978', 'endtime': None, 'percent_complete': 0, 'job_type': 'CleanDataTiny', 'loss': None, 'generations': None, 'dataset_names': ['test10.csv'], 'artifact_names': ['b8b404880ac94b2a8b7f65eddb707f34'], 'model_name': None, 'job_error': ''}\n",
      "{'status': 'Running', 'starttime': '2019-04-18T14:52:05.176978', 'endtime': None, 'percent_complete': 0, 'job_type': 'CleanDataTiny', 'loss': None, 'generations': None, 'dataset_names': ['test10.csv'], 'artifact_names': ['b8b404880ac94b2a8b7f65eddb707f34'], 'model_name': None, 'job_error': ''}\n",
      "{'status': 'Running', 'starttime': '2019-04-18T14:52:05.176978', 'endtime': None, 'percent_complete': 0, 'job_type': 'CleanDataTiny', 'loss': None, 'generations': None, 'dataset_names': ['test10.csv'], 'artifact_names': ['b8b404880ac94b2a8b7f65eddb707f34'], 'model_name': None, 'job_error': ''}\n",
      "{'status': 'Running', 'starttime': '2019-04-18T14:52:05.176978', 'endtime': None, 'percent_complete': 0, 'job_type': 'CleanDataTiny', 'loss': None, 'generations': None, 'dataset_names': ['test10.csv'], 'artifact_names': ['b8b404880ac94b2a8b7f65eddb707f34'], 'model_name': None, 'job_error': ''}\n",
      "{'status': 'Running', 'starttime': '2019-04-18T14:52:05.176978', 'endtime': None, 'percent_complete': 0, 'job_type': 'CleanDataTiny', 'loss': None, 'generations': None, 'dataset_names': ['test10.csv'], 'artifact_names': ['b8b404880ac94b2a8b7f65eddb707f34'], 'model_name': None, 'job_error': ''}\n",
      "{'status': 'Running', 'starttime': '2019-04-18T14:52:05.176978', 'endtime': None, 'percent_complete': 0, 'job_type': 'CleanDataTiny', 'loss': None, 'generations': None, 'dataset_names': ['test10.csv'], 'artifact_names': ['b8b404880ac94b2a8b7f65eddb707f34'], 'model_name': None, 'job_error': ''}\n",
      "{'status': 'Running', 'starttime': '2019-04-18T14:52:05.176978', 'endtime': None, 'percent_complete': 0, 'job_type': 'CleanDataTiny', 'loss': None, 'generations': None, 'dataset_names': ['test10.csv'], 'artifact_names': ['b8b404880ac94b2a8b7f65eddb707f34'], 'model_name': None, 'job_error': ''}\n",
      "{'status': 'Running', 'starttime': '2019-04-18T14:52:05.176978', 'endtime': None, 'percent_complete': 0, 'job_type': 'CleanDataTiny', 'loss': None, 'generations': None, 'dataset_names': ['test10.csv'], 'artifact_names': ['b8b404880ac94b2a8b7f65eddb707f34'], 'model_name': None, 'job_error': ''}\n",
      "{'status': 'Running', 'starttime': '2019-04-18T14:52:05.176978', 'endtime': None, 'percent_complete': 0, 'job_type': 'CleanDataTiny', 'loss': None, 'generations': None, 'dataset_names': ['test10.csv'], 'artifact_names': ['b8b404880ac94b2a8b7f65eddb707f34'], 'model_name': None, 'job_error': ''}\n",
      "{'status': 'Running', 'starttime': '2019-04-18T14:52:05.176978', 'endtime': None, 'percent_complete': 0, 'job_type': 'CleanDataTiny', 'loss': None, 'generations': None, 'dataset_names': ['test10.csv'], 'artifact_names': ['b8b404880ac94b2a8b7f65eddb707f34'], 'model_name': None, 'job_error': ''}\n",
      "{'status': 'Running', 'starttime': '2019-04-18T14:52:05.176978', 'endtime': None, 'percent_complete': 0, 'job_type': 'CleanDataTiny', 'loss': None, 'generations': None, 'dataset_names': ['test10.csv'], 'artifact_names': ['b8b404880ac94b2a8b7f65eddb707f34'], 'model_name': None, 'job_error': ''}\n"
     ]
    },
    {
     "name": "stdout",
     "output_type": "stream",
     "text": [
      "{'status': 'Running', 'starttime': '2019-04-18T14:52:05.176978', 'endtime': None, 'percent_complete': 0, 'job_type': 'CleanDataTiny', 'loss': None, 'generations': None, 'dataset_names': ['test10.csv'], 'artifact_names': ['b8b404880ac94b2a8b7f65eddb707f34'], 'model_name': None, 'job_error': ''}\n",
      "{'status': 'Running', 'starttime': '2019-04-18T14:52:05.176978', 'endtime': None, 'percent_complete': 0, 'job_type': 'CleanDataTiny', 'loss': None, 'generations': None, 'dataset_names': ['test10.csv'], 'artifact_names': ['b8b404880ac94b2a8b7f65eddb707f34'], 'model_name': None, 'job_error': ''}\n",
      "{'status': 'Running', 'starttime': '2019-04-18T14:52:05.176978', 'endtime': None, 'percent_complete': 0, 'job_type': 'CleanDataTiny', 'loss': None, 'generations': None, 'dataset_names': ['test10.csv'], 'artifact_names': ['b8b404880ac94b2a8b7f65eddb707f34'], 'model_name': None, 'job_error': ''}\n",
      "{'status': 'Running', 'starttime': '2019-04-18T14:52:05.176978', 'endtime': None, 'percent_complete': 0, 'job_type': 'CleanDataTiny', 'loss': None, 'generations': None, 'dataset_names': ['test10.csv'], 'artifact_names': ['b8b404880ac94b2a8b7f65eddb707f34'], 'model_name': None, 'job_error': ''}\n",
      "{'status': 'Running', 'starttime': '2019-04-18T14:52:05.176978', 'endtime': None, 'percent_complete': 0, 'job_type': 'CleanDataTiny', 'loss': None, 'generations': None, 'dataset_names': ['test10.csv'], 'artifact_names': ['b8b404880ac94b2a8b7f65eddb707f34'], 'model_name': None, 'job_error': ''}\n",
      "{'status': 'Running', 'starttime': '2019-04-18T14:52:05.176978', 'endtime': None, 'percent_complete': 0, 'job_type': 'CleanDataTiny', 'loss': None, 'generations': None, 'dataset_names': ['test10.csv'], 'artifact_names': ['b8b404880ac94b2a8b7f65eddb707f34'], 'model_name': None, 'job_error': ''}\n",
      "{'status': 'Complete', 'starttime': '2019-04-18T14:52:05.176978', 'endtime': '2019-04-18T15:00:25.841209', 'percent_complete': 100, 'job_type': 'CleanDataTiny', 'loss': None, 'generations': None, 'dataset_names': ['test10.csv'], 'artifact_names': ['b8b404880ac94b2a8b7f65eddb707f34'], 'model_name': None, 'job_error': ''}\n"
     ]
    }
   ],
   "source": [
    "# clean dataset\n",
    "target = \"Permit Type\"\n",
    "index = \"Applied Date\"\n",
    "status, job_id = ds.clean_data(filename, target = target)\n",
    "print(job_id)\n",
    "if status:\n",
    "    ds.wait_for_job(job_id['job_name'])\n",
    "else:\n",
    "    print(job_id)"
   ]
  },
  {
   "cell_type": "markdown",
   "metadata": {},
   "source": [
    "### Create and Train Model"
   ]
  },
  {
   "cell_type": "code",
   "execution_count": 10,
   "metadata": {},
   "outputs": [
    {
     "name": "stdout",
     "output_type": "stream",
     "text": [
      "{'status': 'Requested', 'starttime': '2019-04-18T15:04:11.147714', 'endtime': None, 'percent_complete': 0, 'job_type': 'TrainModel', 'loss': None, 'generations': 0, 'dataset_names': ['test10.csv'], 'artifact_names': None, 'model_name': 'Permit Type_model10', 'job_error': None}\n",
      "{'status': 'Running', 'starttime': '2019-04-18T15:04:11.147714', 'endtime': None, 'percent_complete': 0, 'job_type': 'TrainModel', 'loss': None, 'generations': 0, 'dataset_names': ['test10.csv'], 'artifact_names': None, 'model_name': 'Permit Type_model10', 'job_error': ''}\n",
      "{'status': 'Running', 'starttime': '2019-04-18T15:04:11.147714', 'endtime': None, 'percent_complete': 0, 'job_type': 'TrainModel', 'loss': None, 'generations': 0, 'dataset_names': ['test10.csv'], 'artifact_names': None, 'model_name': 'Permit Type_model10', 'job_error': ''}\n",
      "{'status': 'Running', 'starttime': '2019-04-18T15:04:11.147714', 'endtime': None, 'percent_complete': 0, 'job_type': 'TrainModel', 'loss': None, 'generations': 0, 'dataset_names': ['test10.csv'], 'artifact_names': None, 'model_name': 'Permit Type_model10', 'job_error': ''}\n",
      "{'status': 'Running', 'starttime': '2019-04-18T15:04:11.147714', 'endtime': None, 'percent_complete': 0, 'job_type': 'TrainModel', 'loss': None, 'generations': 0, 'dataset_names': ['test10.csv'], 'artifact_names': None, 'model_name': 'Permit Type_model10', 'job_error': ''}\n",
      "{'status': 'Running', 'starttime': '2019-04-18T15:04:11.147714', 'endtime': None, 'percent_complete': 0, 'job_type': 'TrainModel', 'loss': None, 'generations': 0, 'dataset_names': ['test10.csv'], 'artifact_names': None, 'model_name': 'Permit Type_model10', 'job_error': ''}\n",
      "{'status': 'Running', 'starttime': '2019-04-18T15:04:11.147714', 'endtime': None, 'percent_complete': 0, 'job_type': 'TrainModel', 'loss': None, 'generations': 0, 'dataset_names': ['test10.csv'], 'artifact_names': None, 'model_name': 'Permit Type_model10', 'job_error': ''}\n",
      "{'status': 'Running', 'starttime': '2019-04-18T15:04:11.147714', 'endtime': None, 'percent_complete': 0, 'job_type': 'TrainModel', 'loss': None, 'generations': 0, 'dataset_names': ['test10.csv'], 'artifact_names': None, 'model_name': 'Permit Type_model10', 'job_error': ''}\n",
      "{'status': 'Running', 'starttime': '2019-04-18T15:04:11.147714', 'endtime': None, 'percent_complete': 0, 'job_type': 'TrainModel', 'loss': None, 'generations': 0, 'dataset_names': ['test10.csv'], 'artifact_names': None, 'model_name': 'Permit Type_model10', 'job_error': ''}\n",
      "{'status': 'Running', 'starttime': '2019-04-18T15:04:11.147714', 'endtime': None, 'percent_complete': 0, 'job_type': 'TrainModel', 'loss': None, 'generations': 0, 'dataset_names': ['test10.csv'], 'artifact_names': None, 'model_name': 'Permit Type_model10', 'job_error': ''}\n",
      "{'status': 'Running', 'starttime': '2019-04-18T15:04:11.147714', 'endtime': None, 'percent_complete': 0, 'job_type': 'TrainModel', 'loss': None, 'generations': 0, 'dataset_names': ['test10.csv'], 'artifact_names': None, 'model_name': 'Permit Type_model10', 'job_error': ''}\n",
      "{'status': 'Running', 'starttime': '2019-04-18T15:04:11.147714', 'endtime': None, 'percent_complete': 0, 'job_type': 'TrainModel', 'loss': None, 'generations': 0, 'dataset_names': ['test10.csv'], 'artifact_names': None, 'model_name': 'Permit Type_model10', 'job_error': ''}\n",
      "{'status': 'Running', 'starttime': '2019-04-18T15:04:11.147714', 'endtime': None, 'percent_complete': 0, 'job_type': 'TrainModel', 'loss': None, 'generations': 0, 'dataset_names': ['test10.csv'], 'artifact_names': None, 'model_name': 'Permit Type_model10', 'job_error': ''}\n",
      "{'status': 'Running', 'starttime': '2019-04-18T15:04:11.147714', 'endtime': None, 'percent_complete': 0, 'job_type': 'TrainModel', 'loss': None, 'generations': 0, 'dataset_names': ['test10.csv'], 'artifact_names': None, 'model_name': 'Permit Type_model10', 'job_error': ''}\n",
      "{'status': 'Running', 'starttime': '2019-04-18T15:04:11.147714', 'endtime': None, 'percent_complete': 0, 'job_type': 'TrainModel', 'loss': None, 'generations': 0, 'dataset_names': ['test10.csv'], 'artifact_names': None, 'model_name': 'Permit Type_model10', 'job_error': ''}\n",
      "{'status': 'Running', 'starttime': '2019-04-18T15:04:11.147714', 'endtime': None, 'percent_complete': 0, 'job_type': 'TrainModel', 'loss': None, 'generations': 0, 'dataset_names': ['test10.csv'], 'artifact_names': None, 'model_name': 'Permit Type_model10', 'job_error': ''}\n",
      "{'status': 'Running', 'starttime': '2019-04-18T15:04:11.147714', 'endtime': None, 'percent_complete': 0, 'job_type': 'TrainModel', 'loss': None, 'generations': 0, 'dataset_names': ['test10.csv'], 'artifact_names': None, 'model_name': 'Permit Type_model10', 'job_error': ''}\n",
      "{'status': 'Running', 'starttime': '2019-04-18T15:04:11.147714', 'endtime': None, 'percent_complete': 0, 'job_type': 'TrainModel', 'loss': None, 'generations': 0, 'dataset_names': ['test10.csv'], 'artifact_names': None, 'model_name': 'Permit Type_model10', 'job_error': ''}\n",
      "{'status': 'Running', 'starttime': '2019-04-18T15:04:11.147714', 'endtime': None, 'percent_complete': 0, 'job_type': 'TrainModel', 'loss': None, 'generations': 0, 'dataset_names': ['test10.csv'], 'artifact_names': None, 'model_name': 'Permit Type_model10', 'job_error': ''}\n",
      "{'status': 'Running', 'starttime': '2019-04-18T15:04:11.147714', 'endtime': None, 'percent_complete': 0, 'job_type': 'TrainModel', 'loss': None, 'generations': 0, 'dataset_names': ['test10.csv'], 'artifact_names': None, 'model_name': 'Permit Type_model10', 'job_error': ''}\n",
      "{'status': 'Running', 'starttime': '2019-04-18T15:04:11.147714', 'endtime': None, 'percent_complete': 0, 'job_type': 'TrainModel', 'loss': None, 'generations': 0, 'dataset_names': ['test10.csv'], 'artifact_names': None, 'model_name': 'Permit Type_model10', 'job_error': ''}\n",
      "{'status': 'Running', 'starttime': '2019-04-18T15:04:11.147714', 'endtime': None, 'percent_complete': 0, 'job_type': 'TrainModel', 'loss': None, 'generations': 0, 'dataset_names': ['test10.csv'], 'artifact_names': None, 'model_name': 'Permit Type_model10', 'job_error': ''}\n",
      "{'status': 'Running', 'starttime': '2019-04-18T15:04:11.147714', 'endtime': None, 'percent_complete': 12, 'job_type': 'TrainModel', 'loss': 1.0166438817977905, 'generations': 0, 'dataset_names': ['test10.csv'], 'artifact_names': None, 'model_name': 'Permit Type_model10', 'job_error': ''}\n",
      "{'status': 'Running', 'starttime': '2019-04-18T15:04:11.147714', 'endtime': None, 'percent_complete': 12, 'job_type': 'TrainModel', 'loss': 1.0166438817977905, 'generations': 0, 'dataset_names': ['test10.csv'], 'artifact_names': None, 'model_name': 'Permit Type_model10', 'job_error': ''}\n",
      "{'status': 'Running', 'starttime': '2019-04-18T15:04:11.147714', 'endtime': None, 'percent_complete': 12, 'job_type': 'TrainModel', 'loss': 1.0166438817977905, 'generations': 0, 'dataset_names': ['test10.csv'], 'artifact_names': None, 'model_name': 'Permit Type_model10', 'job_error': ''}\n",
      "{'status': 'Running', 'starttime': '2019-04-18T15:04:11.147714', 'endtime': None, 'percent_complete': 12, 'job_type': 'TrainModel', 'loss': 1.0166438817977905, 'generations': 0, 'dataset_names': ['test10.csv'], 'artifact_names': None, 'model_name': 'Permit Type_model10', 'job_error': ''}\n",
      "{'status': 'Running', 'starttime': '2019-04-18T15:04:11.147714', 'endtime': None, 'percent_complete': 12, 'job_type': 'TrainModel', 'loss': 1.0166438817977905, 'generations': 0, 'dataset_names': ['test10.csv'], 'artifact_names': None, 'model_name': 'Permit Type_model10', 'job_error': ''}\n",
      "{'status': 'Running', 'starttime': '2019-04-18T15:04:11.147714', 'endtime': None, 'percent_complete': 12, 'job_type': 'TrainModel', 'loss': 1.0166438817977905, 'generations': 0, 'dataset_names': ['test10.csv'], 'artifact_names': None, 'model_name': 'Permit Type_model10', 'job_error': ''}\n",
      "{'status': 'Running', 'starttime': '2019-04-18T15:04:11.147714', 'endtime': None, 'percent_complete': 12, 'job_type': 'TrainModel', 'loss': 1.0166438817977905, 'generations': 0, 'dataset_names': ['test10.csv'], 'artifact_names': None, 'model_name': 'Permit Type_model10', 'job_error': ''}\n",
      "{'status': 'Running', 'starttime': '2019-04-18T15:04:11.147714', 'endtime': None, 'percent_complete': 12, 'job_type': 'TrainModel', 'loss': 1.0166438817977905, 'generations': 0, 'dataset_names': ['test10.csv'], 'artifact_names': None, 'model_name': 'Permit Type_model10', 'job_error': ''}\n"
     ]
    },
    {
     "name": "stdout",
     "output_type": "stream",
     "text": [
      "{'status': 'Running', 'starttime': '2019-04-18T15:04:11.147714', 'endtime': None, 'percent_complete': 12, 'job_type': 'TrainModel', 'loss': 1.0166438817977905, 'generations': 0, 'dataset_names': ['test10.csv'], 'artifact_names': None, 'model_name': 'Permit Type_model10', 'job_error': ''}\n",
      "{'status': 'Running', 'starttime': '2019-04-18T15:04:11.147714', 'endtime': None, 'percent_complete': 12, 'job_type': 'TrainModel', 'loss': 1.0166438817977905, 'generations': 0, 'dataset_names': ['test10.csv'], 'artifact_names': None, 'model_name': 'Permit Type_model10', 'job_error': ''}\n",
      "{'status': 'Running', 'starttime': '2019-04-18T15:04:11.147714', 'endtime': None, 'percent_complete': 12, 'job_type': 'TrainModel', 'loss': 1.0166438817977905, 'generations': 0, 'dataset_names': ['test10.csv'], 'artifact_names': None, 'model_name': 'Permit Type_model10', 'job_error': ''}\n",
      "{'status': 'Running', 'starttime': '2019-04-18T15:04:11.147714', 'endtime': None, 'percent_complete': 12, 'job_type': 'TrainModel', 'loss': 1.0166438817977905, 'generations': 0, 'dataset_names': ['test10.csv'], 'artifact_names': None, 'model_name': 'Permit Type_model10', 'job_error': ''}\n",
      "{'status': 'Running', 'starttime': '2019-04-18T15:04:11.147714', 'endtime': None, 'percent_complete': 12, 'job_type': 'TrainModel', 'loss': 1.0166438817977905, 'generations': 0, 'dataset_names': ['test10.csv'], 'artifact_names': None, 'model_name': 'Permit Type_model10', 'job_error': ''}\n",
      "{'status': 'Running', 'starttime': '2019-04-18T15:04:11.147714', 'endtime': None, 'percent_complete': 12, 'job_type': 'TrainModel', 'loss': 1.0166438817977905, 'generations': 0, 'dataset_names': ['test10.csv'], 'artifact_names': None, 'model_name': 'Permit Type_model10', 'job_error': ''}\n",
      "{'status': 'Running', 'starttime': '2019-04-18T15:04:11.147714', 'endtime': None, 'percent_complete': 12, 'job_type': 'TrainModel', 'loss': 1.0166438817977905, 'generations': 0, 'dataset_names': ['test10.csv'], 'artifact_names': None, 'model_name': 'Permit Type_model10', 'job_error': ''}\n",
      "{'status': 'Running', 'starttime': '2019-04-18T15:04:11.147714', 'endtime': None, 'percent_complete': 12, 'job_type': 'TrainModel', 'loss': 1.0166438817977905, 'generations': 0, 'dataset_names': ['test10.csv'], 'artifact_names': None, 'model_name': 'Permit Type_model10', 'job_error': ''}\n",
      "{'status': 'Running', 'starttime': '2019-04-18T15:04:11.147714', 'endtime': None, 'percent_complete': 12, 'job_type': 'TrainModel', 'loss': 1.0166438817977905, 'generations': 0, 'dataset_names': ['test10.csv'], 'artifact_names': None, 'model_name': 'Permit Type_model10', 'job_error': ''}\n",
      "{'status': 'Running', 'starttime': '2019-04-18T15:04:11.147714', 'endtime': None, 'percent_complete': 12, 'job_type': 'TrainModel', 'loss': 1.0166438817977905, 'generations': 0, 'dataset_names': ['test10.csv'], 'artifact_names': None, 'model_name': 'Permit Type_model10', 'job_error': ''}\n",
      "{'status': 'Running', 'starttime': '2019-04-18T15:04:11.147714', 'endtime': None, 'percent_complete': 12, 'job_type': 'TrainModel', 'loss': 1.0166438817977905, 'generations': 0, 'dataset_names': ['test10.csv'], 'artifact_names': None, 'model_name': 'Permit Type_model10', 'job_error': ''}\n"
     ]
    }
   ],
   "source": [
    "model = target + \"_model10\"\n",
    "status, job_id = ds.create_model(dataset_names = filename, \\\n",
    "                                 model_name =  model, \\\n",
    "                                 max_train_time = '00:15')\n",
    "if status:\n",
    "    ds.wait_for_job(job_id['job_name'])\n",
    "else:\n",
    "    print(job_id)"
   ]
  },
  {
   "cell_type": "markdown",
   "metadata": {},
   "source": [
    "#### Check status of job"
   ]
  },
  {
   "cell_type": "code",
   "execution_count": 18,
   "metadata": {},
   "outputs": [
    {
     "name": "stdout",
     "output_type": "stream",
     "text": [
      "{'status': 'Complete', 'starttime': '2019-04-18T15:04:11.147714', 'endtime': '2019-04-18T15:45:03.15463', 'percent_complete': 100, 'job_type': 'TrainModel', 'loss': 0.9059557914733887, 'generations': 1, 'dataset_names': ['test10.csv'], 'artifact_names': None, 'model_name': 'Permit Type_model10', 'job_error': ''}\n"
     ]
    }
   ],
   "source": [
    "if status:\n",
    "    ds.wait_for_job(job_id['job_name'])\n",
    "else:\n",
    "    print(job_id)"
   ]
  },
  {
   "cell_type": "markdown",
   "metadata": {},
   "source": [
    "### Analyze Model"
   ]
  },
  {
   "cell_type": "code",
   "execution_count": 19,
   "metadata": {},
   "outputs": [
    {
     "name": "stdout",
     "output_type": "stream",
     "text": [
      "{'status': 'Running', 'starttime': '2019-04-18T15:45:55.72561', 'endtime': None, 'percent_complete': 0, 'job_type': 'AnalyzeModel', 'loss': 0.9059557914733887, 'generations': 1, 'dataset_names': None, 'artifact_names': ['7b74b3f942384b5780d160330bd68a9d'], 'model_name': 'Permit Type_model10', 'job_error': ''}\n",
      "{'status': 'Running', 'starttime': '2019-04-18T15:45:55.72561', 'endtime': None, 'percent_complete': 0, 'job_type': 'AnalyzeModel', 'loss': 0.9059557914733887, 'generations': 1, 'dataset_names': None, 'artifact_names': ['7b74b3f942384b5780d160330bd68a9d'], 'model_name': 'Permit Type_model10', 'job_error': ''}\n",
      "{'status': 'Running', 'starttime': '2019-04-18T15:45:55.72561', 'endtime': None, 'percent_complete': 0, 'job_type': 'AnalyzeModel', 'loss': 0.9059557914733887, 'generations': 1, 'dataset_names': None, 'artifact_names': ['7b74b3f942384b5780d160330bd68a9d'], 'model_name': 'Permit Type_model10', 'job_error': ''}\n",
      "{'status': 'Running', 'starttime': '2019-04-18T15:45:55.72561', 'endtime': None, 'percent_complete': 0, 'job_type': 'AnalyzeModel', 'loss': 0.9059557914733887, 'generations': 1, 'dataset_names': None, 'artifact_names': ['7b74b3f942384b5780d160330bd68a9d'], 'model_name': 'Permit Type_model10', 'job_error': ''}\n",
      "{'status': 'Running', 'starttime': '2019-04-18T15:45:55.72561', 'endtime': None, 'percent_complete': 0, 'job_type': 'AnalyzeModel', 'loss': 0.9059557914733887, 'generations': 1, 'dataset_names': None, 'artifact_names': ['7b74b3f942384b5780d160330bd68a9d'], 'model_name': 'Permit Type_model10', 'job_error': ''}\n",
      "{'status': 'Complete', 'starttime': '2019-04-18T15:45:55.72561', 'endtime': '2019-04-18T15:47:05.775309', 'percent_complete': 100, 'job_type': 'AnalyzeModel', 'loss': 0.9059557914733887, 'generations': 1, 'dataset_names': None, 'artifact_names': ['7b74b3f942384b5780d160330bd68a9d'], 'model_name': 'Permit Type_model10', 'job_error': ''}\n"
     ]
    }
   ],
   "source": [
    "# Retrieve feature importance of built model\n",
    "status, artifact = ds.analyze_model(model)\n",
    "sleep(1)\n",
    "if status:\n",
    "    ds.wait_for_job(artifact['job_name'])\n",
    "else:\n",
    "    print(artifact)\n",
    "status, feature_importance = ds.download_artifact(artifact['artifact_name'])\n"
   ]
  },
  {
   "cell_type": "markdown",
   "metadata": {},
   "source": [
    "Display most important features of the model."
   ]
  },
  {
   "cell_type": "code",
   "execution_count": 20,
   "metadata": {},
   "outputs": [
    {
     "data": {
      "text/plain": [
       "Unnamed: 0              0.436638\n",
       "Project ID              0.363988\n",
       "Master Permit Num       0.061997\n",
       "Housing Units           0.029400\n",
       "Number Of Floors        0.018045\n",
       "Total Job Valuation     0.010938\n",
       "Work Class = Remodel    0.010276\n",
       "Fiscal Year Issued      0.008843\n",
       "Calendar Year Issued    0.007646\n",
       "Work Class = New        0.007506\n",
       "dtype: float64"
      ]
     },
     "execution_count": 20,
     "metadata": {},
     "output_type": "execute_result"
    }
   ],
   "source": [
    "feature_importance[:10]"
   ]
  },
  {
   "cell_type": "markdown",
   "metadata": {},
   "source": [
    "### Predictions\n",
    "\n",
    "#### Perform model prediction on the training dataset."
   ]
  },
  {
   "cell_type": "code",
   "execution_count": 21,
   "metadata": {},
   "outputs": [
    {
     "name": "stdout",
     "output_type": "stream",
     "text": [
      "{'status': 'Running', 'starttime': '2019-04-18T15:50:36.998456', 'endtime': None, 'percent_complete': 0, 'job_type': 'RunModel', 'loss': 0.9059557914733887, 'generations': 1, 'dataset_names': ['test10.csv'], 'artifact_names': ['9dd299c3071b4ce5bc66f7629718390b'], 'model_name': 'Permit Type_model10', 'job_error': ''}\n",
      "{'status': 'Running', 'starttime': '2019-04-18T15:50:36.998456', 'endtime': None, 'percent_complete': 0, 'job_type': 'RunModel', 'loss': 0.9059557914733887, 'generations': 1, 'dataset_names': ['test10.csv'], 'artifact_names': ['9dd299c3071b4ce5bc66f7629718390b'], 'model_name': 'Permit Type_model10', 'job_error': ''}\n",
      "{'status': 'Running', 'starttime': '2019-04-18T15:50:36.998456', 'endtime': None, 'percent_complete': 0, 'job_type': 'RunModel', 'loss': 0.9059557914733887, 'generations': 1, 'dataset_names': ['test10.csv'], 'artifact_names': ['9dd299c3071b4ce5bc66f7629718390b'], 'model_name': 'Permit Type_model10', 'job_error': ''}\n",
      "{'status': 'Running', 'starttime': '2019-04-18T15:50:36.998456', 'endtime': None, 'percent_complete': 0, 'job_type': 'RunModel', 'loss': 0.9059557914733887, 'generations': 1, 'dataset_names': ['test10.csv'], 'artifact_names': ['9dd299c3071b4ce5bc66f7629718390b'], 'model_name': 'Permit Type_model10', 'job_error': ''}\n",
      "{'status': 'Complete', 'starttime': '2019-04-18T15:50:36.998456', 'endtime': '2019-04-18T15:51:33.274088', 'percent_complete': 100, 'job_type': 'RunModel', 'loss': 0.9059557914733887, 'generations': 1, 'dataset_names': ['test10.csv'], 'artifact_names': ['9dd299c3071b4ce5bc66f7629718390b'], 'model_name': 'Permit Type_model10', 'job_error': ''}\n"
     ]
    },
    {
     "data": {
      "text/plain": [
       "(True, 'Job completed')"
      ]
     },
     "execution_count": 21,
     "metadata": {},
     "output_type": "execute_result"
    }
   ],
   "source": [
    "status, artifact = ds.run_model(filename, model)\n",
    "sleep(1)\n",
    "ds.wait_for_job(artifact['job_name'])"
   ]
  },
  {
   "cell_type": "markdown",
   "metadata": {},
   "source": [
    "Download predictions from Darwin."
   ]
  },
  {
   "cell_type": "code",
   "execution_count": 22,
   "metadata": {},
   "outputs": [
    {
     "data": {
      "text/html": [
       "<div>\n",
       "<style scoped>\n",
       "    .dataframe tbody tr th:only-of-type {\n",
       "        vertical-align: middle;\n",
       "    }\n",
       "\n",
       "    .dataframe tbody tr th {\n",
       "        vertical-align: top;\n",
       "    }\n",
       "\n",
       "    .dataframe thead th {\n",
       "        text-align: right;\n",
       "    }\n",
       "</style>\n",
       "<table border=\"1\" class=\"dataframe\">\n",
       "  <thead>\n",
       "    <tr style=\"text-align: right;\">\n",
       "      <th></th>\n",
       "      <th>Permit Type</th>\n",
       "      <th>prob_BP</th>\n",
       "      <th>prob_DS</th>\n",
       "      <th>prob_EP</th>\n",
       "      <th>prob_MP</th>\n",
       "      <th>prob_PP</th>\n",
       "    </tr>\n",
       "  </thead>\n",
       "  <tbody>\n",
       "    <tr>\n",
       "      <th>0</th>\n",
       "      <td>MP</td>\n",
       "      <td>3.590347e-28</td>\n",
       "      <td>0.0</td>\n",
       "      <td>0.0</td>\n",
       "      <td>1.0</td>\n",
       "      <td>1.470000e-08</td>\n",
       "    </tr>\n",
       "    <tr>\n",
       "      <th>1</th>\n",
       "      <td>MP</td>\n",
       "      <td>1.655939e-29</td>\n",
       "      <td>0.0</td>\n",
       "      <td>0.0</td>\n",
       "      <td>1.0</td>\n",
       "      <td>4.000000e-10</td>\n",
       "    </tr>\n",
       "    <tr>\n",
       "      <th>2</th>\n",
       "      <td>MP</td>\n",
       "      <td>7.587439e-28</td>\n",
       "      <td>0.0</td>\n",
       "      <td>0.0</td>\n",
       "      <td>1.0</td>\n",
       "      <td>1.540000e-08</td>\n",
       "    </tr>\n",
       "    <tr>\n",
       "      <th>3</th>\n",
       "      <td>MP</td>\n",
       "      <td>8.789642e-27</td>\n",
       "      <td>0.0</td>\n",
       "      <td>0.0</td>\n",
       "      <td>1.0</td>\n",
       "      <td>7.360000e-08</td>\n",
       "    </tr>\n",
       "    <tr>\n",
       "      <th>4</th>\n",
       "      <td>MP</td>\n",
       "      <td>1.698114e-30</td>\n",
       "      <td>0.0</td>\n",
       "      <td>0.0</td>\n",
       "      <td>1.0</td>\n",
       "      <td>4.000000e-10</td>\n",
       "    </tr>\n",
       "  </tbody>\n",
       "</table>\n",
       "</div>"
      ],
      "text/plain": [
       "  Permit Type       prob_BP  prob_DS  prob_EP  prob_MP       prob_PP\n",
       "0          MP  3.590347e-28      0.0      0.0      1.0  1.470000e-08\n",
       "1          MP  1.655939e-29      0.0      0.0      1.0  4.000000e-10\n",
       "2          MP  7.587439e-28      0.0      0.0      1.0  1.540000e-08\n",
       "3          MP  8.789642e-27      0.0      0.0      1.0  7.360000e-08\n",
       "4          MP  1.698114e-30      0.0      0.0      1.0  4.000000e-10"
      ]
     },
     "execution_count": 22,
     "metadata": {},
     "output_type": "execute_result"
    }
   ],
   "source": [
    "status, prediction = ds.download_artifact(artifact['artifact_name'])\n",
    "prediction.head()"
   ]
  },
  {
   "cell_type": "markdown",
   "metadata": {},
   "source": [
    "#### Download predictions"
   ]
  },
  {
   "cell_type": "code",
   "execution_count": 23,
   "metadata": {},
   "outputs": [],
   "source": [
    "prediction.to_csv(os.path.join(path, \"prediction10.csv\"))"
   ]
  },
  {
   "cell_type": "markdown",
   "metadata": {},
   "source": [
    "Create visualizations for comparing predictions with actual target. "
   ]
  },
  {
   "cell_type": "code",
   "execution_count": 24,
   "metadata": {},
   "outputs": [
    {
     "name": "stdout",
     "output_type": "stream",
     "text": [
      "              precision    recall  f1-score   support\n",
      "\n",
      "          BP       1.00      1.00      1.00    248227\n",
      "          DS       1.00      1.00      1.00     71718\n",
      "          EP       1.00      1.00      1.00    347547\n",
      "          MP       1.00      1.00      1.00     40701\n",
      "          PP       1.00      1.00      1.00    241074\n",
      "\n",
      "   micro avg       1.00      1.00      1.00    949267\n",
      "   macro avg       1.00      1.00      1.00    949267\n",
      "weighted avg       1.00      1.00      1.00    949267\n",
      "\n"
     ]
    },
    {
     "data": {
      "image/png": "[encoded data removed]",
      "text/plain": [
       "<Figure size 432x288 with 1 Axes>"
      ]
     },
     "metadata": {
      "needs_background": "light"
     },
     "output_type": "display_data"
    }
   ],
   "source": [
    "unq = prediction[target].unique()[::-1]\n",
    "p = np.zeros((len(prediction),))\n",
    "a = np.zeros((len(prediction),))\n",
    "for i,q in enumerate(unq):\n",
    "    p += i*(prediction[target] == q).values\n",
    "    a += i*(reduceData[target] == q).values\n",
    "#Plot predictions vs actual\n",
    "plt.plot(a)\n",
    "plt.plot(p)\n",
    "plt.legend(['Actual','Predicted'])\n",
    "plt.yticks([i for i in range(len(unq))],[q for q in unq]);\n",
    "print(classification_report(reduceData[target], prediction[target]))"
   ]
  },
  {
   "cell_type": "markdown",
   "metadata": {},
   "source": [
    "#### Perform model prediction on test dataset from holdout method.\n",
    "Upload test data."
   ]
  },
  {
   "cell_type": "code",
   "execution_count": 35,
   "metadata": {},
   "outputs": [
    {
     "name": "stdout",
     "output_type": "stream",
     "text": [
      "400: BAD REQUEST - {\"message\": \"Dataset already exists\"}\n",
      "\n"
     ]
    }
   ],
   "source": [
    "\n",
    "status, dataset = ds.upload_dataset(os.path.join(path, test_data))\n",
    "if not status:\n",
    "    print(dataset)"
   ]
  },
  {
   "cell_type": "markdown",
   "metadata": {},
   "source": [
    "Clean test data. "
   ]
  },
  {
   "cell_type": "code",
   "execution_count": 36,
   "metadata": {},
   "outputs": [
    {
     "name": "stdout",
     "output_type": "stream",
     "text": [
      "Model:\n",
      " Permit Type_model10\n",
      "Target: \n",
      " Permit Type\n",
      "{'job_name': '4b407a2d52474caabc8234b5953077d7', 'artifact_name': '4de605b0816e410ab1ff68f36c33c5d2'}\n",
      "{'status': 'Requested', 'starttime': '2019-04-18T16:24:10.60111', 'endtime': None, 'percent_complete': 0, 'job_type': 'CleanDataTiny', 'loss': None, 'generations': None, 'dataset_names': ['testSet10.csv'], 'artifact_names': ['4de605b0816e410ab1ff68f36c33c5d2'], 'model_name': None, 'job_error': None}\n",
      "{'status': 'Failed', 'starttime': '2019-04-18T16:24:10.60111', 'endtime': '2019-04-18T16:24:19.058919', 'percent_complete': 100, 'job_type': 'CleanDataTiny', 'loss': None, 'generations': None, 'dataset_names': ['testSet10.csv'], 'artifact_names': ['4de605b0816e410ab1ff68f36c33c5d2'], 'model_name': None, 'job_error': 'DarwinInternalErroruncaught'}\n"
     ]
    }
   ],
   "source": [
    "status, job_id = ds.clean_data(test_data, target = target, model_name = model)\n",
    "print(\"Model:\\n\",model)\n",
    "print(\"Target: \\n\",target)\n",
    "print(job_id)\n",
    "if status:\n",
    "    ds.wait_for_job(job_id['job_name'])\n",
    "else:\n",
    "    print(job_id)"
   ]
  },
  {
   "cell_type": "markdown",
   "metadata": {},
   "source": [
    "Run model on test dataset. "
   ]
  },
  {
   "cell_type": "code",
   "execution_count": 37,
   "metadata": {},
   "outputs": [
    {
     "name": "stdout",
     "output_type": "stream",
     "text": [
      "{'status': 'Running', 'starttime': '2019-04-18T16:24:38.668054', 'endtime': None, 'percent_complete': 0, 'job_type': 'RunModel', 'loss': 0.9059557914733887, 'generations': 1, 'dataset_names': ['testSet10.csv'], 'artifact_names': ['7d8c21ef87ea492cbd616ab6242a0bff'], 'model_name': 'Permit Type_model10', 'job_error': ''}\n",
      "{'status': 'Running', 'starttime': '2019-04-18T16:24:38.668054', 'endtime': None, 'percent_complete': 0, 'job_type': 'RunModel', 'loss': 0.9059557914733887, 'generations': 1, 'dataset_names': ['testSet10.csv'], 'artifact_names': ['7d8c21ef87ea492cbd616ab6242a0bff'], 'model_name': 'Permit Type_model10', 'job_error': ''}\n",
      "{'status': 'Failed', 'starttime': '2019-04-18T16:24:38.668054', 'endtime': '2019-04-18T16:24:59.51112', 'percent_complete': 100, 'job_type': 'RunModel', 'loss': 0.9059557914733887, 'generations': 1, 'dataset_names': ['testSet10.csv'], 'artifact_names': ['7d8c21ef87ea492cbd616ab6242a0bff'], 'model_name': 'Permit Type_model10', 'job_error': 'FailedDownload: Failed to download entity of type Object from location artifacts/c5e7932c-5ca0-11e9-a3a0-5b4cadcb3bcf_4de605b0816e410ab1ff68f36c33c5d2/data.csv'}\n"
     ]
    },
    {
     "data": {
      "text/plain": [
       "(False,\n",
       " {'status': 'Failed',\n",
       "  'starttime': '2019-04-18T16:24:38.668054',\n",
       "  'endtime': '2019-04-18T16:24:59.51112',\n",
       "  'percent_complete': 100,\n",
       "  'job_type': 'RunModel',\n",
       "  'loss': 0.9059557914733887,\n",
       "  'generations': 1,\n",
       "  'dataset_names': ['testSet10.csv'],\n",
       "  'artifact_names': ['7d8c21ef87ea492cbd616ab6242a0bff'],\n",
       "  'model_name': 'Permit Type_model10',\n",
       "  'job_error': 'FailedDownload: Failed to download entity of type Object from location artifacts/c5e7932c-5ca0-11e9-a3a0-5b4cadcb3bcf_4de605b0816e410ab1ff68f36c33c5d2/data.csv'})"
      ]
     },
     "execution_count": 37,
     "metadata": {},
     "output_type": "execute_result"
    }
   ],
   "source": [
    "status, artifact = ds.run_model(test_data, model)\n",
    "sleep(1)\n",
    "ds.wait_for_job(artifact['job_name'])"
   ]
  },
  {
   "cell_type": "markdown",
   "metadata": {},
   "source": [
    "Create visualizations for comparing predictions with actual target."
   ]
  },
  {
   "cell_type": "code",
   "execution_count": null,
   "metadata": {
    "collapsed": true
   },
   "outputs": [],
   "source": [
    "status, prediction = ds.download_artifact(artifact['artifact_name'])\n",
    "df = pd.read_csv(os.path.join(path,test_data))\n",
    "unq = prediction[target].unique()[::-1]\n",
    "p = np.zeros((len(prediction),))\n",
    "a = np.zeros((len(prediction),))\n",
    "for i,q in enumerate(unq):\n",
    "    p += i*(prediction[target] == q).values\n",
    "    a += i*(df[target] == q).values\n",
    "#Plot predictions vs actual\n",
    "plt.plot(a)\n",
    "plt.plot(p)\n",
    "plt.legend(['Actual','Predicted'])\n",
    "plt.yticks([i for i in range(len(unq))],[q for q in unq]);\n",
    "print(classification_report(df[target], prediction[target]))"
   ]
  },
  {
   "cell_type": "markdown",
   "metadata": {},
   "source": [
    "### Darwin' Pick for machine learning model"
   ]
  },
  {
   "cell_type": "code",
   "execution_count": 29,
   "metadata": {},
   "outputs": [
    {
     "name": "stdout",
     "output_type": "stream",
     "text": [
      "{'type': 'XGBClassifier', 'parameters': {'base_score': 0.5, 'colsample_bylevel': 1, 'colsample_bytree': 1, 'gamma': 0, 'learning_rate': 0.26011845115343407, 'max_delta_step': 0, 'max_depth': 2, 'min_child_weight': 10, 'n_estimators': 290, 'n_jobs': -1, 'reg_alpha': 0, 'reg_lambda': 1, 'scale_pos_weight': 1, 'subsample': 0.9077453910198585}}\n"
     ]
    }
   ],
   "source": [
    "status, model_type = ds.lookup_model_name(model)\n",
    "print(model_type['description']['best_genome'])"
   ]
  },
  {
   "cell_type": "markdown",
   "metadata": {},
   "source": [
    "## Clean up"
   ]
  },
  {
   "cell_type": "code",
   "execution_count": null,
   "metadata": {},
   "outputs": [],
   "source": [
    "ds.delete_all_datasets()\n",
    "ds.delete_all_models()\n",
    "ds.delete_all_artifacts()"
   ]
  }
 ],
 "metadata": {
  "kernelspec": {
   "display_name": "Python 3",
   "language": "python",
   "name": "python3"
  },
  "language_info": {
   "codemirror_mode": {
    "name": "ipython",
    "version": 3
   },
   "file_extension": ".py",
   "mimetype": "text/x-python",
   "name": "python",
   "nbconvert_exporter": "python",
   "pygments_lexer": "ipython3",
   "version": "3.7.3"
  }
 },
 "nbformat": 4,
 "nbformat_minor": 2
}
