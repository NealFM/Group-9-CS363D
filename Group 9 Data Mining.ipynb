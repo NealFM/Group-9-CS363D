{
 "cells": [
  {
   "cell_type": "markdown",
   "metadata": {},
   "source": [
    "## Contributors: \n",
    "Neal Friesenhahn"
   ]
  },
  {
   "cell_type": "markdown",
   "metadata": {},
   "source": [
    "### Importing Libraries:"
   ]
  },
  {
   "cell_type": "code",
   "execution_count": 1,
   "metadata": {},
   "outputs": [],
   "source": [
    "# Import necessary libraries\n",
    "import warnings\n",
    "warnings.filterwarnings(\"ignore\", message=\"numpy.dtype size changed\")\n",
    "%matplotlib inline\n",
    "import matplotlib.pyplot as plt\n",
    "import pandas as pd\n",
    "from IPython.display import Image\n",
    "from time import sleep\n",
    "import os\n",
    "import math\n",
    "import numpy as np\n",
    "from sklearn.metrics import classification_report\n",
    "\n",
    "from amb_sdk.sdk import DarwinSdk"
   ]
  },
  {
   "cell_type": "markdown",
   "metadata": {},
   "source": [
    "### Configure Darwin:"
   ]
  },
  {
   "cell_type": "code",
   "execution_count": 2,
   "metadata": {
    "collapsed": true
   },
   "outputs": [],
   "source": [
    "# Login\n",
    "ds = DarwinSdk()\n",
    "file = open(\"login.txt\", \"r\")\n",
    "username = file.readline(0)\n",
    "password = file.readline(1)\n",
    "ds.set_url('https://amb-demo-api.sparkcognition.com/v1/')\n",
    "status, msg = ds.auth_login_user('username', 'password')\n",
    "if not status:\n",
    "    print(msg)\n",
    "    "
   ]
  },
  {
   "cell_type": "markdown",
   "metadata": {},
   "source": [
    "#### Data Path\n",
    "Make sure to set this to your local machine's path to the data."
   ]
  },
  {
   "cell_type": "code",
   "execution_count": 3,
   "metadata": {
    "collapsed": true
   },
   "outputs": [],
   "source": [
    "path = './'"
   ]
  },
  {
   "cell_type": "markdown",
   "metadata": {},
   "source": [
    "### Importing Data:\n",
    "Data used in this project:\n",
    "https://data.austintexas.gov/Building-and-Development/Issued-Construction-Permits/3syk-w9eu"
   ]
  },
  {
   "cell_type": "code",
   "execution_count": 6,
   "metadata": {},
   "outputs": [
    {
     "name": "stderr",
     "output_type": "stream",
     "text": [
      "C:\\Users\\Neal\\Anaconda3\\lib\\site-packages\\IPython\\core\\interactiveshell.py:2717: DtypeWarning: Columns (52,54,56,58,59,60,61,62,63,64,65,66) have mixed types. Specify dtype option on import or set low_memory=False.\n",
      "  interactivity=interactivity, compiler=compiler, result=result)\n"
     ]
    },
    {
     "name": "stdout",
     "output_type": "stream",
     "text": [
      "Removed columns from dataset:\n",
      "Contractor Company Name\n",
      "Contractor Phone\n",
      "Contractor Address 2\n",
      "Contractor Zip\n",
      "Applicant Full Name\n",
      "Applicant Organization\n",
      "Applicant Phone\n",
      "Applicant Address 1\n",
      "Applicant Address 2\n",
      "Applicant City\n",
      "Applicant Zip\n",
      "Certificate Of Occupancy\n"
     ]
    },
    {
     "data": {
      "text/html": [
       "<div>\n",
       "<style>\n",
       "    .dataframe thead tr:only-child th {\n",
       "        text-align: right;\n",
       "    }\n",
       "\n",
       "    .dataframe thead th {\n",
       "        text-align: left;\n",
       "    }\n",
       "\n",
       "    .dataframe tbody tr th {\n",
       "        vertical-align: top;\n",
       "    }\n",
       "</style>\n",
       "<table border=\"1\" class=\"dataframe\">\n",
       "  <thead>\n",
       "    <tr style=\"text-align: right;\">\n",
       "      <th></th>\n",
       "      <th>Permit Type</th>\n",
       "      <th>Permit Class Mapped</th>\n",
       "      <th>Work Class</th>\n",
       "      <th>Condominium</th>\n",
       "      <th>Project Name</th>\n",
       "      <th>Description</th>\n",
       "      <th>TCAD ID</th>\n",
       "      <th>Property Legal Description</th>\n",
       "      <th>Applied Date</th>\n",
       "      <th>Issued Date</th>\n",
       "      <th>...</th>\n",
       "      <th>Link</th>\n",
       "      <th>Project ID</th>\n",
       "      <th>Master Permit Num</th>\n",
       "      <th>Latitude</th>\n",
       "      <th>Longitude</th>\n",
       "      <th>Location</th>\n",
       "      <th>Contractor Full Name</th>\n",
       "      <th>Contractor Address 1</th>\n",
       "      <th>Contractor City</th>\n",
       "      <th>Total Lot SQFT</th>\n",
       "    </tr>\n",
       "  </thead>\n",
       "  <tbody>\n",
       "    <tr>\n",
       "      <th>0</th>\n",
       "      <td>EP</td>\n",
       "      <td>Residential</td>\n",
       "      <td>Addition</td>\n",
       "      <td>No</td>\n",
       "      <td>1407 ALAMEDA DR</td>\n",
       "      <td>expand exst basement by 550 sq ft entirely wit...</td>\n",
       "      <td>0301020315</td>\n",
       "      <td>LOT 30 BLK 3 TRAVIS HEIGHTS PLUS 12 ADJ VAC ALLEY</td>\n",
       "      <td>2007/03/13</td>\n",
       "      <td>2009/10/26</td>\n",
       "      <td>...</td>\n",
       "      <td>https://abc.austintexas.gov/web/permit/public-...</td>\n",
       "      <td>10012479</td>\n",
       "      <td>10012477.0</td>\n",
       "      <td>30.247589</td>\n",
       "      <td>-97.742178</td>\n",
       "      <td>(30.24758944, -97.74217752)</td>\n",
       "      <td>Lucy Taus Katz</td>\n",
       "      <td>NaN</td>\n",
       "      <td>Austin</td>\n",
       "      <td>NaN</td>\n",
       "    </tr>\n",
       "    <tr>\n",
       "      <th>1</th>\n",
       "      <td>MP</td>\n",
       "      <td>Residential</td>\n",
       "      <td>Addition</td>\n",
       "      <td>No</td>\n",
       "      <td>1407 ALAMEDA DR</td>\n",
       "      <td>expand exst basement by 550 sq ft entirely wit...</td>\n",
       "      <td>0301020315</td>\n",
       "      <td>LOT 30 BLK 3 TRAVIS HEIGHTS PLUS 12 ADJ VAC ALLEY</td>\n",
       "      <td>2007/03/13</td>\n",
       "      <td>2009/10/15</td>\n",
       "      <td>...</td>\n",
       "      <td>https://abc.austintexas.gov/web/permit/public-...</td>\n",
       "      <td>10012480</td>\n",
       "      <td>10012477.0</td>\n",
       "      <td>30.247589</td>\n",
       "      <td>-97.742178</td>\n",
       "      <td>(30.24758944, -97.74217752)</td>\n",
       "      <td>Lucy Taus Katz</td>\n",
       "      <td>NaN</td>\n",
       "      <td>Austin</td>\n",
       "      <td>NaN</td>\n",
       "    </tr>\n",
       "    <tr>\n",
       "      <th>2</th>\n",
       "      <td>MP</td>\n",
       "      <td>Commercial</td>\n",
       "      <td>Remodel</td>\n",
       "      <td>No</td>\n",
       "      <td>1524 S IH 35 SVRD SB UNIT 125</td>\n",
       "      <td>interior remodel to existing office  Staples  ...</td>\n",
       "      <td>0302030941</td>\n",
       "      <td>TRT A TEAGUEBUDA SUBD NO 1</td>\n",
       "      <td>2007/03/21</td>\n",
       "      <td>2009/06/18</td>\n",
       "      <td>...</td>\n",
       "      <td>https://abc.austintexas.gov/web/permit/public-...</td>\n",
       "      <td>10015275</td>\n",
       "      <td>10015274.0</td>\n",
       "      <td>30.243101</td>\n",
       "      <td>-97.736862</td>\n",
       "      <td>(30.24310053, -97.73686219)</td>\n",
       "      <td>Darron Duggins</td>\n",
       "      <td>450 LITTLE EL PASO RD</td>\n",
       "      <td>Martindale</td>\n",
       "      <td>NaN</td>\n",
       "    </tr>\n",
       "    <tr>\n",
       "      <th>3</th>\n",
       "      <td>MP</td>\n",
       "      <td>Residential</td>\n",
       "      <td>New</td>\n",
       "      <td>No</td>\n",
       "      <td>2104 Wychwood Drive                A  00000</td>\n",
       "      <td>2 Stry Frm Res WMas Ven And Att Gar</td>\n",
       "      <td>0105170437</td>\n",
       "      <td>LOT 8 BLK E BEECAVE WOODS SEC 3</td>\n",
       "      <td>1982/01/15</td>\n",
       "      <td>1982/01/15</td>\n",
       "      <td>...</td>\n",
       "      <td>https://abc.austintexas.gov/web/permit/public-...</td>\n",
       "      <td>3175681</td>\n",
       "      <td>513615.0</td>\n",
       "      <td>30.262058</td>\n",
       "      <td>-97.807113</td>\n",
       "      <td>(30.26205758, -97.80711332)</td>\n",
       "      <td>NaN</td>\n",
       "      <td>NaN</td>\n",
       "      <td>NaN</td>\n",
       "      <td>NaN</td>\n",
       "    </tr>\n",
       "    <tr>\n",
       "      <th>4</th>\n",
       "      <td>EP</td>\n",
       "      <td>Commercial</td>\n",
       "      <td>Addition</td>\n",
       "      <td>No</td>\n",
       "      <td>1201 BARBARA JORDAN BLVD BLDG 13</td>\n",
       "      <td>ADDITION   CHIPOTLE MEXICAN GRILL</td>\n",
       "      <td>0221130406</td>\n",
       "      <td>LOT 2A BLK E MUELLER RETAIL PHS A</td>\n",
       "      <td>2007/03/29</td>\n",
       "      <td>2009/07/20</td>\n",
       "      <td>...</td>\n",
       "      <td>https://abc.austintexas.gov/web/permit/public-...</td>\n",
       "      <td>10020014</td>\n",
       "      <td>10020013.0</td>\n",
       "      <td>30.306353</td>\n",
       "      <td>-97.709165</td>\n",
       "      <td>(30.30635266, -97.70916489)</td>\n",
       "      <td>Larry Cheatwood</td>\n",
       "      <td>5331 MCCULLOUGH</td>\n",
       "      <td>San Antonio</td>\n",
       "      <td>NaN</td>\n",
       "    </tr>\n",
       "  </tbody>\n",
       "</table>\n",
       "<p>5 rows × 52 columns</p>\n",
       "</div>"
      ],
      "text/plain": [
       "  Permit Type Permit Class Mapped Work Class Condominium  \\\n",
       "0          EP         Residential   Addition          No   \n",
       "1          MP         Residential   Addition          No   \n",
       "2          MP          Commercial    Remodel          No   \n",
       "3          MP         Residential        New          No   \n",
       "4          EP          Commercial   Addition          No   \n",
       "\n",
       "                                  Project Name  \\\n",
       "0                              1407 ALAMEDA DR   \n",
       "1                              1407 ALAMEDA DR   \n",
       "2                1524 S IH 35 SVRD SB UNIT 125   \n",
       "3  2104 Wychwood Drive                A  00000   \n",
       "4             1201 BARBARA JORDAN BLVD BLDG 13   \n",
       "\n",
       "                                         Description     TCAD ID  \\\n",
       "0  expand exst basement by 550 sq ft entirely wit...  0301020315   \n",
       "1  expand exst basement by 550 sq ft entirely wit...  0301020315   \n",
       "2  interior remodel to existing office  Staples  ...  0302030941   \n",
       "3                2 Stry Frm Res WMas Ven And Att Gar  0105170437   \n",
       "4                  ADDITION   CHIPOTLE MEXICAN GRILL  0221130406   \n",
       "\n",
       "                          Property Legal Description Applied Date Issued Date  \\\n",
       "0  LOT 30 BLK 3 TRAVIS HEIGHTS PLUS 12 ADJ VAC ALLEY   2007/03/13  2009/10/26   \n",
       "1  LOT 30 BLK 3 TRAVIS HEIGHTS PLUS 12 ADJ VAC ALLEY   2007/03/13  2009/10/15   \n",
       "2                         TRT A TEAGUEBUDA SUBD NO 1   2007/03/21  2009/06/18   \n",
       "3                    LOT 8 BLK E BEECAVE WOODS SEC 3   1982/01/15  1982/01/15   \n",
       "4                  LOT 2A BLK E MUELLER RETAIL PHS A   2007/03/29  2009/07/20   \n",
       "\n",
       "        ...                                                     Link  \\\n",
       "0       ...        https://abc.austintexas.gov/web/permit/public-...   \n",
       "1       ...        https://abc.austintexas.gov/web/permit/public-...   \n",
       "2       ...        https://abc.austintexas.gov/web/permit/public-...   \n",
       "3       ...        https://abc.austintexas.gov/web/permit/public-...   \n",
       "4       ...        https://abc.austintexas.gov/web/permit/public-...   \n",
       "\n",
       "   Project ID  Master Permit Num   Latitude  Longitude  \\\n",
       "0    10012479         10012477.0  30.247589 -97.742178   \n",
       "1    10012480         10012477.0  30.247589 -97.742178   \n",
       "2    10015275         10015274.0  30.243101 -97.736862   \n",
       "3     3175681           513615.0  30.262058 -97.807113   \n",
       "4    10020014         10020013.0  30.306353 -97.709165   \n",
       "\n",
       "                      Location Contractor Full Name   Contractor Address 1  \\\n",
       "0  (30.24758944, -97.74217752)       Lucy Taus Katz                    NaN   \n",
       "1  (30.24758944, -97.74217752)       Lucy Taus Katz                    NaN   \n",
       "2  (30.24310053, -97.73686219)       Darron Duggins  450 LITTLE EL PASO RD   \n",
       "3  (30.26205758, -97.80711332)                  NaN                    NaN   \n",
       "4  (30.30635266, -97.70916489)      Larry Cheatwood        5331 MCCULLOUGH   \n",
       "\n",
       "  Contractor City  Total Lot SQFT  \n",
       "0          Austin             NaN  \n",
       "1          Austin             NaN  \n",
       "2      Martindale             NaN  \n",
       "3             NaN             NaN  \n",
       "4     San Antonio             NaN  \n",
       "\n",
       "[5 rows x 52 columns]"
      ]
     },
     "execution_count": 6,
     "metadata": {},
     "output_type": "execute_result"
    }
   ],
   "source": [
    "dataFile = \"./Issued_Construction_Permits.csv\"\n",
    "filename= \"test.csv\"\n",
    "data = pd.read_csv(dataFile, skipinitialspace=True)\n",
    "\n",
    "#Columns with detected mixed types\n",
    "mixedData_col = [52,54,56,58,59,60,61,62,63,64,65,66]\n",
    "\n",
    "columnsNames = data.columns.values\n",
    "#excess labels included in feature drop\n",
    "featureDrop = ['Permit Type Desc', 'Permit Num', 'Permit Class', 'Contractor Trade']\n",
    "#add mixed datatype col to feature drop until later date of processing \n",
    "print(\"Removed columns from dataset:\")\n",
    "for col in mixedData_col:\n",
    "    print(columnsNames[col])\n",
    "    featureDrop.append(columnsNames[col])\n",
    "    \n",
    "reduceData = data.drop(featureDrop, axis=1)\n",
    "#data added chronologically to dataset, for now reduce by half for random sampling\n",
    "reduceSize = math.floor(len(reduceData)/2)\n",
    "reduceData = reduceData.head(reduceSize)\n",
    "reduceData.to_csv(os.path.join(path, filename))\n",
    "reduceData.head()"
   ]
  },
  {
   "cell_type": "markdown",
   "metadata": {},
   "source": [
    "In this dataset we will attempt to use the Permit Type as the class label for the data and because of that we need to remove some columns that also act as labels in that capacity that might skew the results. Columns that are similar to Permit type are:\n",
    "\n",
    "    Permit Type Description\n",
    "    Permit Num (since it contain the type in the code)\n",
    "    Permit Class (functions much like a label)\n",
    "    Contractor Trade (plummers typically take plumbing jobs, electricians take electrician jobs thus could act as a label)\n",
    "\n",
    "Tangental Job indicators: (subject to testing and feature engineering)\n",
    "\n",
    "    *Plumbing Valuation\n",
    "    *Plumbing Valuation Remodel\n",
    "    *Electrical Valuation\n",
    "    *Electrical Valuation Remodel\n",
    "    *Mechanical Valuation\n",
    "    *Mechanical Valuation Remodel \n",
    "    *MedGas Valuation\n",
    "    *MedGas Valuation Remodel\n",
    "\n",
    "It might be interesting to note that a renovation job might include plumbing costs and the difference being the cost threshold which decides if its specifically a plumbing job."
   ]
  },
  {
   "cell_type": "markdown",
   "metadata": {},
   "source": [
    "### Upload to Darwin"
   ]
  },
  {
   "cell_type": "code",
   "execution_count": 7,
   "metadata": {
    "collapsed": true
   },
   "outputs": [],
   "source": [
    "status, dataset = ds.upload_dataset(os.path.join(path, filename))\n",
    "if not status:\n",
    "    print(dataset)"
   ]
  },
  {
   "cell_type": "markdown",
   "metadata": {},
   "source": [
    "#### Clean dataset"
   ]
  },
  {
   "cell_type": "code",
   "execution_count": 9,
   "metadata": {},
   "outputs": [
    {
     "name": "stdout",
     "output_type": "stream",
     "text": [
      "{'status': 'Requested', 'starttime': '2019-04-16T22:11:27.501866', 'endtime': None, 'percent_complete': 0, 'job_type': 'CleanData', 'loss': None, 'generations': None, 'dataset_names': ['test.csv'], 'artifact_names': ['d1fd00f5a2264aba80b97e1ad975972b'], 'model_name': None, 'job_error': None}\n",
      "{'status': 'Running', 'starttime': '2019-04-16T22:11:27.501866', 'endtime': None, 'percent_complete': 10, 'job_type': 'CleanData', 'loss': None, 'generations': None, 'dataset_names': ['test.csv'], 'artifact_names': ['d1fd00f5a2264aba80b97e1ad975972b'], 'model_name': None, 'job_error': None}\n",
      "{'status': 'Running', 'starttime': '2019-04-16T22:11:27.501866', 'endtime': None, 'percent_complete': 10, 'job_type': 'CleanData', 'loss': None, 'generations': None, 'dataset_names': ['test.csv'], 'artifact_names': ['d1fd00f5a2264aba80b97e1ad975972b'], 'model_name': None, 'job_error': None}\n",
      "{'status': 'Running', 'starttime': '2019-04-16T22:11:27.501866', 'endtime': None, 'percent_complete': 10, 'job_type': 'CleanData', 'loss': None, 'generations': None, 'dataset_names': ['test.csv'], 'artifact_names': ['d1fd00f5a2264aba80b97e1ad975972b'], 'model_name': None, 'job_error': None}\n",
      "{'status': 'Running', 'starttime': '2019-04-16T22:11:27.501866', 'endtime': None, 'percent_complete': 10, 'job_type': 'CleanData', 'loss': None, 'generations': None, 'dataset_names': ['test.csv'], 'artifact_names': ['d1fd00f5a2264aba80b97e1ad975972b'], 'model_name': None, 'job_error': None}\n",
      "{'status': 'Running', 'starttime': '2019-04-16T22:11:27.501866', 'endtime': None, 'percent_complete': 10, 'job_type': 'CleanData', 'loss': None, 'generations': None, 'dataset_names': ['test.csv'], 'artifact_names': ['d1fd00f5a2264aba80b97e1ad975972b'], 'model_name': None, 'job_error': None}\n",
      "{'status': 'Running', 'starttime': '2019-04-16T22:11:27.501866', 'endtime': None, 'percent_complete': 10, 'job_type': 'CleanData', 'loss': None, 'generations': None, 'dataset_names': ['test.csv'], 'artifact_names': ['d1fd00f5a2264aba80b97e1ad975972b'], 'model_name': None, 'job_error': None}\n",
      "{'status': 'Running', 'starttime': '2019-04-16T22:11:27.501866', 'endtime': None, 'percent_complete': 10, 'job_type': 'CleanData', 'loss': None, 'generations': None, 'dataset_names': ['test.csv'], 'artifact_names': ['d1fd00f5a2264aba80b97e1ad975972b'], 'model_name': None, 'job_error': None}\n",
      "{'status': 'Running', 'starttime': '2019-04-16T22:11:27.501866', 'endtime': None, 'percent_complete': 10, 'job_type': 'CleanData', 'loss': None, 'generations': None, 'dataset_names': ['test.csv'], 'artifact_names': ['d1fd00f5a2264aba80b97e1ad975972b'], 'model_name': None, 'job_error': None}\n",
      "{'status': 'Running', 'starttime': '2019-04-16T22:11:27.501866', 'endtime': None, 'percent_complete': 10, 'job_type': 'CleanData', 'loss': None, 'generations': None, 'dataset_names': ['test.csv'], 'artifact_names': ['d1fd00f5a2264aba80b97e1ad975972b'], 'model_name': None, 'job_error': None}\n",
      "{'status': 'Running', 'starttime': '2019-04-16T22:11:27.501866', 'endtime': None, 'percent_complete': 10, 'job_type': 'CleanData', 'loss': None, 'generations': None, 'dataset_names': ['test.csv'], 'artifact_names': ['d1fd00f5a2264aba80b97e1ad975972b'], 'model_name': None, 'job_error': None}\n",
      "{'status': 'Running', 'starttime': '2019-04-16T22:11:27.501866', 'endtime': None, 'percent_complete': 10, 'job_type': 'CleanData', 'loss': None, 'generations': None, 'dataset_names': ['test.csv'], 'artifact_names': ['d1fd00f5a2264aba80b97e1ad975972b'], 'model_name': None, 'job_error': None}\n",
      "{'status': 'Failed', 'starttime': '2019-04-16T22:11:27.501866', 'endtime': '2019-04-16T22:14:12.297', 'percent_complete': 100, 'job_type': 'CleanData', 'loss': None, 'generations': None, 'dataset_names': ['test.csv'], 'artifact_names': ['d1fd00f5a2264aba80b97e1ad975972b'], 'model_name': None, 'job_error': 'dataproc error'}\n"
     ]
    }
   ],
   "source": [
    "# clean dataset\n",
    "target = \"Permit Type\"\n",
    "status, job_id = ds.clean_data(filename, target = target)\n",
    "\n",
    "if status:\n",
    "    ds.wait_for_job(job_id['job_name'])\n",
    "else:\n",
    "    print(job_id)"
   ]
  },
  {
   "cell_type": "markdown",
   "metadata": {},
   "source": [
    "### Create and Train Model"
   ]
  },
  {
   "cell_type": "code",
   "execution_count": null,
   "metadata": {
    "collapsed": true
   },
   "outputs": [],
   "source": [
    "model = target + \"_model1\"\n",
    "status, job_id = ds.create_model(dataset_names = filename, \\\n",
    "                                 model_name =  model, \\\n",
    "                                 max_train_time = '00:30')\n",
    "if status:\n",
    "    ds.wait_for_job(job_id['job_name'])\n",
    "else:\n",
    "    print(job_id)"
   ]
  },
  {
   "cell_type": "markdown",
   "metadata": {},
   "source": [
    "### Analyze Model"
   ]
  },
  {
   "cell_type": "code",
   "execution_count": null,
   "metadata": {
    "collapsed": true
   },
   "outputs": [],
   "source": [
    "# Retrieve feature importance of built model\n",
    "status, artifact = ds.analyze_model(model)\n",
    "sleep(1)\n",
    "if status:\n",
    "    ds.wait_for_job(artifact['job_name'])\n",
    "else:\n",
    "    print(artifact)\n",
    "status, feature_importance = ds.download_artifact(artifact['artifact_name'])\n"
   ]
  },
  {
   "cell_type": "markdown",
   "metadata": {},
   "source": [
    "Display most important features of the model."
   ]
  },
  {
   "cell_type": "code",
   "execution_count": null,
   "metadata": {
    "collapsed": true
   },
   "outputs": [],
   "source": [
    "feature_importance[:10]"
   ]
  },
  {
   "cell_type": "markdown",
   "metadata": {},
   "source": [
    "### Predictions\n",
    "\n",
    "#### Perform model prediction on the training dataset."
   ]
  },
  {
   "cell_type": "code",
   "execution_count": null,
   "metadata": {
    "collapsed": true
   },
   "outputs": [],
   "source": [
    "status, artifact = ds.run_model(filename, model)\n",
    "sleep(1)\n",
    "ds.wait_for_job(artifact['job_name'])"
   ]
  },
  {
   "cell_type": "markdown",
   "metadata": {},
   "source": [
    "Download predictions from Darwin."
   ]
  },
  {
   "cell_type": "code",
   "execution_count": null,
   "metadata": {
    "collapsed": true
   },
   "outputs": [],
   "source": [
    "status, prediction = ds.download_artifact(artifact['artifact_name'])\n",
    "prediction.head()"
   ]
  },
  {
   "cell_type": "markdown",
   "metadata": {},
   "source": [
    "Create visualizations for comparing predictions with actual target. "
   ]
  },
  {
   "cell_type": "code",
   "execution_count": null,
   "metadata": {
    "collapsed": true
   },
   "outputs": [],
   "source": [
    "unq = prediction[target].unique()[::-1]\n",
    "p = np.zeros((len(prediction),))\n",
    "a = np.zeros((len(prediction),))\n",
    "for i,q in enumerate(unq):\n",
    "    p += i*(prediction[target] == q).values\n",
    "    a += i*(df[target] == q).values\n",
    "#Plot predictions vs actual\n",
    "plt.plot(a)\n",
    "plt.plot(p)\n",
    "plt.legend(['Actual','Predicted'])\n",
    "plt.yticks([i for i in range(len(unq))],[q for q in unq]);\n",
    "print(classification_report(df[target], prediction[target]))"
   ]
  },
  {
   "cell_type": "markdown",
   "metadata": {},
   "source": [
    "#### Perform model prediction on test dataset from holdout method.\n",
    "Upload test data."
   ]
  },
  {
   "cell_type": "code",
   "execution_count": null,
   "metadata": {
    "collapsed": true
   },
   "outputs": [],
   "source": [
    "test_data = 'Permits_test.csv'\n",
    "status, dataset = ds.upload_dataset(os.path.join(path, test_data))\n",
    "if not status:\n",
    "    print(dataset)"
   ]
  },
  {
   "cell_type": "markdown",
   "metadata": {},
   "source": [
    "Clean test data. "
   ]
  },
  {
   "cell_type": "code",
   "execution_count": null,
   "metadata": {
    "collapsed": true
   },
   "outputs": [],
   "source": [
    "status, job_id = ds.clean_data(test_data, target = target, model_name = model)\n",
    "\n",
    "if status:\n",
    "    ds.wait_for_job(job_id['job_name'])\n",
    "else:\n",
    "    print(job_id)"
   ]
  },
  {
   "cell_type": "markdown",
   "metadata": {},
   "source": [
    "Run model on test dataset. "
   ]
  },
  {
   "cell_type": "code",
   "execution_count": null,
   "metadata": {
    "collapsed": true
   },
   "outputs": [],
   "source": [
    "status, artifact = ds.run_model(test_data, model)\n",
    "sleep(1)\n",
    "ds.wait_for_job(artifact['job_name'])"
   ]
  },
  {
   "cell_type": "markdown",
   "metadata": {},
   "source": [
    "Create visualizations for comparing predictions with actual target."
   ]
  },
  {
   "cell_type": "code",
   "execution_count": null,
   "metadata": {
    "collapsed": true
   },
   "outputs": [],
   "source": [
    "status, prediction = ds.download_artifact(artifact['artifact_name'])\n",
    "df = pd.read_csv(os.path.join(path,test_data))\n",
    "unq = prediction[target].unique()[::-1]\n",
    "p = np.zeros((len(prediction),))\n",
    "a = np.zeros((len(prediction),))\n",
    "for i,q in enumerate(unq):\n",
    "    p += i*(prediction[target] == q).values\n",
    "    a += i*(df[target] == q).values\n",
    "#Plot predictions vs actual\n",
    "plt.plot(a)\n",
    "plt.plot(p)\n",
    "plt.legend(['Actual','Predicted'])\n",
    "plt.yticks([i for i in range(len(unq))],[q for q in unq]);\n",
    "print(classification_report(df[target], prediction[target]))"
   ]
  },
  {
   "cell_type": "markdown",
   "metadata": {},
   "source": [
    "### Darwin' Pick for machine learning model"
   ]
  },
  {
   "cell_type": "code",
   "execution_count": null,
   "metadata": {
    "collapsed": true
   },
   "outputs": [],
   "source": [
    "status, model_type = ds.lookup_model_name(model)\n",
    "print(model_type['description']['best'])"
   ]
  }
 ],
 "metadata": {
  "kernelspec": {
   "display_name": "Python 3",
   "language": "python",
   "name": "python3"
  },
  "language_info": {
   "codemirror_mode": {
    "name": "ipython",
    "version": 3
   },
   "file_extension": ".py",
   "mimetype": "text/x-python",
   "name": "python",
   "nbconvert_exporter": "python",
   "pygments_lexer": "ipython3",
   "version": "3.6.1"
  }
 },
 "nbformat": 4,
 "nbformat_minor": 2
}
