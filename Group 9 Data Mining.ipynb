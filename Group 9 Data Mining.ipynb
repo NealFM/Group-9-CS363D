{
 "cells": [
  {
   "cell_type": "markdown",
   "metadata": {},
   "source": [
    "## Contributors: \n",
    "Neal Friesenhahn"
   ]
  },
  {
   "cell_type": "markdown",
   "metadata": {},
   "source": [
    "### Importing Libraries:"
   ]
  },
  {
   "cell_type": "code",
   "execution_count": 10,
   "metadata": {
    "collapsed": true
   },
   "outputs": [],
   "source": [
    "# Import necessary libraries\n",
    "import warnings\n",
    "warnings.filterwarnings(\"ignore\", message=\"numpy.dtype size changed\")\n",
    "%matplotlib inline\n",
    "import matplotlib.pyplot as plt\n",
    "import pandas as pd\n",
    "from IPython.display import Image\n",
    "from time import sleep\n",
    "import os\n",
    "import math\n",
    "import numpy as np\n",
    "from sklearn.metrics import classification_report\n",
    "\n",
    "from amb_sdk.sdk import DarwinSdk"
   ]
  },
  {
   "cell_type": "markdown",
   "metadata": {},
   "source": [
    "### Configure Darwin:"
   ]
  },
  {
   "cell_type": "code",
   "execution_count": 33,
   "metadata": {
    "collapsed": true
   },
   "outputs": [],
   "source": [
    "# Login\n",
    "ds = DarwinSdk()\n",
    "file = open(\"login.txt\", \"r\")\n",
    "username = file.readline(0)\n",
    "password = file.readline(1)\n",
    "ds.set_url('https://amb-demo-api.sparkcognition.com/v1/')\n",
    "status, msg = ds.auth_login_user('username', 'password')\n",
    "if not status:\n",
    "    print(msg)\n",
    "    "
   ]
  },
  {
   "cell_type": "markdown",
   "metadata": {},
   "source": [
    "#### Data Path\n",
    "Make sure to set this to your local machine's path to the data."
   ]
  },
  {
   "cell_type": "code",
   "execution_count": 3,
   "metadata": {
    "collapsed": true
   },
   "outputs": [],
   "source": [
    "path = './'"
   ]
  },
  {
   "cell_type": "markdown",
   "metadata": {},
   "source": [
    "### Importing Data:\n",
    "Data used in this project:\n",
    "https://data.austintexas.gov/Building-and-Development/Issued-Construction-Permits/3syk-w9eu"
   ]
  },
  {
   "cell_type": "code",
   "execution_count": 30,
   "metadata": {},
   "outputs": [
    {
     "name": "stderr",
     "output_type": "stream",
     "text": [
      "C:\\Users\\Neal\\Anaconda3\\lib\\site-packages\\IPython\\core\\interactiveshell.py:2717: DtypeWarning: Columns (52,54,56,58,59,60,61,62,63,64,65,66) have mixed types. Specify dtype option on import or set low_memory=False.\n",
      "  interactivity=interactivity, compiler=compiler, result=result)\n"
     ]
    },
    {
     "name": "stdout",
     "output_type": "stream",
     "text": [
      "Removed columns from dataset:\n",
      "Contractor Company Name\n",
      "Contractor Phone\n",
      "Contractor Address 2\n",
      "Contractor Zip\n",
      "Applicant Full Name\n",
      "Applicant Organization\n",
      "Applicant Phone\n",
      "Applicant Address 1\n",
      "Applicant Address 2\n",
      "Applicant City\n",
      "Applicant Zip\n",
      "Certificate Of Occupancy\n"
     ]
    },
    {
     "data": {
      "text/html": [
       "<div>\n",
       "<style>\n",
       "    .dataframe thead tr:only-child th {\n",
       "        text-align: right;\n",
       "    }\n",
       "\n",
       "    .dataframe thead th {\n",
       "        text-align: left;\n",
       "    }\n",
       "\n",
       "    .dataframe tbody tr th {\n",
       "        vertical-align: top;\n",
       "    }\n",
       "</style>\n",
       "<table border=\"1\" class=\"dataframe\">\n",
       "  <thead>\n",
       "    <tr style=\"text-align: right;\">\n",
       "      <th></th>\n",
       "      <th>Permit Type</th>\n",
       "      <th>Permit Class Mapped</th>\n",
       "      <th>Work Class</th>\n",
       "      <th>Condominium</th>\n",
       "      <th>Project Name</th>\n",
       "      <th>Description</th>\n",
       "      <th>TCAD ID</th>\n",
       "      <th>Property Legal Description</th>\n",
       "      <th>Day Issued</th>\n",
       "      <th>Calendar Year Issued</th>\n",
       "      <th>...</th>\n",
       "      <th>Link</th>\n",
       "      <th>Project ID</th>\n",
       "      <th>Master Permit Num</th>\n",
       "      <th>Latitude</th>\n",
       "      <th>Longitude</th>\n",
       "      <th>Location</th>\n",
       "      <th>Contractor Full Name</th>\n",
       "      <th>Contractor Address 1</th>\n",
       "      <th>Contractor City</th>\n",
       "      <th>Total Lot SQFT</th>\n",
       "    </tr>\n",
       "  </thead>\n",
       "  <tbody>\n",
       "    <tr>\n",
       "      <th>1661218</th>\n",
       "      <td>BP</td>\n",
       "      <td>Residential</td>\n",
       "      <td>New</td>\n",
       "      <td>No</td>\n",
       "      <td>200 Garrett Run West              A  00000</td>\n",
       "      <td>1 Stry Frm Res With Mas Ven  Att Gar</td>\n",
       "      <td>0242190718</td>\n",
       "      <td>LOT 12 BLK E WESTERN TRAILS OF QUAIL CREEKSEC 1A</td>\n",
       "      <td>THURSDAY</td>\n",
       "      <td>1981</td>\n",
       "      <td>...</td>\n",
       "      <td>https://abc.austintexas.gov/web/permit/public-...</td>\n",
       "      <td>512171</td>\n",
       "      <td>NaN</td>\n",
       "      <td>30.368245</td>\n",
       "      <td>-97.689005</td>\n",
       "      <td>(30.36824542, -97.68900481)</td>\n",
       "      <td>NaN</td>\n",
       "      <td>NaN</td>\n",
       "      <td>NaN</td>\n",
       "      <td>NaN</td>\n",
       "    </tr>\n",
       "    <tr>\n",
       "      <th>1661219</th>\n",
       "      <td>BP</td>\n",
       "      <td>Residential</td>\n",
       "      <td>New</td>\n",
       "      <td>No</td>\n",
       "      <td>102 Garrett Run West              A  00000</td>\n",
       "      <td>1 Stry Frm Res With Mas Ven  Att Gar</td>\n",
       "      <td>0242190713</td>\n",
       "      <td>LOT 17 BLK E WESTERN TRAILS OF QUAIL CREEKSEC 1A</td>\n",
       "      <td>THURSDAY</td>\n",
       "      <td>1981</td>\n",
       "      <td>...</td>\n",
       "      <td>https://abc.austintexas.gov/web/permit/public-...</td>\n",
       "      <td>512172</td>\n",
       "      <td>NaN</td>\n",
       "      <td>30.367487</td>\n",
       "      <td>-97.688927</td>\n",
       "      <td>(30.36748747, -97.68892727)</td>\n",
       "      <td>NaN</td>\n",
       "      <td>NaN</td>\n",
       "      <td>NaN</td>\n",
       "      <td>NaN</td>\n",
       "    </tr>\n",
       "    <tr>\n",
       "      <th>1661220</th>\n",
       "      <td>BP</td>\n",
       "      <td>Residential</td>\n",
       "      <td>New</td>\n",
       "      <td>No</td>\n",
       "      <td>104 Garrett Run West              A  00000</td>\n",
       "      <td>1 Stry Frm Res With Mas Ven  Att Gar</td>\n",
       "      <td>0242190714</td>\n",
       "      <td>LOT 16 BLK E WESTERN TRAILS OF QUAIL CREEKSEC 1A</td>\n",
       "      <td>THURSDAY</td>\n",
       "      <td>1981</td>\n",
       "      <td>...</td>\n",
       "      <td>https://abc.austintexas.gov/web/permit/public-...</td>\n",
       "      <td>512173</td>\n",
       "      <td>NaN</td>\n",
       "      <td>30.367647</td>\n",
       "      <td>-97.688951</td>\n",
       "      <td>(30.36764749, -97.68895143)</td>\n",
       "      <td>NaN</td>\n",
       "      <td>NaN</td>\n",
       "      <td>NaN</td>\n",
       "      <td>NaN</td>\n",
       "    </tr>\n",
       "    <tr>\n",
       "      <th>1661221</th>\n",
       "      <td>BP</td>\n",
       "      <td>Residential</td>\n",
       "      <td>New</td>\n",
       "      <td>No</td>\n",
       "      <td>106 Garrett Run West              A  00000</td>\n",
       "      <td>1 Stry Frm Res With Mas Ven  Att Gar</td>\n",
       "      <td>0242190715</td>\n",
       "      <td>LOT 15 BLK E WESTERN TRAILS OF QUAIL CREEKSEC 1A</td>\n",
       "      <td>THURSDAY</td>\n",
       "      <td>1981</td>\n",
       "      <td>...</td>\n",
       "      <td>https://abc.austintexas.gov/web/permit/public-...</td>\n",
       "      <td>512174</td>\n",
       "      <td>NaN</td>\n",
       "      <td>30.367791</td>\n",
       "      <td>-97.688963</td>\n",
       "      <td>(30.36779075, -97.68896336)</td>\n",
       "      <td>NaN</td>\n",
       "      <td>NaN</td>\n",
       "      <td>NaN</td>\n",
       "      <td>NaN</td>\n",
       "    </tr>\n",
       "    <tr>\n",
       "      <th>1661222</th>\n",
       "      <td>BP</td>\n",
       "      <td>Residential</td>\n",
       "      <td>New</td>\n",
       "      <td>No</td>\n",
       "      <td>108 Garrett Run West              A  00000</td>\n",
       "      <td>1 Stry Frm Res With Mas Ven  Att Gar</td>\n",
       "      <td>0242190716</td>\n",
       "      <td>LOT 14 BLK E WESTERN TRAILS OF QUAIL CREEKSEC 1A</td>\n",
       "      <td>THURSDAY</td>\n",
       "      <td>1981</td>\n",
       "      <td>...</td>\n",
       "      <td>https://abc.austintexas.gov/web/permit/public-...</td>\n",
       "      <td>512175</td>\n",
       "      <td>NaN</td>\n",
       "      <td>30.367942</td>\n",
       "      <td>-97.688972</td>\n",
       "      <td>(30.3679422, -97.68897189)</td>\n",
       "      <td>NaN</td>\n",
       "      <td>NaN</td>\n",
       "      <td>NaN</td>\n",
       "      <td>NaN</td>\n",
       "    </tr>\n",
       "  </tbody>\n",
       "</table>\n",
       "<p>5 rows × 39 columns</p>\n",
       "</div>"
      ],
      "text/plain": [
       "        Permit Type Permit Class Mapped Work Class Condominium  \\\n",
       "1661218          BP         Residential        New          No   \n",
       "1661219          BP         Residential        New          No   \n",
       "1661220          BP         Residential        New          No   \n",
       "1661221          BP         Residential        New          No   \n",
       "1661222          BP         Residential        New          No   \n",
       "\n",
       "                                       Project Name  \\\n",
       "1661218  200 Garrett Run West              A  00000   \n",
       "1661219  102 Garrett Run West              A  00000   \n",
       "1661220  104 Garrett Run West              A  00000   \n",
       "1661221  106 Garrett Run West              A  00000   \n",
       "1661222  108 Garrett Run West              A  00000   \n",
       "\n",
       "                                  Description     TCAD ID  \\\n",
       "1661218  1 Stry Frm Res With Mas Ven  Att Gar  0242190718   \n",
       "1661219  1 Stry Frm Res With Mas Ven  Att Gar  0242190713   \n",
       "1661220  1 Stry Frm Res With Mas Ven  Att Gar  0242190714   \n",
       "1661221  1 Stry Frm Res With Mas Ven  Att Gar  0242190715   \n",
       "1661222  1 Stry Frm Res With Mas Ven  Att Gar  0242190716   \n",
       "\n",
       "                               Property Legal Description Day Issued  \\\n",
       "1661218  LOT 12 BLK E WESTERN TRAILS OF QUAIL CREEKSEC 1A   THURSDAY   \n",
       "1661219  LOT 17 BLK E WESTERN TRAILS OF QUAIL CREEKSEC 1A   THURSDAY   \n",
       "1661220  LOT 16 BLK E WESTERN TRAILS OF QUAIL CREEKSEC 1A   THURSDAY   \n",
       "1661221  LOT 15 BLK E WESTERN TRAILS OF QUAIL CREEKSEC 1A   THURSDAY   \n",
       "1661222  LOT 14 BLK E WESTERN TRAILS OF QUAIL CREEKSEC 1A   THURSDAY   \n",
       "\n",
       "         Calendar Year Issued       ...        \\\n",
       "1661218                  1981       ...         \n",
       "1661219                  1981       ...         \n",
       "1661220                  1981       ...         \n",
       "1661221                  1981       ...         \n",
       "1661222                  1981       ...         \n",
       "\n",
       "                                                      Link Project ID  \\\n",
       "1661218  https://abc.austintexas.gov/web/permit/public-...     512171   \n",
       "1661219  https://abc.austintexas.gov/web/permit/public-...     512172   \n",
       "1661220  https://abc.austintexas.gov/web/permit/public-...     512173   \n",
       "1661221  https://abc.austintexas.gov/web/permit/public-...     512174   \n",
       "1661222  https://abc.austintexas.gov/web/permit/public-...     512175   \n",
       "\n",
       "        Master Permit Num   Latitude  Longitude                     Location  \\\n",
       "1661218               NaN  30.368245 -97.689005  (30.36824542, -97.68900481)   \n",
       "1661219               NaN  30.367487 -97.688927  (30.36748747, -97.68892727)   \n",
       "1661220               NaN  30.367647 -97.688951  (30.36764749, -97.68895143)   \n",
       "1661221               NaN  30.367791 -97.688963  (30.36779075, -97.68896336)   \n",
       "1661222               NaN  30.367942 -97.688972   (30.3679422, -97.68897189)   \n",
       "\n",
       "         Contractor Full Name  Contractor Address 1  Contractor City  \\\n",
       "1661218                   NaN                   NaN              NaN   \n",
       "1661219                   NaN                   NaN              NaN   \n",
       "1661220                   NaN                   NaN              NaN   \n",
       "1661221                   NaN                   NaN              NaN   \n",
       "1661222                   NaN                   NaN              NaN   \n",
       "\n",
       "         Total Lot SQFT  \n",
       "1661218             NaN  \n",
       "1661219             NaN  \n",
       "1661220             NaN  \n",
       "1661221             NaN  \n",
       "1661222             NaN  \n",
       "\n",
       "[5 rows x 39 columns]"
      ]
     },
     "execution_count": 30,
     "metadata": {},
     "output_type": "execute_result"
    }
   ],
   "source": [
    "dataFile = \"./Issued_Construction_Permits.csv\"\n",
    "filename= \"test4.csv\"\n",
    "data = pd.read_csv(dataFile, skipinitialspace=True)\n",
    "\n",
    "#Columns with detected mixed types\n",
    "mixedData_col = [52,54,56,58,59,60,61,62,63,64,65,66]\n",
    "\n",
    "columnsNames = data.columns.values\n",
    "#excess labels included in feature drop\n",
    "#Darwin doesn't like mulitple date fields either so they must be dropped as well\n",
    "featureDrop = ['Permit Type Desc', 'Permit Num', 'Permit Class', 'Contractor Trade', 'Applied Date', \n",
    "               'Issued Date', 'Status Date', 'Expires Date', 'Completed Date', 'Plumbing Valuation', 'Plumbing Valuation Remodel',\n",
    "               'Electrical Valuation', 'Electrical Valuation Remodel', 'Mechanical Valuation', 'Mechanical Valuation Remodel',\n",
    "               'MedGas Valuation', 'MedGas Valuation Remodel']\n",
    "#add mixed datatype col to feature drop until later date of processing \n",
    "print(\"Removed columns from dataset:\")\n",
    "for col in mixedData_col:\n",
    "    print(columnsNames[col])\n",
    "    featureDrop.append(columnsNames[col])\n",
    "    \n",
    "fullData = data.drop(featureDrop, axis=1)\n",
    "#data added chronologically to dataset, for now reduce by half for random sampling\n",
    "testSet = fullData.head(200000)\n",
    "testSet.to_csv(os.path.join(path, \"testSet.csv\"))\n",
    "reduceSize = math.floor(len(reduceData)/2)\n",
    "reduceData = fullData.tail(reduceSize)\n",
    "reduceData.to_csv(os.path.join(path, filename))\n",
    "reduceData.head()"
   ]
  },
  {
   "cell_type": "markdown",
   "metadata": {},
   "source": [
    "In this dataset we will attempt to use the Permit Type as the class label for the data and because of that we need to remove some columns that also act as labels in that capacity that might skew the results. Columns that are similar to Permit type are:\n",
    "\n",
    "    Permit Type Description\n",
    "    Permit Num (since it contain the type in the code)\n",
    "    Permit Class (functions much like a label)\n",
    "    Contractor Trade (plummers typically take plumbing jobs, electricians take electrician jobs thus could act as a label)\n",
    "\n",
    "Tangental Job indicators: (subject to testing and feature engineering)\n",
    "\n",
    "    *Plumbing Valuation\n",
    "    *Plumbing Valuation Remodel\n",
    "    *Electrical Valuation\n",
    "    *Electrical Valuation Remodel\n",
    "    *Mechanical Valuation\n",
    "    *Mechanical Valuation Remodel \n",
    "    *MedGas Valuation\n",
    "    *MedGas Valuation Remodel\n",
    "\n",
    "It might be interesting to note that a renovation job might include plumbing costs and the difference being the cost threshold which decides if its specifically a plumbing job.\n",
    "\n",
    "Interesting sidenote our data qualifies as big data under Darwin's algorithms (>500MB in size) as such not only can we sample\n",
    "at most half our dataset but also the need to remove addional columns before uploading including those above."
   ]
  },
  {
   "cell_type": "markdown",
   "metadata": {},
   "source": [
    "### Upload to Darwin"
   ]
  },
  {
   "cell_type": "code",
   "execution_count": 18,
   "metadata": {},
   "outputs": [],
   "source": [
    "status, dataset = ds.upload_dataset(os.path.join(path, filename))\n",
    "if not status:\n",
    "    print(dataset)"
   ]
  },
  {
   "cell_type": "markdown",
   "metadata": {},
   "source": [
    "#### Clean dataset"
   ]
  },
  {
   "cell_type": "code",
   "execution_count": 19,
   "metadata": {},
   "outputs": [
    {
     "name": "stdout",
     "output_type": "stream",
     "text": [
      "{'job_name': '02d2d3fc2dcd47d0950641629556979c', 'artifact_name': '8df6326f8ae24a8db9dbf7bf04d8d637'}\n",
      "{'status': 'Requested', 'starttime': '2019-04-17T15:54:50.163219', 'endtime': None, 'percent_complete': 0, 'job_type': 'CleanDataTiny', 'loss': None, 'generations': None, 'dataset_names': ['test4.csv'], 'artifact_names': ['8df6326f8ae24a8db9dbf7bf04d8d637'], 'model_name': None, 'job_error': None}\n",
      "{'status': 'Running', 'starttime': '2019-04-17T15:54:50.163219', 'endtime': None, 'percent_complete': 0, 'job_type': 'CleanDataTiny', 'loss': None, 'generations': None, 'dataset_names': ['test4.csv'], 'artifact_names': ['8df6326f8ae24a8db9dbf7bf04d8d637'], 'model_name': None, 'job_error': ''}\n",
      "{'status': 'Running', 'starttime': '2019-04-17T15:54:50.163219', 'endtime': None, 'percent_complete': 0, 'job_type': 'CleanDataTiny', 'loss': None, 'generations': None, 'dataset_names': ['test4.csv'], 'artifact_names': ['8df6326f8ae24a8db9dbf7bf04d8d637'], 'model_name': None, 'job_error': ''}\n",
      "{'status': 'Running', 'starttime': '2019-04-17T15:54:50.163219', 'endtime': None, 'percent_complete': 0, 'job_type': 'CleanDataTiny', 'loss': None, 'generations': None, 'dataset_names': ['test4.csv'], 'artifact_names': ['8df6326f8ae24a8db9dbf7bf04d8d637'], 'model_name': None, 'job_error': ''}\n",
      "{'status': 'Running', 'starttime': '2019-04-17T15:54:50.163219', 'endtime': None, 'percent_complete': 0, 'job_type': 'CleanDataTiny', 'loss': None, 'generations': None, 'dataset_names': ['test4.csv'], 'artifact_names': ['8df6326f8ae24a8db9dbf7bf04d8d637'], 'model_name': None, 'job_error': ''}\n",
      "{'status': 'Running', 'starttime': '2019-04-17T15:54:50.163219', 'endtime': None, 'percent_complete': 0, 'job_type': 'CleanDataTiny', 'loss': None, 'generations': None, 'dataset_names': ['test4.csv'], 'artifact_names': ['8df6326f8ae24a8db9dbf7bf04d8d637'], 'model_name': None, 'job_error': ''}\n",
      "{'status': 'Running', 'starttime': '2019-04-17T15:54:50.163219', 'endtime': None, 'percent_complete': 0, 'job_type': 'CleanDataTiny', 'loss': None, 'generations': None, 'dataset_names': ['test4.csv'], 'artifact_names': ['8df6326f8ae24a8db9dbf7bf04d8d637'], 'model_name': None, 'job_error': ''}\n",
      "{'status': 'Running', 'starttime': '2019-04-17T15:54:50.163219', 'endtime': None, 'percent_complete': 0, 'job_type': 'CleanDataTiny', 'loss': None, 'generations': None, 'dataset_names': ['test4.csv'], 'artifact_names': ['8df6326f8ae24a8db9dbf7bf04d8d637'], 'model_name': None, 'job_error': ''}\n",
      "{'status': 'Running', 'starttime': '2019-04-17T15:54:50.163219', 'endtime': None, 'percent_complete': 0, 'job_type': 'CleanDataTiny', 'loss': None, 'generations': None, 'dataset_names': ['test4.csv'], 'artifact_names': ['8df6326f8ae24a8db9dbf7bf04d8d637'], 'model_name': None, 'job_error': ''}\n",
      "{'status': 'Running', 'starttime': '2019-04-17T15:54:50.163219', 'endtime': None, 'percent_complete': 0, 'job_type': 'CleanDataTiny', 'loss': None, 'generations': None, 'dataset_names': ['test4.csv'], 'artifact_names': ['8df6326f8ae24a8db9dbf7bf04d8d637'], 'model_name': None, 'job_error': ''}\n",
      "{'status': 'Running', 'starttime': '2019-04-17T15:54:50.163219', 'endtime': None, 'percent_complete': 0, 'job_type': 'CleanDataTiny', 'loss': None, 'generations': None, 'dataset_names': ['test4.csv'], 'artifact_names': ['8df6326f8ae24a8db9dbf7bf04d8d637'], 'model_name': None, 'job_error': ''}\n",
      "{'status': 'Running', 'starttime': '2019-04-17T15:54:50.163219', 'endtime': None, 'percent_complete': 0, 'job_type': 'CleanDataTiny', 'loss': None, 'generations': None, 'dataset_names': ['test4.csv'], 'artifact_names': ['8df6326f8ae24a8db9dbf7bf04d8d637'], 'model_name': None, 'job_error': ''}\n",
      "{'status': 'Running', 'starttime': '2019-04-17T15:54:50.163219', 'endtime': None, 'percent_complete': 0, 'job_type': 'CleanDataTiny', 'loss': None, 'generations': None, 'dataset_names': ['test4.csv'], 'artifact_names': ['8df6326f8ae24a8db9dbf7bf04d8d637'], 'model_name': None, 'job_error': ''}\n",
      "{'status': 'Running', 'starttime': '2019-04-17T15:54:50.163219', 'endtime': None, 'percent_complete': 0, 'job_type': 'CleanDataTiny', 'loss': None, 'generations': None, 'dataset_names': ['test4.csv'], 'artifact_names': ['8df6326f8ae24a8db9dbf7bf04d8d637'], 'model_name': None, 'job_error': ''}\n",
      "{'status': 'Running', 'starttime': '2019-04-17T15:54:50.163219', 'endtime': None, 'percent_complete': 0, 'job_type': 'CleanDataTiny', 'loss': None, 'generations': None, 'dataset_names': ['test4.csv'], 'artifact_names': ['8df6326f8ae24a8db9dbf7bf04d8d637'], 'model_name': None, 'job_error': ''}\n",
      "{'status': 'Running', 'starttime': '2019-04-17T15:54:50.163219', 'endtime': None, 'percent_complete': 0, 'job_type': 'CleanDataTiny', 'loss': None, 'generations': None, 'dataset_names': ['test4.csv'], 'artifact_names': ['8df6326f8ae24a8db9dbf7bf04d8d637'], 'model_name': None, 'job_error': ''}\n",
      "{'status': 'Running', 'starttime': '2019-04-17T15:54:50.163219', 'endtime': None, 'percent_complete': 0, 'job_type': 'CleanDataTiny', 'loss': None, 'generations': None, 'dataset_names': ['test4.csv'], 'artifact_names': ['8df6326f8ae24a8db9dbf7bf04d8d637'], 'model_name': None, 'job_error': ''}\n",
      "{'status': 'Running', 'starttime': '2019-04-17T15:54:50.163219', 'endtime': None, 'percent_complete': 0, 'job_type': 'CleanDataTiny', 'loss': None, 'generations': None, 'dataset_names': ['test4.csv'], 'artifact_names': ['8df6326f8ae24a8db9dbf7bf04d8d637'], 'model_name': None, 'job_error': ''}\n",
      "{'status': 'Running', 'starttime': '2019-04-17T15:54:50.163219', 'endtime': None, 'percent_complete': 0, 'job_type': 'CleanDataTiny', 'loss': None, 'generations': None, 'dataset_names': ['test4.csv'], 'artifact_names': ['8df6326f8ae24a8db9dbf7bf04d8d637'], 'model_name': None, 'job_error': ''}\n",
      "{'status': 'Running', 'starttime': '2019-04-17T15:54:50.163219', 'endtime': None, 'percent_complete': 0, 'job_type': 'CleanDataTiny', 'loss': None, 'generations': None, 'dataset_names': ['test4.csv'], 'artifact_names': ['8df6326f8ae24a8db9dbf7bf04d8d637'], 'model_name': None, 'job_error': ''}\n",
      "{'status': 'Running', 'starttime': '2019-04-17T15:54:50.163219', 'endtime': None, 'percent_complete': 0, 'job_type': 'CleanDataTiny', 'loss': None, 'generations': None, 'dataset_names': ['test4.csv'], 'artifact_names': ['8df6326f8ae24a8db9dbf7bf04d8d637'], 'model_name': None, 'job_error': ''}\n",
      "{'status': 'Running', 'starttime': '2019-04-17T15:54:50.163219', 'endtime': None, 'percent_complete': 0, 'job_type': 'CleanDataTiny', 'loss': None, 'generations': None, 'dataset_names': ['test4.csv'], 'artifact_names': ['8df6326f8ae24a8db9dbf7bf04d8d637'], 'model_name': None, 'job_error': ''}\n",
      "{'status': 'Running', 'starttime': '2019-04-17T15:54:50.163219', 'endtime': None, 'percent_complete': 0, 'job_type': 'CleanDataTiny', 'loss': None, 'generations': None, 'dataset_names': ['test4.csv'], 'artifact_names': ['8df6326f8ae24a8db9dbf7bf04d8d637'], 'model_name': None, 'job_error': ''}\n",
      "{'status': 'Running', 'starttime': '2019-04-17T15:54:50.163219', 'endtime': None, 'percent_complete': 0, 'job_type': 'CleanDataTiny', 'loss': None, 'generations': None, 'dataset_names': ['test4.csv'], 'artifact_names': ['8df6326f8ae24a8db9dbf7bf04d8d637'], 'model_name': None, 'job_error': ''}\n",
      "{'status': 'Running', 'starttime': '2019-04-17T15:54:50.163219', 'endtime': None, 'percent_complete': 0, 'job_type': 'CleanDataTiny', 'loss': None, 'generations': None, 'dataset_names': ['test4.csv'], 'artifact_names': ['8df6326f8ae24a8db9dbf7bf04d8d637'], 'model_name': None, 'job_error': ''}\n",
      "{'status': 'Running', 'starttime': '2019-04-17T15:54:50.163219', 'endtime': None, 'percent_complete': 0, 'job_type': 'CleanDataTiny', 'loss': None, 'generations': None, 'dataset_names': ['test4.csv'], 'artifact_names': ['8df6326f8ae24a8db9dbf7bf04d8d637'], 'model_name': None, 'job_error': ''}\n",
      "{'status': 'Running', 'starttime': '2019-04-17T15:54:50.163219', 'endtime': None, 'percent_complete': 0, 'job_type': 'CleanDataTiny', 'loss': None, 'generations': None, 'dataset_names': ['test4.csv'], 'artifact_names': ['8df6326f8ae24a8db9dbf7bf04d8d637'], 'model_name': None, 'job_error': ''}\n",
      "{'status': 'Running', 'starttime': '2019-04-17T15:54:50.163219', 'endtime': None, 'percent_complete': 0, 'job_type': 'CleanDataTiny', 'loss': None, 'generations': None, 'dataset_names': ['test4.csv'], 'artifact_names': ['8df6326f8ae24a8db9dbf7bf04d8d637'], 'model_name': None, 'job_error': ''}\n"
     ]
    },
    {
     "name": "stdout",
     "output_type": "stream",
     "text": [
      "{'status': 'Running', 'starttime': '2019-04-17T15:54:50.163219', 'endtime': None, 'percent_complete': 0, 'job_type': 'CleanDataTiny', 'loss': None, 'generations': None, 'dataset_names': ['test4.csv'], 'artifact_names': ['8df6326f8ae24a8db9dbf7bf04d8d637'], 'model_name': None, 'job_error': ''}\n",
      "{'status': 'Running', 'starttime': '2019-04-17T15:54:50.163219', 'endtime': None, 'percent_complete': 0, 'job_type': 'CleanDataTiny', 'loss': None, 'generations': None, 'dataset_names': ['test4.csv'], 'artifact_names': ['8df6326f8ae24a8db9dbf7bf04d8d637'], 'model_name': None, 'job_error': ''}\n",
      "{'status': 'Running', 'starttime': '2019-04-17T15:54:50.163219', 'endtime': None, 'percent_complete': 0, 'job_type': 'CleanDataTiny', 'loss': None, 'generations': None, 'dataset_names': ['test4.csv'], 'artifact_names': ['8df6326f8ae24a8db9dbf7bf04d8d637'], 'model_name': None, 'job_error': ''}\n",
      "{'status': 'Running', 'starttime': '2019-04-17T15:54:50.163219', 'endtime': None, 'percent_complete': 0, 'job_type': 'CleanDataTiny', 'loss': None, 'generations': None, 'dataset_names': ['test4.csv'], 'artifact_names': ['8df6326f8ae24a8db9dbf7bf04d8d637'], 'model_name': None, 'job_error': ''}\n",
      "{'status': 'Running', 'starttime': '2019-04-17T15:54:50.163219', 'endtime': None, 'percent_complete': 0, 'job_type': 'CleanDataTiny', 'loss': None, 'generations': None, 'dataset_names': ['test4.csv'], 'artifact_names': ['8df6326f8ae24a8db9dbf7bf04d8d637'], 'model_name': None, 'job_error': ''}\n",
      "{'status': 'Running', 'starttime': '2019-04-17T15:54:50.163219', 'endtime': None, 'percent_complete': 0, 'job_type': 'CleanDataTiny', 'loss': None, 'generations': None, 'dataset_names': ['test4.csv'], 'artifact_names': ['8df6326f8ae24a8db9dbf7bf04d8d637'], 'model_name': None, 'job_error': ''}\n",
      "{'status': 'Complete', 'starttime': '2019-04-17T15:54:50.163219', 'endtime': '2019-04-17T16:03:20.243922', 'percent_complete': 100, 'job_type': 'CleanDataTiny', 'loss': None, 'generations': None, 'dataset_names': ['test4.csv'], 'artifact_names': ['8df6326f8ae24a8db9dbf7bf04d8d637'], 'model_name': None, 'job_error': ''}\n"
     ]
    }
   ],
   "source": [
    "# clean dataset\n",
    "target = \"Permit Type\"\n",
    "index = \"Applied Date\"\n",
    "status, job_id = ds.clean_data(filename, target = target)\n",
    "print(job_id)\n",
    "if status:\n",
    "    ds.wait_for_job(job_id['job_name'])\n",
    "else:\n",
    "    print(job_id)"
   ]
  },
  {
   "cell_type": "markdown",
   "metadata": {},
   "source": [
    "### Create and Train Model"
   ]
  },
  {
   "cell_type": "code",
   "execution_count": 20,
   "metadata": {},
   "outputs": [
    {
     "name": "stdout",
     "output_type": "stream",
     "text": [
      "{'status': 'Requested', 'starttime': '2019-04-17T16:20:39.496133', 'endtime': None, 'percent_complete': 0, 'job_type': 'TrainModel', 'loss': None, 'generations': 0, 'dataset_names': ['test4.csv'], 'artifact_names': None, 'model_name': 'Permit Type_model1', 'job_error': None}\n",
      "{'status': 'Running', 'starttime': '2019-04-17T16:20:39.496133', 'endtime': None, 'percent_complete': 0, 'job_type': 'TrainModel', 'loss': None, 'generations': 0, 'dataset_names': ['test4.csv'], 'artifact_names': None, 'model_name': 'Permit Type_model1', 'job_error': ''}\n",
      "{'status': 'Running', 'starttime': '2019-04-17T16:20:39.496133', 'endtime': None, 'percent_complete': 0, 'job_type': 'TrainModel', 'loss': None, 'generations': 0, 'dataset_names': ['test4.csv'], 'artifact_names': None, 'model_name': 'Permit Type_model1', 'job_error': ''}\n",
      "{'status': 'Running', 'starttime': '2019-04-17T16:20:39.496133', 'endtime': None, 'percent_complete': 0, 'job_type': 'TrainModel', 'loss': None, 'generations': 0, 'dataset_names': ['test4.csv'], 'artifact_names': None, 'model_name': 'Permit Type_model1', 'job_error': ''}\n",
      "{'status': 'Running', 'starttime': '2019-04-17T16:20:39.496133', 'endtime': None, 'percent_complete': 0, 'job_type': 'TrainModel', 'loss': None, 'generations': 0, 'dataset_names': ['test4.csv'], 'artifact_names': None, 'model_name': 'Permit Type_model1', 'job_error': ''}\n",
      "{'status': 'Running', 'starttime': '2019-04-17T16:20:39.496133', 'endtime': None, 'percent_complete': 0, 'job_type': 'TrainModel', 'loss': None, 'generations': 0, 'dataset_names': ['test4.csv'], 'artifact_names': None, 'model_name': 'Permit Type_model1', 'job_error': ''}\n",
      "{'status': 'Running', 'starttime': '2019-04-17T16:20:39.496133', 'endtime': None, 'percent_complete': 0, 'job_type': 'TrainModel', 'loss': None, 'generations': 0, 'dataset_names': ['test4.csv'], 'artifact_names': None, 'model_name': 'Permit Type_model1', 'job_error': ''}\n",
      "{'status': 'Running', 'starttime': '2019-04-17T16:20:39.496133', 'endtime': None, 'percent_complete': 0, 'job_type': 'TrainModel', 'loss': None, 'generations': 0, 'dataset_names': ['test4.csv'], 'artifact_names': None, 'model_name': 'Permit Type_model1', 'job_error': ''}\n",
      "{'status': 'Running', 'starttime': '2019-04-17T16:20:39.496133', 'endtime': None, 'percent_complete': 0, 'job_type': 'TrainModel', 'loss': None, 'generations': 0, 'dataset_names': ['test4.csv'], 'artifact_names': None, 'model_name': 'Permit Type_model1', 'job_error': ''}\n",
      "{'status': 'Running', 'starttime': '2019-04-17T16:20:39.496133', 'endtime': None, 'percent_complete': 0, 'job_type': 'TrainModel', 'loss': None, 'generations': 0, 'dataset_names': ['test4.csv'], 'artifact_names': None, 'model_name': 'Permit Type_model1', 'job_error': ''}\n",
      "{'status': 'Running', 'starttime': '2019-04-17T16:20:39.496133', 'endtime': None, 'percent_complete': 0, 'job_type': 'TrainModel', 'loss': None, 'generations': 0, 'dataset_names': ['test4.csv'], 'artifact_names': None, 'model_name': 'Permit Type_model1', 'job_error': ''}\n",
      "{'status': 'Running', 'starttime': '2019-04-17T16:20:39.496133', 'endtime': None, 'percent_complete': 0, 'job_type': 'TrainModel', 'loss': None, 'generations': 0, 'dataset_names': ['test4.csv'], 'artifact_names': None, 'model_name': 'Permit Type_model1', 'job_error': ''}\n",
      "{'status': 'Running', 'starttime': '2019-04-17T16:20:39.496133', 'endtime': None, 'percent_complete': 0, 'job_type': 'TrainModel', 'loss': None, 'generations': 0, 'dataset_names': ['test4.csv'], 'artifact_names': None, 'model_name': 'Permit Type_model1', 'job_error': ''}\n",
      "{'status': 'Running', 'starttime': '2019-04-17T16:20:39.496133', 'endtime': None, 'percent_complete': 0, 'job_type': 'TrainModel', 'loss': None, 'generations': 0, 'dataset_names': ['test4.csv'], 'artifact_names': None, 'model_name': 'Permit Type_model1', 'job_error': ''}\n",
      "{'status': 'Running', 'starttime': '2019-04-17T16:20:39.496133', 'endtime': None, 'percent_complete': 0, 'job_type': 'TrainModel', 'loss': None, 'generations': 0, 'dataset_names': ['test4.csv'], 'artifact_names': None, 'model_name': 'Permit Type_model1', 'job_error': ''}\n",
      "{'status': 'Running', 'starttime': '2019-04-17T16:20:39.496133', 'endtime': None, 'percent_complete': 0, 'job_type': 'TrainModel', 'loss': None, 'generations': 0, 'dataset_names': ['test4.csv'], 'artifact_names': None, 'model_name': 'Permit Type_model1', 'job_error': ''}\n",
      "{'status': 'Running', 'starttime': '2019-04-17T16:20:39.496133', 'endtime': None, 'percent_complete': 0, 'job_type': 'TrainModel', 'loss': None, 'generations': 0, 'dataset_names': ['test4.csv'], 'artifact_names': None, 'model_name': 'Permit Type_model1', 'job_error': ''}\n",
      "{'status': 'Running', 'starttime': '2019-04-17T16:20:39.496133', 'endtime': None, 'percent_complete': 0, 'job_type': 'TrainModel', 'loss': None, 'generations': 0, 'dataset_names': ['test4.csv'], 'artifact_names': None, 'model_name': 'Permit Type_model1', 'job_error': ''}\n",
      "{'status': 'Running', 'starttime': '2019-04-17T16:20:39.496133', 'endtime': None, 'percent_complete': 0, 'job_type': 'TrainModel', 'loss': None, 'generations': 0, 'dataset_names': ['test4.csv'], 'artifact_names': None, 'model_name': 'Permit Type_model1', 'job_error': ''}\n",
      "{'status': 'Running', 'starttime': '2019-04-17T16:20:39.496133', 'endtime': None, 'percent_complete': 0, 'job_type': 'TrainModel', 'loss': None, 'generations': 0, 'dataset_names': ['test4.csv'], 'artifact_names': None, 'model_name': 'Permit Type_model1', 'job_error': ''}\n",
      "{'status': 'Running', 'starttime': '2019-04-17T16:20:39.496133', 'endtime': None, 'percent_complete': 0, 'job_type': 'TrainModel', 'loss': None, 'generations': 0, 'dataset_names': ['test4.csv'], 'artifact_names': None, 'model_name': 'Permit Type_model1', 'job_error': ''}\n",
      "{'status': 'Running', 'starttime': '2019-04-17T16:20:39.496133', 'endtime': None, 'percent_complete': 0, 'job_type': 'TrainModel', 'loss': None, 'generations': 0, 'dataset_names': ['test4.csv'], 'artifact_names': None, 'model_name': 'Permit Type_model1', 'job_error': ''}\n",
      "{'status': 'Running', 'starttime': '2019-04-17T16:20:39.496133', 'endtime': None, 'percent_complete': 0, 'job_type': 'TrainModel', 'loss': None, 'generations': 0, 'dataset_names': ['test4.csv'], 'artifact_names': None, 'model_name': 'Permit Type_model1', 'job_error': ''}\n",
      "{'status': 'Running', 'starttime': '2019-04-17T16:20:39.496133', 'endtime': None, 'percent_complete': 12, 'job_type': 'TrainModel', 'loss': 1.0166438817977905, 'generations': 0, 'dataset_names': ['test4.csv'], 'artifact_names': None, 'model_name': 'Permit Type_model1', 'job_error': ''}\n",
      "{'status': 'Running', 'starttime': '2019-04-17T16:20:39.496133', 'endtime': None, 'percent_complete': 12, 'job_type': 'TrainModel', 'loss': 1.0166438817977905, 'generations': 0, 'dataset_names': ['test4.csv'], 'artifact_names': None, 'model_name': 'Permit Type_model1', 'job_error': ''}\n",
      "{'status': 'Running', 'starttime': '2019-04-17T16:20:39.496133', 'endtime': None, 'percent_complete': 12, 'job_type': 'TrainModel', 'loss': 1.0166438817977905, 'generations': 0, 'dataset_names': ['test4.csv'], 'artifact_names': None, 'model_name': 'Permit Type_model1', 'job_error': ''}\n",
      "{'status': 'Running', 'starttime': '2019-04-17T16:20:39.496133', 'endtime': None, 'percent_complete': 12, 'job_type': 'TrainModel', 'loss': 1.0166438817977905, 'generations': 0, 'dataset_names': ['test4.csv'], 'artifact_names': None, 'model_name': 'Permit Type_model1', 'job_error': ''}\n",
      "{'status': 'Running', 'starttime': '2019-04-17T16:20:39.496133', 'endtime': None, 'percent_complete': 12, 'job_type': 'TrainModel', 'loss': 1.0166438817977905, 'generations': 0, 'dataset_names': ['test4.csv'], 'artifact_names': None, 'model_name': 'Permit Type_model1', 'job_error': ''}\n",
      "{'status': 'Running', 'starttime': '2019-04-17T16:20:39.496133', 'endtime': None, 'percent_complete': 12, 'job_type': 'TrainModel', 'loss': 1.0166438817977905, 'generations': 0, 'dataset_names': ['test4.csv'], 'artifact_names': None, 'model_name': 'Permit Type_model1', 'job_error': ''}\n",
      "{'status': 'Running', 'starttime': '2019-04-17T16:20:39.496133', 'endtime': None, 'percent_complete': 12, 'job_type': 'TrainModel', 'loss': 1.0166438817977905, 'generations': 0, 'dataset_names': ['test4.csv'], 'artifact_names': None, 'model_name': 'Permit Type_model1', 'job_error': ''}\n"
     ]
    },
    {
     "name": "stdout",
     "output_type": "stream",
     "text": [
      "{'status': 'Running', 'starttime': '2019-04-17T16:20:39.496133', 'endtime': None, 'percent_complete': 12, 'job_type': 'TrainModel', 'loss': 1.0166438817977905, 'generations': 0, 'dataset_names': ['test4.csv'], 'artifact_names': None, 'model_name': 'Permit Type_model1', 'job_error': ''}\n",
      "{'status': 'Running', 'starttime': '2019-04-17T16:20:39.496133', 'endtime': None, 'percent_complete': 12, 'job_type': 'TrainModel', 'loss': 1.0166438817977905, 'generations': 0, 'dataset_names': ['test4.csv'], 'artifact_names': None, 'model_name': 'Permit Type_model1', 'job_error': ''}\n",
      "{'status': 'Running', 'starttime': '2019-04-17T16:20:39.496133', 'endtime': None, 'percent_complete': 12, 'job_type': 'TrainModel', 'loss': 1.0166438817977905, 'generations': 0, 'dataset_names': ['test4.csv'], 'artifact_names': None, 'model_name': 'Permit Type_model1', 'job_error': ''}\n",
      "{'status': 'Running', 'starttime': '2019-04-17T16:20:39.496133', 'endtime': None, 'percent_complete': 12, 'job_type': 'TrainModel', 'loss': 1.0166438817977905, 'generations': 0, 'dataset_names': ['test4.csv'], 'artifact_names': None, 'model_name': 'Permit Type_model1', 'job_error': ''}\n",
      "{'status': 'Running', 'starttime': '2019-04-17T16:20:39.496133', 'endtime': None, 'percent_complete': 12, 'job_type': 'TrainModel', 'loss': 1.0166438817977905, 'generations': 0, 'dataset_names': ['test4.csv'], 'artifact_names': None, 'model_name': 'Permit Type_model1', 'job_error': ''}\n",
      "{'status': 'Running', 'starttime': '2019-04-17T16:20:39.496133', 'endtime': None, 'percent_complete': 12, 'job_type': 'TrainModel', 'loss': 1.0166438817977905, 'generations': 0, 'dataset_names': ['test4.csv'], 'artifact_names': None, 'model_name': 'Permit Type_model1', 'job_error': ''}\n",
      "{'status': 'Running', 'starttime': '2019-04-17T16:20:39.496133', 'endtime': None, 'percent_complete': 12, 'job_type': 'TrainModel', 'loss': 1.0166438817977905, 'generations': 0, 'dataset_names': ['test4.csv'], 'artifact_names': None, 'model_name': 'Permit Type_model1', 'job_error': ''}\n",
      "{'status': 'Running', 'starttime': '2019-04-17T16:20:39.496133', 'endtime': None, 'percent_complete': 12, 'job_type': 'TrainModel', 'loss': 1.0166438817977905, 'generations': 0, 'dataset_names': ['test4.csv'], 'artifact_names': None, 'model_name': 'Permit Type_model1', 'job_error': ''}\n",
      "{'status': 'Running', 'starttime': '2019-04-17T16:20:39.496133', 'endtime': None, 'percent_complete': 12, 'job_type': 'TrainModel', 'loss': 1.0166438817977905, 'generations': 0, 'dataset_names': ['test4.csv'], 'artifact_names': None, 'model_name': 'Permit Type_model1', 'job_error': ''}\n",
      "{'status': 'Running', 'starttime': '2019-04-17T16:20:39.496133', 'endtime': None, 'percent_complete': 12, 'job_type': 'TrainModel', 'loss': 1.0166438817977905, 'generations': 0, 'dataset_names': ['test4.csv'], 'artifact_names': None, 'model_name': 'Permit Type_model1', 'job_error': ''}\n",
      "{'status': 'Running', 'starttime': '2019-04-17T16:20:39.496133', 'endtime': None, 'percent_complete': 12, 'job_type': 'TrainModel', 'loss': 1.0166438817977905, 'generations': 0, 'dataset_names': ['test4.csv'], 'artifact_names': None, 'model_name': 'Permit Type_model1', 'job_error': ''}\n"
     ]
    }
   ],
   "source": [
    "model = target + \"_model1\"\n",
    "status, job_id = ds.create_model(dataset_names = filename, \\\n",
    "                                 model_name =  model, \\\n",
    "                                 max_train_time = '00:30')\n",
    "if status:\n",
    "    ds.wait_for_job(job_id['job_name'])\n",
    "else:\n",
    "    print(job_id)"
   ]
  },
  {
   "cell_type": "markdown",
   "metadata": {},
   "source": [
    "#### Check status of job"
   ]
  },
  {
   "cell_type": "code",
   "execution_count": 22,
   "metadata": {},
   "outputs": [
    {
     "name": "stdout",
     "output_type": "stream",
     "text": [
      "{'status': 'Complete', 'starttime': '2019-04-17T16:20:39.496133', 'endtime': '2019-04-17T16:57:14.334639', 'percent_complete': 100, 'job_type': 'TrainModel', 'loss': 0.9059680104255676, 'generations': 1, 'dataset_names': ['test4.csv'], 'artifact_names': None, 'model_name': 'Permit Type_model1', 'job_error': ''}\n"
     ]
    }
   ],
   "source": [
    "if status:\n",
    "    ds.wait_for_job(job_id['job_name'])\n",
    "else:\n",
    "    print(job_id)"
   ]
  },
  {
   "cell_type": "markdown",
   "metadata": {},
   "source": [
    "### Analyze Model"
   ]
  },
  {
   "cell_type": "code",
   "execution_count": 23,
   "metadata": {},
   "outputs": [
    {
     "name": "stdout",
     "output_type": "stream",
     "text": [
      "{'status': 'Running', 'starttime': '2019-04-17T17:13:08.304535', 'endtime': None, 'percent_complete': 0, 'job_type': 'AnalyzeModel', 'loss': 0.9059680104255676, 'generations': 1, 'dataset_names': None, 'artifact_names': ['aac883fa901648b19f439c505ec172bc'], 'model_name': 'Permit Type_model1', 'job_error': ''}\n",
      "{'status': 'Running', 'starttime': '2019-04-17T17:13:08.304535', 'endtime': None, 'percent_complete': 0, 'job_type': 'AnalyzeModel', 'loss': 0.9059680104255676, 'generations': 1, 'dataset_names': None, 'artifact_names': ['aac883fa901648b19f439c505ec172bc'], 'model_name': 'Permit Type_model1', 'job_error': ''}\n",
      "{'status': 'Running', 'starttime': '2019-04-17T17:13:08.304535', 'endtime': None, 'percent_complete': 0, 'job_type': 'AnalyzeModel', 'loss': 0.9059680104255676, 'generations': 1, 'dataset_names': None, 'artifact_names': ['aac883fa901648b19f439c505ec172bc'], 'model_name': 'Permit Type_model1', 'job_error': ''}\n",
      "{'status': 'Running', 'starttime': '2019-04-17T17:13:08.304535', 'endtime': None, 'percent_complete': 0, 'job_type': 'AnalyzeModel', 'loss': 0.9059680104255676, 'generations': 1, 'dataset_names': None, 'artifact_names': ['aac883fa901648b19f439c505ec172bc'], 'model_name': 'Permit Type_model1', 'job_error': ''}\n",
      "{'status': 'Running', 'starttime': '2019-04-17T17:13:08.304535', 'endtime': None, 'percent_complete': 0, 'job_type': 'AnalyzeModel', 'loss': 0.9059680104255676, 'generations': 1, 'dataset_names': None, 'artifact_names': ['aac883fa901648b19f439c505ec172bc'], 'model_name': 'Permit Type_model1', 'job_error': ''}\n",
      "{'status': 'Complete', 'starttime': '2019-04-17T17:13:08.304535', 'endtime': '2019-04-17T17:14:15.202802', 'percent_complete': 100, 'job_type': 'AnalyzeModel', 'loss': 0.9059680104255676, 'generations': 1, 'dataset_names': None, 'artifact_names': ['aac883fa901648b19f439c505ec172bc'], 'model_name': 'Permit Type_model1', 'job_error': ''}\n"
     ]
    }
   ],
   "source": [
    "# Retrieve feature importance of built model\n",
    "status, artifact = ds.analyze_model(model)\n",
    "sleep(1)\n",
    "if status:\n",
    "    ds.wait_for_job(artifact['job_name'])\n",
    "else:\n",
    "    print(artifact)\n",
    "status, feature_importance = ds.download_artifact(artifact['artifact_name'])\n"
   ]
  },
  {
   "cell_type": "markdown",
   "metadata": {},
   "source": [
    "Display most important features of the model."
   ]
  },
  {
   "cell_type": "code",
   "execution_count": 24,
   "metadata": {},
   "outputs": [
    {
     "data": {
      "text/plain": [
       "Project ID              0.404598\n",
       "Unnamed: 0              0.389460\n",
       "Master Permit Num       0.071878\n",
       "Housing Units           0.022097\n",
       "Number Of Floors        0.017105\n",
       "Total Job Valuation     0.015421\n",
       "Work Class = New        0.011464\n",
       "Work Class = Remodel    0.009872\n",
       "Calendar Year Issued    0.008407\n",
       "Fiscal Year Issued      0.008131\n",
       "dtype: float64"
      ]
     },
     "execution_count": 24,
     "metadata": {},
     "output_type": "execute_result"
    }
   ],
   "source": [
    "feature_importance[:10]"
   ]
  },
  {
   "cell_type": "markdown",
   "metadata": {},
   "source": [
    "### Predictions\n",
    "\n",
    "#### Perform model prediction on the training dataset."
   ]
  },
  {
   "cell_type": "code",
   "execution_count": 25,
   "metadata": {},
   "outputs": [
    {
     "name": "stdout",
     "output_type": "stream",
     "text": [
      "{'status': 'Running', 'starttime': '2019-04-17T17:16:08.50188', 'endtime': None, 'percent_complete': 0, 'job_type': 'RunModel', 'loss': 0.9059680104255676, 'generations': 1, 'dataset_names': ['test4.csv'], 'artifact_names': ['307735d3ba0243d7a18c6d15fb7e0afa'], 'model_name': 'Permit Type_model1', 'job_error': ''}\n",
      "{'status': 'Running', 'starttime': '2019-04-17T17:16:08.50188', 'endtime': None, 'percent_complete': 0, 'job_type': 'RunModel', 'loss': 0.9059680104255676, 'generations': 1, 'dataset_names': ['test4.csv'], 'artifact_names': ['307735d3ba0243d7a18c6d15fb7e0afa'], 'model_name': 'Permit Type_model1', 'job_error': ''}\n",
      "{'status': 'Running', 'starttime': '2019-04-17T17:16:08.50188', 'endtime': None, 'percent_complete': 0, 'job_type': 'RunModel', 'loss': 0.9059680104255676, 'generations': 1, 'dataset_names': ['test4.csv'], 'artifact_names': ['307735d3ba0243d7a18c6d15fb7e0afa'], 'model_name': 'Permit Type_model1', 'job_error': ''}\n",
      "{'status': 'Running', 'starttime': '2019-04-17T17:16:08.50188', 'endtime': None, 'percent_complete': 0, 'job_type': 'RunModel', 'loss': 0.9059680104255676, 'generations': 1, 'dataset_names': ['test4.csv'], 'artifact_names': ['307735d3ba0243d7a18c6d15fb7e0afa'], 'model_name': 'Permit Type_model1', 'job_error': ''}\n",
      "{'status': 'Complete', 'starttime': '2019-04-17T17:16:08.50188', 'endtime': '2019-04-17T17:17:02.637424', 'percent_complete': 100, 'job_type': 'RunModel', 'loss': 0.9059680104255676, 'generations': 1, 'dataset_names': ['test4.csv'], 'artifact_names': ['307735d3ba0243d7a18c6d15fb7e0afa'], 'model_name': 'Permit Type_model1', 'job_error': ''}\n"
     ]
    },
    {
     "data": {
      "text/plain": [
       "(True, 'Job completed')"
      ]
     },
     "execution_count": 25,
     "metadata": {},
     "output_type": "execute_result"
    }
   ],
   "source": [
    "status, artifact = ds.run_model(filename, model)\n",
    "sleep(1)\n",
    "ds.wait_for_job(artifact['job_name'])"
   ]
  },
  {
   "cell_type": "markdown",
   "metadata": {},
   "source": [
    "Download predictions from Darwin."
   ]
  },
  {
   "cell_type": "code",
   "execution_count": 26,
   "metadata": {},
   "outputs": [
    {
     "data": {
      "text/html": [
       "<div>\n",
       "<style>\n",
       "    .dataframe thead tr:only-child th {\n",
       "        text-align: right;\n",
       "    }\n",
       "\n",
       "    .dataframe thead th {\n",
       "        text-align: left;\n",
       "    }\n",
       "\n",
       "    .dataframe tbody tr th {\n",
       "        vertical-align: top;\n",
       "    }\n",
       "</style>\n",
       "<table border=\"1\" class=\"dataframe\">\n",
       "  <thead>\n",
       "    <tr style=\"text-align: right;\">\n",
       "      <th></th>\n",
       "      <th>Permit Type</th>\n",
       "      <th>prob_BP</th>\n",
       "      <th>prob_DS</th>\n",
       "      <th>prob_EP</th>\n",
       "      <th>prob_MP</th>\n",
       "      <th>prob_PP</th>\n",
       "    </tr>\n",
       "  </thead>\n",
       "  <tbody>\n",
       "    <tr>\n",
       "      <th>0</th>\n",
       "      <td>MP</td>\n",
       "      <td>9.673283e-29</td>\n",
       "      <td>0.0</td>\n",
       "      <td>1.425331e-38</td>\n",
       "      <td>1.0</td>\n",
       "      <td>0.000000e+00</td>\n",
       "    </tr>\n",
       "    <tr>\n",
       "      <th>1</th>\n",
       "      <td>MP</td>\n",
       "      <td>3.894290e-32</td>\n",
       "      <td>0.0</td>\n",
       "      <td>1.099094e-38</td>\n",
       "      <td>1.0</td>\n",
       "      <td>0.000000e+00</td>\n",
       "    </tr>\n",
       "    <tr>\n",
       "      <th>2</th>\n",
       "      <td>MP</td>\n",
       "      <td>4.168752e-29</td>\n",
       "      <td>0.0</td>\n",
       "      <td>2.850919e-38</td>\n",
       "      <td>1.0</td>\n",
       "      <td>0.000000e+00</td>\n",
       "    </tr>\n",
       "    <tr>\n",
       "      <th>3</th>\n",
       "      <td>MP</td>\n",
       "      <td>7.709136e-26</td>\n",
       "      <td>0.0</td>\n",
       "      <td>9.664654e-36</td>\n",
       "      <td>1.0</td>\n",
       "      <td>1.000000e-10</td>\n",
       "    </tr>\n",
       "    <tr>\n",
       "      <th>4</th>\n",
       "      <td>MP</td>\n",
       "      <td>1.059311e-35</td>\n",
       "      <td>0.0</td>\n",
       "      <td>2.221058e-42</td>\n",
       "      <td>1.0</td>\n",
       "      <td>0.000000e+00</td>\n",
       "    </tr>\n",
       "  </tbody>\n",
       "</table>\n",
       "</div>"
      ],
      "text/plain": [
       "  Permit Type       prob_BP  prob_DS       prob_EP  prob_MP       prob_PP\n",
       "0          MP  9.673283e-29      0.0  1.425331e-38      1.0  0.000000e+00\n",
       "1          MP  3.894290e-32      0.0  1.099094e-38      1.0  0.000000e+00\n",
       "2          MP  4.168752e-29      0.0  2.850919e-38      1.0  0.000000e+00\n",
       "3          MP  7.709136e-26      0.0  9.664654e-36      1.0  1.000000e-10\n",
       "4          MP  1.059311e-35      0.0  2.221058e-42      1.0  0.000000e+00"
      ]
     },
     "execution_count": 26,
     "metadata": {},
     "output_type": "execute_result"
    }
   ],
   "source": [
    "status, prediction = ds.download_artifact(artifact['artifact_name'])\n",
    "prediction.head()"
   ]
  },
  {
   "cell_type": "markdown",
   "metadata": {},
   "source": [
    "Create visualizations for comparing predictions with actual target. "
   ]
  },
  {
   "cell_type": "code",
   "execution_count": 28,
   "metadata": {},
   "outputs": [
    {
     "name": "stdout",
     "output_type": "stream",
     "text": [
      "             precision    recall  f1-score   support\n",
      "\n",
      "         BP       1.00      1.00      1.00    248227\n",
      "         DS       1.00      1.00      1.00     71718\n",
      "         EP       1.00      1.00      1.00    347547\n",
      "         MP       1.00      1.00      1.00     40701\n",
      "         PP       1.00      1.00      1.00    241074\n",
      "\n",
      "avg / total       1.00      1.00      1.00    949267\n",
      "\n"
     ]
    },
    {
     "data": {
      "image/png": "[encoded data removed]",
      "text/plain": [
       "<matplotlib.figure.Figure at 0x2961fae0278>"
      ]
     },
     "metadata": {},
     "output_type": "display_data"
    }
   ],
   "source": [
    "unq = prediction[target].unique()[::-1]\n",
    "p = np.zeros((len(prediction),))\n",
    "a = np.zeros((len(prediction),))\n",
    "for i,q in enumerate(unq):\n",
    "    p += i*(prediction[target] == q).values\n",
    "    a += i*(reduceData[target] == q).values\n",
    "#Plot predictions vs actual\n",
    "plt.plot(a)\n",
    "plt.plot(p)\n",
    "plt.legend(['Actual','Predicted'])\n",
    "plt.yticks([i for i in range(len(unq))],[q for q in unq]);\n",
    "print(classification_report(reduceData[target], prediction[target]))"
   ]
  },
  {
   "cell_type": "markdown",
   "metadata": {},
   "source": [
    "#### Perform model prediction on test dataset from holdout method.\n",
    "Upload test data."
   ]
  },
  {
   "cell_type": "code",
   "execution_count": 31,
   "metadata": {
    "collapsed": true
   },
   "outputs": [],
   "source": [
    "test_data = 'testSet.csv'\n",
    "status, dataset = ds.upload_dataset(os.path.join(path, test_data))\n",
    "if not status:\n",
    "    print(dataset)"
   ]
  },
  {
   "cell_type": "markdown",
   "metadata": {},
   "source": [
    "Clean test data. "
   ]
  },
  {
   "cell_type": "code",
   "execution_count": 34,
   "metadata": {},
   "outputs": [
    {
     "name": "stdout",
     "output_type": "stream",
     "text": [
      "{'status': 'Requested', 'starttime': '2019-04-17T17:31:11.082139', 'endtime': None, 'percent_complete': 0, 'job_type': 'CleanDataTiny', 'loss': None, 'generations': None, 'dataset_names': ['testSet.csv'], 'artifact_names': ['25f4e215e1b04071ad8c31ade0dac299'], 'model_name': None, 'job_error': None}\n",
      "{'status': 'Failed', 'starttime': '2019-04-17T17:31:11.082139', 'endtime': '2019-04-17T17:31:21.814923', 'percent_complete': 100, 'job_type': 'CleanDataTiny', 'loss': None, 'generations': None, 'dataset_names': ['testSet.csv'], 'artifact_names': ['25f4e215e1b04071ad8c31ade0dac299'], 'model_name': None, 'job_error': 'DarwinInternalErroruncaught'}\n"
     ]
    }
   ],
   "source": [
    "status, job_id = ds.clean_data(test_data, target = target, model_name = model)\n",
    "\n",
    "if status:\n",
    "    ds.wait_for_job(job_id['job_name'])\n",
    "else:\n",
    "    print(job_id)"
   ]
  },
  {
   "cell_type": "markdown",
   "metadata": {},
   "source": [
    "Run model on test dataset. "
   ]
  },
  {
   "cell_type": "code",
   "execution_count": null,
   "metadata": {
    "collapsed": true
   },
   "outputs": [],
   "source": [
    "status, artifact = ds.run_model(test_data, model)\n",
    "sleep(1)\n",
    "ds.wait_for_job(artifact['job_name'])"
   ]
  },
  {
   "cell_type": "markdown",
   "metadata": {},
   "source": [
    "Create visualizations for comparing predictions with actual target."
   ]
  },
  {
   "cell_type": "code",
   "execution_count": null,
   "metadata": {
    "collapsed": true
   },
   "outputs": [],
   "source": [
    "status, prediction = ds.download_artifact(artifact['artifact_name'])\n",
    "df = pd.read_csv(os.path.join(path,test_data))\n",
    "unq = prediction[target].unique()[::-1]\n",
    "p = np.zeros((len(prediction),))\n",
    "a = np.zeros((len(prediction),))\n",
    "for i,q in enumerate(unq):\n",
    "    p += i*(prediction[target] == q).values\n",
    "    a += i*(df[target] == q).values\n",
    "#Plot predictions vs actual\n",
    "plt.plot(a)\n",
    "plt.plot(p)\n",
    "plt.legend(['Actual','Predicted'])\n",
    "plt.yticks([i for i in range(len(unq))],[q for q in unq]);\n",
    "print(classification_report(df[target], prediction[target]))"
   ]
  },
  {
   "cell_type": "markdown",
   "metadata": {},
   "source": [
    "### Darwin' Pick for machine learning model"
   ]
  },
  {
   "cell_type": "code",
   "execution_count": null,
   "metadata": {
    "collapsed": true
   },
   "outputs": [],
   "source": [
    "status, model_type = ds.lookup_model_name(model)\n",
    "print(model_type['description']['best'])"
   ]
  }
 ],
 "metadata": {
  "kernelspec": {
   "display_name": "Python 3",
   "language": "python",
   "name": "python3"
  },
  "language_info": {
   "codemirror_mode": {
    "name": "ipython",
    "version": 3
   },
   "file_extension": ".py",
   "mimetype": "text/x-python",
   "name": "python",
   "nbconvert_exporter": "python",
   "pygments_lexer": "ipython3",
   "version": "3.6.1"
  }
 },
 "nbformat": 4,
 "nbformat_minor": 2
}
